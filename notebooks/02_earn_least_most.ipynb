{
 "cells": [
  {
   "cell_type": "markdown",
   "metadata": {
    "collapsed": true,
    "pycharm": {
     "name": "#%% md\n"
    }
   },
   "source": [
    "# Where do Analysts earn the most/least?\n",
    "\n",
    "To determine where the slary is the best/worst we can group the data by location first. Let's also figure out the possible lower and upper salary ranges."
   ]
  },
  {
   "cell_type": "code",
   "execution_count": 102,
   "outputs": [],
   "source": [
    "import os\n",
    "\n",
    "import pandas as pd\n",
    "import numpy as np\n",
    "\n",
    "import matplotlib.pyplot as plt\n",
    "import seaborn as sb"
   ],
   "metadata": {
    "collapsed": false,
    "pycharm": {
     "name": "#%%\n"
    }
   }
  },
  {
   "cell_type": "code",
   "execution_count": 113,
   "outputs": [
    {
     "data": {
      "text/plain": "                                  Job Title Experience  Salary Lower  \\\n196                 Data Collection Analyst    Regular         60000   \n1581  Data and User Acceptance Test Analyst    Regular         51000   \n366                         QA Data Analyst    Regular         77000   \n871                       Lead Data Analyst     Senior         68000   \n1515                 Financial Data Analyst    Regular         89000   \n\n      Salary Upper                                    Job Description  \\\n196         110000  Position Summary\\n\\nUnder the supervision of t...   \n1581         93000  Data and User Acceptance Test Analyst The succ...   \n366         132000  This is an outstanding 2 year contract opportu...   \n871          87000  Job ID 1185918\\n\\nCategory Data Analytics\\nSch...   \n1515        151000  Posted: Feb 24, 2020\\nWeekly Hours: 40\\nRole N...   \n\n                     Company Name  Rating          Location   Latitude  \\\n196   ICAP at Columbia University     4.1      New York, NY  40.712728   \n1581                     Kelly IT     3.4     Cupertino, CA  37.322893   \n366   Professional Resource Group     5.0  Lake Success, NY  40.770657   \n871           Centene Corporation     3.3       Chicago, IL  41.875562   \n1515                        Apple     4.1   Santa Clara, CA  37.233325   \n\n       Longitude  Company Size Min  Company Size Max  \n196   -74.006015               501              1000  \n1581 -122.032290               501              1000  \n366   -73.717631                 1                50  \n871   -87.624421             10000             10000  \n1515 -121.684635             10000             10000  ",
      "text/html": "<div>\n<style scoped>\n    .dataframe tbody tr th:only-of-type {\n        vertical-align: middle;\n    }\n\n    .dataframe tbody tr th {\n        vertical-align: top;\n    }\n\n    .dataframe thead th {\n        text-align: right;\n    }\n</style>\n<table border=\"1\" class=\"dataframe\">\n  <thead>\n    <tr style=\"text-align: right;\">\n      <th></th>\n      <th>Job Title</th>\n      <th>Experience</th>\n      <th>Salary Lower</th>\n      <th>Salary Upper</th>\n      <th>Job Description</th>\n      <th>Company Name</th>\n      <th>Rating</th>\n      <th>Location</th>\n      <th>Latitude</th>\n      <th>Longitude</th>\n      <th>Company Size Min</th>\n      <th>Company Size Max</th>\n    </tr>\n  </thead>\n  <tbody>\n    <tr>\n      <th>196</th>\n      <td>Data Collection Analyst</td>\n      <td>Regular</td>\n      <td>60000</td>\n      <td>110000</td>\n      <td>Position Summary\\n\\nUnder the supervision of t...</td>\n      <td>ICAP at Columbia University</td>\n      <td>4.1</td>\n      <td>New York, NY</td>\n      <td>40.712728</td>\n      <td>-74.006015</td>\n      <td>501</td>\n      <td>1000</td>\n    </tr>\n    <tr>\n      <th>1581</th>\n      <td>Data and User Acceptance Test Analyst</td>\n      <td>Regular</td>\n      <td>51000</td>\n      <td>93000</td>\n      <td>Data and User Acceptance Test Analyst The succ...</td>\n      <td>Kelly IT</td>\n      <td>3.4</td>\n      <td>Cupertino, CA</td>\n      <td>37.322893</td>\n      <td>-122.032290</td>\n      <td>501</td>\n      <td>1000</td>\n    </tr>\n    <tr>\n      <th>366</th>\n      <td>QA Data Analyst</td>\n      <td>Regular</td>\n      <td>77000</td>\n      <td>132000</td>\n      <td>This is an outstanding 2 year contract opportu...</td>\n      <td>Professional Resource Group</td>\n      <td>5.0</td>\n      <td>Lake Success, NY</td>\n      <td>40.770657</td>\n      <td>-73.717631</td>\n      <td>1</td>\n      <td>50</td>\n    </tr>\n    <tr>\n      <th>871</th>\n      <td>Lead Data Analyst</td>\n      <td>Senior</td>\n      <td>68000</td>\n      <td>87000</td>\n      <td>Job ID 1185918\\n\\nCategory Data Analytics\\nSch...</td>\n      <td>Centene Corporation</td>\n      <td>3.3</td>\n      <td>Chicago, IL</td>\n      <td>41.875562</td>\n      <td>-87.624421</td>\n      <td>10000</td>\n      <td>10000</td>\n    </tr>\n    <tr>\n      <th>1515</th>\n      <td>Financial Data Analyst</td>\n      <td>Regular</td>\n      <td>89000</td>\n      <td>151000</td>\n      <td>Posted: Feb 24, 2020\\nWeekly Hours: 40\\nRole N...</td>\n      <td>Apple</td>\n      <td>4.1</td>\n      <td>Santa Clara, CA</td>\n      <td>37.233325</td>\n      <td>-121.684635</td>\n      <td>10000</td>\n      <td>10000</td>\n    </tr>\n  </tbody>\n</table>\n</div>"
     },
     "execution_count": 113,
     "metadata": {},
     "output_type": "execute_result"
    }
   ],
   "source": [
    "data = pd.read_csv(os.path.join('..', 'raw_data', 'DataAnalyst_Cleanup.csv'))\n",
    "data.sample(5)"
   ],
   "metadata": {
    "collapsed": false,
    "pycharm": {
     "name": "#%%\n"
    }
   }
  },
  {
   "cell_type": "markdown",
   "source": [
    "How many locations are in the data?"
   ],
   "metadata": {
    "collapsed": false
   }
  },
  {
   "cell_type": "code",
   "execution_count": 104,
   "outputs": [
    {
     "data": {
      "text/plain": "253"
     },
     "execution_count": 104,
     "metadata": {},
     "output_type": "execute_result"
    }
   ],
   "source": [
    "data['Location'].nunique()"
   ],
   "metadata": {
    "collapsed": false,
    "pycharm": {
     "name": "#%%\n"
    }
   }
  },
  {
   "cell_type": "code",
   "execution_count": 105,
   "outputs": [
    {
     "data": {
      "text/plain": "Job Title            object\nExperience           object\nSalary Lower          int64\nSalary Upper          int64\nJob Description      object\nCompany Name         object\nRating              float64\nLocation             object\nLatitude            float64\nLongitude           float64\nCompany Size Min      int64\nCompany Size Max      int64\ndtype: object"
     },
     "execution_count": 105,
     "metadata": {},
     "output_type": "execute_result"
    }
   ],
   "source": [
    "data.dtypes"
   ],
   "metadata": {
    "collapsed": false,
    "pycharm": {
     "name": "#%%\n"
    }
   }
  },
  {
   "cell_type": "code",
   "execution_count": 106,
   "outputs": [
    {
     "data": {
      "text/plain": "{'Addison, TX': [1375], 'Alachua, FL': [509], 'Alameda, CA': [2051], 'Alhambra, CA': [614, 663], 'Allegheny West, PA': [1126, 1182], 'Allen, TX': [1314, 1422, 1443, 1465], 'American Fork, UT': [443], 'Anaheim, CA': [567, 577, 713, 716, 717, 719], 'Arcadia, CA': [652, 687, 699], 'Arlington Heights, IL': [879], 'Arlington, TX': [1315, 1330, 1363, 1379, 1403, 1435, 1444, 1454], 'Athens, GA': [2146, 2147, 2148, 2149], 'Aurora, CO': [2188, 2214, 2219, 2234, 2235], 'Austin, TX': [1633, 1634, 1635, 1636, 1637, 1638, 1639, 1640, 1641, 1642, 1643, 1644, 1645, 1646, 1647, 1648, 1649, 1650, 1651, 1652, 1653, 1654, 1655, 1656, 1657, 1658, 1659, 1660, 1661, 1662, 1663, 1664, 1665, 1666, 1667, 1668, 1669, 1670, 1671, 1672, 1673, 1674, 1675, 1676, 1677, 1678, 1679, 1680, 1681, 1682, 1683, 1684, 1685, 1686, 1687, 1688, 1689, 1690, 1691, 1692, 1693, 1694, 1695, 1696, 1697, 1698, 1700, 1701, 1702, 1703, 1704, 1705, 1706, 1707, 1709, 1710, 1712, 1713, 1715, 1716, 1718], 'Azusa, CA': [664], 'Beech Grove, IN': [2089], 'Bellevue, WA': [2110, 2111], 'Bensalem, PA': [1110], 'Berkeley Heights, NJ': [297], 'Berkeley, CA': [1935, 2020], 'Berwyn, PA': [1142, 1189], 'Beverly Hills, CA': [574, 653], 'Blue Bell, PA': [1067], 'Boothwyn, PA': [1163], 'Boulder, CO': [2162, 2165, 2202], 'Brea, CA': [625, 715], 'Bridgeview, IL': [813], 'Broadview, IL': [736, 743], 'Bronx, NY': [215, 417], 'Brooklyn, NY': [30, 98, 108, 137, 148, 167, 169, 289, 302, 315, 358, 408, 416], 'Broomfield, CO': [2199, 2207, 2226, 2239, 2243, 2248], 'Burbank, CA': [522, 557, 563, 568, 615, 631, 634, 642, 647, 665, 679, 693, 694, 698, 702, 703, 708], 'Burlingame, CA': [1949, 1972, 1982, 2055], 'Burlingame, KS': [2150], 'Burr Ridge, IL': [779], 'Camden, NJ': [1080, 1089, 1174, 1177], 'Campbell, CA': [1616], 'Carmel, IN': [2070, 2092], 'Carrollton, TX': [1405], 'Carson, CA': [558], 'Cedar Park, TX': [1711], 'Centennial, CO': [2161, 2180, 2193, 2196, 2209, 2238, 2241, 2245, 2247], 'Cerritos, CA': [555, 646, 672, 673], 'Chandler, AZ': [1006, 1021, 1033, 1039, 1048, 1052, 1053], 'Charlotte, NC': [1793, 1794, 1795, 1796, 1797, 1799, 1800, 1801, 1802, 1803, 1804, 1805, 1806, 1807, 1808, 1809, 1810, 1811, 1812, 1813, 1814, 1815, 1816, 1817, 1818, 1819, 1820, 1821, 1822, 1823, 1824, 1826, 1827, 1828, 1829, 1832, 1833, 1834, 1836, 1837, 1839, 1840, 1841, 1842, 1843, 1844, 1845, 1846, 1847, 1848, 1849, 1850, 1853, 1854, 1855, 1856, 1857, 1858, 1860, 1862, 1863, 1864, 1865, 1866, 1867, 1869, 1870, 1871, 1872, 1873, 1874, 1875, 1876, 1878, 1879, 1880, 1881, 1883], 'Chesapeake, VA': [468, 488, 501], 'Chester Township, PA': [1132], 'Chicago, IL': [720, 721, 722, 723, 724, 726, 727, 728, 729, 730, 731, 732, 733, 737, 738, 739, 740, 741, 744, 745, 746, 747, 748, 749, 750, 751, 753, 754, 755, 756, 757, 759, 760, 762, 763, 764, 765, 766, 767, 768, 769, 770, 771, 772, 773, 774, 775, 776, 777, 778, 780, 781, 782, 784, 785, 786, 788, 789, 790, 791, 792, 793, 794, 795, 796, 797, 798, 800, 802, 803, 804, 806, 808, 810, 812, 814, 816, 818, 819, 820, 823, 825, 826, 827, 828, 829, 831, 832, 833, 834, 835, 836, 837, 838, 839, 840, 841, 842, 844, 846, ...], 'City of Industry, CA': [684, 688, 692], 'Columbus, OH': [1758, 1759, 1760, 1761, 1762, 1763, 1764, 1766, 1767, 1768, 1770, 1771, 1772, 1773, 1774, 1775, 1776, 1778, 1779, 1780, 1781, 1783, 1785, 1786, 1787, 1788, 1789, 1790, 1791], 'Conshohocken, PA': [1133], 'Coppell, TX': [1418], 'Culver City, CA': [530, 644, 645, 650], 'Cupertino, CA': [1472, 1480, 1485, 1499, 1511, 1519, 1536, 1541, 1561, 1581, 1582, 1586, 1609], 'DC Ranch, AZ': [1028, 1056], 'Dallas, TX': [1316, 1317, 1318, 1319, 1320, 1322, 1323, 1324, 1325, 1326, 1327, 1331, 1333, 1334, 1335, 1337, 1338, 1340, 1341, 1342, 1344, 1345, 1346, 1347, 1349, 1350, 1351, 1354, 1357, 1359, 1360, 1362, 1364, 1365, 1371, 1384, 1386, 1388, 1389, 1391, 1393, 1394, 1395, 1396, 1398, 1400, 1402, 1406, 1408, 1410, 1411, 1412, 1413, 1417, 1419, 1420, 1426, 1427, 1434, 1436, 1438, 1441, 1452, 1459, 1463], 'Daly City, CA': [1962], 'Deerfield, IL': [787, 856, 880], 'Denver, CO': [2153, 2154, 2155, 2156, 2157, 2158, 2159, 2160, 2163, 2166, 2167, 2168, 2169, 2172, 2173, 2175, 2177, 2179, 2181, 2186, 2187, 2189, 2190, 2194, 2195, 2197, 2198, 2201, 2203, 2206, 2208, 2210, 2212, 2213, 2217, 2218, 2220, 2222, 2223, 2228, 2231, 2236, 2237, 2240, 2242, 2244, 2246], 'Des Plaines, IL': [805], 'Downers Grove, IL': [725, 734, 735, 742, 758, 761, 815, 830, 882], 'Doylestown, PA': [1120, 1123, 1128], 'Draper, UT': [441, 449], 'Duarte, CA': [629], 'Dublin, OH': [1777, 1784], 'East Palo Alto, CA': [1562], 'El Cajon, CA': [1300], 'El Segundo, CA': [513, 536, 537, 538, 553, 569, 585, 597, 604, 624, 627, 635, 651, 666, 671, 674, 678, 686, 697], 'Elk Grove Village, IL': [858], 'Emeryville, CA': [1977], 'Englewood, CO': [2171, 2185, 2204, 2205, 2211, 2224, 2230], 'Essex Fells, NJ': [304], 'Evanston, IL': [809], 'Exton, PA': [1116], 'Fairfield, NJ': [11, 284], 'Far Rockaway, NY': [364], 'Farmers Branch, TX': [1425], 'Feasterville Trevose, PA': [1086, 1088], 'Florham Park, NJ': [117, 370, 372, 387, 406], 'Fort Eustis, VA': [494], 'Fort Lee, NJ': [176], 'Fort Mill, SC': [1830, 1831, 1851], 'Fort Sam Houston, TX': [1245], 'Fort Washington, PA': [1068], 'Fort Worth, TX': [1738, 1739, 1740, 1741, 1742, 1743, 1745, 1746, 1747, 1749, 1750, 1751, 1753, 1754, 1755, 1756], 'Foster City, CA': [1955, 1969, 1970, 1989, 2018, 2029, 2031, 2050, 2062], 'Franklin Lakes, NJ': [312, 419], 'Fremont, CA': [1473, 1543, 1559, 1607, 1619], 'Gainesville, FL': [505, 506, 507, 508, 510, 511, 512], 'Gardena, CA': [519, 704], 'Glendale, AZ': [993, 996, 1045, 1047, 1049], 'Glendale, CA': [532, 543, 546, 636, 658, 659, 669, 677], 'Glenview, IL': [848], 'Grapevine, TX': [1353, 1372, 1385], 'Great Neck, NY': [383], 'Greenwood Village, Arapahoe, CO': [2164, 2174, 2182, 2191, 2216, 2225, 2232, 2233], 'Hampton, VA': [457, 458, 460, 461, 466, 473, 475, 477, 480, 481, 484, 487, 489], 'Hanford, CA': [456], 'Harrison, NY': [405], 'Haworth, NJ': [175, 269], ...}"
     },
     "execution_count": 106,
     "metadata": {},
     "output_type": "execute_result"
    }
   ],
   "source": [
    "data_loc_grp = data.groupby('Location')\n",
    "data_loc_grp.groups"
   ],
   "metadata": {
    "collapsed": false,
    "pycharm": {
     "name": "#%%\n"
    }
   }
  },
  {
   "cell_type": "code",
   "execution_count": 107,
   "outputs": [
    {
     "data": {
      "text/plain": "MultiIndex([('Salary Lower', 'amin'),\n            ('Salary Lower', 'amax'),\n            ('Salary Lower', 'mean'),\n            ('Salary Upper', 'amin'),\n            ('Salary Upper', 'amax'),\n            ('Salary Upper', 'mean'),\n            (   'Job Count',     '')],\n           )"
     },
     "execution_count": 107,
     "metadata": {},
     "output_type": "execute_result"
    }
   ],
   "source": [
    "salary_ranges = data_loc_grp[['Salary Lower', 'Salary Upper']].agg([np.min, np.max, np.mean])\n",
    "salary_ranges['Job Count'] = data_loc_grp['Salary Lower'].count()\n",
    "salary_ranges.columns"
   ],
   "metadata": {
    "collapsed": false,
    "pycharm": {
     "name": "#%%\n"
    }
   }
  },
  {
   "cell_type": "code",
   "execution_count": 108,
   "outputs": [
    {
     "data": {
      "text/plain": "                    (Salary Lower, amin)  (Salary Lower, amax)  \\\nLocation                                                         \nAddison, TX                        41000                 41000   \nAlachua, FL                        30000                 30000   \nAlameda, CA                        47000                 47000   \nAlhambra, CA                       35000                 65000   \nAllegheny West, PA                 37000                 50000   \n...                                  ...                   ...   \nWoodbridge, NJ                     98000                 98000   \nWoodcliff Lake, NJ                 48000                 48000   \nWoodland Hills, CA                 42000                113000   \nWoodridge, IL                      42000                 73000   \nYorktown, VA                       43000                 43000   \n\n                    (Salary Lower, mean)  (Salary Upper, amin)  \\\nLocation                                                         \nAddison, TX                 41000.000000                 86000   \nAlachua, FL                 30000.000000                 54000   \nAlameda, CA                 47000.000000                 74000   \nAlhambra, CA                50000.000000                 45000   \nAllegheny West, PA          43500.000000                 44000   \n...                                  ...                   ...   \nWoodbridge, NJ              98000.000000                114000   \nWoodcliff Lake, NJ          48000.000000                 96000   \nWoodland Hills, CA          81333.333333                 66000   \nWoodridge, IL               57500.000000                 76000   \nYorktown, VA                43000.000000                 69000   \n\n                    (Salary Upper, amax)  (Salary Upper, mean)  (Job Count, )  \nLocation                                                                       \nAddison, TX                        86000               86000.0              1  \nAlachua, FL                        54000               54000.0              1  \nAlameda, CA                        74000               74000.0              1  \nAlhambra, CA                       81000               63000.0              2  \nAllegheny West, PA                 93000               68500.0              2  \n...                                  ...                   ...            ...  \nWoodbridge, NJ                    114000              114000.0              1  \nWoodcliff Lake, NJ                 96000               96000.0              1  \nWoodland Hills, CA                132000              101500.0              6  \nWoodridge, IL                      82000               79000.0              2  \nYorktown, VA                       69000               69000.0              1  \n\n[253 rows x 7 columns]",
      "text/html": "<div>\n<style scoped>\n    .dataframe tbody tr th:only-of-type {\n        vertical-align: middle;\n    }\n\n    .dataframe tbody tr th {\n        vertical-align: top;\n    }\n\n    .dataframe thead th {\n        text-align: right;\n    }\n</style>\n<table border=\"1\" class=\"dataframe\">\n  <thead>\n    <tr style=\"text-align: right;\">\n      <th></th>\n      <th>(Salary Lower, amin)</th>\n      <th>(Salary Lower, amax)</th>\n      <th>(Salary Lower, mean)</th>\n      <th>(Salary Upper, amin)</th>\n      <th>(Salary Upper, amax)</th>\n      <th>(Salary Upper, mean)</th>\n      <th>(Job Count, )</th>\n    </tr>\n    <tr>\n      <th>Location</th>\n      <th></th>\n      <th></th>\n      <th></th>\n      <th></th>\n      <th></th>\n      <th></th>\n      <th></th>\n    </tr>\n  </thead>\n  <tbody>\n    <tr>\n      <th>Addison, TX</th>\n      <td>41000</td>\n      <td>41000</td>\n      <td>41000.000000</td>\n      <td>86000</td>\n      <td>86000</td>\n      <td>86000.0</td>\n      <td>1</td>\n    </tr>\n    <tr>\n      <th>Alachua, FL</th>\n      <td>30000</td>\n      <td>30000</td>\n      <td>30000.000000</td>\n      <td>54000</td>\n      <td>54000</td>\n      <td>54000.0</td>\n      <td>1</td>\n    </tr>\n    <tr>\n      <th>Alameda, CA</th>\n      <td>47000</td>\n      <td>47000</td>\n      <td>47000.000000</td>\n      <td>74000</td>\n      <td>74000</td>\n      <td>74000.0</td>\n      <td>1</td>\n    </tr>\n    <tr>\n      <th>Alhambra, CA</th>\n      <td>35000</td>\n      <td>65000</td>\n      <td>50000.000000</td>\n      <td>45000</td>\n      <td>81000</td>\n      <td>63000.0</td>\n      <td>2</td>\n    </tr>\n    <tr>\n      <th>Allegheny West, PA</th>\n      <td>37000</td>\n      <td>50000</td>\n      <td>43500.000000</td>\n      <td>44000</td>\n      <td>93000</td>\n      <td>68500.0</td>\n      <td>2</td>\n    </tr>\n    <tr>\n      <th>...</th>\n      <td>...</td>\n      <td>...</td>\n      <td>...</td>\n      <td>...</td>\n      <td>...</td>\n      <td>...</td>\n      <td>...</td>\n    </tr>\n    <tr>\n      <th>Woodbridge, NJ</th>\n      <td>98000</td>\n      <td>98000</td>\n      <td>98000.000000</td>\n      <td>114000</td>\n      <td>114000</td>\n      <td>114000.0</td>\n      <td>1</td>\n    </tr>\n    <tr>\n      <th>Woodcliff Lake, NJ</th>\n      <td>48000</td>\n      <td>48000</td>\n      <td>48000.000000</td>\n      <td>96000</td>\n      <td>96000</td>\n      <td>96000.0</td>\n      <td>1</td>\n    </tr>\n    <tr>\n      <th>Woodland Hills, CA</th>\n      <td>42000</td>\n      <td>113000</td>\n      <td>81333.333333</td>\n      <td>66000</td>\n      <td>132000</td>\n      <td>101500.0</td>\n      <td>6</td>\n    </tr>\n    <tr>\n      <th>Woodridge, IL</th>\n      <td>42000</td>\n      <td>73000</td>\n      <td>57500.000000</td>\n      <td>76000</td>\n      <td>82000</td>\n      <td>79000.0</td>\n      <td>2</td>\n    </tr>\n    <tr>\n      <th>Yorktown, VA</th>\n      <td>43000</td>\n      <td>43000</td>\n      <td>43000.000000</td>\n      <td>69000</td>\n      <td>69000</td>\n      <td>69000.0</td>\n      <td>1</td>\n    </tr>\n  </tbody>\n</table>\n<p>253 rows × 7 columns</p>\n</div>"
     },
     "execution_count": 108,
     "metadata": {},
     "output_type": "execute_result"
    }
   ],
   "source": [
    "salary_ranges.columns = salary_ranges.columns.to_flat_index()\n",
    "salary_ranges"
   ],
   "metadata": {
    "collapsed": false,
    "pycharm": {
     "name": "#%%\n"
    }
   }
  },
  {
   "cell_type": "code",
   "execution_count": 109,
   "outputs": [
    {
     "data": {
      "text/plain": "Index([('Salary Lower', 'amin'), ('Salary Lower', 'amax'),\n       ('Salary Lower', 'mean'), ('Salary Upper', 'amin'),\n       ('Salary Upper', 'amax'), ('Salary Upper', 'mean'),\n              ('Job Count', '')],\n      dtype='object')"
     },
     "execution_count": 109,
     "metadata": {},
     "output_type": "execute_result"
    }
   ],
   "source": [
    "salary_ranges.columns"
   ],
   "metadata": {
    "collapsed": false,
    "pycharm": {
     "name": "#%%\n"
    }
   }
  },
  {
   "cell_type": "code",
   "execution_count": 110,
   "outputs": [],
   "source": [
    "salary_ranges.columns = ['Salary Lower min', 'Salary Lower max',\n",
    "       'Salary Lower mean', 'Salary Upper min',\n",
    "       'Salary Upper max', 'Salary Upper mean',\n",
    "              'Job Count']"
   ],
   "metadata": {
    "collapsed": false,
    "pycharm": {
     "name": "#%%\n"
    }
   }
  },
  {
   "cell_type": "code",
   "execution_count": 111,
   "outputs": [
    {
     "data": {
      "text/plain": "                    Salary Lower min  Salary Lower max  Salary Lower mean  \\\nLocation                                                                    \nAddison, TX                    41000             41000       41000.000000   \nAlachua, FL                    30000             30000       30000.000000   \nAlameda, CA                    47000             47000       47000.000000   \nAlhambra, CA                   35000             65000       50000.000000   \nAllegheny West, PA             37000             50000       43500.000000   \n...                              ...               ...                ...   \nWoodbridge, NJ                 98000             98000       98000.000000   \nWoodcliff Lake, NJ             48000             48000       48000.000000   \nWoodland Hills, CA             42000            113000       81333.333333   \nWoodridge, IL                  42000             73000       57500.000000   \nYorktown, VA                   43000             43000       43000.000000   \n\n                    Salary Upper min  Salary Upper max  Salary Upper mean  \\\nLocation                                                                    \nAddison, TX                    86000             86000            86000.0   \nAlachua, FL                    54000             54000            54000.0   \nAlameda, CA                    74000             74000            74000.0   \nAlhambra, CA                   45000             81000            63000.0   \nAllegheny West, PA             44000             93000            68500.0   \n...                              ...               ...                ...   \nWoodbridge, NJ                114000            114000           114000.0   \nWoodcliff Lake, NJ             96000             96000            96000.0   \nWoodland Hills, CA             66000            132000           101500.0   \nWoodridge, IL                  76000             82000            79000.0   \nYorktown, VA                   69000             69000            69000.0   \n\n                    Job Count  \nLocation                       \nAddison, TX                 1  \nAlachua, FL                 1  \nAlameda, CA                 1  \nAlhambra, CA                2  \nAllegheny West, PA          2  \n...                       ...  \nWoodbridge, NJ              1  \nWoodcliff Lake, NJ          1  \nWoodland Hills, CA          6  \nWoodridge, IL               2  \nYorktown, VA                1  \n\n[253 rows x 7 columns]",
      "text/html": "<div>\n<style scoped>\n    .dataframe tbody tr th:only-of-type {\n        vertical-align: middle;\n    }\n\n    .dataframe tbody tr th {\n        vertical-align: top;\n    }\n\n    .dataframe thead th {\n        text-align: right;\n    }\n</style>\n<table border=\"1\" class=\"dataframe\">\n  <thead>\n    <tr style=\"text-align: right;\">\n      <th></th>\n      <th>Salary Lower min</th>\n      <th>Salary Lower max</th>\n      <th>Salary Lower mean</th>\n      <th>Salary Upper min</th>\n      <th>Salary Upper max</th>\n      <th>Salary Upper mean</th>\n      <th>Job Count</th>\n    </tr>\n    <tr>\n      <th>Location</th>\n      <th></th>\n      <th></th>\n      <th></th>\n      <th></th>\n      <th></th>\n      <th></th>\n      <th></th>\n    </tr>\n  </thead>\n  <tbody>\n    <tr>\n      <th>Addison, TX</th>\n      <td>41000</td>\n      <td>41000</td>\n      <td>41000.000000</td>\n      <td>86000</td>\n      <td>86000</td>\n      <td>86000.0</td>\n      <td>1</td>\n    </tr>\n    <tr>\n      <th>Alachua, FL</th>\n      <td>30000</td>\n      <td>30000</td>\n      <td>30000.000000</td>\n      <td>54000</td>\n      <td>54000</td>\n      <td>54000.0</td>\n      <td>1</td>\n    </tr>\n    <tr>\n      <th>Alameda, CA</th>\n      <td>47000</td>\n      <td>47000</td>\n      <td>47000.000000</td>\n      <td>74000</td>\n      <td>74000</td>\n      <td>74000.0</td>\n      <td>1</td>\n    </tr>\n    <tr>\n      <th>Alhambra, CA</th>\n      <td>35000</td>\n      <td>65000</td>\n      <td>50000.000000</td>\n      <td>45000</td>\n      <td>81000</td>\n      <td>63000.0</td>\n      <td>2</td>\n    </tr>\n    <tr>\n      <th>Allegheny West, PA</th>\n      <td>37000</td>\n      <td>50000</td>\n      <td>43500.000000</td>\n      <td>44000</td>\n      <td>93000</td>\n      <td>68500.0</td>\n      <td>2</td>\n    </tr>\n    <tr>\n      <th>...</th>\n      <td>...</td>\n      <td>...</td>\n      <td>...</td>\n      <td>...</td>\n      <td>...</td>\n      <td>...</td>\n      <td>...</td>\n    </tr>\n    <tr>\n      <th>Woodbridge, NJ</th>\n      <td>98000</td>\n      <td>98000</td>\n      <td>98000.000000</td>\n      <td>114000</td>\n      <td>114000</td>\n      <td>114000.0</td>\n      <td>1</td>\n    </tr>\n    <tr>\n      <th>Woodcliff Lake, NJ</th>\n      <td>48000</td>\n      <td>48000</td>\n      <td>48000.000000</td>\n      <td>96000</td>\n      <td>96000</td>\n      <td>96000.0</td>\n      <td>1</td>\n    </tr>\n    <tr>\n      <th>Woodland Hills, CA</th>\n      <td>42000</td>\n      <td>113000</td>\n      <td>81333.333333</td>\n      <td>66000</td>\n      <td>132000</td>\n      <td>101500.0</td>\n      <td>6</td>\n    </tr>\n    <tr>\n      <th>Woodridge, IL</th>\n      <td>42000</td>\n      <td>73000</td>\n      <td>57500.000000</td>\n      <td>76000</td>\n      <td>82000</td>\n      <td>79000.0</td>\n      <td>2</td>\n    </tr>\n    <tr>\n      <th>Yorktown, VA</th>\n      <td>43000</td>\n      <td>43000</td>\n      <td>43000.000000</td>\n      <td>69000</td>\n      <td>69000</td>\n      <td>69000.0</td>\n      <td>1</td>\n    </tr>\n  </tbody>\n</table>\n<p>253 rows × 7 columns</p>\n</div>"
     },
     "execution_count": 111,
     "metadata": {},
     "output_type": "execute_result"
    }
   ],
   "source": [
    "salary_ranges"
   ],
   "metadata": {
    "collapsed": false,
    "pycharm": {
     "name": "#%%\n"
    }
   }
  },
  {
   "cell_type": "code",
   "execution_count": 111,
   "outputs": [],
   "source": [],
   "metadata": {
    "collapsed": false,
    "pycharm": {
     "name": "#%%\n"
    }
   }
  }
 ],
 "metadata": {
  "kernelspec": {
   "display_name": "Python 3",
   "language": "python",
   "name": "python3"
  },
  "language_info": {
   "codemirror_mode": {
    "name": "ipython",
    "version": 2
   },
   "file_extension": ".py",
   "mimetype": "text/x-python",
   "name": "python",
   "nbconvert_exporter": "python",
   "pygments_lexer": "ipython2",
   "version": "2.7.6"
  }
 },
 "nbformat": 4,
 "nbformat_minor": 0
}