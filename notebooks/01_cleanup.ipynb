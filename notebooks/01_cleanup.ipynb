{
 "cells": [
  {
   "cell_type": "markdown",
   "source": [
    "# Data Cleanup\n",
    "\n",
    "The dataset is rather small. That's why it would be a good idea keeping most of it while performing the cleanup/preprocessing."
   ],
   "metadata": {
    "collapsed": false
   }
  },
  {
   "cell_type": "code",
   "execution_count": 108,
   "outputs": [],
   "source": [
    "import os\n",
    "\n",
    "import pandas as pd\n",
    "import numpy as np"
   ],
   "metadata": {
    "collapsed": false,
    "pycharm": {
     "name": "#%%\n"
    }
   }
  },
  {
   "cell_type": "markdown",
   "source": [
    "Read the dataset and take a peek inside..."
   ],
   "metadata": {
    "collapsed": false
   }
  },
  {
   "cell_type": "code",
   "execution_count": 109,
   "outputs": [
    {
     "data": {
      "text/plain": "    Unnamed: 0                                          Job Title  \\\n0            0  Data Analyst, Center on Immigration and Justic...   \n1            1                               Quality Data Analyst   \n2            2  Senior Data Analyst, Insights & Analytics Team...   \n3            3                                       Data Analyst   \n4            4                             Reporting Data Analyst   \n5            5                                       Data Analyst   \n6            6                       Business/Data Analyst (FP&A)   \n7            7                               Data Science Analyst   \n8            8                                       Data Analyst   \n9            9                      Data Analyst, Merchant Health   \n10          10                                       Data Analyst   \n11          11                                       Data Analyst   \n12          12                                       DATA ANALYST   \n13          13                                Senior Data Analyst   \n14          14                   Investment Advisory Data Analyst   \n15          15                        Sustainability Data Analyst   \n16          16                                       Data Analyst   \n17          17                              Clinical Data Analyst   \n18          18                            DATA PROGRAMMER/ANALYST   \n19          19                                       Data Analyst   \n20          20                      Product Analyst, Data Science   \n21          21                               Data Science Analyst   \n22          22                     Data Analyst - Intex Developer   \n23          23                                       Data Analyst   \n24          24                     Entry Level / Jr. Data Analyst   \n\n               Salary Estimate  \\\n0   $37K-$66K (Glassdoor est.)   \n1   $37K-$66K (Glassdoor est.)   \n2   $37K-$66K (Glassdoor est.)   \n3   $37K-$66K (Glassdoor est.)   \n4   $37K-$66K (Glassdoor est.)   \n5   $37K-$66K (Glassdoor est.)   \n6   $37K-$66K (Glassdoor est.)   \n7   $37K-$66K (Glassdoor est.)   \n8   $37K-$66K (Glassdoor est.)   \n9   $37K-$66K (Glassdoor est.)   \n10  $37K-$66K (Glassdoor est.)   \n11  $37K-$66K (Glassdoor est.)   \n12  $37K-$66K (Glassdoor est.)   \n13  $37K-$66K (Glassdoor est.)   \n14  $37K-$66K (Glassdoor est.)   \n15  $37K-$66K (Glassdoor est.)   \n16  $37K-$66K (Glassdoor est.)   \n17  $37K-$66K (Glassdoor est.)   \n18  $37K-$66K (Glassdoor est.)   \n19  $37K-$66K (Glassdoor est.)   \n20  $37K-$66K (Glassdoor est.)   \n21  $37K-$66K (Glassdoor est.)   \n22  $37K-$66K (Glassdoor est.)   \n23  $37K-$66K (Glassdoor est.)   \n24  $37K-$66K (Glassdoor est.)   \n\n                                      Job Description  Rating  \\\n0   Are you eager to roll up your sleeves and harn...     3.2   \n1   Overview\\n\\nProvides analytical and technical ...     3.8   \n2   We’re looking for a Senior Data Analyst who ha...     3.4   \n3   Requisition NumberRR-0001939\\nRemote:Yes\\nWe c...     4.1   \n4   ABOUT FANDUEL GROUP\\n\\nFanDuel Group is a worl...     3.9   \n5   About Cubist\\nCubist Systematic Strategies is ...     3.9   \n6   Two Sigma is a different kind of investment ma...     4.4   \n7   Data Science Analyst\\n\\nJob Details\\nLevel\\nEx...     3.7   \n8   The Data Analyst is an integral member of the ...     4.0   \n9   About Us\\n\\nRiskified is the AI platform power...     4.4   \n10  NYU Grossman School of Medicine is one of the ...     4.0   \n11  BulbHead is currently seeking a Data Analyst t...    -1.0   \n12  Job Summary:\\n\\nThe Clinical Research Data Ana...     3.7   \n13  About Known\\n\\nKnown is a modern marketing com...     3.0   \n14  Investment Advisory Compliance Opportunity in ...     3.4   \n15  Job Description\\nRole Description\\n\\nSustainab...     3.6   \n16  Undertone stands alone among AdTech and ad net...     3.8   \n17  About Us:\\n\\nNYSTEC is a non-profit technology...     3.8   \n18  Company Description\\n\\nEDUCATION DEVELOPMENT C...     3.9   \n19  About Us\\n\\nAt Teachers Pay Teachers (TpT), we...     4.9   \n20  Note: By applying to this position your applic...     4.4   \n21  Job Description\\nOur client, a music streaming...    -1.0   \n22  Data Analyst - Intex Developer\\n\\n\\nNew York\\n...     3.3   \n23  Haven Life is an insurtech innovator at MassMu...     3.5   \n24  Dash Technologies is an industry leading softw...     3.8   \n\n                               Company Name         Location  \\\n0            Vera Institute of Justice\\n3.2     New York, NY   \n1   Visiting Nurse Service of New York\\n3.8     New York, NY   \n2                          Squarespace\\n3.4     New York, NY   \n3                             Celerity\\n4.1     New York, NY   \n4                              FanDuel\\n3.9     New York, NY   \n5                              Point72\\n3.9     New York, NY   \n6                            Two Sigma\\n4.4     New York, NY   \n7              GNY Insurance Companies\\n3.7     New York, NY   \n8                                 DMGT\\n4.0     New York, NY   \n9                            Riskified\\n4.4     New York, NY   \n10                  NYU Langone Health\\n4.0     New York, NY   \n11                                 BulbHead    Fairfield, NJ   \n12                  Montefiore Medical\\n3.7     New York, NY   \n13                               Known\\n3.0     New York, NY   \n14                       Advisor Group\\n3.4  Jersey City, NJ   \n15                 CodeGreen Solutions\\n3.6     New York, NY   \n16                           Undertone\\n3.8     New York, NY   \n17                              NYSTEC\\n3.8     New York, NY   \n18  Education Development Center, Inc.\\n3.9     New York, NY   \n19               Teachers Pay Teachers\\n4.9     New York, NY   \n20                              Google\\n4.4     New York, NY   \n21                    MUSIC & Entertainment     New York, NY   \n22                     Macquarie Group\\n3.3     New York, NY   \n23                             Andiamo\\n3.5     New York, NY   \n24               Dash Technologies Inc\\n3.8     New York, NY   \n\n              Headquarters                     Size  Founded  \\\n0             New York, NY     201 to 500 employees     1961   \n1             New York, NY         10000+ employees     1893   \n2             New York, NY   1001 to 5000 employees     2003   \n3               McLean, VA     201 to 500 employees     2002   \n4             New York, NY    501 to 1000 employees     2009   \n5             Stamford, CT   1001 to 5000 employees     2014   \n6             New York, NY   1001 to 5000 employees     2001   \n7             New York, NY     201 to 500 employees     1914   \n8   London, United Kingdom  5001 to 10000 employees     1896   \n9             New York, NY    501 to 1000 employees     2013   \n10            New York, NY         10000+ employees     1841   \n11                      -1        1 to 50 employees       -1   \n12               Bronx, NY         10000+ employees     1884   \n13            New York, NY     201 to 500 employees     2004   \n14             Phoenix, AZ   1001 to 5000 employees     2016   \n15            New York, NY        1 to 50 employees       -1   \n16            New York, NY     201 to 500 employees     2001   \n17                Rome, NY      51 to 200 employees     1996   \n18             Waltham, MA    501 to 1000 employees     1958   \n19            New York, NY      51 to 200 employees     2006   \n20       Mountain View, CA         10000+ employees     1998   \n21      Marina del Rey, CA                  Unknown       -1   \n22       Sydney, Australia         10000+ employees     1969   \n23              Warren, MI     201 to 500 employees       -1   \n24            Columbus, OH        1 to 50 employees       -1   \n\n                 Type of ownership                               Industry  \\\n0           Nonprofit Organization                      Social Assistance   \n1           Nonprofit Organization       Health Care Services & Hospitals   \n2                Company - Private                               Internet   \n3   Subsidiary or Business Segment                            IT Services   \n4                Company - Private                    Sports & Recreation   \n5                Company - Private  Investment Banking & Asset Management   \n6                Company - Private  Investment Banking & Asset Management   \n7                Company - Private                     Insurance Carriers   \n8                 Company - Public       Venture Capital & Private Equity   \n9                Company - Private                 Research & Development   \n10                        Hospital       Health Care Services & Hospitals   \n11               Company - Private                                     -1   \n12          Nonprofit Organization       Health Care Services & Hospitals   \n13               Company - Private                Advertising & Marketing   \n14               Company - Private                     Brokerage Services   \n15               Company - Private          Building & Personnel Services   \n16  Subsidiary or Business Segment                Advertising & Marketing   \n17          Nonprofit Organization                             Consulting   \n18          Nonprofit Organization                 Research & Development   \n19               Company - Private                               Internet   \n20                Company - Public                               Internet   \n21                Company - Public                                     -1   \n22                Company - Public  Investment Banking & Asset Management   \n23               Company - Private                     Casual Restaurants   \n24                         Unknown                                     -1   \n\n                               Sector                     Revenue  \\\n0                          Non-Profit  $100 to $500 million (USD)   \n1                         Health Care      $2 to $5 billion (USD)   \n2              Information Technology    Unknown / Non-Applicable   \n3              Information Technology   $50 to $100 million (USD)   \n4    Arts, Entertainment & Recreation  $100 to $500 million (USD)   \n5                             Finance    Unknown / Non-Applicable   \n6                             Finance    Unknown / Non-Applicable   \n7                           Insurance  $100 to $500 million (USD)   \n8                             Finance      $1 to $2 billion (USD)   \n9                   Business Services    Unknown / Non-Applicable   \n10                        Health Care     $5 to $10 billion (USD)   \n11                                 -1    Unknown / Non-Applicable   \n12                        Health Care      $2 to $5 billion (USD)   \n13                  Business Services  $100 to $500 million (USD)   \n14                            Finance      $1 to $5 million (USD)   \n15                  Business Services    Unknown / Non-Applicable   \n16                  Business Services    Unknown / Non-Applicable   \n17                  Business Services    $25 to $50 million (USD)   \n18                  Business Services  $100 to $500 million (USD)   \n19             Information Technology    Unknown / Non-Applicable   \n20             Information Technology          $10+ billion (USD)   \n21                                 -1    Unknown / Non-Applicable   \n22                            Finance     $5 to $10 billion (USD)   \n23  Restaurants, Bars & Food Services      $1 to $5 million (USD)   \n24                                 -1    Unknown / Non-Applicable   \n\n                                          Competitors Easy Apply  \n0                                                  -1       True  \n1                                                  -1         -1  \n2                                             GoDaddy         -1  \n3                                                  -1         -1  \n4                                          DraftKings       True  \n5                                                  -1         -1  \n6                                                  -1         -1  \n7                    Travelers, Chubb, Crum & Forster       True  \n8                    Thomson Reuters, Hearst, Pearson         -1  \n9                                    Signifyd, Forter         -1  \n10    NewYork-Presbyterian Hospital, Northwell Health         -1  \n11                                                 -1         -1  \n12                                                 -1         -1  \n13                                                 -1       True  \n14                                                 -1         -1  \n15                                                 -1         -1  \n16            DoubleClick, Specific Media, Collective       True  \n17                          KPMG, Accenture, Deloitte         -1  \n18                                                 -1         -1  \n19                                                 -1         -1  \n20                         Microsoft, Apple, Facebook         -1  \n21                                                 -1         -1  \n22  Goldman Sachs, Commonwealth Bank of Australia,...         -1  \n23                                                 -1         -1  \n24                                                 -1         -1  ",
      "text/html": "<div>\n<style scoped>\n    .dataframe tbody tr th:only-of-type {\n        vertical-align: middle;\n    }\n\n    .dataframe tbody tr th {\n        vertical-align: top;\n    }\n\n    .dataframe thead th {\n        text-align: right;\n    }\n</style>\n<table border=\"1\" class=\"dataframe\">\n  <thead>\n    <tr style=\"text-align: right;\">\n      <th></th>\n      <th>Unnamed: 0</th>\n      <th>Job Title</th>\n      <th>Salary Estimate</th>\n      <th>Job Description</th>\n      <th>Rating</th>\n      <th>Company Name</th>\n      <th>Location</th>\n      <th>Headquarters</th>\n      <th>Size</th>\n      <th>Founded</th>\n      <th>Type of ownership</th>\n      <th>Industry</th>\n      <th>Sector</th>\n      <th>Revenue</th>\n      <th>Competitors</th>\n      <th>Easy Apply</th>\n    </tr>\n  </thead>\n  <tbody>\n    <tr>\n      <th>0</th>\n      <td>0</td>\n      <td>Data Analyst, Center on Immigration and Justic...</td>\n      <td>$37K-$66K (Glassdoor est.)</td>\n      <td>Are you eager to roll up your sleeves and harn...</td>\n      <td>3.2</td>\n      <td>Vera Institute of Justice\\n3.2</td>\n      <td>New York, NY</td>\n      <td>New York, NY</td>\n      <td>201 to 500 employees</td>\n      <td>1961</td>\n      <td>Nonprofit Organization</td>\n      <td>Social Assistance</td>\n      <td>Non-Profit</td>\n      <td>$100 to $500 million (USD)</td>\n      <td>-1</td>\n      <td>True</td>\n    </tr>\n    <tr>\n      <th>1</th>\n      <td>1</td>\n      <td>Quality Data Analyst</td>\n      <td>$37K-$66K (Glassdoor est.)</td>\n      <td>Overview\\n\\nProvides analytical and technical ...</td>\n      <td>3.8</td>\n      <td>Visiting Nurse Service of New York\\n3.8</td>\n      <td>New York, NY</td>\n      <td>New York, NY</td>\n      <td>10000+ employees</td>\n      <td>1893</td>\n      <td>Nonprofit Organization</td>\n      <td>Health Care Services &amp; Hospitals</td>\n      <td>Health Care</td>\n      <td>$2 to $5 billion (USD)</td>\n      <td>-1</td>\n      <td>-1</td>\n    </tr>\n    <tr>\n      <th>2</th>\n      <td>2</td>\n      <td>Senior Data Analyst, Insights &amp; Analytics Team...</td>\n      <td>$37K-$66K (Glassdoor est.)</td>\n      <td>We’re looking for a Senior Data Analyst who ha...</td>\n      <td>3.4</td>\n      <td>Squarespace\\n3.4</td>\n      <td>New York, NY</td>\n      <td>New York, NY</td>\n      <td>1001 to 5000 employees</td>\n      <td>2003</td>\n      <td>Company - Private</td>\n      <td>Internet</td>\n      <td>Information Technology</td>\n      <td>Unknown / Non-Applicable</td>\n      <td>GoDaddy</td>\n      <td>-1</td>\n    </tr>\n    <tr>\n      <th>3</th>\n      <td>3</td>\n      <td>Data Analyst</td>\n      <td>$37K-$66K (Glassdoor est.)</td>\n      <td>Requisition NumberRR-0001939\\nRemote:Yes\\nWe c...</td>\n      <td>4.1</td>\n      <td>Celerity\\n4.1</td>\n      <td>New York, NY</td>\n      <td>McLean, VA</td>\n      <td>201 to 500 employees</td>\n      <td>2002</td>\n      <td>Subsidiary or Business Segment</td>\n      <td>IT Services</td>\n      <td>Information Technology</td>\n      <td>$50 to $100 million (USD)</td>\n      <td>-1</td>\n      <td>-1</td>\n    </tr>\n    <tr>\n      <th>4</th>\n      <td>4</td>\n      <td>Reporting Data Analyst</td>\n      <td>$37K-$66K (Glassdoor est.)</td>\n      <td>ABOUT FANDUEL GROUP\\n\\nFanDuel Group is a worl...</td>\n      <td>3.9</td>\n      <td>FanDuel\\n3.9</td>\n      <td>New York, NY</td>\n      <td>New York, NY</td>\n      <td>501 to 1000 employees</td>\n      <td>2009</td>\n      <td>Company - Private</td>\n      <td>Sports &amp; Recreation</td>\n      <td>Arts, Entertainment &amp; Recreation</td>\n      <td>$100 to $500 million (USD)</td>\n      <td>DraftKings</td>\n      <td>True</td>\n    </tr>\n    <tr>\n      <th>5</th>\n      <td>5</td>\n      <td>Data Analyst</td>\n      <td>$37K-$66K (Glassdoor est.)</td>\n      <td>About Cubist\\nCubist Systematic Strategies is ...</td>\n      <td>3.9</td>\n      <td>Point72\\n3.9</td>\n      <td>New York, NY</td>\n      <td>Stamford, CT</td>\n      <td>1001 to 5000 employees</td>\n      <td>2014</td>\n      <td>Company - Private</td>\n      <td>Investment Banking &amp; Asset Management</td>\n      <td>Finance</td>\n      <td>Unknown / Non-Applicable</td>\n      <td>-1</td>\n      <td>-1</td>\n    </tr>\n    <tr>\n      <th>6</th>\n      <td>6</td>\n      <td>Business/Data Analyst (FP&amp;A)</td>\n      <td>$37K-$66K (Glassdoor est.)</td>\n      <td>Two Sigma is a different kind of investment ma...</td>\n      <td>4.4</td>\n      <td>Two Sigma\\n4.4</td>\n      <td>New York, NY</td>\n      <td>New York, NY</td>\n      <td>1001 to 5000 employees</td>\n      <td>2001</td>\n      <td>Company - Private</td>\n      <td>Investment Banking &amp; Asset Management</td>\n      <td>Finance</td>\n      <td>Unknown / Non-Applicable</td>\n      <td>-1</td>\n      <td>-1</td>\n    </tr>\n    <tr>\n      <th>7</th>\n      <td>7</td>\n      <td>Data Science Analyst</td>\n      <td>$37K-$66K (Glassdoor est.)</td>\n      <td>Data Science Analyst\\n\\nJob Details\\nLevel\\nEx...</td>\n      <td>3.7</td>\n      <td>GNY Insurance Companies\\n3.7</td>\n      <td>New York, NY</td>\n      <td>New York, NY</td>\n      <td>201 to 500 employees</td>\n      <td>1914</td>\n      <td>Company - Private</td>\n      <td>Insurance Carriers</td>\n      <td>Insurance</td>\n      <td>$100 to $500 million (USD)</td>\n      <td>Travelers, Chubb, Crum &amp; Forster</td>\n      <td>True</td>\n    </tr>\n    <tr>\n      <th>8</th>\n      <td>8</td>\n      <td>Data Analyst</td>\n      <td>$37K-$66K (Glassdoor est.)</td>\n      <td>The Data Analyst is an integral member of the ...</td>\n      <td>4.0</td>\n      <td>DMGT\\n4.0</td>\n      <td>New York, NY</td>\n      <td>London, United Kingdom</td>\n      <td>5001 to 10000 employees</td>\n      <td>1896</td>\n      <td>Company - Public</td>\n      <td>Venture Capital &amp; Private Equity</td>\n      <td>Finance</td>\n      <td>$1 to $2 billion (USD)</td>\n      <td>Thomson Reuters, Hearst, Pearson</td>\n      <td>-1</td>\n    </tr>\n    <tr>\n      <th>9</th>\n      <td>9</td>\n      <td>Data Analyst, Merchant Health</td>\n      <td>$37K-$66K (Glassdoor est.)</td>\n      <td>About Us\\n\\nRiskified is the AI platform power...</td>\n      <td>4.4</td>\n      <td>Riskified\\n4.4</td>\n      <td>New York, NY</td>\n      <td>New York, NY</td>\n      <td>501 to 1000 employees</td>\n      <td>2013</td>\n      <td>Company - Private</td>\n      <td>Research &amp; Development</td>\n      <td>Business Services</td>\n      <td>Unknown / Non-Applicable</td>\n      <td>Signifyd, Forter</td>\n      <td>-1</td>\n    </tr>\n    <tr>\n      <th>10</th>\n      <td>10</td>\n      <td>Data Analyst</td>\n      <td>$37K-$66K (Glassdoor est.)</td>\n      <td>NYU Grossman School of Medicine is one of the ...</td>\n      <td>4.0</td>\n      <td>NYU Langone Health\\n4.0</td>\n      <td>New York, NY</td>\n      <td>New York, NY</td>\n      <td>10000+ employees</td>\n      <td>1841</td>\n      <td>Hospital</td>\n      <td>Health Care Services &amp; Hospitals</td>\n      <td>Health Care</td>\n      <td>$5 to $10 billion (USD)</td>\n      <td>NewYork-Presbyterian Hospital, Northwell Health</td>\n      <td>-1</td>\n    </tr>\n    <tr>\n      <th>11</th>\n      <td>11</td>\n      <td>Data Analyst</td>\n      <td>$37K-$66K (Glassdoor est.)</td>\n      <td>BulbHead is currently seeking a Data Analyst t...</td>\n      <td>-1.0</td>\n      <td>BulbHead</td>\n      <td>Fairfield, NJ</td>\n      <td>-1</td>\n      <td>1 to 50 employees</td>\n      <td>-1</td>\n      <td>Company - Private</td>\n      <td>-1</td>\n      <td>-1</td>\n      <td>Unknown / Non-Applicable</td>\n      <td>-1</td>\n      <td>-1</td>\n    </tr>\n    <tr>\n      <th>12</th>\n      <td>12</td>\n      <td>DATA ANALYST</td>\n      <td>$37K-$66K (Glassdoor est.)</td>\n      <td>Job Summary:\\n\\nThe Clinical Research Data Ana...</td>\n      <td>3.7</td>\n      <td>Montefiore Medical\\n3.7</td>\n      <td>New York, NY</td>\n      <td>Bronx, NY</td>\n      <td>10000+ employees</td>\n      <td>1884</td>\n      <td>Nonprofit Organization</td>\n      <td>Health Care Services &amp; Hospitals</td>\n      <td>Health Care</td>\n      <td>$2 to $5 billion (USD)</td>\n      <td>-1</td>\n      <td>-1</td>\n    </tr>\n    <tr>\n      <th>13</th>\n      <td>13</td>\n      <td>Senior Data Analyst</td>\n      <td>$37K-$66K (Glassdoor est.)</td>\n      <td>About Known\\n\\nKnown is a modern marketing com...</td>\n      <td>3.0</td>\n      <td>Known\\n3.0</td>\n      <td>New York, NY</td>\n      <td>New York, NY</td>\n      <td>201 to 500 employees</td>\n      <td>2004</td>\n      <td>Company - Private</td>\n      <td>Advertising &amp; Marketing</td>\n      <td>Business Services</td>\n      <td>$100 to $500 million (USD)</td>\n      <td>-1</td>\n      <td>True</td>\n    </tr>\n    <tr>\n      <th>14</th>\n      <td>14</td>\n      <td>Investment Advisory Data Analyst</td>\n      <td>$37K-$66K (Glassdoor est.)</td>\n      <td>Investment Advisory Compliance Opportunity in ...</td>\n      <td>3.4</td>\n      <td>Advisor Group\\n3.4</td>\n      <td>Jersey City, NJ</td>\n      <td>Phoenix, AZ</td>\n      <td>1001 to 5000 employees</td>\n      <td>2016</td>\n      <td>Company - Private</td>\n      <td>Brokerage Services</td>\n      <td>Finance</td>\n      <td>$1 to $5 million (USD)</td>\n      <td>-1</td>\n      <td>-1</td>\n    </tr>\n    <tr>\n      <th>15</th>\n      <td>15</td>\n      <td>Sustainability Data Analyst</td>\n      <td>$37K-$66K (Glassdoor est.)</td>\n      <td>Job Description\\nRole Description\\n\\nSustainab...</td>\n      <td>3.6</td>\n      <td>CodeGreen Solutions\\n3.6</td>\n      <td>New York, NY</td>\n      <td>New York, NY</td>\n      <td>1 to 50 employees</td>\n      <td>-1</td>\n      <td>Company - Private</td>\n      <td>Building &amp; Personnel Services</td>\n      <td>Business Services</td>\n      <td>Unknown / Non-Applicable</td>\n      <td>-1</td>\n      <td>-1</td>\n    </tr>\n    <tr>\n      <th>16</th>\n      <td>16</td>\n      <td>Data Analyst</td>\n      <td>$37K-$66K (Glassdoor est.)</td>\n      <td>Undertone stands alone among AdTech and ad net...</td>\n      <td>3.8</td>\n      <td>Undertone\\n3.8</td>\n      <td>New York, NY</td>\n      <td>New York, NY</td>\n      <td>201 to 500 employees</td>\n      <td>2001</td>\n      <td>Subsidiary or Business Segment</td>\n      <td>Advertising &amp; Marketing</td>\n      <td>Business Services</td>\n      <td>Unknown / Non-Applicable</td>\n      <td>DoubleClick, Specific Media, Collective</td>\n      <td>True</td>\n    </tr>\n    <tr>\n      <th>17</th>\n      <td>17</td>\n      <td>Clinical Data Analyst</td>\n      <td>$37K-$66K (Glassdoor est.)</td>\n      <td>About Us:\\n\\nNYSTEC is a non-profit technology...</td>\n      <td>3.8</td>\n      <td>NYSTEC\\n3.8</td>\n      <td>New York, NY</td>\n      <td>Rome, NY</td>\n      <td>51 to 200 employees</td>\n      <td>1996</td>\n      <td>Nonprofit Organization</td>\n      <td>Consulting</td>\n      <td>Business Services</td>\n      <td>$25 to $50 million (USD)</td>\n      <td>KPMG, Accenture, Deloitte</td>\n      <td>-1</td>\n    </tr>\n    <tr>\n      <th>18</th>\n      <td>18</td>\n      <td>DATA PROGRAMMER/ANALYST</td>\n      <td>$37K-$66K (Glassdoor est.)</td>\n      <td>Company Description\\n\\nEDUCATION DEVELOPMENT C...</td>\n      <td>3.9</td>\n      <td>Education Development Center, Inc.\\n3.9</td>\n      <td>New York, NY</td>\n      <td>Waltham, MA</td>\n      <td>501 to 1000 employees</td>\n      <td>1958</td>\n      <td>Nonprofit Organization</td>\n      <td>Research &amp; Development</td>\n      <td>Business Services</td>\n      <td>$100 to $500 million (USD)</td>\n      <td>-1</td>\n      <td>-1</td>\n    </tr>\n    <tr>\n      <th>19</th>\n      <td>19</td>\n      <td>Data Analyst</td>\n      <td>$37K-$66K (Glassdoor est.)</td>\n      <td>About Us\\n\\nAt Teachers Pay Teachers (TpT), we...</td>\n      <td>4.9</td>\n      <td>Teachers Pay Teachers\\n4.9</td>\n      <td>New York, NY</td>\n      <td>New York, NY</td>\n      <td>51 to 200 employees</td>\n      <td>2006</td>\n      <td>Company - Private</td>\n      <td>Internet</td>\n      <td>Information Technology</td>\n      <td>Unknown / Non-Applicable</td>\n      <td>-1</td>\n      <td>-1</td>\n    </tr>\n    <tr>\n      <th>20</th>\n      <td>20</td>\n      <td>Product Analyst, Data Science</td>\n      <td>$37K-$66K (Glassdoor est.)</td>\n      <td>Note: By applying to this position your applic...</td>\n      <td>4.4</td>\n      <td>Google\\n4.4</td>\n      <td>New York, NY</td>\n      <td>Mountain View, CA</td>\n      <td>10000+ employees</td>\n      <td>1998</td>\n      <td>Company - Public</td>\n      <td>Internet</td>\n      <td>Information Technology</td>\n      <td>$10+ billion (USD)</td>\n      <td>Microsoft, Apple, Facebook</td>\n      <td>-1</td>\n    </tr>\n    <tr>\n      <th>21</th>\n      <td>21</td>\n      <td>Data Science Analyst</td>\n      <td>$37K-$66K (Glassdoor est.)</td>\n      <td>Job Description\\nOur client, a music streaming...</td>\n      <td>-1.0</td>\n      <td>MUSIC &amp; Entertainment</td>\n      <td>New York, NY</td>\n      <td>Marina del Rey, CA</td>\n      <td>Unknown</td>\n      <td>-1</td>\n      <td>Company - Public</td>\n      <td>-1</td>\n      <td>-1</td>\n      <td>Unknown / Non-Applicable</td>\n      <td>-1</td>\n      <td>-1</td>\n    </tr>\n    <tr>\n      <th>22</th>\n      <td>22</td>\n      <td>Data Analyst - Intex Developer</td>\n      <td>$37K-$66K (Glassdoor est.)</td>\n      <td>Data Analyst - Intex Developer\\n\\n\\nNew York\\n...</td>\n      <td>3.3</td>\n      <td>Macquarie Group\\n3.3</td>\n      <td>New York, NY</td>\n      <td>Sydney, Australia</td>\n      <td>10000+ employees</td>\n      <td>1969</td>\n      <td>Company - Public</td>\n      <td>Investment Banking &amp; Asset Management</td>\n      <td>Finance</td>\n      <td>$5 to $10 billion (USD)</td>\n      <td>Goldman Sachs, Commonwealth Bank of Australia,...</td>\n      <td>-1</td>\n    </tr>\n    <tr>\n      <th>23</th>\n      <td>23</td>\n      <td>Data Analyst</td>\n      <td>$37K-$66K (Glassdoor est.)</td>\n      <td>Haven Life is an insurtech innovator at MassMu...</td>\n      <td>3.5</td>\n      <td>Andiamo\\n3.5</td>\n      <td>New York, NY</td>\n      <td>Warren, MI</td>\n      <td>201 to 500 employees</td>\n      <td>-1</td>\n      <td>Company - Private</td>\n      <td>Casual Restaurants</td>\n      <td>Restaurants, Bars &amp; Food Services</td>\n      <td>$1 to $5 million (USD)</td>\n      <td>-1</td>\n      <td>-1</td>\n    </tr>\n    <tr>\n      <th>24</th>\n      <td>24</td>\n      <td>Entry Level / Jr. Data Analyst</td>\n      <td>$37K-$66K (Glassdoor est.)</td>\n      <td>Dash Technologies is an industry leading softw...</td>\n      <td>3.8</td>\n      <td>Dash Technologies Inc\\n3.8</td>\n      <td>New York, NY</td>\n      <td>Columbus, OH</td>\n      <td>1 to 50 employees</td>\n      <td>-1</td>\n      <td>Unknown</td>\n      <td>-1</td>\n      <td>-1</td>\n      <td>Unknown / Non-Applicable</td>\n      <td>-1</td>\n      <td>-1</td>\n    </tr>\n  </tbody>\n</table>\n</div>"
     },
     "execution_count": 109,
     "metadata": {},
     "output_type": "execute_result"
    }
   ],
   "source": [
    "data = pd.read_csv(os.path.join('..', 'raw_data', 'DataAnalyst.csv'))\n",
    "data.head(25)"
   ],
   "metadata": {
    "collapsed": false,
    "pycharm": {
     "name": "#%%\n"
    }
   }
  },
  {
   "cell_type": "markdown",
   "source": [
    "### First impression\n",
    "\n",
    "1. The `Job Titles` column is noisy. Let's add an `Experience` column to be able to simply sort/group by seniority.\n",
    "2. `Salary Estimate` isn't helpful in this form as well. This column should be numeric.\n",
    "I will delete it and instead add two new columns for the lower and upper salary range.\n",
    "3. `Size` can be split in two columns as well. Just like `Salary Estimate`\n",
    "4. The Rating needs to be removed from `Company Name`\n",
    "5. Some columns that don't seem helpful answering the questions can be deleted:\n",
    "* `Unnamed: 0`\n",
    "* `Easy Apply`\n",
    "* `Competitors`\n",
    "* `Headquarters`\n",
    "* `Founded`\n",
    "* `Type of ownership`\n",
    "* `Industry`\n",
    "* `Sector`\n",
    "* `Revenue`\n",
    "6. There are a few `-1` values scattered through the columns.\n",
    "Deleting above columns partially deals with the `-1`/rubbish values.\n",
    "I'm sure there are more rubbish values"
   ],
   "metadata": {
    "collapsed": false
   }
  },
  {
   "cell_type": "markdown",
   "source": [
    "### Job Titles and Experience\n",
    "\n",
    "Let's investigate the random Job titles. First filter out the clean ones and keep the noise."
   ],
   "metadata": {
    "collapsed": false
   }
  },
  {
   "cell_type": "code",
   "execution_count": 110,
   "outputs": [
    {
     "data": {
      "text/plain": "0     Data Analyst, Center on Immigration and Justic...\n1                                  Quality Data Analyst\n2     Senior Data Analyst, Insights & Analytics Team...\n4                                Reporting Data Analyst\n6                          Business/Data Analyst (FP&A)\n7                                  Data Science Analyst\n9                         Data Analyst, Merchant Health\n12                                         DATA ANALYST\n14                     Investment Advisory Data Analyst\n15                          Sustainability Data Analyst\n17                                Clinical Data Analyst\n18                              DATA PROGRAMMER/ANALYST\n20                        Product Analyst, Data Science\n21                                 Data Science Analyst\n22                       Data Analyst - Intex Developer\n24                       Entry Level / Jr. Data Analyst\n26                 Data + Business Intelligence Analyst\n27                                Data Analyst, Product\n28                             Data Analyst Entry Level\n33                Data Science Analyst, Capital Markets\n34                                 Data Analyst (Games)\n35    Analyst/Associate Global Markets Credit Data A...\n36                                Data Business Analyst\n37    Data Analyst with Excel/DAX/ PowerBI experienc...\n38                        Data Science Analyst/Engineer\nName: Job Title, dtype: object"
     },
     "execution_count": 110,
     "metadata": {},
     "output_type": "execute_result"
    }
   ],
   "source": [
    "noisy = data[(data['Job Title'] != 'Data Analyst') \\\n",
    "            & (data['Job Title'] != 'Junior Data Analyst') \\\n",
    "            & (data['Job Title'] != 'Senior Data Analyst')]\n",
    "\n",
    "noisy['Job Title'].head(25)"
   ],
   "metadata": {
    "collapsed": false,
    "pycharm": {
     "name": "#%%\n"
    }
   }
  },
  {
   "cell_type": "markdown",
   "source": [
    "Junior, Regular and Senior are differentiated from each other but not clear enough.\n",
    "We can assign some synonyms to the positions to help us.\n",
    "\n",
    "| Junior   | Senior | Regular         |\n",
    "|----------|--------|-----------------|\n",
    "| junior   | senior | everything else |\n",
    "| beginner | lead   | ...             |\n",
    "| entry    | master | ...             |\n",
    "| jr       | sr     | ...             |\n",
    "\n"
   ],
   "metadata": {
    "collapsed": false
   }
  },
  {
   "cell_type": "markdown",
   "source": [
    "Based on above findings we can write a custom function to add a new `Experience` column that helps differentiating Juniors, Regulars and Seniors."
   ],
   "metadata": {
    "collapsed": false
   }
  },
  {
   "cell_type": "code",
   "execution_count": 111,
   "outputs": [
    {
     "data": {
      "text/plain": "                                             Job Title Experience\n1165                    Payment Integrity Data Analyst    Regular\n2104                             Business/Data Analyst    Regular\n1261                                      Data Analyst    Regular\n1376                                      Data Analyst    Regular\n468                                       Data Analyst    Regular\n1875                           Reporting /Data Analyst    Regular\n640                     Senior Data Engineer & Analyst     Senior\n1684   Associate SalesForce.com Data Steward & Analyst    Regular\n1386  Information Technology Specialist / Data Analyst    Regular\n1275                              Data Privacy Analyst    Regular",
      "text/html": "<div>\n<style scoped>\n    .dataframe tbody tr th:only-of-type {\n        vertical-align: middle;\n    }\n\n    .dataframe tbody tr th {\n        vertical-align: top;\n    }\n\n    .dataframe thead th {\n        text-align: right;\n    }\n</style>\n<table border=\"1\" class=\"dataframe\">\n  <thead>\n    <tr style=\"text-align: right;\">\n      <th></th>\n      <th>Job Title</th>\n      <th>Experience</th>\n    </tr>\n  </thead>\n  <tbody>\n    <tr>\n      <th>1165</th>\n      <td>Payment Integrity Data Analyst</td>\n      <td>Regular</td>\n    </tr>\n    <tr>\n      <th>2104</th>\n      <td>Business/Data Analyst</td>\n      <td>Regular</td>\n    </tr>\n    <tr>\n      <th>1261</th>\n      <td>Data Analyst</td>\n      <td>Regular</td>\n    </tr>\n    <tr>\n      <th>1376</th>\n      <td>Data Analyst</td>\n      <td>Regular</td>\n    </tr>\n    <tr>\n      <th>468</th>\n      <td>Data Analyst</td>\n      <td>Regular</td>\n    </tr>\n    <tr>\n      <th>1875</th>\n      <td>Reporting /Data Analyst</td>\n      <td>Regular</td>\n    </tr>\n    <tr>\n      <th>640</th>\n      <td>Senior Data Engineer &amp; Analyst</td>\n      <td>Senior</td>\n    </tr>\n    <tr>\n      <th>1684</th>\n      <td>Associate SalesForce.com Data Steward &amp; Analyst</td>\n      <td>Regular</td>\n    </tr>\n    <tr>\n      <th>1386</th>\n      <td>Information Technology Specialist / Data Analyst</td>\n      <td>Regular</td>\n    </tr>\n    <tr>\n      <th>1275</th>\n      <td>Data Privacy Analyst</td>\n      <td>Regular</td>\n    </tr>\n  </tbody>\n</table>\n</div>"
     },
     "execution_count": 111,
     "metadata": {},
     "output_type": "execute_result"
    }
   ],
   "source": [
    "def seniority(job_title):\n",
    "    \"\"\"Return seniority of job title\n",
    "    :param job_title: Input Job title\"\"\"\n",
    "\n",
    "    experience = {'junior': ['beginner', 'entry', 'junior', 'jr'],\n",
    "                  'senior': ['senior', 'lead', 'sr', 'master']}\n",
    "\n",
    "    # Return Junior or Senior\n",
    "    for exp, words in experience.items():\n",
    "        for w in words:\n",
    "            if w in job_title.lower():\n",
    "                return exp.title()\n",
    "\n",
    "    # Returns Regular if above doesn't apply\n",
    "    not_regular = experience['junior'] + experience['senior']\n",
    "    for word in not_regular:\n",
    "        if word not in job_title.lower():\n",
    "            return 'Regular'\n",
    "\n",
    "data['Experience'] = data['Job Title'].map(seniority)\n",
    "data[['Job Title', 'Experience']].sample(10)"
   ],
   "metadata": {
    "collapsed": false,
    "pycharm": {
     "name": "#%%\n"
    }
   }
  },
  {
   "cell_type": "markdown",
   "source": [
    "### Salary Estimate\n",
    "\n",
    "Let's cleanup the `Salary Estimate` column. It will help to split it in two columns: `Salary Lower`, `Salary Upper`. Also multiply by 1000 to remove the \"K\"."
   ],
   "metadata": {
    "collapsed": false
   }
  },
  {
   "cell_type": "code",
   "execution_count": 112,
   "outputs": [
    {
     "data": {
      "text/plain": "                   Salary Estimate\n2004   $65K-$120K (Glassdoor est.)\n613     $35K-$45K (Glassdoor est.)\n1455    $48K-$88K (Glassdoor est.)\n1849    $54K-$75K (Glassdoor est.)\n1578    $51K-$93K (Glassdoor est.)\n1689    $35K-$42K (Glassdoor est.)\n1453    $48K-$88K (Glassdoor est.)\n538    $55K-$103K (Glassdoor est.)\n536    $55K-$103K (Glassdoor est.)\n1487  $110K-$190K (Glassdoor est.)\n1678   $53K-$104K (Glassdoor est.)\n874     $68K-$87K (Glassdoor est.)\n737     $60K-$66K (Glassdoor est.)\n261    $73K-$127K (Glassdoor est.)\n1633   $63K-$116K (Glassdoor est.)",
      "text/html": "<div>\n<style scoped>\n    .dataframe tbody tr th:only-of-type {\n        vertical-align: middle;\n    }\n\n    .dataframe tbody tr th {\n        vertical-align: top;\n    }\n\n    .dataframe thead th {\n        text-align: right;\n    }\n</style>\n<table border=\"1\" class=\"dataframe\">\n  <thead>\n    <tr style=\"text-align: right;\">\n      <th></th>\n      <th>Salary Estimate</th>\n    </tr>\n  </thead>\n  <tbody>\n    <tr>\n      <th>2004</th>\n      <td>$65K-$120K (Glassdoor est.)</td>\n    </tr>\n    <tr>\n      <th>613</th>\n      <td>$35K-$45K (Glassdoor est.)</td>\n    </tr>\n    <tr>\n      <th>1455</th>\n      <td>$48K-$88K (Glassdoor est.)</td>\n    </tr>\n    <tr>\n      <th>1849</th>\n      <td>$54K-$75K (Glassdoor est.)</td>\n    </tr>\n    <tr>\n      <th>1578</th>\n      <td>$51K-$93K (Glassdoor est.)</td>\n    </tr>\n    <tr>\n      <th>1689</th>\n      <td>$35K-$42K (Glassdoor est.)</td>\n    </tr>\n    <tr>\n      <th>1453</th>\n      <td>$48K-$88K (Glassdoor est.)</td>\n    </tr>\n    <tr>\n      <th>538</th>\n      <td>$55K-$103K (Glassdoor est.)</td>\n    </tr>\n    <tr>\n      <th>536</th>\n      <td>$55K-$103K (Glassdoor est.)</td>\n    </tr>\n    <tr>\n      <th>1487</th>\n      <td>$110K-$190K (Glassdoor est.)</td>\n    </tr>\n    <tr>\n      <th>1678</th>\n      <td>$53K-$104K (Glassdoor est.)</td>\n    </tr>\n    <tr>\n      <th>874</th>\n      <td>$68K-$87K (Glassdoor est.)</td>\n    </tr>\n    <tr>\n      <th>737</th>\n      <td>$60K-$66K (Glassdoor est.)</td>\n    </tr>\n    <tr>\n      <th>261</th>\n      <td>$73K-$127K (Glassdoor est.)</td>\n    </tr>\n    <tr>\n      <th>1633</th>\n      <td>$63K-$116K (Glassdoor est.)</td>\n    </tr>\n  </tbody>\n</table>\n</div>"
     },
     "execution_count": 112,
     "metadata": {},
     "output_type": "execute_result"
    }
   ],
   "source": [
    "data[['Salary Estimate']].sample(15)"
   ],
   "metadata": {
    "collapsed": false,
    "pycharm": {
     "name": "#%%\n"
    }
   }
  },
  {
   "cell_type": "code",
   "execution_count": 113,
   "outputs": [
    {
     "data": {
      "text/plain": "                  Salary Estimate  Salary Lower  Salary Upper\n1756   $35K-$67K (Glassdoor est.)       35000.0         67000\n922    $47K-$76K (Glassdoor est.)       47000.0         76000\n20     $37K-$66K (Glassdoor est.)       37000.0         66000\n1257  $76K-$122K (Glassdoor est.)       76000.0        122000\n472    $43K-$69K (Glassdoor est.)       43000.0         69000\n1797   $50K-$86K (Glassdoor est.)       50000.0         86000\n1852   $54K-$75K (Glassdoor est.)       54000.0         75000\n1294  $60K-$124K (Glassdoor est.)       60000.0        124000\n1924  $99K-$178K (Glassdoor est.)       99000.0        178000\n992    $53K-$94K (Glassdoor est.)       53000.0         94000\n978    $53K-$94K (Glassdoor est.)       53000.0         94000\n27     $37K-$66K (Glassdoor est.)       37000.0         66000\n248    $45K-$88K (Glassdoor est.)       45000.0         88000\n1801   $50K-$86K (Glassdoor est.)       50000.0         86000\n685    $65K-$81K (Glassdoor est.)       65000.0         81000",
      "text/html": "<div>\n<style scoped>\n    .dataframe tbody tr th:only-of-type {\n        vertical-align: middle;\n    }\n\n    .dataframe tbody tr th {\n        vertical-align: top;\n    }\n\n    .dataframe thead th {\n        text-align: right;\n    }\n</style>\n<table border=\"1\" class=\"dataframe\">\n  <thead>\n    <tr style=\"text-align: right;\">\n      <th></th>\n      <th>Salary Estimate</th>\n      <th>Salary Lower</th>\n      <th>Salary Upper</th>\n    </tr>\n  </thead>\n  <tbody>\n    <tr>\n      <th>1756</th>\n      <td>$35K-$67K (Glassdoor est.)</td>\n      <td>35000.0</td>\n      <td>67000</td>\n    </tr>\n    <tr>\n      <th>922</th>\n      <td>$47K-$76K (Glassdoor est.)</td>\n      <td>47000.0</td>\n      <td>76000</td>\n    </tr>\n    <tr>\n      <th>20</th>\n      <td>$37K-$66K (Glassdoor est.)</td>\n      <td>37000.0</td>\n      <td>66000</td>\n    </tr>\n    <tr>\n      <th>1257</th>\n      <td>$76K-$122K (Glassdoor est.)</td>\n      <td>76000.0</td>\n      <td>122000</td>\n    </tr>\n    <tr>\n      <th>472</th>\n      <td>$43K-$69K (Glassdoor est.)</td>\n      <td>43000.0</td>\n      <td>69000</td>\n    </tr>\n    <tr>\n      <th>1797</th>\n      <td>$50K-$86K (Glassdoor est.)</td>\n      <td>50000.0</td>\n      <td>86000</td>\n    </tr>\n    <tr>\n      <th>1852</th>\n      <td>$54K-$75K (Glassdoor est.)</td>\n      <td>54000.0</td>\n      <td>75000</td>\n    </tr>\n    <tr>\n      <th>1294</th>\n      <td>$60K-$124K (Glassdoor est.)</td>\n      <td>60000.0</td>\n      <td>124000</td>\n    </tr>\n    <tr>\n      <th>1924</th>\n      <td>$99K-$178K (Glassdoor est.)</td>\n      <td>99000.0</td>\n      <td>178000</td>\n    </tr>\n    <tr>\n      <th>992</th>\n      <td>$53K-$94K (Glassdoor est.)</td>\n      <td>53000.0</td>\n      <td>94000</td>\n    </tr>\n    <tr>\n      <th>978</th>\n      <td>$53K-$94K (Glassdoor est.)</td>\n      <td>53000.0</td>\n      <td>94000</td>\n    </tr>\n    <tr>\n      <th>27</th>\n      <td>$37K-$66K (Glassdoor est.)</td>\n      <td>37000.0</td>\n      <td>66000</td>\n    </tr>\n    <tr>\n      <th>248</th>\n      <td>$45K-$88K (Glassdoor est.)</td>\n      <td>45000.0</td>\n      <td>88000</td>\n    </tr>\n    <tr>\n      <th>1801</th>\n      <td>$50K-$86K (Glassdoor est.)</td>\n      <td>50000.0</td>\n      <td>86000</td>\n    </tr>\n    <tr>\n      <th>685</th>\n      <td>$65K-$81K (Glassdoor est.)</td>\n      <td>65000.0</td>\n      <td>81000</td>\n    </tr>\n  </tbody>\n</table>\n</div>"
     },
     "execution_count": 113,
     "metadata": {},
     "output_type": "execute_result"
    }
   ],
   "source": [
    "data[['Salary Lower', 'Salary Upper']] = data['Salary Estimate'].str\\\n",
    "    .split('-', expand=True)\\\n",
    "    .replace('[a-zA-Z$.\\(\\)]', '', regex=True)\n",
    "\n",
    "data['Salary Lower'], data['Salary Upper'] = \\\n",
    "    pd.to_numeric(data['Salary Lower'], errors='coerce') * 1000,\\\n",
    "    pd.to_numeric(data['Salary Upper'], errors='coerce') * 1000\n",
    "\n",
    "data[['Salary Estimate', 'Salary Lower', 'Salary Upper']].sample(15)"
   ],
   "metadata": {
    "collapsed": false,
    "pycharm": {
     "name": "#%%\n"
    }
   }
  },
  {
   "cell_type": "markdown",
   "source": [
    "### Company Size\n",
    "\n",
    "Let's use a similar approach that already worked for the `Salary Estimate`. Here we also add two new columns: `Company Size Min`, `Company Size Max`"
   ],
   "metadata": {
    "collapsed": false
   }
  },
  {
   "cell_type": "code",
   "execution_count": 114,
   "outputs": [
    {
     "data": {
      "text/plain": "                         Size  Company Size Min  Company Size Max\n1187   1001 to 5000 employees            1001.0            5000.0\n635         1 to 50 employees               1.0              50.0\n1948      51 to 200 employees              51.0             200.0\n411    1001 to 5000 employees            1001.0            5000.0\n1641         10000+ employees           10000.0               NaN\n1868     201 to 500 employees             201.0             500.0\n321     501 to 1000 employees             501.0            1000.0\n878         1 to 50 employees               1.0              50.0\n774       51 to 200 employees              51.0             200.0\n848   5001 to 10000 employees            5001.0           10000.0\n1482   1001 to 5000 employees            1001.0            5000.0\n537    1001 to 5000 employees            1001.0            5000.0\n483         1 to 50 employees               1.0              50.0\n1472   1001 to 5000 employees            1001.0            5000.0\n1926      51 to 200 employees              51.0             200.0",
      "text/html": "<div>\n<style scoped>\n    .dataframe tbody tr th:only-of-type {\n        vertical-align: middle;\n    }\n\n    .dataframe tbody tr th {\n        vertical-align: top;\n    }\n\n    .dataframe thead th {\n        text-align: right;\n    }\n</style>\n<table border=\"1\" class=\"dataframe\">\n  <thead>\n    <tr style=\"text-align: right;\">\n      <th></th>\n      <th>Size</th>\n      <th>Company Size Min</th>\n      <th>Company Size Max</th>\n    </tr>\n  </thead>\n  <tbody>\n    <tr>\n      <th>1187</th>\n      <td>1001 to 5000 employees</td>\n      <td>1001.0</td>\n      <td>5000.0</td>\n    </tr>\n    <tr>\n      <th>635</th>\n      <td>1 to 50 employees</td>\n      <td>1.0</td>\n      <td>50.0</td>\n    </tr>\n    <tr>\n      <th>1948</th>\n      <td>51 to 200 employees</td>\n      <td>51.0</td>\n      <td>200.0</td>\n    </tr>\n    <tr>\n      <th>411</th>\n      <td>1001 to 5000 employees</td>\n      <td>1001.0</td>\n      <td>5000.0</td>\n    </tr>\n    <tr>\n      <th>1641</th>\n      <td>10000+ employees</td>\n      <td>10000.0</td>\n      <td>NaN</td>\n    </tr>\n    <tr>\n      <th>1868</th>\n      <td>201 to 500 employees</td>\n      <td>201.0</td>\n      <td>500.0</td>\n    </tr>\n    <tr>\n      <th>321</th>\n      <td>501 to 1000 employees</td>\n      <td>501.0</td>\n      <td>1000.0</td>\n    </tr>\n    <tr>\n      <th>878</th>\n      <td>1 to 50 employees</td>\n      <td>1.0</td>\n      <td>50.0</td>\n    </tr>\n    <tr>\n      <th>774</th>\n      <td>51 to 200 employees</td>\n      <td>51.0</td>\n      <td>200.0</td>\n    </tr>\n    <tr>\n      <th>848</th>\n      <td>5001 to 10000 employees</td>\n      <td>5001.0</td>\n      <td>10000.0</td>\n    </tr>\n    <tr>\n      <th>1482</th>\n      <td>1001 to 5000 employees</td>\n      <td>1001.0</td>\n      <td>5000.0</td>\n    </tr>\n    <tr>\n      <th>537</th>\n      <td>1001 to 5000 employees</td>\n      <td>1001.0</td>\n      <td>5000.0</td>\n    </tr>\n    <tr>\n      <th>483</th>\n      <td>1 to 50 employees</td>\n      <td>1.0</td>\n      <td>50.0</td>\n    </tr>\n    <tr>\n      <th>1472</th>\n      <td>1001 to 5000 employees</td>\n      <td>1001.0</td>\n      <td>5000.0</td>\n    </tr>\n    <tr>\n      <th>1926</th>\n      <td>51 to 200 employees</td>\n      <td>51.0</td>\n      <td>200.0</td>\n    </tr>\n  </tbody>\n</table>\n</div>"
     },
     "execution_count": 114,
     "metadata": {},
     "output_type": "execute_result"
    }
   ],
   "source": [
    "data[['Company Size Min', 'Company Size Max']] = data['Size'].str\\\n",
    "    .replace('[a-zA-Z+]', '', regex=True)\\\n",
    "    .str.split(expand=True)\n",
    "\n",
    "data['Company Size Min'], data['Company Size Max'] = \\\n",
    "    pd.to_numeric(data['Company Size Min'], errors='coerce'),\\\n",
    "    pd.to_numeric(data['Company Size Max'], errors='coerce')\n",
    "\n",
    "data[['Size', 'Company Size Min', 'Company Size Max']].sample(15)"
   ],
   "metadata": {
    "collapsed": false,
    "pycharm": {
     "name": "#%%\n"
    }
   }
  },
  {
   "cell_type": "markdown",
   "source": [
    "### Company Names\n",
    "\n",
    "The company rating appended to the company name has to go"
   ],
   "metadata": {
    "collapsed": false
   }
  },
  {
   "cell_type": "code",
   "execution_count": 115,
   "outputs": [
    {
     "data": {
      "text/plain": "0             Vera Institute of Justice\\n3.2\n1    Visiting Nurse Service of New York\\n3.8\n2                           Squarespace\\n3.4\n3                              Celerity\\n4.1\n4                               FanDuel\\n3.9\n5                               Point72\\n3.9\n6                             Two Sigma\\n4.4\n7               GNY Insurance Companies\\n3.7\n8                                  DMGT\\n4.0\n9                             Riskified\\n4.4\nName: Company Name, dtype: object"
     },
     "execution_count": 115,
     "metadata": {},
     "output_type": "execute_result"
    }
   ],
   "source": [
    "data['Company Name'].head(10)"
   ],
   "metadata": {
    "collapsed": false,
    "pycharm": {
     "name": "#%%\n"
    }
   }
  },
  {
   "cell_type": "markdown",
   "source": [
    "Testing the removal of the rating and newline character with the magic of regex."
   ],
   "metadata": {
    "collapsed": false
   }
  },
  {
   "cell_type": "code",
   "execution_count": 116,
   "outputs": [
    {
     "data": {
      "text/plain": "0                Vera Institute of Justice\n1       Visiting Nurse Service of New York\n2                              Squarespace\n3                                 Celerity\n4                                  FanDuel\n                       ...                \n2248                         Avacend, Inc.\n2249                     Arrow Electronics\n2250                              Spiceorb\n2251           Contingent Network Services\n2252                            SCL Health\nName: Company Name, Length: 2253, dtype: object"
     },
     "execution_count": 116,
     "metadata": {},
     "output_type": "execute_result"
    }
   ],
   "source": [
    "regex_pattern = r'(\\n)[0-9.]{3}$'\n",
    "data['Company Name'].str.replace(regex_pattern, '', regex=True)"
   ],
   "metadata": {
    "collapsed": false,
    "pycharm": {
     "name": "#%%\n"
    }
   }
  },
  {
   "cell_type": "markdown",
   "source": [
    "That worked. Make it permanent"
   ],
   "metadata": {
    "collapsed": false
   }
  },
  {
   "cell_type": "code",
   "execution_count": 117,
   "outputs": [
    {
     "data": {
      "text/plain": "   Unnamed: 0                                          Job Title  \\\n0           0  Data Analyst, Center on Immigration and Justic...   \n1           1                               Quality Data Analyst   \n2           2  Senior Data Analyst, Insights & Analytics Team...   \n3           3                                       Data Analyst   \n4           4                             Reporting Data Analyst   \n\n              Salary Estimate  \\\n0  $37K-$66K (Glassdoor est.)   \n1  $37K-$66K (Glassdoor est.)   \n2  $37K-$66K (Glassdoor est.)   \n3  $37K-$66K (Glassdoor est.)   \n4  $37K-$66K (Glassdoor est.)   \n\n                                     Job Description  Rating  \\\n0  Are you eager to roll up your sleeves and harn...     3.2   \n1  Overview\\n\\nProvides analytical and technical ...     3.8   \n2  We’re looking for a Senior Data Analyst who ha...     3.4   \n3  Requisition NumberRR-0001939\\nRemote:Yes\\nWe c...     4.1   \n4  ABOUT FANDUEL GROUP\\n\\nFanDuel Group is a worl...     3.9   \n\n                         Company Name      Location  Headquarters  \\\n0           Vera Institute of Justice  New York, NY  New York, NY   \n1  Visiting Nurse Service of New York  New York, NY  New York, NY   \n2                         Squarespace  New York, NY  New York, NY   \n3                            Celerity  New York, NY    McLean, VA   \n4                             FanDuel  New York, NY  New York, NY   \n\n                     Size  Founded  ...                          Industry  \\\n0    201 to 500 employees     1961  ...                 Social Assistance   \n1        10000+ employees     1893  ...  Health Care Services & Hospitals   \n2  1001 to 5000 employees     2003  ...                          Internet   \n3    201 to 500 employees     2002  ...                       IT Services   \n4   501 to 1000 employees     2009  ...               Sports & Recreation   \n\n                             Sector                     Revenue Competitors  \\\n0                        Non-Profit  $100 to $500 million (USD)          -1   \n1                       Health Care      $2 to $5 billion (USD)          -1   \n2            Information Technology    Unknown / Non-Applicable     GoDaddy   \n3            Information Technology   $50 to $100 million (USD)          -1   \n4  Arts, Entertainment & Recreation  $100 to $500 million (USD)  DraftKings   \n\n  Easy Apply Experience Salary Lower  Salary Upper  Company Size Min  \\\n0       True    Regular      37000.0         66000             201.0   \n1         -1    Regular      37000.0         66000           10000.0   \n2         -1     Senior      37000.0         66000            1001.0   \n3         -1    Regular      37000.0         66000             201.0   \n4       True    Regular      37000.0         66000             501.0   \n\n   Company Size Max  \n0             500.0  \n1               NaN  \n2            5000.0  \n3             500.0  \n4            1000.0  \n\n[5 rows x 21 columns]",
      "text/html": "<div>\n<style scoped>\n    .dataframe tbody tr th:only-of-type {\n        vertical-align: middle;\n    }\n\n    .dataframe tbody tr th {\n        vertical-align: top;\n    }\n\n    .dataframe thead th {\n        text-align: right;\n    }\n</style>\n<table border=\"1\" class=\"dataframe\">\n  <thead>\n    <tr style=\"text-align: right;\">\n      <th></th>\n      <th>Unnamed: 0</th>\n      <th>Job Title</th>\n      <th>Salary Estimate</th>\n      <th>Job Description</th>\n      <th>Rating</th>\n      <th>Company Name</th>\n      <th>Location</th>\n      <th>Headquarters</th>\n      <th>Size</th>\n      <th>Founded</th>\n      <th>...</th>\n      <th>Industry</th>\n      <th>Sector</th>\n      <th>Revenue</th>\n      <th>Competitors</th>\n      <th>Easy Apply</th>\n      <th>Experience</th>\n      <th>Salary Lower</th>\n      <th>Salary Upper</th>\n      <th>Company Size Min</th>\n      <th>Company Size Max</th>\n    </tr>\n  </thead>\n  <tbody>\n    <tr>\n      <th>0</th>\n      <td>0</td>\n      <td>Data Analyst, Center on Immigration and Justic...</td>\n      <td>$37K-$66K (Glassdoor est.)</td>\n      <td>Are you eager to roll up your sleeves and harn...</td>\n      <td>3.2</td>\n      <td>Vera Institute of Justice</td>\n      <td>New York, NY</td>\n      <td>New York, NY</td>\n      <td>201 to 500 employees</td>\n      <td>1961</td>\n      <td>...</td>\n      <td>Social Assistance</td>\n      <td>Non-Profit</td>\n      <td>$100 to $500 million (USD)</td>\n      <td>-1</td>\n      <td>True</td>\n      <td>Regular</td>\n      <td>37000.0</td>\n      <td>66000</td>\n      <td>201.0</td>\n      <td>500.0</td>\n    </tr>\n    <tr>\n      <th>1</th>\n      <td>1</td>\n      <td>Quality Data Analyst</td>\n      <td>$37K-$66K (Glassdoor est.)</td>\n      <td>Overview\\n\\nProvides analytical and technical ...</td>\n      <td>3.8</td>\n      <td>Visiting Nurse Service of New York</td>\n      <td>New York, NY</td>\n      <td>New York, NY</td>\n      <td>10000+ employees</td>\n      <td>1893</td>\n      <td>...</td>\n      <td>Health Care Services &amp; Hospitals</td>\n      <td>Health Care</td>\n      <td>$2 to $5 billion (USD)</td>\n      <td>-1</td>\n      <td>-1</td>\n      <td>Regular</td>\n      <td>37000.0</td>\n      <td>66000</td>\n      <td>10000.0</td>\n      <td>NaN</td>\n    </tr>\n    <tr>\n      <th>2</th>\n      <td>2</td>\n      <td>Senior Data Analyst, Insights &amp; Analytics Team...</td>\n      <td>$37K-$66K (Glassdoor est.)</td>\n      <td>We’re looking for a Senior Data Analyst who ha...</td>\n      <td>3.4</td>\n      <td>Squarespace</td>\n      <td>New York, NY</td>\n      <td>New York, NY</td>\n      <td>1001 to 5000 employees</td>\n      <td>2003</td>\n      <td>...</td>\n      <td>Internet</td>\n      <td>Information Technology</td>\n      <td>Unknown / Non-Applicable</td>\n      <td>GoDaddy</td>\n      <td>-1</td>\n      <td>Senior</td>\n      <td>37000.0</td>\n      <td>66000</td>\n      <td>1001.0</td>\n      <td>5000.0</td>\n    </tr>\n    <tr>\n      <th>3</th>\n      <td>3</td>\n      <td>Data Analyst</td>\n      <td>$37K-$66K (Glassdoor est.)</td>\n      <td>Requisition NumberRR-0001939\\nRemote:Yes\\nWe c...</td>\n      <td>4.1</td>\n      <td>Celerity</td>\n      <td>New York, NY</td>\n      <td>McLean, VA</td>\n      <td>201 to 500 employees</td>\n      <td>2002</td>\n      <td>...</td>\n      <td>IT Services</td>\n      <td>Information Technology</td>\n      <td>$50 to $100 million (USD)</td>\n      <td>-1</td>\n      <td>-1</td>\n      <td>Regular</td>\n      <td>37000.0</td>\n      <td>66000</td>\n      <td>201.0</td>\n      <td>500.0</td>\n    </tr>\n    <tr>\n      <th>4</th>\n      <td>4</td>\n      <td>Reporting Data Analyst</td>\n      <td>$37K-$66K (Glassdoor est.)</td>\n      <td>ABOUT FANDUEL GROUP\\n\\nFanDuel Group is a worl...</td>\n      <td>3.9</td>\n      <td>FanDuel</td>\n      <td>New York, NY</td>\n      <td>New York, NY</td>\n      <td>501 to 1000 employees</td>\n      <td>2009</td>\n      <td>...</td>\n      <td>Sports &amp; Recreation</td>\n      <td>Arts, Entertainment &amp; Recreation</td>\n      <td>$100 to $500 million (USD)</td>\n      <td>DraftKings</td>\n      <td>True</td>\n      <td>Regular</td>\n      <td>37000.0</td>\n      <td>66000</td>\n      <td>501.0</td>\n      <td>1000.0</td>\n    </tr>\n  </tbody>\n</table>\n<p>5 rows × 21 columns</p>\n</div>"
     },
     "execution_count": 117,
     "metadata": {},
     "output_type": "execute_result"
    }
   ],
   "source": [
    "data['Company Name'] = \\\n",
    "    data['Company Name'].str.replace(regex_pattern, '', regex=True)\n",
    "\n",
    "data.head()"
   ],
   "metadata": {
    "collapsed": false,
    "pycharm": {
     "name": "#%%\n"
    }
   }
  },
  {
   "cell_type": "markdown",
   "source": [
    "### Location latitude and longitude\n",
    "\n",
    "Let's also incorporate geocoding feature to translate the locations to latitude and longitude. This way we have more possibilities for visualization down the road."
   ],
   "metadata": {
    "collapsed": false
   }
  },
  {
   "cell_type": "code",
   "execution_count": 118,
   "outputs": [],
   "source": [
    "import requests\n",
    "\n",
    "def get_geocode(address):\n",
    "    geo_api = \"https://nominatim.openstreetmap.org/search\"\n",
    "    params = {'q': address, 'format': 'jsonv2'}\n",
    "    response = requests.get(geo_api, params=params).json()\n",
    "\n",
    "    return {'lat': response[0]['lat'], 'lng': response[0]['lon']}"
   ],
   "metadata": {
    "collapsed": false,
    "pycharm": {
     "name": "#%%\n"
    }
   }
  },
  {
   "cell_type": "markdown",
   "source": [
    "Let's test the openstreetmap API on a small section of the dataset and add two new columns `Latitude` and `Longitude`."
   ],
   "metadata": {
    "collapsed": false
   }
  },
  {
   "cell_type": "code",
   "execution_count": 119,
   "outputs": [
    {
     "data": {
      "text/plain": "               Location    Latitude     Longitude\n413        Whippany, NJ  40.8245442   -74.4170972\n584     Los Angeles, CA  34.0536909   -118.242766\n856       Deerfield, IL  42.1711365   -87.8445119\n842         Chicago, IL  41.8755616   -87.6244212\n1520      Palo Alto, CA  37.4443293  -122.1598465\n1765       Columbus, OH  39.9622601   -83.0007065\n554     Los Angeles, CA  34.0536909   -118.242766\n1946  San Francisco, CA  37.7790262   -122.419906\n531     Los Angeles, CA  34.0536909   -118.242766\n923         Houston, TX  29.7589382   -95.3676974",
      "text/html": "<div>\n<style scoped>\n    .dataframe tbody tr th:only-of-type {\n        vertical-align: middle;\n    }\n\n    .dataframe tbody tr th {\n        vertical-align: top;\n    }\n\n    .dataframe thead th {\n        text-align: right;\n    }\n</style>\n<table border=\"1\" class=\"dataframe\">\n  <thead>\n    <tr style=\"text-align: right;\">\n      <th></th>\n      <th>Location</th>\n      <th>Latitude</th>\n      <th>Longitude</th>\n    </tr>\n  </thead>\n  <tbody>\n    <tr>\n      <th>413</th>\n      <td>Whippany, NJ</td>\n      <td>40.8245442</td>\n      <td>-74.4170972</td>\n    </tr>\n    <tr>\n      <th>584</th>\n      <td>Los Angeles, CA</td>\n      <td>34.0536909</td>\n      <td>-118.242766</td>\n    </tr>\n    <tr>\n      <th>856</th>\n      <td>Deerfield, IL</td>\n      <td>42.1711365</td>\n      <td>-87.8445119</td>\n    </tr>\n    <tr>\n      <th>842</th>\n      <td>Chicago, IL</td>\n      <td>41.8755616</td>\n      <td>-87.6244212</td>\n    </tr>\n    <tr>\n      <th>1520</th>\n      <td>Palo Alto, CA</td>\n      <td>37.4443293</td>\n      <td>-122.1598465</td>\n    </tr>\n    <tr>\n      <th>1765</th>\n      <td>Columbus, OH</td>\n      <td>39.9622601</td>\n      <td>-83.0007065</td>\n    </tr>\n    <tr>\n      <th>554</th>\n      <td>Los Angeles, CA</td>\n      <td>34.0536909</td>\n      <td>-118.242766</td>\n    </tr>\n    <tr>\n      <th>1946</th>\n      <td>San Francisco, CA</td>\n      <td>37.7790262</td>\n      <td>-122.419906</td>\n    </tr>\n    <tr>\n      <th>531</th>\n      <td>Los Angeles, CA</td>\n      <td>34.0536909</td>\n      <td>-118.242766</td>\n    </tr>\n    <tr>\n      <th>923</th>\n      <td>Houston, TX</td>\n      <td>29.7589382</td>\n      <td>-95.3676974</td>\n    </tr>\n  </tbody>\n</table>\n</div>"
     },
     "execution_count": 119,
     "metadata": {},
     "output_type": "execute_result"
    }
   ],
   "source": [
    "test = data[['Location']].sample(10)\n",
    "\n",
    "test[['Latitude', 'Longitude']] = \\\n",
    "    test[['Location']].apply(get_geocode, axis=1, result_type='expand')\n",
    "\n",
    "test"
   ],
   "metadata": {
    "collapsed": false,
    "pycharm": {
     "name": "#%%\n"
    }
   }
  },
  {
   "cell_type": "markdown",
   "source": [
    "That worked just fine. Let's run it on the whole dataset. My apologies for bombarding the API :-( The resulting dataframe will be stored as a CSV file to prevent straining the API even further."
   ],
   "metadata": {
    "collapsed": false
   }
  },
  {
   "cell_type": "code",
   "execution_count": 120,
   "outputs": [
    {
     "data": {
      "text/plain": "      Unnamed: 0                                          Job Title  \\\n271          271                       ETL Developer / Data Analyst   \n33            33              Data Science Analyst, Capital Markets   \n780          780                                       Data Analyst   \n758          758                                       Data Analyst   \n1342        1342                              Business Data Analyst   \n1494        1494                                       Data Analyst   \n1231        1231                                Senior Data Analyst   \n3              3                                       Data Analyst   \n1762        1762          Data Analyst-Quality Improvement Services   \n874          874  SAS Analyst / Data Analytics /Sr. information ...   \n\n                   Salary Estimate  \\\n271     $84K-$90K (Glassdoor est.)   \n33      $46K-$87K (Glassdoor est.)   \n780     $67K-$92K (Glassdoor est.)   \n758     $73K-$82K (Glassdoor est.)   \n1342    $30K-$53K (Glassdoor est.)   \n1494  $110K-$190K (Glassdoor est.)   \n1231    $73K-$89K (Glassdoor est.)   \n3       $37K-$66K (Glassdoor est.)   \n1762    $28K-$52K (Glassdoor est.)   \n874     $68K-$87K (Glassdoor est.)   \n\n                                        Job Description  Rating  \\\n271   Leading financial firm has a fulltime opening ...     5.0   \n33    Who we are\\n\\nSoFi is a digital personal finan...     3.2   \n780   Analyze and write complex sql queries in oracl...     4.0   \n758   Job Description\\nWe are seeking a Data Analyst...     4.1   \n1342  Deep functional and technical understanding, a...     3.8   \n1494  KAYGEN is an emerging leader in providing top ...     3.9   \n1231  We have the below role open with our direct en...     3.3   \n3     Requisition NumberRR-0001939\\nRemote:Yes\\nWe c...     4.1   \n1762  OverviewJOB POSTING: Data Analyst - Quality Im...     3.7   \n874   Job description\\n\\n***************************...    -1.0   \n\n                        Company Name           Location       Headquarters  \\\n271             Blue Rock Consulting       New York, NY       Cranford, NJ   \n33                              SoFi       New York, NY  San Francisco, CA   \n780          Lorven Technologies Inc        Chicago, IL     Plainsboro, NJ   \n758              SkySource Solutions  Downers Grove, IL          Berea, OH   \n1342                   Diversant LLC         Dallas, TX       Red Bank, NJ   \n1494                     Kaygen Inc.       San Jose, CA         Irvine, CA   \n1231            Convene Technologies    San Antonio, TX          Tampa, FL   \n3                           Celerity       New York, NY         McLean, VA   \n1762  Nationwide Children's Hospital       Columbus, OH       Columbus, OH   \n874               Kbyte Systems LLC.        Chicago, IL                 -1   \n\n                        Size  Founded  ...                     Revenue  \\\n271        1 to 50 employees       -1  ...    Unknown / Non-Applicable   \n33    1001 to 5000 employees     2011  ...    Unknown / Non-Applicable   \n780        1 to 50 employees       -1  ...  Less than $1 million (USD)   \n758        1 to 50 employees     2017  ...     $5 to $10 million (USD)   \n1342  1001 to 5000 employees     2005  ...  $100 to $500 million (USD)   \n1494       1 to 50 employees       -1  ...      $1 to $5 million (USD)   \n1231     51 to 200 employees     2005  ...    Unknown / Non-Applicable   \n3       201 to 500 employees     2002  ...   $50 to $100 million (USD)   \n1762        10000+ employees     1892  ...      $1 to $2 billion (USD)   \n874                       -1       -1  ...                          -1   \n\n                                  Competitors Easy Apply Experience  \\\n271                                        -1         -1    Regular   \n33                                         -1         -1    Regular   \n780                                        -1         -1    Regular   \n758                                        -1         -1    Regular   \n1342  Kforce, Mitchell Martin, Insight Global         -1    Regular   \n1494                                       -1         -1    Regular   \n1231                                       -1         -1     Senior   \n3                                          -1         -1    Regular   \n1762                                       -1         -1    Regular   \n874                                        -1         -1     Senior   \n\n     Salary Lower Salary Upper Company Size Min  Company Size Max    Latitude  \\\n271       84000.0        90000              1.0              50.0  40.7127281   \n33        46000.0        87000           1001.0            5000.0  40.7127281   \n780       67000.0        92000              1.0              50.0  41.8755616   \n758       73000.0        82000              1.0              50.0  41.7936822   \n1342      30000.0        53000           1001.0            5000.0  32.7762719   \n1494     110000.0       190000              1.0              50.0  37.3361905   \n1231      73000.0        89000             51.0             200.0  29.4246002   \n3         37000.0        66000            201.0             500.0  40.7127281   \n1762      28000.0        52000          10000.0               NaN  39.9622601   \n874       68000.0        87000             -1.0               NaN  41.8755616   \n\n        Longitude  \n271   -74.0060152  \n33    -74.0060152  \n780   -87.6244212  \n758   -88.0102281  \n1342  -96.7968559  \n1494  -121.890583  \n1231  -98.4951405  \n3     -74.0060152  \n1762  -83.0007065  \n874   -87.6244212  \n\n[10 rows x 23 columns]",
      "text/html": "<div>\n<style scoped>\n    .dataframe tbody tr th:only-of-type {\n        vertical-align: middle;\n    }\n\n    .dataframe tbody tr th {\n        vertical-align: top;\n    }\n\n    .dataframe thead th {\n        text-align: right;\n    }\n</style>\n<table border=\"1\" class=\"dataframe\">\n  <thead>\n    <tr style=\"text-align: right;\">\n      <th></th>\n      <th>Unnamed: 0</th>\n      <th>Job Title</th>\n      <th>Salary Estimate</th>\n      <th>Job Description</th>\n      <th>Rating</th>\n      <th>Company Name</th>\n      <th>Location</th>\n      <th>Headquarters</th>\n      <th>Size</th>\n      <th>Founded</th>\n      <th>...</th>\n      <th>Revenue</th>\n      <th>Competitors</th>\n      <th>Easy Apply</th>\n      <th>Experience</th>\n      <th>Salary Lower</th>\n      <th>Salary Upper</th>\n      <th>Company Size Min</th>\n      <th>Company Size Max</th>\n      <th>Latitude</th>\n      <th>Longitude</th>\n    </tr>\n  </thead>\n  <tbody>\n    <tr>\n      <th>271</th>\n      <td>271</td>\n      <td>ETL Developer / Data Analyst</td>\n      <td>$84K-$90K (Glassdoor est.)</td>\n      <td>Leading financial firm has a fulltime opening ...</td>\n      <td>5.0</td>\n      <td>Blue Rock Consulting</td>\n      <td>New York, NY</td>\n      <td>Cranford, NJ</td>\n      <td>1 to 50 employees</td>\n      <td>-1</td>\n      <td>...</td>\n      <td>Unknown / Non-Applicable</td>\n      <td>-1</td>\n      <td>-1</td>\n      <td>Regular</td>\n      <td>84000.0</td>\n      <td>90000</td>\n      <td>1.0</td>\n      <td>50.0</td>\n      <td>40.7127281</td>\n      <td>-74.0060152</td>\n    </tr>\n    <tr>\n      <th>33</th>\n      <td>33</td>\n      <td>Data Science Analyst, Capital Markets</td>\n      <td>$46K-$87K (Glassdoor est.)</td>\n      <td>Who we are\\n\\nSoFi is a digital personal finan...</td>\n      <td>3.2</td>\n      <td>SoFi</td>\n      <td>New York, NY</td>\n      <td>San Francisco, CA</td>\n      <td>1001 to 5000 employees</td>\n      <td>2011</td>\n      <td>...</td>\n      <td>Unknown / Non-Applicable</td>\n      <td>-1</td>\n      <td>-1</td>\n      <td>Regular</td>\n      <td>46000.0</td>\n      <td>87000</td>\n      <td>1001.0</td>\n      <td>5000.0</td>\n      <td>40.7127281</td>\n      <td>-74.0060152</td>\n    </tr>\n    <tr>\n      <th>780</th>\n      <td>780</td>\n      <td>Data Analyst</td>\n      <td>$67K-$92K (Glassdoor est.)</td>\n      <td>Analyze and write complex sql queries in oracl...</td>\n      <td>4.0</td>\n      <td>Lorven Technologies Inc</td>\n      <td>Chicago, IL</td>\n      <td>Plainsboro, NJ</td>\n      <td>1 to 50 employees</td>\n      <td>-1</td>\n      <td>...</td>\n      <td>Less than $1 million (USD)</td>\n      <td>-1</td>\n      <td>-1</td>\n      <td>Regular</td>\n      <td>67000.0</td>\n      <td>92000</td>\n      <td>1.0</td>\n      <td>50.0</td>\n      <td>41.8755616</td>\n      <td>-87.6244212</td>\n    </tr>\n    <tr>\n      <th>758</th>\n      <td>758</td>\n      <td>Data Analyst</td>\n      <td>$73K-$82K (Glassdoor est.)</td>\n      <td>Job Description\\nWe are seeking a Data Analyst...</td>\n      <td>4.1</td>\n      <td>SkySource Solutions</td>\n      <td>Downers Grove, IL</td>\n      <td>Berea, OH</td>\n      <td>1 to 50 employees</td>\n      <td>2017</td>\n      <td>...</td>\n      <td>$5 to $10 million (USD)</td>\n      <td>-1</td>\n      <td>-1</td>\n      <td>Regular</td>\n      <td>73000.0</td>\n      <td>82000</td>\n      <td>1.0</td>\n      <td>50.0</td>\n      <td>41.7936822</td>\n      <td>-88.0102281</td>\n    </tr>\n    <tr>\n      <th>1342</th>\n      <td>1342</td>\n      <td>Business Data Analyst</td>\n      <td>$30K-$53K (Glassdoor est.)</td>\n      <td>Deep functional and technical understanding, a...</td>\n      <td>3.8</td>\n      <td>Diversant LLC</td>\n      <td>Dallas, TX</td>\n      <td>Red Bank, NJ</td>\n      <td>1001 to 5000 employees</td>\n      <td>2005</td>\n      <td>...</td>\n      <td>$100 to $500 million (USD)</td>\n      <td>Kforce, Mitchell Martin, Insight Global</td>\n      <td>-1</td>\n      <td>Regular</td>\n      <td>30000.0</td>\n      <td>53000</td>\n      <td>1001.0</td>\n      <td>5000.0</td>\n      <td>32.7762719</td>\n      <td>-96.7968559</td>\n    </tr>\n    <tr>\n      <th>1494</th>\n      <td>1494</td>\n      <td>Data Analyst</td>\n      <td>$110K-$190K (Glassdoor est.)</td>\n      <td>KAYGEN is an emerging leader in providing top ...</td>\n      <td>3.9</td>\n      <td>Kaygen Inc.</td>\n      <td>San Jose, CA</td>\n      <td>Irvine, CA</td>\n      <td>1 to 50 employees</td>\n      <td>-1</td>\n      <td>...</td>\n      <td>$1 to $5 million (USD)</td>\n      <td>-1</td>\n      <td>-1</td>\n      <td>Regular</td>\n      <td>110000.0</td>\n      <td>190000</td>\n      <td>1.0</td>\n      <td>50.0</td>\n      <td>37.3361905</td>\n      <td>-121.890583</td>\n    </tr>\n    <tr>\n      <th>1231</th>\n      <td>1231</td>\n      <td>Senior Data Analyst</td>\n      <td>$73K-$89K (Glassdoor est.)</td>\n      <td>We have the below role open with our direct en...</td>\n      <td>3.3</td>\n      <td>Convene Technologies</td>\n      <td>San Antonio, TX</td>\n      <td>Tampa, FL</td>\n      <td>51 to 200 employees</td>\n      <td>2005</td>\n      <td>...</td>\n      <td>Unknown / Non-Applicable</td>\n      <td>-1</td>\n      <td>-1</td>\n      <td>Senior</td>\n      <td>73000.0</td>\n      <td>89000</td>\n      <td>51.0</td>\n      <td>200.0</td>\n      <td>29.4246002</td>\n      <td>-98.4951405</td>\n    </tr>\n    <tr>\n      <th>3</th>\n      <td>3</td>\n      <td>Data Analyst</td>\n      <td>$37K-$66K (Glassdoor est.)</td>\n      <td>Requisition NumberRR-0001939\\nRemote:Yes\\nWe c...</td>\n      <td>4.1</td>\n      <td>Celerity</td>\n      <td>New York, NY</td>\n      <td>McLean, VA</td>\n      <td>201 to 500 employees</td>\n      <td>2002</td>\n      <td>...</td>\n      <td>$50 to $100 million (USD)</td>\n      <td>-1</td>\n      <td>-1</td>\n      <td>Regular</td>\n      <td>37000.0</td>\n      <td>66000</td>\n      <td>201.0</td>\n      <td>500.0</td>\n      <td>40.7127281</td>\n      <td>-74.0060152</td>\n    </tr>\n    <tr>\n      <th>1762</th>\n      <td>1762</td>\n      <td>Data Analyst-Quality Improvement Services</td>\n      <td>$28K-$52K (Glassdoor est.)</td>\n      <td>OverviewJOB POSTING: Data Analyst - Quality Im...</td>\n      <td>3.7</td>\n      <td>Nationwide Children's Hospital</td>\n      <td>Columbus, OH</td>\n      <td>Columbus, OH</td>\n      <td>10000+ employees</td>\n      <td>1892</td>\n      <td>...</td>\n      <td>$1 to $2 billion (USD)</td>\n      <td>-1</td>\n      <td>-1</td>\n      <td>Regular</td>\n      <td>28000.0</td>\n      <td>52000</td>\n      <td>10000.0</td>\n      <td>NaN</td>\n      <td>39.9622601</td>\n      <td>-83.0007065</td>\n    </tr>\n    <tr>\n      <th>874</th>\n      <td>874</td>\n      <td>SAS Analyst / Data Analytics /Sr. information ...</td>\n      <td>$68K-$87K (Glassdoor est.)</td>\n      <td>Job description\\n\\n***************************...</td>\n      <td>-1.0</td>\n      <td>Kbyte Systems LLC.</td>\n      <td>Chicago, IL</td>\n      <td>-1</td>\n      <td>-1</td>\n      <td>-1</td>\n      <td>...</td>\n      <td>-1</td>\n      <td>-1</td>\n      <td>-1</td>\n      <td>Senior</td>\n      <td>68000.0</td>\n      <td>87000</td>\n      <td>-1.0</td>\n      <td>NaN</td>\n      <td>41.8755616</td>\n      <td>-87.6244212</td>\n    </tr>\n  </tbody>\n</table>\n<p>10 rows × 23 columns</p>\n</div>"
     },
     "execution_count": 120,
     "metadata": {},
     "output_type": "execute_result"
    }
   ],
   "source": [
    "data[['Latitude', 'Longitude']] = \\\n",
    "    data[['Location']].apply(get_geocode, axis=1, result_type='expand')\n",
    "\n",
    "data.sample(10)"
   ],
   "metadata": {
    "collapsed": false,
    "pycharm": {
     "name": "#%%\n"
    }
   }
  },
  {
   "cell_type": "markdown",
   "source": [
    "### Deleting Columns\n",
    "\n",
    "Some columns have to go to remove irrelevant information and remove some garbage data."
   ],
   "metadata": {
    "collapsed": false
   }
  },
  {
   "cell_type": "code",
   "execution_count": 121,
   "outputs": [],
   "source": [
    "data = data.drop(columns=['Unnamed: 0', 'Easy Apply', 'Competitors',\n",
    "                          'Headquarters', 'Founded', 'Type of ownership',\n",
    "                          'Sector', 'Revenue', 'Industry', 'Salary Estimate', 'Size'])"
   ],
   "metadata": {
    "collapsed": false,
    "pycharm": {
     "name": "#%%\n"
    }
   }
  },
  {
   "cell_type": "markdown",
   "source": [],
   "metadata": {
    "collapsed": false
   }
  },
  {
   "cell_type": "code",
   "execution_count": 122,
   "outputs": [
    {
     "data": {
      "text/plain": "                                            Job Title Experience  \\\n0   Data Analyst, Center on Immigration and Justic...    Regular   \n1                                Quality Data Analyst    Regular   \n2   Senior Data Analyst, Insights & Analytics Team...     Senior   \n3                                        Data Analyst    Regular   \n4                              Reporting Data Analyst    Regular   \n5                                        Data Analyst    Regular   \n6                        Business/Data Analyst (FP&A)    Regular   \n7                                Data Science Analyst    Regular   \n8                                        Data Analyst    Regular   \n9                       Data Analyst, Merchant Health    Regular   \n10                                       Data Analyst    Regular   \n11                                       Data Analyst    Regular   \n12                                       DATA ANALYST    Regular   \n13                                Senior Data Analyst     Senior   \n14                   Investment Advisory Data Analyst    Regular   \n15                        Sustainability Data Analyst    Regular   \n16                                       Data Analyst    Regular   \n17                              Clinical Data Analyst    Regular   \n18                            DATA PROGRAMMER/ANALYST    Regular   \n19                                       Data Analyst    Regular   \n20                      Product Analyst, Data Science    Regular   \n21                               Data Science Analyst    Regular   \n22                     Data Analyst - Intex Developer    Regular   \n23                                       Data Analyst    Regular   \n24                     Entry Level / Jr. Data Analyst     Junior   \n\n    Salary Lower  Salary Upper  \\\n0        37000.0         66000   \n1        37000.0         66000   \n2        37000.0         66000   \n3        37000.0         66000   \n4        37000.0         66000   \n5        37000.0         66000   \n6        37000.0         66000   \n7        37000.0         66000   \n8        37000.0         66000   \n9        37000.0         66000   \n10       37000.0         66000   \n11       37000.0         66000   \n12       37000.0         66000   \n13       37000.0         66000   \n14       37000.0         66000   \n15       37000.0         66000   \n16       37000.0         66000   \n17       37000.0         66000   \n18       37000.0         66000   \n19       37000.0         66000   \n20       37000.0         66000   \n21       37000.0         66000   \n22       37000.0         66000   \n23       37000.0         66000   \n24       37000.0         66000   \n\n                                      Job Description  \\\n0   Are you eager to roll up your sleeves and harn...   \n1   Overview\\n\\nProvides analytical and technical ...   \n2   We’re looking for a Senior Data Analyst who ha...   \n3   Requisition NumberRR-0001939\\nRemote:Yes\\nWe c...   \n4   ABOUT FANDUEL GROUP\\n\\nFanDuel Group is a worl...   \n5   About Cubist\\nCubist Systematic Strategies is ...   \n6   Two Sigma is a different kind of investment ma...   \n7   Data Science Analyst\\n\\nJob Details\\nLevel\\nEx...   \n8   The Data Analyst is an integral member of the ...   \n9   About Us\\n\\nRiskified is the AI platform power...   \n10  NYU Grossman School of Medicine is one of the ...   \n11  BulbHead is currently seeking a Data Analyst t...   \n12  Job Summary:\\n\\nThe Clinical Research Data Ana...   \n13  About Known\\n\\nKnown is a modern marketing com...   \n14  Investment Advisory Compliance Opportunity in ...   \n15  Job Description\\nRole Description\\n\\nSustainab...   \n16  Undertone stands alone among AdTech and ad net...   \n17  About Us:\\n\\nNYSTEC is a non-profit technology...   \n18  Company Description\\n\\nEDUCATION DEVELOPMENT C...   \n19  About Us\\n\\nAt Teachers Pay Teachers (TpT), we...   \n20  Note: By applying to this position your applic...   \n21  Job Description\\nOur client, a music streaming...   \n22  Data Analyst - Intex Developer\\n\\n\\nNew York\\n...   \n23  Haven Life is an insurtech innovator at MassMu...   \n24  Dash Technologies is an industry leading softw...   \n\n                          Company Name  Rating         Location    Latitude  \\\n0            Vera Institute of Justice     3.2     New York, NY  40.7127281   \n1   Visiting Nurse Service of New York     3.8     New York, NY  40.7127281   \n2                          Squarespace     3.4     New York, NY  40.7127281   \n3                             Celerity     4.1     New York, NY  40.7127281   \n4                              FanDuel     3.9     New York, NY  40.7127281   \n5                              Point72     3.9     New York, NY  40.7127281   \n6                            Two Sigma     4.4     New York, NY  40.7127281   \n7              GNY Insurance Companies     3.7     New York, NY  40.7127281   \n8                                 DMGT     4.0     New York, NY  40.7127281   \n9                            Riskified     4.4     New York, NY  40.7127281   \n10                  NYU Langone Health     4.0     New York, NY  40.7127281   \n11                            BulbHead    -1.0    Fairfield, NJ  40.2050878   \n12                  Montefiore Medical     3.7     New York, NY  40.7127281   \n13                               Known     3.0     New York, NY  40.7127281   \n14                       Advisor Group     3.4  Jersey City, NJ  40.7215682   \n15                 CodeGreen Solutions     3.6     New York, NY  40.7127281   \n16                           Undertone     3.8     New York, NY  40.7127281   \n17                              NYSTEC     3.8     New York, NY  40.7127281   \n18  Education Development Center, Inc.     3.9     New York, NY  40.7127281   \n19               Teachers Pay Teachers     4.9     New York, NY  40.7127281   \n20                              Google     4.4     New York, NY  40.7127281   \n21               MUSIC & Entertainment    -1.0     New York, NY  40.7127281   \n22                     Macquarie Group     3.3     New York, NY  40.7127281   \n23                             Andiamo     3.5     New York, NY  40.7127281   \n24               Dash Technologies Inc     3.8     New York, NY  40.7127281   \n\n      Longitude  Company Size Min  Company Size Max  \n0   -74.0060152             201.0             500.0  \n1   -74.0060152           10000.0               NaN  \n2   -74.0060152            1001.0            5000.0  \n3   -74.0060152             201.0             500.0  \n4   -74.0060152             501.0            1000.0  \n5   -74.0060152            1001.0            5000.0  \n6   -74.0060152            1001.0            5000.0  \n7   -74.0060152             201.0             500.0  \n8   -74.0060152            5001.0           10000.0  \n9   -74.0060152             501.0            1000.0  \n10  -74.0060152           10000.0               NaN  \n11  -74.2135004               1.0              50.0  \n12  -74.0060152           10000.0               NaN  \n13  -74.0060152             201.0             500.0  \n14   -74.047455            1001.0            5000.0  \n15  -74.0060152               1.0              50.0  \n16  -74.0060152             201.0             500.0  \n17  -74.0060152              51.0             200.0  \n18  -74.0060152             501.0            1000.0  \n19  -74.0060152              51.0             200.0  \n20  -74.0060152           10000.0               NaN  \n21  -74.0060152               NaN               NaN  \n22  -74.0060152           10000.0               NaN  \n23  -74.0060152             201.0             500.0  \n24  -74.0060152               1.0              50.0  ",
      "text/html": "<div>\n<style scoped>\n    .dataframe tbody tr th:only-of-type {\n        vertical-align: middle;\n    }\n\n    .dataframe tbody tr th {\n        vertical-align: top;\n    }\n\n    .dataframe thead th {\n        text-align: right;\n    }\n</style>\n<table border=\"1\" class=\"dataframe\">\n  <thead>\n    <tr style=\"text-align: right;\">\n      <th></th>\n      <th>Job Title</th>\n      <th>Experience</th>\n      <th>Salary Lower</th>\n      <th>Salary Upper</th>\n      <th>Job Description</th>\n      <th>Company Name</th>\n      <th>Rating</th>\n      <th>Location</th>\n      <th>Latitude</th>\n      <th>Longitude</th>\n      <th>Company Size Min</th>\n      <th>Company Size Max</th>\n    </tr>\n  </thead>\n  <tbody>\n    <tr>\n      <th>0</th>\n      <td>Data Analyst, Center on Immigration and Justic...</td>\n      <td>Regular</td>\n      <td>37000.0</td>\n      <td>66000</td>\n      <td>Are you eager to roll up your sleeves and harn...</td>\n      <td>Vera Institute of Justice</td>\n      <td>3.2</td>\n      <td>New York, NY</td>\n      <td>40.7127281</td>\n      <td>-74.0060152</td>\n      <td>201.0</td>\n      <td>500.0</td>\n    </tr>\n    <tr>\n      <th>1</th>\n      <td>Quality Data Analyst</td>\n      <td>Regular</td>\n      <td>37000.0</td>\n      <td>66000</td>\n      <td>Overview\\n\\nProvides analytical and technical ...</td>\n      <td>Visiting Nurse Service of New York</td>\n      <td>3.8</td>\n      <td>New York, NY</td>\n      <td>40.7127281</td>\n      <td>-74.0060152</td>\n      <td>10000.0</td>\n      <td>NaN</td>\n    </tr>\n    <tr>\n      <th>2</th>\n      <td>Senior Data Analyst, Insights &amp; Analytics Team...</td>\n      <td>Senior</td>\n      <td>37000.0</td>\n      <td>66000</td>\n      <td>We’re looking for a Senior Data Analyst who ha...</td>\n      <td>Squarespace</td>\n      <td>3.4</td>\n      <td>New York, NY</td>\n      <td>40.7127281</td>\n      <td>-74.0060152</td>\n      <td>1001.0</td>\n      <td>5000.0</td>\n    </tr>\n    <tr>\n      <th>3</th>\n      <td>Data Analyst</td>\n      <td>Regular</td>\n      <td>37000.0</td>\n      <td>66000</td>\n      <td>Requisition NumberRR-0001939\\nRemote:Yes\\nWe c...</td>\n      <td>Celerity</td>\n      <td>4.1</td>\n      <td>New York, NY</td>\n      <td>40.7127281</td>\n      <td>-74.0060152</td>\n      <td>201.0</td>\n      <td>500.0</td>\n    </tr>\n    <tr>\n      <th>4</th>\n      <td>Reporting Data Analyst</td>\n      <td>Regular</td>\n      <td>37000.0</td>\n      <td>66000</td>\n      <td>ABOUT FANDUEL GROUP\\n\\nFanDuel Group is a worl...</td>\n      <td>FanDuel</td>\n      <td>3.9</td>\n      <td>New York, NY</td>\n      <td>40.7127281</td>\n      <td>-74.0060152</td>\n      <td>501.0</td>\n      <td>1000.0</td>\n    </tr>\n    <tr>\n      <th>5</th>\n      <td>Data Analyst</td>\n      <td>Regular</td>\n      <td>37000.0</td>\n      <td>66000</td>\n      <td>About Cubist\\nCubist Systematic Strategies is ...</td>\n      <td>Point72</td>\n      <td>3.9</td>\n      <td>New York, NY</td>\n      <td>40.7127281</td>\n      <td>-74.0060152</td>\n      <td>1001.0</td>\n      <td>5000.0</td>\n    </tr>\n    <tr>\n      <th>6</th>\n      <td>Business/Data Analyst (FP&amp;A)</td>\n      <td>Regular</td>\n      <td>37000.0</td>\n      <td>66000</td>\n      <td>Two Sigma is a different kind of investment ma...</td>\n      <td>Two Sigma</td>\n      <td>4.4</td>\n      <td>New York, NY</td>\n      <td>40.7127281</td>\n      <td>-74.0060152</td>\n      <td>1001.0</td>\n      <td>5000.0</td>\n    </tr>\n    <tr>\n      <th>7</th>\n      <td>Data Science Analyst</td>\n      <td>Regular</td>\n      <td>37000.0</td>\n      <td>66000</td>\n      <td>Data Science Analyst\\n\\nJob Details\\nLevel\\nEx...</td>\n      <td>GNY Insurance Companies</td>\n      <td>3.7</td>\n      <td>New York, NY</td>\n      <td>40.7127281</td>\n      <td>-74.0060152</td>\n      <td>201.0</td>\n      <td>500.0</td>\n    </tr>\n    <tr>\n      <th>8</th>\n      <td>Data Analyst</td>\n      <td>Regular</td>\n      <td>37000.0</td>\n      <td>66000</td>\n      <td>The Data Analyst is an integral member of the ...</td>\n      <td>DMGT</td>\n      <td>4.0</td>\n      <td>New York, NY</td>\n      <td>40.7127281</td>\n      <td>-74.0060152</td>\n      <td>5001.0</td>\n      <td>10000.0</td>\n    </tr>\n    <tr>\n      <th>9</th>\n      <td>Data Analyst, Merchant Health</td>\n      <td>Regular</td>\n      <td>37000.0</td>\n      <td>66000</td>\n      <td>About Us\\n\\nRiskified is the AI platform power...</td>\n      <td>Riskified</td>\n      <td>4.4</td>\n      <td>New York, NY</td>\n      <td>40.7127281</td>\n      <td>-74.0060152</td>\n      <td>501.0</td>\n      <td>1000.0</td>\n    </tr>\n    <tr>\n      <th>10</th>\n      <td>Data Analyst</td>\n      <td>Regular</td>\n      <td>37000.0</td>\n      <td>66000</td>\n      <td>NYU Grossman School of Medicine is one of the ...</td>\n      <td>NYU Langone Health</td>\n      <td>4.0</td>\n      <td>New York, NY</td>\n      <td>40.7127281</td>\n      <td>-74.0060152</td>\n      <td>10000.0</td>\n      <td>NaN</td>\n    </tr>\n    <tr>\n      <th>11</th>\n      <td>Data Analyst</td>\n      <td>Regular</td>\n      <td>37000.0</td>\n      <td>66000</td>\n      <td>BulbHead is currently seeking a Data Analyst t...</td>\n      <td>BulbHead</td>\n      <td>-1.0</td>\n      <td>Fairfield, NJ</td>\n      <td>40.2050878</td>\n      <td>-74.2135004</td>\n      <td>1.0</td>\n      <td>50.0</td>\n    </tr>\n    <tr>\n      <th>12</th>\n      <td>DATA ANALYST</td>\n      <td>Regular</td>\n      <td>37000.0</td>\n      <td>66000</td>\n      <td>Job Summary:\\n\\nThe Clinical Research Data Ana...</td>\n      <td>Montefiore Medical</td>\n      <td>3.7</td>\n      <td>New York, NY</td>\n      <td>40.7127281</td>\n      <td>-74.0060152</td>\n      <td>10000.0</td>\n      <td>NaN</td>\n    </tr>\n    <tr>\n      <th>13</th>\n      <td>Senior Data Analyst</td>\n      <td>Senior</td>\n      <td>37000.0</td>\n      <td>66000</td>\n      <td>About Known\\n\\nKnown is a modern marketing com...</td>\n      <td>Known</td>\n      <td>3.0</td>\n      <td>New York, NY</td>\n      <td>40.7127281</td>\n      <td>-74.0060152</td>\n      <td>201.0</td>\n      <td>500.0</td>\n    </tr>\n    <tr>\n      <th>14</th>\n      <td>Investment Advisory Data Analyst</td>\n      <td>Regular</td>\n      <td>37000.0</td>\n      <td>66000</td>\n      <td>Investment Advisory Compliance Opportunity in ...</td>\n      <td>Advisor Group</td>\n      <td>3.4</td>\n      <td>Jersey City, NJ</td>\n      <td>40.7215682</td>\n      <td>-74.047455</td>\n      <td>1001.0</td>\n      <td>5000.0</td>\n    </tr>\n    <tr>\n      <th>15</th>\n      <td>Sustainability Data Analyst</td>\n      <td>Regular</td>\n      <td>37000.0</td>\n      <td>66000</td>\n      <td>Job Description\\nRole Description\\n\\nSustainab...</td>\n      <td>CodeGreen Solutions</td>\n      <td>3.6</td>\n      <td>New York, NY</td>\n      <td>40.7127281</td>\n      <td>-74.0060152</td>\n      <td>1.0</td>\n      <td>50.0</td>\n    </tr>\n    <tr>\n      <th>16</th>\n      <td>Data Analyst</td>\n      <td>Regular</td>\n      <td>37000.0</td>\n      <td>66000</td>\n      <td>Undertone stands alone among AdTech and ad net...</td>\n      <td>Undertone</td>\n      <td>3.8</td>\n      <td>New York, NY</td>\n      <td>40.7127281</td>\n      <td>-74.0060152</td>\n      <td>201.0</td>\n      <td>500.0</td>\n    </tr>\n    <tr>\n      <th>17</th>\n      <td>Clinical Data Analyst</td>\n      <td>Regular</td>\n      <td>37000.0</td>\n      <td>66000</td>\n      <td>About Us:\\n\\nNYSTEC is a non-profit technology...</td>\n      <td>NYSTEC</td>\n      <td>3.8</td>\n      <td>New York, NY</td>\n      <td>40.7127281</td>\n      <td>-74.0060152</td>\n      <td>51.0</td>\n      <td>200.0</td>\n    </tr>\n    <tr>\n      <th>18</th>\n      <td>DATA PROGRAMMER/ANALYST</td>\n      <td>Regular</td>\n      <td>37000.0</td>\n      <td>66000</td>\n      <td>Company Description\\n\\nEDUCATION DEVELOPMENT C...</td>\n      <td>Education Development Center, Inc.</td>\n      <td>3.9</td>\n      <td>New York, NY</td>\n      <td>40.7127281</td>\n      <td>-74.0060152</td>\n      <td>501.0</td>\n      <td>1000.0</td>\n    </tr>\n    <tr>\n      <th>19</th>\n      <td>Data Analyst</td>\n      <td>Regular</td>\n      <td>37000.0</td>\n      <td>66000</td>\n      <td>About Us\\n\\nAt Teachers Pay Teachers (TpT), we...</td>\n      <td>Teachers Pay Teachers</td>\n      <td>4.9</td>\n      <td>New York, NY</td>\n      <td>40.7127281</td>\n      <td>-74.0060152</td>\n      <td>51.0</td>\n      <td>200.0</td>\n    </tr>\n    <tr>\n      <th>20</th>\n      <td>Product Analyst, Data Science</td>\n      <td>Regular</td>\n      <td>37000.0</td>\n      <td>66000</td>\n      <td>Note: By applying to this position your applic...</td>\n      <td>Google</td>\n      <td>4.4</td>\n      <td>New York, NY</td>\n      <td>40.7127281</td>\n      <td>-74.0060152</td>\n      <td>10000.0</td>\n      <td>NaN</td>\n    </tr>\n    <tr>\n      <th>21</th>\n      <td>Data Science Analyst</td>\n      <td>Regular</td>\n      <td>37000.0</td>\n      <td>66000</td>\n      <td>Job Description\\nOur client, a music streaming...</td>\n      <td>MUSIC &amp; Entertainment</td>\n      <td>-1.0</td>\n      <td>New York, NY</td>\n      <td>40.7127281</td>\n      <td>-74.0060152</td>\n      <td>NaN</td>\n      <td>NaN</td>\n    </tr>\n    <tr>\n      <th>22</th>\n      <td>Data Analyst - Intex Developer</td>\n      <td>Regular</td>\n      <td>37000.0</td>\n      <td>66000</td>\n      <td>Data Analyst - Intex Developer\\n\\n\\nNew York\\n...</td>\n      <td>Macquarie Group</td>\n      <td>3.3</td>\n      <td>New York, NY</td>\n      <td>40.7127281</td>\n      <td>-74.0060152</td>\n      <td>10000.0</td>\n      <td>NaN</td>\n    </tr>\n    <tr>\n      <th>23</th>\n      <td>Data Analyst</td>\n      <td>Regular</td>\n      <td>37000.0</td>\n      <td>66000</td>\n      <td>Haven Life is an insurtech innovator at MassMu...</td>\n      <td>Andiamo</td>\n      <td>3.5</td>\n      <td>New York, NY</td>\n      <td>40.7127281</td>\n      <td>-74.0060152</td>\n      <td>201.0</td>\n      <td>500.0</td>\n    </tr>\n    <tr>\n      <th>24</th>\n      <td>Entry Level / Jr. Data Analyst</td>\n      <td>Junior</td>\n      <td>37000.0</td>\n      <td>66000</td>\n      <td>Dash Technologies is an industry leading softw...</td>\n      <td>Dash Technologies Inc</td>\n      <td>3.8</td>\n      <td>New York, NY</td>\n      <td>40.7127281</td>\n      <td>-74.0060152</td>\n      <td>1.0</td>\n      <td>50.0</td>\n    </tr>\n  </tbody>\n</table>\n</div>"
     },
     "execution_count": 122,
     "metadata": {},
     "output_type": "execute_result"
    }
   ],
   "source": [
    "data = data[['Job Title', 'Experience', 'Salary Lower', 'Salary Upper',\n",
    "             'Job Description', 'Company Name', 'Rating', 'Location',\n",
    "             'Latitude', 'Longitude', 'Company Size Min', 'Company Size Max']]\n",
    "\n",
    "data.head(25)"
   ],
   "metadata": {
    "collapsed": false,
    "pycharm": {
     "name": "#%%\n"
    }
   }
  },
  {
   "cell_type": "markdown",
   "source": [
    "### Garbage Values\n",
    "\n",
    "Now the garbage has to go or be replaced in a meaningful way. Checking for null data first."
   ],
   "metadata": {
    "collapsed": false
   }
  },
  {
   "cell_type": "code",
   "execution_count": 123,
   "outputs": [
    {
     "data": {
      "text/plain": "Job Title             0\nExperience            0\nSalary Lower          1\nSalary Upper          0\nJob Description       0\nCompany Name          1\nRating                0\nLocation              0\nLatitude              0\nLongitude             0\nCompany Size Min     42\nCompany Size Max    580\ndtype: int64"
     },
     "execution_count": 123,
     "metadata": {},
     "output_type": "execute_result"
    }
   ],
   "source": [
    "data.isnull().sum()"
   ],
   "metadata": {
    "collapsed": false,
    "pycharm": {
     "name": "#%%\n"
    }
   }
  },
  {
   "cell_type": "code",
   "execution_count": 124,
   "outputs": [
    {
     "data": {
      "text/plain": "                                              Job Title Experience  \\\n11                                         Data Analyst    Regular   \n21                                 Data Science Analyst    Regular   \n34                                 Data Analyst (Games)    Regular   \n36                                Data Business Analyst    Regular   \n40                     Business Analyst, Data Platforms    Regular   \n...                                                 ...        ...   \n2200                                       Data Analyst    Regular   \n2202                             Financial Data Analyst    Regular   \n2239                       Senior Contract Data Analyst     Senior   \n2246  Technical Business Analyst (SQL, Data analytic...    Regular   \n2250  Technical Business Analyst (SQL, Data analytic...    Regular   \n\n      Salary Lower  Salary Upper  \\\n11         37000.0         66000   \n21         37000.0         66000   \n34         46000.0         87000   \n36         46000.0         87000   \n40         46000.0         87000   \n...            ...           ...   \n2200       49000.0         91000   \n2202       49000.0         91000   \n2239       78000.0        104000   \n2246       78000.0        104000   \n2250       78000.0        104000   \n\n                                        Job Description  \\\n11    BulbHead is currently seeking a Data Analyst t...   \n21    Job Description\\nOur client, a music streaming...   \n34    Carry1st is the leading mobile game publisher ...   \n36    At Clear Street, we are disrupting the institu...   \n40    Company Description\\n\\nPinto is building the w...   \n...                                                 ...   \n2200  Role Data Analyst Duration12+ months Location ...   \n2202  Position:Financial Data AnalystJob Description...   \n2239  OverviewAmyx is seeking to hire a Senior Contr...   \n2246  Spiceorb is looking for Technical Business Ana...   \n2250  Title: Technical Business Analyst (SQL, Data a...   \n\n                                     Company Name  Rating        Location  \\\n11                                       BulbHead    -1.0   Fairfield, NJ   \n21                          MUSIC & Entertainment    -1.0    New York, NY   \n34                                       Carry1st    -1.0    New York, NY   \n36                                   Clear Street    -1.0    New York, NY   \n40                                          Pinto    -1.0    New York, NY   \n...                                           ...     ...             ...   \n2200    TechAspect Solutions, Inc. dba TA Digital    -1.0  Centennial, CO   \n2202  Black Knight Financial Technology Solutions    -1.0      Denver, CO   \n2239                                  Amyx, Iinc.    -1.0      Aurora, CO   \n2246                                     Spiceorb    -1.0      Denver, CO   \n2250                                     Spiceorb    -1.0      Denver, CO   \n\n        Latitude     Longitude  Company Size Min  Company Size Max  \n11    40.2050878   -74.2135004               1.0              50.0  \n21    40.7127281   -74.0060152               NaN               NaN  \n34    40.7127281   -74.0060152              -1.0               NaN  \n36    40.7127281   -74.0060152              51.0             200.0  \n40    40.7127281   -74.0060152               1.0              50.0  \n...          ...           ...               ...               ...  \n2200   39.579155  -104.8769227              -1.0               NaN  \n2202  39.7392364  -104.9848623              -1.0               NaN  \n2239  41.7571701   -88.3147539              -1.0               NaN  \n2246  39.7392364  -104.9848623              -1.0               NaN  \n2250  39.7392364  -104.9848623              -1.0               NaN  \n\n[272 rows x 12 columns]",
      "text/html": "<div>\n<style scoped>\n    .dataframe tbody tr th:only-of-type {\n        vertical-align: middle;\n    }\n\n    .dataframe tbody tr th {\n        vertical-align: top;\n    }\n\n    .dataframe thead th {\n        text-align: right;\n    }\n</style>\n<table border=\"1\" class=\"dataframe\">\n  <thead>\n    <tr style=\"text-align: right;\">\n      <th></th>\n      <th>Job Title</th>\n      <th>Experience</th>\n      <th>Salary Lower</th>\n      <th>Salary Upper</th>\n      <th>Job Description</th>\n      <th>Company Name</th>\n      <th>Rating</th>\n      <th>Location</th>\n      <th>Latitude</th>\n      <th>Longitude</th>\n      <th>Company Size Min</th>\n      <th>Company Size Max</th>\n    </tr>\n  </thead>\n  <tbody>\n    <tr>\n      <th>11</th>\n      <td>Data Analyst</td>\n      <td>Regular</td>\n      <td>37000.0</td>\n      <td>66000</td>\n      <td>BulbHead is currently seeking a Data Analyst t...</td>\n      <td>BulbHead</td>\n      <td>-1.0</td>\n      <td>Fairfield, NJ</td>\n      <td>40.2050878</td>\n      <td>-74.2135004</td>\n      <td>1.0</td>\n      <td>50.0</td>\n    </tr>\n    <tr>\n      <th>21</th>\n      <td>Data Science Analyst</td>\n      <td>Regular</td>\n      <td>37000.0</td>\n      <td>66000</td>\n      <td>Job Description\\nOur client, a music streaming...</td>\n      <td>MUSIC &amp; Entertainment</td>\n      <td>-1.0</td>\n      <td>New York, NY</td>\n      <td>40.7127281</td>\n      <td>-74.0060152</td>\n      <td>NaN</td>\n      <td>NaN</td>\n    </tr>\n    <tr>\n      <th>34</th>\n      <td>Data Analyst (Games)</td>\n      <td>Regular</td>\n      <td>46000.0</td>\n      <td>87000</td>\n      <td>Carry1st is the leading mobile game publisher ...</td>\n      <td>Carry1st</td>\n      <td>-1.0</td>\n      <td>New York, NY</td>\n      <td>40.7127281</td>\n      <td>-74.0060152</td>\n      <td>-1.0</td>\n      <td>NaN</td>\n    </tr>\n    <tr>\n      <th>36</th>\n      <td>Data Business Analyst</td>\n      <td>Regular</td>\n      <td>46000.0</td>\n      <td>87000</td>\n      <td>At Clear Street, we are disrupting the institu...</td>\n      <td>Clear Street</td>\n      <td>-1.0</td>\n      <td>New York, NY</td>\n      <td>40.7127281</td>\n      <td>-74.0060152</td>\n      <td>51.0</td>\n      <td>200.0</td>\n    </tr>\n    <tr>\n      <th>40</th>\n      <td>Business Analyst, Data Platforms</td>\n      <td>Regular</td>\n      <td>46000.0</td>\n      <td>87000</td>\n      <td>Company Description\\n\\nPinto is building the w...</td>\n      <td>Pinto</td>\n      <td>-1.0</td>\n      <td>New York, NY</td>\n      <td>40.7127281</td>\n      <td>-74.0060152</td>\n      <td>1.0</td>\n      <td>50.0</td>\n    </tr>\n    <tr>\n      <th>...</th>\n      <td>...</td>\n      <td>...</td>\n      <td>...</td>\n      <td>...</td>\n      <td>...</td>\n      <td>...</td>\n      <td>...</td>\n      <td>...</td>\n      <td>...</td>\n      <td>...</td>\n      <td>...</td>\n      <td>...</td>\n    </tr>\n    <tr>\n      <th>2200</th>\n      <td>Data Analyst</td>\n      <td>Regular</td>\n      <td>49000.0</td>\n      <td>91000</td>\n      <td>Role Data Analyst Duration12+ months Location ...</td>\n      <td>TechAspect Solutions, Inc. dba TA Digital</td>\n      <td>-1.0</td>\n      <td>Centennial, CO</td>\n      <td>39.579155</td>\n      <td>-104.8769227</td>\n      <td>-1.0</td>\n      <td>NaN</td>\n    </tr>\n    <tr>\n      <th>2202</th>\n      <td>Financial Data Analyst</td>\n      <td>Regular</td>\n      <td>49000.0</td>\n      <td>91000</td>\n      <td>Position:Financial Data AnalystJob Description...</td>\n      <td>Black Knight Financial Technology Solutions</td>\n      <td>-1.0</td>\n      <td>Denver, CO</td>\n      <td>39.7392364</td>\n      <td>-104.9848623</td>\n      <td>-1.0</td>\n      <td>NaN</td>\n    </tr>\n    <tr>\n      <th>2239</th>\n      <td>Senior Contract Data Analyst</td>\n      <td>Senior</td>\n      <td>78000.0</td>\n      <td>104000</td>\n      <td>OverviewAmyx is seeking to hire a Senior Contr...</td>\n      <td>Amyx, Iinc.</td>\n      <td>-1.0</td>\n      <td>Aurora, CO</td>\n      <td>41.7571701</td>\n      <td>-88.3147539</td>\n      <td>-1.0</td>\n      <td>NaN</td>\n    </tr>\n    <tr>\n      <th>2246</th>\n      <td>Technical Business Analyst (SQL, Data analytic...</td>\n      <td>Regular</td>\n      <td>78000.0</td>\n      <td>104000</td>\n      <td>Spiceorb is looking for Technical Business Ana...</td>\n      <td>Spiceorb</td>\n      <td>-1.0</td>\n      <td>Denver, CO</td>\n      <td>39.7392364</td>\n      <td>-104.9848623</td>\n      <td>-1.0</td>\n      <td>NaN</td>\n    </tr>\n    <tr>\n      <th>2250</th>\n      <td>Technical Business Analyst (SQL, Data analytic...</td>\n      <td>Regular</td>\n      <td>78000.0</td>\n      <td>104000</td>\n      <td>Title: Technical Business Analyst (SQL, Data a...</td>\n      <td>Spiceorb</td>\n      <td>-1.0</td>\n      <td>Denver, CO</td>\n      <td>39.7392364</td>\n      <td>-104.9848623</td>\n      <td>-1.0</td>\n      <td>NaN</td>\n    </tr>\n  </tbody>\n</table>\n<p>272 rows × 12 columns</p>\n</div>"
     },
     "execution_count": 124,
     "metadata": {},
     "output_type": "execute_result"
    }
   ],
   "source": [
    "data[data.isin([-1]).any(axis=1)]"
   ],
   "metadata": {
    "collapsed": false,
    "pycharm": {
     "name": "#%%\n"
    }
   }
  },
  {
   "cell_type": "code",
   "execution_count": 125,
   "outputs": [
    {
     "data": {
      "text/plain": "Empty DataFrame\nColumns: [Job Title, Experience, Salary Lower, Salary Upper, Job Description, Company Name, Rating, Location, Latitude, Longitude, Company Size Min, Company Size Max]\nIndex: []",
      "text/html": "<div>\n<style scoped>\n    .dataframe tbody tr th:only-of-type {\n        vertical-align: middle;\n    }\n\n    .dataframe tbody tr th {\n        vertical-align: top;\n    }\n\n    .dataframe thead th {\n        text-align: right;\n    }\n</style>\n<table border=\"1\" class=\"dataframe\">\n  <thead>\n    <tr style=\"text-align: right;\">\n      <th></th>\n      <th>Job Title</th>\n      <th>Experience</th>\n      <th>Salary Lower</th>\n      <th>Salary Upper</th>\n      <th>Job Description</th>\n      <th>Company Name</th>\n      <th>Rating</th>\n      <th>Location</th>\n      <th>Latitude</th>\n      <th>Longitude</th>\n      <th>Company Size Min</th>\n      <th>Company Size Max</th>\n    </tr>\n  </thead>\n  <tbody>\n  </tbody>\n</table>\n</div>"
     },
     "execution_count": 125,
     "metadata": {},
     "output_type": "execute_result"
    }
   ],
   "source": [
    "data[data.isin(['-1]']).any(axis=1)]"
   ],
   "metadata": {
    "collapsed": false,
    "pycharm": {
     "name": "#%%\n"
    }
   }
  },
  {
   "cell_type": "code",
   "execution_count": 126,
   "outputs": [
    {
     "data": {
      "text/plain": "Empty DataFrame\nColumns: [Job Title, Experience, Salary Lower, Salary Upper, Job Description, Company Name, Rating, Location, Latitude, Longitude, Company Size Min, Company Size Max]\nIndex: []",
      "text/html": "<div>\n<style scoped>\n    .dataframe tbody tr th:only-of-type {\n        vertical-align: middle;\n    }\n\n    .dataframe tbody tr th {\n        vertical-align: top;\n    }\n\n    .dataframe thead th {\n        text-align: right;\n    }\n</style>\n<table border=\"1\" class=\"dataframe\">\n  <thead>\n    <tr style=\"text-align: right;\">\n      <th></th>\n      <th>Job Title</th>\n      <th>Experience</th>\n      <th>Salary Lower</th>\n      <th>Salary Upper</th>\n      <th>Job Description</th>\n      <th>Company Name</th>\n      <th>Rating</th>\n      <th>Location</th>\n      <th>Latitude</th>\n      <th>Longitude</th>\n      <th>Company Size Min</th>\n      <th>Company Size Max</th>\n    </tr>\n  </thead>\n  <tbody>\n  </tbody>\n</table>\n</div>"
     },
     "execution_count": 126,
     "metadata": {},
     "output_type": "execute_result"
    }
   ],
   "source": [
    "data[data.isin(['Unknown']).any(axis=1)]"
   ],
   "metadata": {
    "collapsed": false,
    "pycharm": {
     "name": "#%%\n"
    }
   }
  },
  {
   "cell_type": "markdown",
   "source": [
    "There are some occurrences of -1 and Unknown within the data. In the next step they are replaced with numpy NaN."
   ],
   "metadata": {
    "collapsed": false
   }
  },
  {
   "cell_type": "code",
   "execution_count": 127,
   "outputs": [
    {
     "data": {
      "text/plain": "                                              Job Title Experience  \\\n0     Data Analyst, Center on Immigration and Justic...    Regular   \n1                                  Quality Data Analyst    Regular   \n2     Senior Data Analyst, Insights & Analytics Team...     Senior   \n3                                          Data Analyst    Regular   \n4                                Reporting Data Analyst    Regular   \n...                                                 ...        ...   \n2248  RQS - IHHA - 201900004460 -1q Data Security An...    Regular   \n2249              Senior Data Analyst (Corporate Audit)     Senior   \n2250  Technical Business Analyst (SQL, Data analytic...    Regular   \n2251                Data Analyst 3, Customer Experience    Regular   \n2252                        Senior Quality Data Analyst     Senior   \n\n      Salary Lower  Salary Upper  \\\n0          37000.0         66000   \n1          37000.0         66000   \n2          37000.0         66000   \n3          37000.0         66000   \n4          37000.0         66000   \n...            ...           ...   \n2248       78000.0        104000   \n2249       78000.0        104000   \n2250       78000.0        104000   \n2251       78000.0        104000   \n2252       78000.0        104000   \n\n                                        Job Description  \\\n0     Are you eager to roll up your sleeves and harn...   \n1     Overview\\n\\nProvides analytical and technical ...   \n2     We’re looking for a Senior Data Analyst who ha...   \n3     Requisition NumberRR-0001939\\nRemote:Yes\\nWe c...   \n4     ABOUT FANDUEL GROUP\\n\\nFanDuel Group is a worl...   \n...                                                 ...   \n2248  Maintains systems to protect data from unautho...   \n2249  Position:\\nSenior Data Analyst (Corporate Audi...   \n2250  Title: Technical Business Analyst (SQL, Data a...   \n2251  Summary\\n\\nResponsible for working cross-funct...   \n2252  You.\\n\\nYou bring your body, mind, heart and s...   \n\n                            Company Name  Rating        Location    Latitude  \\\n0              Vera Institute of Justice     3.2    New York, NY  40.7127281   \n1     Visiting Nurse Service of New York     3.8    New York, NY  40.7127281   \n2                            Squarespace     3.4    New York, NY  40.7127281   \n3                               Celerity     4.1    New York, NY  40.7127281   \n4                                FanDuel     3.9    New York, NY  40.7127281   \n...                                  ...     ...             ...         ...   \n2248                       Avacend, Inc.     2.5      Denver, CO  39.7392364   \n2249                   Arrow Electronics     2.9  Centennial, CO   39.579155   \n2250                            Spiceorb     NaN      Denver, CO  39.7392364   \n2251         Contingent Network Services     3.1  Centennial, CO   39.579155   \n2252                          SCL Health     3.4  Broomfield, CO  39.9203827   \n\n         Longitude  Company Size Min  Company Size Max  \n0      -74.0060152             201.0             500.0  \n1      -74.0060152           10000.0               NaN  \n2      -74.0060152            1001.0            5000.0  \n3      -74.0060152             201.0             500.0  \n4      -74.0060152             501.0            1000.0  \n...            ...               ...               ...  \n2248  -104.9848623              51.0             200.0  \n2249  -104.8769227           10000.0               NaN  \n2250  -104.9848623               NaN               NaN  \n2251  -104.8769227             201.0             500.0  \n2252  -105.0691464           10000.0               NaN  \n\n[2253 rows x 12 columns]",
      "text/html": "<div>\n<style scoped>\n    .dataframe tbody tr th:only-of-type {\n        vertical-align: middle;\n    }\n\n    .dataframe tbody tr th {\n        vertical-align: top;\n    }\n\n    .dataframe thead th {\n        text-align: right;\n    }\n</style>\n<table border=\"1\" class=\"dataframe\">\n  <thead>\n    <tr style=\"text-align: right;\">\n      <th></th>\n      <th>Job Title</th>\n      <th>Experience</th>\n      <th>Salary Lower</th>\n      <th>Salary Upper</th>\n      <th>Job Description</th>\n      <th>Company Name</th>\n      <th>Rating</th>\n      <th>Location</th>\n      <th>Latitude</th>\n      <th>Longitude</th>\n      <th>Company Size Min</th>\n      <th>Company Size Max</th>\n    </tr>\n  </thead>\n  <tbody>\n    <tr>\n      <th>0</th>\n      <td>Data Analyst, Center on Immigration and Justic...</td>\n      <td>Regular</td>\n      <td>37000.0</td>\n      <td>66000</td>\n      <td>Are you eager to roll up your sleeves and harn...</td>\n      <td>Vera Institute of Justice</td>\n      <td>3.2</td>\n      <td>New York, NY</td>\n      <td>40.7127281</td>\n      <td>-74.0060152</td>\n      <td>201.0</td>\n      <td>500.0</td>\n    </tr>\n    <tr>\n      <th>1</th>\n      <td>Quality Data Analyst</td>\n      <td>Regular</td>\n      <td>37000.0</td>\n      <td>66000</td>\n      <td>Overview\\n\\nProvides analytical and technical ...</td>\n      <td>Visiting Nurse Service of New York</td>\n      <td>3.8</td>\n      <td>New York, NY</td>\n      <td>40.7127281</td>\n      <td>-74.0060152</td>\n      <td>10000.0</td>\n      <td>NaN</td>\n    </tr>\n    <tr>\n      <th>2</th>\n      <td>Senior Data Analyst, Insights &amp; Analytics Team...</td>\n      <td>Senior</td>\n      <td>37000.0</td>\n      <td>66000</td>\n      <td>We’re looking for a Senior Data Analyst who ha...</td>\n      <td>Squarespace</td>\n      <td>3.4</td>\n      <td>New York, NY</td>\n      <td>40.7127281</td>\n      <td>-74.0060152</td>\n      <td>1001.0</td>\n      <td>5000.0</td>\n    </tr>\n    <tr>\n      <th>3</th>\n      <td>Data Analyst</td>\n      <td>Regular</td>\n      <td>37000.0</td>\n      <td>66000</td>\n      <td>Requisition NumberRR-0001939\\nRemote:Yes\\nWe c...</td>\n      <td>Celerity</td>\n      <td>4.1</td>\n      <td>New York, NY</td>\n      <td>40.7127281</td>\n      <td>-74.0060152</td>\n      <td>201.0</td>\n      <td>500.0</td>\n    </tr>\n    <tr>\n      <th>4</th>\n      <td>Reporting Data Analyst</td>\n      <td>Regular</td>\n      <td>37000.0</td>\n      <td>66000</td>\n      <td>ABOUT FANDUEL GROUP\\n\\nFanDuel Group is a worl...</td>\n      <td>FanDuel</td>\n      <td>3.9</td>\n      <td>New York, NY</td>\n      <td>40.7127281</td>\n      <td>-74.0060152</td>\n      <td>501.0</td>\n      <td>1000.0</td>\n    </tr>\n    <tr>\n      <th>...</th>\n      <td>...</td>\n      <td>...</td>\n      <td>...</td>\n      <td>...</td>\n      <td>...</td>\n      <td>...</td>\n      <td>...</td>\n      <td>...</td>\n      <td>...</td>\n      <td>...</td>\n      <td>...</td>\n      <td>...</td>\n    </tr>\n    <tr>\n      <th>2248</th>\n      <td>RQS - IHHA - 201900004460 -1q Data Security An...</td>\n      <td>Regular</td>\n      <td>78000.0</td>\n      <td>104000</td>\n      <td>Maintains systems to protect data from unautho...</td>\n      <td>Avacend, Inc.</td>\n      <td>2.5</td>\n      <td>Denver, CO</td>\n      <td>39.7392364</td>\n      <td>-104.9848623</td>\n      <td>51.0</td>\n      <td>200.0</td>\n    </tr>\n    <tr>\n      <th>2249</th>\n      <td>Senior Data Analyst (Corporate Audit)</td>\n      <td>Senior</td>\n      <td>78000.0</td>\n      <td>104000</td>\n      <td>Position:\\nSenior Data Analyst (Corporate Audi...</td>\n      <td>Arrow Electronics</td>\n      <td>2.9</td>\n      <td>Centennial, CO</td>\n      <td>39.579155</td>\n      <td>-104.8769227</td>\n      <td>10000.0</td>\n      <td>NaN</td>\n    </tr>\n    <tr>\n      <th>2250</th>\n      <td>Technical Business Analyst (SQL, Data analytic...</td>\n      <td>Regular</td>\n      <td>78000.0</td>\n      <td>104000</td>\n      <td>Title: Technical Business Analyst (SQL, Data a...</td>\n      <td>Spiceorb</td>\n      <td>NaN</td>\n      <td>Denver, CO</td>\n      <td>39.7392364</td>\n      <td>-104.9848623</td>\n      <td>NaN</td>\n      <td>NaN</td>\n    </tr>\n    <tr>\n      <th>2251</th>\n      <td>Data Analyst 3, Customer Experience</td>\n      <td>Regular</td>\n      <td>78000.0</td>\n      <td>104000</td>\n      <td>Summary\\n\\nResponsible for working cross-funct...</td>\n      <td>Contingent Network Services</td>\n      <td>3.1</td>\n      <td>Centennial, CO</td>\n      <td>39.579155</td>\n      <td>-104.8769227</td>\n      <td>201.0</td>\n      <td>500.0</td>\n    </tr>\n    <tr>\n      <th>2252</th>\n      <td>Senior Quality Data Analyst</td>\n      <td>Senior</td>\n      <td>78000.0</td>\n      <td>104000</td>\n      <td>You.\\n\\nYou bring your body, mind, heart and s...</td>\n      <td>SCL Health</td>\n      <td>3.4</td>\n      <td>Broomfield, CO</td>\n      <td>39.9203827</td>\n      <td>-105.0691464</td>\n      <td>10000.0</td>\n      <td>NaN</td>\n    </tr>\n  </tbody>\n</table>\n<p>2253 rows × 12 columns</p>\n</div>"
     },
     "execution_count": 127,
     "metadata": {},
     "output_type": "execute_result"
    }
   ],
   "source": [
    "data = data\\\n",
    "    .replace(-1, np.nan)\\\n",
    "    .replace('-1', np.nan)\\\n",
    "    .replace('Unknown', np.nan)\n",
    "data"
   ],
   "metadata": {
    "collapsed": false,
    "pycharm": {
     "name": "#%%\n"
    }
   }
  },
  {
   "cell_type": "markdown",
   "source": [
    "Let's check the `Company Name` and `Job Description` for very short entries just in case."
   ],
   "metadata": {
    "collapsed": false
   }
  },
  {
   "cell_type": "code",
   "execution_count": 128,
   "outputs": [
    {
     "data": {
      "text/plain": "                                              Job Title Experience  \\\n27                                Data Analyst, Product    Regular   \n60                      Data Analyst, Revenue Analytics    Regular   \n235      Senior Analyst, AB Testing and Data Operations     Senior   \n792   Data Analyst, Tax (Affordable Care Act) (ACA) ...    Regular   \n1001                      Master Data Operation Analyst     Senior   \n1091  Data Analyst, Data & Analytics (Advanced Analy...    Regular   \n1276          Data Analyst 3 (San Diego or Atlanta, GA)    Regular   \n1352                                       Data Analyst    Regular   \n1946  Data Analyst, Data & Analytics (Advanced Analy...    Regular   \n\n      Salary Lower  Salary Upper  \\\n27         37000.0         66000   \n60         51000.0         88000   \n235        41000.0         78000   \n792        67000.0         92000   \n1001       46000.0        102000   \n1091       41000.0         78000   \n1276       76000.0        122000   \n1352       30000.0         53000   \n1946       93000.0        159000   \n\n                                        Job Description Company Name  Rating  \\\n27    About Ro\\nFounded in 2017, Ro is a patient-dri...           Ro     4.8   \n60    About Ro\\nFounded in 2017, Ro is a patient-dri...           Ro     4.8   \n235   What We're Looking For:\\n\\nThe Senior Analyst,...           2U     3.5   \n792   Data Analyst, Tax (Affordable\\nCare Act) (ACA)...           EY     3.8   \n1001  PK currently has exciting opportunity for a Ma...           PK     3.6   \n1091  Data\\nAnalyst, Data & Analytics (Advanced Anal...           EY     3.8   \n1276  Job Description Summary\\nJob Description\\n\\n\\n...           BD     3.6   \n1352  Job Description\\nETL, SQL Queries, Data Modeli...            1     NaN   \n1946  Data Analyst, Data & Analytics (Advanced\\nAnal...           EY     3.8   \n\n               Location    Latitude     Longitude  Company Size Min  \\\n27         New York, NY  40.7127281   -74.0060152              51.0   \n60         New York, NY  40.7127281   -74.0060152              51.0   \n235        New York, NY  40.7127281   -74.0060152            1001.0   \n792         Chicago, IL  41.8755616   -87.6244212           10000.0   \n1001        Phoenix, AZ  33.4484367  -112.0741417            1001.0   \n1091   Philadelphia, PA  39.9527237   -75.1635262           10000.0   \n1276      San Diego, CA  32.7174202  -117.1627728           10000.0   \n1352         Dallas, TX  32.7762719   -96.7968559               NaN   \n1946  San Francisco, CA  37.7790262   -122.419906           10000.0   \n\n      Company Size Max  \n27               200.0  \n60               200.0  \n235             5000.0  \n792                NaN  \n1001            5000.0  \n1091               NaN  \n1276               NaN  \n1352               NaN  \n1946               NaN  ",
      "text/html": "<div>\n<style scoped>\n    .dataframe tbody tr th:only-of-type {\n        vertical-align: middle;\n    }\n\n    .dataframe tbody tr th {\n        vertical-align: top;\n    }\n\n    .dataframe thead th {\n        text-align: right;\n    }\n</style>\n<table border=\"1\" class=\"dataframe\">\n  <thead>\n    <tr style=\"text-align: right;\">\n      <th></th>\n      <th>Job Title</th>\n      <th>Experience</th>\n      <th>Salary Lower</th>\n      <th>Salary Upper</th>\n      <th>Job Description</th>\n      <th>Company Name</th>\n      <th>Rating</th>\n      <th>Location</th>\n      <th>Latitude</th>\n      <th>Longitude</th>\n      <th>Company Size Min</th>\n      <th>Company Size Max</th>\n    </tr>\n  </thead>\n  <tbody>\n    <tr>\n      <th>27</th>\n      <td>Data Analyst, Product</td>\n      <td>Regular</td>\n      <td>37000.0</td>\n      <td>66000</td>\n      <td>About Ro\\nFounded in 2017, Ro is a patient-dri...</td>\n      <td>Ro</td>\n      <td>4.8</td>\n      <td>New York, NY</td>\n      <td>40.7127281</td>\n      <td>-74.0060152</td>\n      <td>51.0</td>\n      <td>200.0</td>\n    </tr>\n    <tr>\n      <th>60</th>\n      <td>Data Analyst, Revenue Analytics</td>\n      <td>Regular</td>\n      <td>51000.0</td>\n      <td>88000</td>\n      <td>About Ro\\nFounded in 2017, Ro is a patient-dri...</td>\n      <td>Ro</td>\n      <td>4.8</td>\n      <td>New York, NY</td>\n      <td>40.7127281</td>\n      <td>-74.0060152</td>\n      <td>51.0</td>\n      <td>200.0</td>\n    </tr>\n    <tr>\n      <th>235</th>\n      <td>Senior Analyst, AB Testing and Data Operations</td>\n      <td>Senior</td>\n      <td>41000.0</td>\n      <td>78000</td>\n      <td>What We're Looking For:\\n\\nThe Senior Analyst,...</td>\n      <td>2U</td>\n      <td>3.5</td>\n      <td>New York, NY</td>\n      <td>40.7127281</td>\n      <td>-74.0060152</td>\n      <td>1001.0</td>\n      <td>5000.0</td>\n    </tr>\n    <tr>\n      <th>792</th>\n      <td>Data Analyst, Tax (Affordable Care Act) (ACA) ...</td>\n      <td>Regular</td>\n      <td>67000.0</td>\n      <td>92000</td>\n      <td>Data Analyst, Tax (Affordable\\nCare Act) (ACA)...</td>\n      <td>EY</td>\n      <td>3.8</td>\n      <td>Chicago, IL</td>\n      <td>41.8755616</td>\n      <td>-87.6244212</td>\n      <td>10000.0</td>\n      <td>NaN</td>\n    </tr>\n    <tr>\n      <th>1001</th>\n      <td>Master Data Operation Analyst</td>\n      <td>Senior</td>\n      <td>46000.0</td>\n      <td>102000</td>\n      <td>PK currently has exciting opportunity for a Ma...</td>\n      <td>PK</td>\n      <td>3.6</td>\n      <td>Phoenix, AZ</td>\n      <td>33.4484367</td>\n      <td>-112.0741417</td>\n      <td>1001.0</td>\n      <td>5000.0</td>\n    </tr>\n    <tr>\n      <th>1091</th>\n      <td>Data Analyst, Data &amp; Analytics (Advanced Analy...</td>\n      <td>Regular</td>\n      <td>41000.0</td>\n      <td>78000</td>\n      <td>Data\\nAnalyst, Data &amp; Analytics (Advanced Anal...</td>\n      <td>EY</td>\n      <td>3.8</td>\n      <td>Philadelphia, PA</td>\n      <td>39.9527237</td>\n      <td>-75.1635262</td>\n      <td>10000.0</td>\n      <td>NaN</td>\n    </tr>\n    <tr>\n      <th>1276</th>\n      <td>Data Analyst 3 (San Diego or Atlanta, GA)</td>\n      <td>Regular</td>\n      <td>76000.0</td>\n      <td>122000</td>\n      <td>Job Description Summary\\nJob Description\\n\\n\\n...</td>\n      <td>BD</td>\n      <td>3.6</td>\n      <td>San Diego, CA</td>\n      <td>32.7174202</td>\n      <td>-117.1627728</td>\n      <td>10000.0</td>\n      <td>NaN</td>\n    </tr>\n    <tr>\n      <th>1352</th>\n      <td>Data Analyst</td>\n      <td>Regular</td>\n      <td>30000.0</td>\n      <td>53000</td>\n      <td>Job Description\\nETL, SQL Queries, Data Modeli...</td>\n      <td>1</td>\n      <td>NaN</td>\n      <td>Dallas, TX</td>\n      <td>32.7762719</td>\n      <td>-96.7968559</td>\n      <td>NaN</td>\n      <td>NaN</td>\n    </tr>\n    <tr>\n      <th>1946</th>\n      <td>Data Analyst, Data &amp; Analytics (Advanced Analy...</td>\n      <td>Regular</td>\n      <td>93000.0</td>\n      <td>159000</td>\n      <td>Data Analyst, Data &amp; Analytics (Advanced\\nAnal...</td>\n      <td>EY</td>\n      <td>3.8</td>\n      <td>San Francisco, CA</td>\n      <td>37.7790262</td>\n      <td>-122.419906</td>\n      <td>10000.0</td>\n      <td>NaN</td>\n    </tr>\n  </tbody>\n</table>\n</div>"
     },
     "execution_count": 128,
     "metadata": {},
     "output_type": "execute_result"
    }
   ],
   "source": [
    "data[data['Company Name'].str.len() < 3]"
   ],
   "metadata": {
    "collapsed": false,
    "pycharm": {
     "name": "#%%\n"
    }
   }
  },
  {
   "cell_type": "code",
   "execution_count": 129,
   "outputs": [
    {
     "data": {
      "text/plain": "                       Job Title Experience  Salary Lower  Salary Upper  \\\n912  Data Expert Analyst/Modeler    Regular       29000.0         38000   \n\n    Job Description    Company Name  Rating     Location    Latitude  \\\n912         Â\\nÂ\\nÂ  InvenTech Info     4.8  Houston, TX  29.7589382   \n\n       Longitude  Company Size Min  Company Size Max  \n912  -95.3676974             201.0             500.0  ",
      "text/html": "<div>\n<style scoped>\n    .dataframe tbody tr th:only-of-type {\n        vertical-align: middle;\n    }\n\n    .dataframe tbody tr th {\n        vertical-align: top;\n    }\n\n    .dataframe thead th {\n        text-align: right;\n    }\n</style>\n<table border=\"1\" class=\"dataframe\">\n  <thead>\n    <tr style=\"text-align: right;\">\n      <th></th>\n      <th>Job Title</th>\n      <th>Experience</th>\n      <th>Salary Lower</th>\n      <th>Salary Upper</th>\n      <th>Job Description</th>\n      <th>Company Name</th>\n      <th>Rating</th>\n      <th>Location</th>\n      <th>Latitude</th>\n      <th>Longitude</th>\n      <th>Company Size Min</th>\n      <th>Company Size Max</th>\n    </tr>\n  </thead>\n  <tbody>\n    <tr>\n      <th>912</th>\n      <td>Data Expert Analyst/Modeler</td>\n      <td>Regular</td>\n      <td>29000.0</td>\n      <td>38000</td>\n      <td>Â\\nÂ\\nÂ</td>\n      <td>InvenTech Info</td>\n      <td>4.8</td>\n      <td>Houston, TX</td>\n      <td>29.7589382</td>\n      <td>-95.3676974</td>\n      <td>201.0</td>\n      <td>500.0</td>\n    </tr>\n  </tbody>\n</table>\n</div>"
     },
     "execution_count": 129,
     "metadata": {},
     "output_type": "execute_result"
    }
   ],
   "source": [
    "data[data['Job Description'].str.len() < 10]"
   ],
   "metadata": {
    "collapsed": false,
    "pycharm": {
     "name": "#%%\n"
    }
   }
  },
  {
   "cell_type": "markdown",
   "source": [
    "There aren't many fortunately. Replacing them with numpy NaN and check again."
   ],
   "metadata": {
    "collapsed": false
   }
  },
  {
   "cell_type": "code",
   "execution_count": 130,
   "outputs": [],
   "source": [
    "data.loc[data['Job Description'].str.len() < 10, 'Job Description'] = np.nan\n",
    "data.loc[data['Company Name'].str.len() < 2, 'Company Name'] = np.nan"
   ],
   "metadata": {
    "collapsed": false,
    "pycharm": {
     "name": "#%%\n"
    }
   }
  },
  {
   "cell_type": "code",
   "execution_count": 131,
   "outputs": [
    {
     "data": {
      "text/plain": "Empty DataFrame\nColumns: [Job Title, Experience, Salary Lower, Salary Upper, Job Description, Company Name, Rating, Location, Latitude, Longitude, Company Size Min, Company Size Max]\nIndex: []",
      "text/html": "<div>\n<style scoped>\n    .dataframe tbody tr th:only-of-type {\n        vertical-align: middle;\n    }\n\n    .dataframe tbody tr th {\n        vertical-align: top;\n    }\n\n    .dataframe thead th {\n        text-align: right;\n    }\n</style>\n<table border=\"1\" class=\"dataframe\">\n  <thead>\n    <tr style=\"text-align: right;\">\n      <th></th>\n      <th>Job Title</th>\n      <th>Experience</th>\n      <th>Salary Lower</th>\n      <th>Salary Upper</th>\n      <th>Job Description</th>\n      <th>Company Name</th>\n      <th>Rating</th>\n      <th>Location</th>\n      <th>Latitude</th>\n      <th>Longitude</th>\n      <th>Company Size Min</th>\n      <th>Company Size Max</th>\n    </tr>\n  </thead>\n  <tbody>\n  </tbody>\n</table>\n</div>"
     },
     "execution_count": 131,
     "metadata": {},
     "output_type": "execute_result"
    }
   ],
   "source": [
    "data[data['Job Description'].str.len() < 10]"
   ],
   "metadata": {
    "collapsed": false,
    "pycharm": {
     "name": "#%%\n"
    }
   }
  },
  {
   "cell_type": "code",
   "execution_count": 132,
   "outputs": [
    {
     "data": {
      "text/plain": "                                              Job Title Experience  \\\n27                                Data Analyst, Product    Regular   \n60                      Data Analyst, Revenue Analytics    Regular   \n235      Senior Analyst, AB Testing and Data Operations     Senior   \n792   Data Analyst, Tax (Affordable Care Act) (ACA) ...    Regular   \n1001                      Master Data Operation Analyst     Senior   \n1091  Data Analyst, Data & Analytics (Advanced Analy...    Regular   \n1276          Data Analyst 3 (San Diego or Atlanta, GA)    Regular   \n1946  Data Analyst, Data & Analytics (Advanced Analy...    Regular   \n\n      Salary Lower  Salary Upper  \\\n27         37000.0         66000   \n60         51000.0         88000   \n235        41000.0         78000   \n792        67000.0         92000   \n1001       46000.0        102000   \n1091       41000.0         78000   \n1276       76000.0        122000   \n1946       93000.0        159000   \n\n                                        Job Description Company Name  Rating  \\\n27    About Ro\\nFounded in 2017, Ro is a patient-dri...           Ro     4.8   \n60    About Ro\\nFounded in 2017, Ro is a patient-dri...           Ro     4.8   \n235   What We're Looking For:\\n\\nThe Senior Analyst,...           2U     3.5   \n792   Data Analyst, Tax (Affordable\\nCare Act) (ACA)...           EY     3.8   \n1001  PK currently has exciting opportunity for a Ma...           PK     3.6   \n1091  Data\\nAnalyst, Data & Analytics (Advanced Anal...           EY     3.8   \n1276  Job Description Summary\\nJob Description\\n\\n\\n...           BD     3.6   \n1946  Data Analyst, Data & Analytics (Advanced\\nAnal...           EY     3.8   \n\n               Location    Latitude     Longitude  Company Size Min  \\\n27         New York, NY  40.7127281   -74.0060152              51.0   \n60         New York, NY  40.7127281   -74.0060152              51.0   \n235        New York, NY  40.7127281   -74.0060152            1001.0   \n792         Chicago, IL  41.8755616   -87.6244212           10000.0   \n1001        Phoenix, AZ  33.4484367  -112.0741417            1001.0   \n1091   Philadelphia, PA  39.9527237   -75.1635262           10000.0   \n1276      San Diego, CA  32.7174202  -117.1627728           10000.0   \n1946  San Francisco, CA  37.7790262   -122.419906           10000.0   \n\n      Company Size Max  \n27               200.0  \n60               200.0  \n235             5000.0  \n792                NaN  \n1001            5000.0  \n1091               NaN  \n1276               NaN  \n1946               NaN  ",
      "text/html": "<div>\n<style scoped>\n    .dataframe tbody tr th:only-of-type {\n        vertical-align: middle;\n    }\n\n    .dataframe tbody tr th {\n        vertical-align: top;\n    }\n\n    .dataframe thead th {\n        text-align: right;\n    }\n</style>\n<table border=\"1\" class=\"dataframe\">\n  <thead>\n    <tr style=\"text-align: right;\">\n      <th></th>\n      <th>Job Title</th>\n      <th>Experience</th>\n      <th>Salary Lower</th>\n      <th>Salary Upper</th>\n      <th>Job Description</th>\n      <th>Company Name</th>\n      <th>Rating</th>\n      <th>Location</th>\n      <th>Latitude</th>\n      <th>Longitude</th>\n      <th>Company Size Min</th>\n      <th>Company Size Max</th>\n    </tr>\n  </thead>\n  <tbody>\n    <tr>\n      <th>27</th>\n      <td>Data Analyst, Product</td>\n      <td>Regular</td>\n      <td>37000.0</td>\n      <td>66000</td>\n      <td>About Ro\\nFounded in 2017, Ro is a patient-dri...</td>\n      <td>Ro</td>\n      <td>4.8</td>\n      <td>New York, NY</td>\n      <td>40.7127281</td>\n      <td>-74.0060152</td>\n      <td>51.0</td>\n      <td>200.0</td>\n    </tr>\n    <tr>\n      <th>60</th>\n      <td>Data Analyst, Revenue Analytics</td>\n      <td>Regular</td>\n      <td>51000.0</td>\n      <td>88000</td>\n      <td>About Ro\\nFounded in 2017, Ro is a patient-dri...</td>\n      <td>Ro</td>\n      <td>4.8</td>\n      <td>New York, NY</td>\n      <td>40.7127281</td>\n      <td>-74.0060152</td>\n      <td>51.0</td>\n      <td>200.0</td>\n    </tr>\n    <tr>\n      <th>235</th>\n      <td>Senior Analyst, AB Testing and Data Operations</td>\n      <td>Senior</td>\n      <td>41000.0</td>\n      <td>78000</td>\n      <td>What We're Looking For:\\n\\nThe Senior Analyst,...</td>\n      <td>2U</td>\n      <td>3.5</td>\n      <td>New York, NY</td>\n      <td>40.7127281</td>\n      <td>-74.0060152</td>\n      <td>1001.0</td>\n      <td>5000.0</td>\n    </tr>\n    <tr>\n      <th>792</th>\n      <td>Data Analyst, Tax (Affordable Care Act) (ACA) ...</td>\n      <td>Regular</td>\n      <td>67000.0</td>\n      <td>92000</td>\n      <td>Data Analyst, Tax (Affordable\\nCare Act) (ACA)...</td>\n      <td>EY</td>\n      <td>3.8</td>\n      <td>Chicago, IL</td>\n      <td>41.8755616</td>\n      <td>-87.6244212</td>\n      <td>10000.0</td>\n      <td>NaN</td>\n    </tr>\n    <tr>\n      <th>1001</th>\n      <td>Master Data Operation Analyst</td>\n      <td>Senior</td>\n      <td>46000.0</td>\n      <td>102000</td>\n      <td>PK currently has exciting opportunity for a Ma...</td>\n      <td>PK</td>\n      <td>3.6</td>\n      <td>Phoenix, AZ</td>\n      <td>33.4484367</td>\n      <td>-112.0741417</td>\n      <td>1001.0</td>\n      <td>5000.0</td>\n    </tr>\n    <tr>\n      <th>1091</th>\n      <td>Data Analyst, Data &amp; Analytics (Advanced Analy...</td>\n      <td>Regular</td>\n      <td>41000.0</td>\n      <td>78000</td>\n      <td>Data\\nAnalyst, Data &amp; Analytics (Advanced Anal...</td>\n      <td>EY</td>\n      <td>3.8</td>\n      <td>Philadelphia, PA</td>\n      <td>39.9527237</td>\n      <td>-75.1635262</td>\n      <td>10000.0</td>\n      <td>NaN</td>\n    </tr>\n    <tr>\n      <th>1276</th>\n      <td>Data Analyst 3 (San Diego or Atlanta, GA)</td>\n      <td>Regular</td>\n      <td>76000.0</td>\n      <td>122000</td>\n      <td>Job Description Summary\\nJob Description\\n\\n\\n...</td>\n      <td>BD</td>\n      <td>3.6</td>\n      <td>San Diego, CA</td>\n      <td>32.7174202</td>\n      <td>-117.1627728</td>\n      <td>10000.0</td>\n      <td>NaN</td>\n    </tr>\n    <tr>\n      <th>1946</th>\n      <td>Data Analyst, Data &amp; Analytics (Advanced Analy...</td>\n      <td>Regular</td>\n      <td>93000.0</td>\n      <td>159000</td>\n      <td>Data Analyst, Data &amp; Analytics (Advanced\\nAnal...</td>\n      <td>EY</td>\n      <td>3.8</td>\n      <td>San Francisco, CA</td>\n      <td>37.7790262</td>\n      <td>-122.419906</td>\n      <td>10000.0</td>\n      <td>NaN</td>\n    </tr>\n  </tbody>\n</table>\n</div>"
     },
     "execution_count": 132,
     "metadata": {},
     "output_type": "execute_result"
    }
   ],
   "source": [
    "data[data['Company Name'].str.len() < 3]"
   ],
   "metadata": {
    "collapsed": false,
    "pycharm": {
     "name": "#%%\n"
    }
   }
  },
  {
   "cell_type": "markdown",
   "source": [
    "This is much better."
   ],
   "metadata": {
    "collapsed": false
   }
  },
  {
   "cell_type": "code",
   "execution_count": 133,
   "outputs": [
    {
     "data": {
      "text/plain": "Job Title             0\nExperience            0\nSalary Lower          1\nSalary Upper          0\nJob Description       1\nCompany Name          2\nRating              272\nLocation              0\nLatitude              0\nLongitude             0\nCompany Size Min    205\nCompany Size Max    580\ndtype: int64"
     },
     "execution_count": 133,
     "metadata": {},
     "output_type": "execute_result"
    }
   ],
   "source": [
    "data.isnull().sum()"
   ],
   "metadata": {
    "collapsed": false,
    "pycharm": {
     "name": "#%%\n"
    }
   }
  },
  {
   "cell_type": "markdown",
   "source": [
    "### Dealing with remaining garbage and missing values"
   ],
   "metadata": {
    "collapsed": false
   }
  },
  {
   "cell_type": "code",
   "execution_count": 134,
   "outputs": [
    {
     "data": {
      "text/plain": "Job Title             0\nExperience            0\nSalary Lower          1\nSalary Upper          0\nJob Description       1\nCompany Name          2\nRating              272\nLocation              0\nLatitude              0\nLongitude             0\nCompany Size Min    205\nCompany Size Max    580\ndtype: int64"
     },
     "execution_count": 134,
     "metadata": {},
     "output_type": "execute_result"
    }
   ],
   "source": [
    "data.isna().sum()"
   ],
   "metadata": {
    "collapsed": false,
    "pycharm": {
     "name": "#%%\n"
    }
   }
  },
  {
   "cell_type": "code",
   "execution_count": 135,
   "outputs": [
    {
     "data": {
      "text/plain": "                                              Job Title Experience  \\\n1                                  Quality Data Analyst    Regular   \n10                                         Data Analyst    Regular   \n11                                         Data Analyst    Regular   \n12                                         DATA ANALYST    Regular   \n20                        Product Analyst, Data Science    Regular   \n...                                                 ...        ...   \n2243                   Data Analyst-(Remote- All across    Regular   \n2246  Technical Business Analyst (SQL, Data analytic...    Regular   \n2249              Senior Data Analyst (Corporate Audit)     Senior   \n2250  Technical Business Analyst (SQL, Data analytic...    Regular   \n2252                        Senior Quality Data Analyst     Senior   \n\n      Salary Lower  Salary Upper  \\\n1          37000.0         66000   \n10         37000.0         66000   \n11         37000.0         66000   \n12         37000.0         66000   \n20         37000.0         66000   \n...            ...           ...   \n2243       78000.0        104000   \n2246       78000.0        104000   \n2249       78000.0        104000   \n2250       78000.0        104000   \n2252       78000.0        104000   \n\n                                        Job Description  \\\n1     Overview\\n\\nProvides analytical and technical ...   \n10    NYU Grossman School of Medicine is one of the ...   \n11    BulbHead is currently seeking a Data Analyst t...   \n12    Job Summary:\\n\\nThe Clinical Research Data Ana...   \n20    Note: By applying to this position your applic...   \n...                                                 ...   \n2243  About CenturyLink\\n\\nCenturyLink (NYSE: CTL) i...   \n2246  Spiceorb is looking for Technical Business Ana...   \n2249  Position:\\nSenior Data Analyst (Corporate Audi...   \n2250  Title: Technical Business Analyst (SQL, Data a...   \n2252  You.\\n\\nYou bring your body, mind, heart and s...   \n\n                            Company Name  Rating        Location    Latitude  \\\n1     Visiting Nurse Service of New York     3.8    New York, NY  40.7127281   \n10                    NYU Langone Health     4.0    New York, NY  40.7127281   \n11                              BulbHead     NaN   Fairfield, NJ  40.2050878   \n12                    Montefiore Medical     3.7    New York, NY  40.7127281   \n20                                Google     4.4    New York, NY  40.7127281   \n...                                  ...     ...             ...         ...   \n2243                         CenturyLink     3.0  Broomfield, CO  39.9203827   \n2246                            Spiceorb     NaN      Denver, CO  39.7392364   \n2249                   Arrow Electronics     2.9  Centennial, CO   39.579155   \n2250                            Spiceorb     NaN      Denver, CO  39.7392364   \n2252                          SCL Health     3.4  Broomfield, CO  39.9203827   \n\n         Longitude  Company Size Min  Company Size Max  \n1      -74.0060152           10000.0               NaN  \n10     -74.0060152           10000.0               NaN  \n11     -74.2135004               1.0              50.0  \n12     -74.0060152           10000.0               NaN  \n20     -74.0060152           10000.0               NaN  \n...            ...               ...               ...  \n2243  -105.0691464           10000.0               NaN  \n2246  -104.9848623               NaN               NaN  \n2249  -104.8769227           10000.0               NaN  \n2250  -104.9848623               NaN               NaN  \n2252  -105.0691464           10000.0               NaN  \n\n[669 rows x 12 columns]",
      "text/html": "<div>\n<style scoped>\n    .dataframe tbody tr th:only-of-type {\n        vertical-align: middle;\n    }\n\n    .dataframe tbody tr th {\n        vertical-align: top;\n    }\n\n    .dataframe thead th {\n        text-align: right;\n    }\n</style>\n<table border=\"1\" class=\"dataframe\">\n  <thead>\n    <tr style=\"text-align: right;\">\n      <th></th>\n      <th>Job Title</th>\n      <th>Experience</th>\n      <th>Salary Lower</th>\n      <th>Salary Upper</th>\n      <th>Job Description</th>\n      <th>Company Name</th>\n      <th>Rating</th>\n      <th>Location</th>\n      <th>Latitude</th>\n      <th>Longitude</th>\n      <th>Company Size Min</th>\n      <th>Company Size Max</th>\n    </tr>\n  </thead>\n  <tbody>\n    <tr>\n      <th>1</th>\n      <td>Quality Data Analyst</td>\n      <td>Regular</td>\n      <td>37000.0</td>\n      <td>66000</td>\n      <td>Overview\\n\\nProvides analytical and technical ...</td>\n      <td>Visiting Nurse Service of New York</td>\n      <td>3.8</td>\n      <td>New York, NY</td>\n      <td>40.7127281</td>\n      <td>-74.0060152</td>\n      <td>10000.0</td>\n      <td>NaN</td>\n    </tr>\n    <tr>\n      <th>10</th>\n      <td>Data Analyst</td>\n      <td>Regular</td>\n      <td>37000.0</td>\n      <td>66000</td>\n      <td>NYU Grossman School of Medicine is one of the ...</td>\n      <td>NYU Langone Health</td>\n      <td>4.0</td>\n      <td>New York, NY</td>\n      <td>40.7127281</td>\n      <td>-74.0060152</td>\n      <td>10000.0</td>\n      <td>NaN</td>\n    </tr>\n    <tr>\n      <th>11</th>\n      <td>Data Analyst</td>\n      <td>Regular</td>\n      <td>37000.0</td>\n      <td>66000</td>\n      <td>BulbHead is currently seeking a Data Analyst t...</td>\n      <td>BulbHead</td>\n      <td>NaN</td>\n      <td>Fairfield, NJ</td>\n      <td>40.2050878</td>\n      <td>-74.2135004</td>\n      <td>1.0</td>\n      <td>50.0</td>\n    </tr>\n    <tr>\n      <th>12</th>\n      <td>DATA ANALYST</td>\n      <td>Regular</td>\n      <td>37000.0</td>\n      <td>66000</td>\n      <td>Job Summary:\\n\\nThe Clinical Research Data Ana...</td>\n      <td>Montefiore Medical</td>\n      <td>3.7</td>\n      <td>New York, NY</td>\n      <td>40.7127281</td>\n      <td>-74.0060152</td>\n      <td>10000.0</td>\n      <td>NaN</td>\n    </tr>\n    <tr>\n      <th>20</th>\n      <td>Product Analyst, Data Science</td>\n      <td>Regular</td>\n      <td>37000.0</td>\n      <td>66000</td>\n      <td>Note: By applying to this position your applic...</td>\n      <td>Google</td>\n      <td>4.4</td>\n      <td>New York, NY</td>\n      <td>40.7127281</td>\n      <td>-74.0060152</td>\n      <td>10000.0</td>\n      <td>NaN</td>\n    </tr>\n    <tr>\n      <th>...</th>\n      <td>...</td>\n      <td>...</td>\n      <td>...</td>\n      <td>...</td>\n      <td>...</td>\n      <td>...</td>\n      <td>...</td>\n      <td>...</td>\n      <td>...</td>\n      <td>...</td>\n      <td>...</td>\n      <td>...</td>\n    </tr>\n    <tr>\n      <th>2243</th>\n      <td>Data Analyst-(Remote- All across</td>\n      <td>Regular</td>\n      <td>78000.0</td>\n      <td>104000</td>\n      <td>About CenturyLink\\n\\nCenturyLink (NYSE: CTL) i...</td>\n      <td>CenturyLink</td>\n      <td>3.0</td>\n      <td>Broomfield, CO</td>\n      <td>39.9203827</td>\n      <td>-105.0691464</td>\n      <td>10000.0</td>\n      <td>NaN</td>\n    </tr>\n    <tr>\n      <th>2246</th>\n      <td>Technical Business Analyst (SQL, Data analytic...</td>\n      <td>Regular</td>\n      <td>78000.0</td>\n      <td>104000</td>\n      <td>Spiceorb is looking for Technical Business Ana...</td>\n      <td>Spiceorb</td>\n      <td>NaN</td>\n      <td>Denver, CO</td>\n      <td>39.7392364</td>\n      <td>-104.9848623</td>\n      <td>NaN</td>\n      <td>NaN</td>\n    </tr>\n    <tr>\n      <th>2249</th>\n      <td>Senior Data Analyst (Corporate Audit)</td>\n      <td>Senior</td>\n      <td>78000.0</td>\n      <td>104000</td>\n      <td>Position:\\nSenior Data Analyst (Corporate Audi...</td>\n      <td>Arrow Electronics</td>\n      <td>2.9</td>\n      <td>Centennial, CO</td>\n      <td>39.579155</td>\n      <td>-104.8769227</td>\n      <td>10000.0</td>\n      <td>NaN</td>\n    </tr>\n    <tr>\n      <th>2250</th>\n      <td>Technical Business Analyst (SQL, Data analytic...</td>\n      <td>Regular</td>\n      <td>78000.0</td>\n      <td>104000</td>\n      <td>Title: Technical Business Analyst (SQL, Data a...</td>\n      <td>Spiceorb</td>\n      <td>NaN</td>\n      <td>Denver, CO</td>\n      <td>39.7392364</td>\n      <td>-104.9848623</td>\n      <td>NaN</td>\n      <td>NaN</td>\n    </tr>\n    <tr>\n      <th>2252</th>\n      <td>Senior Quality Data Analyst</td>\n      <td>Senior</td>\n      <td>78000.0</td>\n      <td>104000</td>\n      <td>You.\\n\\nYou bring your body, mind, heart and s...</td>\n      <td>SCL Health</td>\n      <td>3.4</td>\n      <td>Broomfield, CO</td>\n      <td>39.9203827</td>\n      <td>-105.0691464</td>\n      <td>10000.0</td>\n      <td>NaN</td>\n    </tr>\n  </tbody>\n</table>\n<p>669 rows × 12 columns</p>\n</div>"
     },
     "execution_count": 135,
     "metadata": {},
     "output_type": "execute_result"
    }
   ],
   "source": [
    "data[data.isna().any(axis=1)]"
   ],
   "metadata": {
    "collapsed": false,
    "pycharm": {
     "name": "#%%\n"
    }
   }
  },
  {
   "cell_type": "markdown",
   "source": [
    "Now that we're left with ~700 rows containing garbage data. We could just delete the rows but the dataset is small. Let's impute some data.\n",
    "\n",
    "Let's use the mean values for `Rating`, `Company Size Min` and `Company Size Max`.\n",
    "Afterwards delete the remaining rows with null values in `Salary Lower`, `Job Description` and `Company Name`, because it's just 4 entries."
   ],
   "metadata": {
    "collapsed": false
   }
  },
  {
   "cell_type": "markdown",
   "source": [
    "#### Rating\n",
    "\n",
    "Show the ratings and calculate the mean. Afterwards replace the missing ratings by the mean rating value."
   ],
   "metadata": {
    "collapsed": false
   }
  },
  {
   "cell_type": "code",
   "execution_count": 136,
   "outputs": [
    {
     "data": {
      "text/plain": "                                              Job Title Experience  \\\n11                                         Data Analyst    Regular   \n21                                 Data Science Analyst    Regular   \n34                                 Data Analyst (Games)    Regular   \n36                                Data Business Analyst    Regular   \n40                     Business Analyst, Data Platforms    Regular   \n...                                                 ...        ...   \n2200                                       Data Analyst    Regular   \n2202                             Financial Data Analyst    Regular   \n2239                       Senior Contract Data Analyst     Senior   \n2246  Technical Business Analyst (SQL, Data analytic...    Regular   \n2250  Technical Business Analyst (SQL, Data analytic...    Regular   \n\n      Salary Lower  Salary Upper  \\\n11         37000.0         66000   \n21         37000.0         66000   \n34         46000.0         87000   \n36         46000.0         87000   \n40         46000.0         87000   \n...            ...           ...   \n2200       49000.0         91000   \n2202       49000.0         91000   \n2239       78000.0        104000   \n2246       78000.0        104000   \n2250       78000.0        104000   \n\n                                        Job Description  \\\n11    BulbHead is currently seeking a Data Analyst t...   \n21    Job Description\\nOur client, a music streaming...   \n34    Carry1st is the leading mobile game publisher ...   \n36    At Clear Street, we are disrupting the institu...   \n40    Company Description\\n\\nPinto is building the w...   \n...                                                 ...   \n2200  Role Data Analyst Duration12+ months Location ...   \n2202  Position:Financial Data AnalystJob Description...   \n2239  OverviewAmyx is seeking to hire a Senior Contr...   \n2246  Spiceorb is looking for Technical Business Ana...   \n2250  Title: Technical Business Analyst (SQL, Data a...   \n\n                                     Company Name  Rating        Location  \\\n11                                       BulbHead     NaN   Fairfield, NJ   \n21                          MUSIC & Entertainment     NaN    New York, NY   \n34                                       Carry1st     NaN    New York, NY   \n36                                   Clear Street     NaN    New York, NY   \n40                                          Pinto     NaN    New York, NY   \n...                                           ...     ...             ...   \n2200    TechAspect Solutions, Inc. dba TA Digital     NaN  Centennial, CO   \n2202  Black Knight Financial Technology Solutions     NaN      Denver, CO   \n2239                                  Amyx, Iinc.     NaN      Aurora, CO   \n2246                                     Spiceorb     NaN      Denver, CO   \n2250                                     Spiceorb     NaN      Denver, CO   \n\n        Latitude     Longitude  Company Size Min  Company Size Max  \n11    40.2050878   -74.2135004               1.0              50.0  \n21    40.7127281   -74.0060152               NaN               NaN  \n34    40.7127281   -74.0060152               NaN               NaN  \n36    40.7127281   -74.0060152              51.0             200.0  \n40    40.7127281   -74.0060152               1.0              50.0  \n...          ...           ...               ...               ...  \n2200   39.579155  -104.8769227               NaN               NaN  \n2202  39.7392364  -104.9848623               NaN               NaN  \n2239  41.7571701   -88.3147539               NaN               NaN  \n2246  39.7392364  -104.9848623               NaN               NaN  \n2250  39.7392364  -104.9848623               NaN               NaN  \n\n[272 rows x 12 columns]",
      "text/html": "<div>\n<style scoped>\n    .dataframe tbody tr th:only-of-type {\n        vertical-align: middle;\n    }\n\n    .dataframe tbody tr th {\n        vertical-align: top;\n    }\n\n    .dataframe thead th {\n        text-align: right;\n    }\n</style>\n<table border=\"1\" class=\"dataframe\">\n  <thead>\n    <tr style=\"text-align: right;\">\n      <th></th>\n      <th>Job Title</th>\n      <th>Experience</th>\n      <th>Salary Lower</th>\n      <th>Salary Upper</th>\n      <th>Job Description</th>\n      <th>Company Name</th>\n      <th>Rating</th>\n      <th>Location</th>\n      <th>Latitude</th>\n      <th>Longitude</th>\n      <th>Company Size Min</th>\n      <th>Company Size Max</th>\n    </tr>\n  </thead>\n  <tbody>\n    <tr>\n      <th>11</th>\n      <td>Data Analyst</td>\n      <td>Regular</td>\n      <td>37000.0</td>\n      <td>66000</td>\n      <td>BulbHead is currently seeking a Data Analyst t...</td>\n      <td>BulbHead</td>\n      <td>NaN</td>\n      <td>Fairfield, NJ</td>\n      <td>40.2050878</td>\n      <td>-74.2135004</td>\n      <td>1.0</td>\n      <td>50.0</td>\n    </tr>\n    <tr>\n      <th>21</th>\n      <td>Data Science Analyst</td>\n      <td>Regular</td>\n      <td>37000.0</td>\n      <td>66000</td>\n      <td>Job Description\\nOur client, a music streaming...</td>\n      <td>MUSIC &amp; Entertainment</td>\n      <td>NaN</td>\n      <td>New York, NY</td>\n      <td>40.7127281</td>\n      <td>-74.0060152</td>\n      <td>NaN</td>\n      <td>NaN</td>\n    </tr>\n    <tr>\n      <th>34</th>\n      <td>Data Analyst (Games)</td>\n      <td>Regular</td>\n      <td>46000.0</td>\n      <td>87000</td>\n      <td>Carry1st is the leading mobile game publisher ...</td>\n      <td>Carry1st</td>\n      <td>NaN</td>\n      <td>New York, NY</td>\n      <td>40.7127281</td>\n      <td>-74.0060152</td>\n      <td>NaN</td>\n      <td>NaN</td>\n    </tr>\n    <tr>\n      <th>36</th>\n      <td>Data Business Analyst</td>\n      <td>Regular</td>\n      <td>46000.0</td>\n      <td>87000</td>\n      <td>At Clear Street, we are disrupting the institu...</td>\n      <td>Clear Street</td>\n      <td>NaN</td>\n      <td>New York, NY</td>\n      <td>40.7127281</td>\n      <td>-74.0060152</td>\n      <td>51.0</td>\n      <td>200.0</td>\n    </tr>\n    <tr>\n      <th>40</th>\n      <td>Business Analyst, Data Platforms</td>\n      <td>Regular</td>\n      <td>46000.0</td>\n      <td>87000</td>\n      <td>Company Description\\n\\nPinto is building the w...</td>\n      <td>Pinto</td>\n      <td>NaN</td>\n      <td>New York, NY</td>\n      <td>40.7127281</td>\n      <td>-74.0060152</td>\n      <td>1.0</td>\n      <td>50.0</td>\n    </tr>\n    <tr>\n      <th>...</th>\n      <td>...</td>\n      <td>...</td>\n      <td>...</td>\n      <td>...</td>\n      <td>...</td>\n      <td>...</td>\n      <td>...</td>\n      <td>...</td>\n      <td>...</td>\n      <td>...</td>\n      <td>...</td>\n      <td>...</td>\n    </tr>\n    <tr>\n      <th>2200</th>\n      <td>Data Analyst</td>\n      <td>Regular</td>\n      <td>49000.0</td>\n      <td>91000</td>\n      <td>Role Data Analyst Duration12+ months Location ...</td>\n      <td>TechAspect Solutions, Inc. dba TA Digital</td>\n      <td>NaN</td>\n      <td>Centennial, CO</td>\n      <td>39.579155</td>\n      <td>-104.8769227</td>\n      <td>NaN</td>\n      <td>NaN</td>\n    </tr>\n    <tr>\n      <th>2202</th>\n      <td>Financial Data Analyst</td>\n      <td>Regular</td>\n      <td>49000.0</td>\n      <td>91000</td>\n      <td>Position:Financial Data AnalystJob Description...</td>\n      <td>Black Knight Financial Technology Solutions</td>\n      <td>NaN</td>\n      <td>Denver, CO</td>\n      <td>39.7392364</td>\n      <td>-104.9848623</td>\n      <td>NaN</td>\n      <td>NaN</td>\n    </tr>\n    <tr>\n      <th>2239</th>\n      <td>Senior Contract Data Analyst</td>\n      <td>Senior</td>\n      <td>78000.0</td>\n      <td>104000</td>\n      <td>OverviewAmyx is seeking to hire a Senior Contr...</td>\n      <td>Amyx, Iinc.</td>\n      <td>NaN</td>\n      <td>Aurora, CO</td>\n      <td>41.7571701</td>\n      <td>-88.3147539</td>\n      <td>NaN</td>\n      <td>NaN</td>\n    </tr>\n    <tr>\n      <th>2246</th>\n      <td>Technical Business Analyst (SQL, Data analytic...</td>\n      <td>Regular</td>\n      <td>78000.0</td>\n      <td>104000</td>\n      <td>Spiceorb is looking for Technical Business Ana...</td>\n      <td>Spiceorb</td>\n      <td>NaN</td>\n      <td>Denver, CO</td>\n      <td>39.7392364</td>\n      <td>-104.9848623</td>\n      <td>NaN</td>\n      <td>NaN</td>\n    </tr>\n    <tr>\n      <th>2250</th>\n      <td>Technical Business Analyst (SQL, Data analytic...</td>\n      <td>Regular</td>\n      <td>78000.0</td>\n      <td>104000</td>\n      <td>Title: Technical Business Analyst (SQL, Data a...</td>\n      <td>Spiceorb</td>\n      <td>NaN</td>\n      <td>Denver, CO</td>\n      <td>39.7392364</td>\n      <td>-104.9848623</td>\n      <td>NaN</td>\n      <td>NaN</td>\n    </tr>\n  </tbody>\n</table>\n<p>272 rows × 12 columns</p>\n</div>"
     },
     "execution_count": 136,
     "metadata": {},
     "output_type": "execute_result"
    }
   ],
   "source": [
    "null_rating = data[data['Rating'].isnull()]\n",
    "null_rating"
   ],
   "metadata": {
    "collapsed": false,
    "pycharm": {
     "name": "#%%\n"
    }
   }
  },
  {
   "cell_type": "code",
   "execution_count": 137,
   "outputs": [
    {
     "data": {
      "text/plain": "3.7"
     },
     "execution_count": 137,
     "metadata": {},
     "output_type": "execute_result"
    }
   ],
   "source": [
    "mean_rating = data['Rating'].mean().round(1)\n",
    "mean_rating"
   ],
   "metadata": {
    "collapsed": false,
    "pycharm": {
     "name": "#%%\n"
    }
   }
  },
  {
   "cell_type": "code",
   "execution_count": 138,
   "outputs": [],
   "source": [
    "data['Rating'] = data['Rating'].replace(np.nan, mean_rating)"
   ],
   "metadata": {
    "collapsed": false,
    "pycharm": {
     "name": "#%%\n"
    }
   }
  },
  {
   "cell_type": "code",
   "execution_count": 139,
   "outputs": [
    {
     "data": {
      "text/plain": "                                              Job Title Experience  \\\n7                                  Data Science Analyst    Regular   \n11                                         Data Analyst    Regular   \n12                                         DATA ANALYST    Regular   \n21                                 Data Science Analyst    Regular   \n28                             Data Analyst Entry Level     Junior   \n...                                                 ...        ...   \n2212                       Data Base Programmer/Analyst    Regular   \n2225                                    Sr Data Analyst     Senior   \n2239                       Senior Contract Data Analyst     Senior   \n2246  Technical Business Analyst (SQL, Data analytic...    Regular   \n2250  Technical Business Analyst (SQL, Data analytic...    Regular   \n\n      Salary Lower  Salary Upper  \\\n7          37000.0         66000   \n11         37000.0         66000   \n12         37000.0         66000   \n21         37000.0         66000   \n28         37000.0         66000   \n...            ...           ...   \n2212       57000.0        100000   \n2225       57000.0        100000   \n2239       78000.0        104000   \n2246       78000.0        104000   \n2250       78000.0        104000   \n\n                                        Job Description  \\\n7     Data Science Analyst\\n\\nJob Details\\nLevel\\nEx...   \n11    BulbHead is currently seeking a Data Analyst t...   \n12    Job Summary:\\n\\nThe Clinical Research Data Ana...   \n21    Job Description\\nOur client, a music streaming...   \n28    Type: Paid Intern (in a farm team)\\n\\nFunction...   \n...                                                 ...   \n2212  Job Title: Data Base Programmer/Analyst\\nLocat...   \n2225  We work to solve deep technical problems that ...   \n2239  OverviewAmyx is seeking to hire a Senior Contr...   \n2246  Spiceorb is looking for Technical Business Ana...   \n2250  Title: Technical Business Analyst (SQL, Data a...   \n\n                    Company Name  Rating        Location    Latitude  \\\n7        GNY Insurance Companies     3.7    New York, NY  40.7127281   \n11                      BulbHead     3.7   Fairfield, NJ  40.2050878   \n12            Montefiore Medical     3.7    New York, NY  40.7127281   \n21         MUSIC & Entertainment     3.7    New York, NY  40.7127281   \n28                         Endai     3.7    New York, NY  40.7127281   \n...                          ...     ...             ...         ...   \n2212   22nd Century Technologies     3.7      Denver, CO  39.7392364   \n2225  Global Healthcare Exchange     3.7  Louisville, CO  38.2542376   \n2239                 Amyx, Iinc.     3.7      Aurora, CO  41.7571701   \n2246                    Spiceorb     3.7      Denver, CO  39.7392364   \n2250                    Spiceorb     3.7      Denver, CO  39.7392364   \n\n         Longitude  Company Size Min  Company Size Max  \n7      -74.0060152             201.0             500.0  \n11     -74.2135004               1.0              50.0  \n12     -74.0060152           10000.0               NaN  \n21     -74.0060152               NaN               NaN  \n28     -74.0060152               1.0              50.0  \n...            ...               ...               ...  \n2212  -104.9848623            1001.0            5000.0  \n2225    -85.759407             501.0            1000.0  \n2239   -88.3147539               NaN               NaN  \n2246  -104.9848623               NaN               NaN  \n2250  -104.9848623               NaN               NaN  \n\n[404 rows x 12 columns]",
      "text/html": "<div>\n<style scoped>\n    .dataframe tbody tr th:only-of-type {\n        vertical-align: middle;\n    }\n\n    .dataframe tbody tr th {\n        vertical-align: top;\n    }\n\n    .dataframe thead th {\n        text-align: right;\n    }\n</style>\n<table border=\"1\" class=\"dataframe\">\n  <thead>\n    <tr style=\"text-align: right;\">\n      <th></th>\n      <th>Job Title</th>\n      <th>Experience</th>\n      <th>Salary Lower</th>\n      <th>Salary Upper</th>\n      <th>Job Description</th>\n      <th>Company Name</th>\n      <th>Rating</th>\n      <th>Location</th>\n      <th>Latitude</th>\n      <th>Longitude</th>\n      <th>Company Size Min</th>\n      <th>Company Size Max</th>\n    </tr>\n  </thead>\n  <tbody>\n    <tr>\n      <th>7</th>\n      <td>Data Science Analyst</td>\n      <td>Regular</td>\n      <td>37000.0</td>\n      <td>66000</td>\n      <td>Data Science Analyst\\n\\nJob Details\\nLevel\\nEx...</td>\n      <td>GNY Insurance Companies</td>\n      <td>3.7</td>\n      <td>New York, NY</td>\n      <td>40.7127281</td>\n      <td>-74.0060152</td>\n      <td>201.0</td>\n      <td>500.0</td>\n    </tr>\n    <tr>\n      <th>11</th>\n      <td>Data Analyst</td>\n      <td>Regular</td>\n      <td>37000.0</td>\n      <td>66000</td>\n      <td>BulbHead is currently seeking a Data Analyst t...</td>\n      <td>BulbHead</td>\n      <td>3.7</td>\n      <td>Fairfield, NJ</td>\n      <td>40.2050878</td>\n      <td>-74.2135004</td>\n      <td>1.0</td>\n      <td>50.0</td>\n    </tr>\n    <tr>\n      <th>12</th>\n      <td>DATA ANALYST</td>\n      <td>Regular</td>\n      <td>37000.0</td>\n      <td>66000</td>\n      <td>Job Summary:\\n\\nThe Clinical Research Data Ana...</td>\n      <td>Montefiore Medical</td>\n      <td>3.7</td>\n      <td>New York, NY</td>\n      <td>40.7127281</td>\n      <td>-74.0060152</td>\n      <td>10000.0</td>\n      <td>NaN</td>\n    </tr>\n    <tr>\n      <th>21</th>\n      <td>Data Science Analyst</td>\n      <td>Regular</td>\n      <td>37000.0</td>\n      <td>66000</td>\n      <td>Job Description\\nOur client, a music streaming...</td>\n      <td>MUSIC &amp; Entertainment</td>\n      <td>3.7</td>\n      <td>New York, NY</td>\n      <td>40.7127281</td>\n      <td>-74.0060152</td>\n      <td>NaN</td>\n      <td>NaN</td>\n    </tr>\n    <tr>\n      <th>28</th>\n      <td>Data Analyst Entry Level</td>\n      <td>Junior</td>\n      <td>37000.0</td>\n      <td>66000</td>\n      <td>Type: Paid Intern (in a farm team)\\n\\nFunction...</td>\n      <td>Endai</td>\n      <td>3.7</td>\n      <td>New York, NY</td>\n      <td>40.7127281</td>\n      <td>-74.0060152</td>\n      <td>1.0</td>\n      <td>50.0</td>\n    </tr>\n    <tr>\n      <th>...</th>\n      <td>...</td>\n      <td>...</td>\n      <td>...</td>\n      <td>...</td>\n      <td>...</td>\n      <td>...</td>\n      <td>...</td>\n      <td>...</td>\n      <td>...</td>\n      <td>...</td>\n      <td>...</td>\n      <td>...</td>\n    </tr>\n    <tr>\n      <th>2212</th>\n      <td>Data Base Programmer/Analyst</td>\n      <td>Regular</td>\n      <td>57000.0</td>\n      <td>100000</td>\n      <td>Job Title: Data Base Programmer/Analyst\\nLocat...</td>\n      <td>22nd Century Technologies</td>\n      <td>3.7</td>\n      <td>Denver, CO</td>\n      <td>39.7392364</td>\n      <td>-104.9848623</td>\n      <td>1001.0</td>\n      <td>5000.0</td>\n    </tr>\n    <tr>\n      <th>2225</th>\n      <td>Sr Data Analyst</td>\n      <td>Senior</td>\n      <td>57000.0</td>\n      <td>100000</td>\n      <td>We work to solve deep technical problems that ...</td>\n      <td>Global Healthcare Exchange</td>\n      <td>3.7</td>\n      <td>Louisville, CO</td>\n      <td>38.2542376</td>\n      <td>-85.759407</td>\n      <td>501.0</td>\n      <td>1000.0</td>\n    </tr>\n    <tr>\n      <th>2239</th>\n      <td>Senior Contract Data Analyst</td>\n      <td>Senior</td>\n      <td>78000.0</td>\n      <td>104000</td>\n      <td>OverviewAmyx is seeking to hire a Senior Contr...</td>\n      <td>Amyx, Iinc.</td>\n      <td>3.7</td>\n      <td>Aurora, CO</td>\n      <td>41.7571701</td>\n      <td>-88.3147539</td>\n      <td>NaN</td>\n      <td>NaN</td>\n    </tr>\n    <tr>\n      <th>2246</th>\n      <td>Technical Business Analyst (SQL, Data analytic...</td>\n      <td>Regular</td>\n      <td>78000.0</td>\n      <td>104000</td>\n      <td>Spiceorb is looking for Technical Business Ana...</td>\n      <td>Spiceorb</td>\n      <td>3.7</td>\n      <td>Denver, CO</td>\n      <td>39.7392364</td>\n      <td>-104.9848623</td>\n      <td>NaN</td>\n      <td>NaN</td>\n    </tr>\n    <tr>\n      <th>2250</th>\n      <td>Technical Business Analyst (SQL, Data analytic...</td>\n      <td>Regular</td>\n      <td>78000.0</td>\n      <td>104000</td>\n      <td>Title: Technical Business Analyst (SQL, Data a...</td>\n      <td>Spiceorb</td>\n      <td>3.7</td>\n      <td>Denver, CO</td>\n      <td>39.7392364</td>\n      <td>-104.9848623</td>\n      <td>NaN</td>\n      <td>NaN</td>\n    </tr>\n  </tbody>\n</table>\n<p>404 rows × 12 columns</p>\n</div>"
     },
     "execution_count": 139,
     "metadata": {},
     "output_type": "execute_result"
    }
   ],
   "source": [
    "fixed_rating = data[(data['Rating'] == mean_rating)]\n",
    "fixed_rating"
   ],
   "metadata": {
    "collapsed": false,
    "pycharm": {
     "name": "#%%\n"
    }
   }
  },
  {
   "cell_type": "markdown",
   "source": [
    "#### Company Size\n",
    "\n",
    "1. Show me rows with invalid company size numbers\n",
    "2. Please show only the rows without a `Company Size Max` entry"
   ],
   "metadata": {
    "collapsed": false
   }
  },
  {
   "cell_type": "code",
   "execution_count": 140,
   "outputs": [
    {
     "data": {
      "text/plain": "                                              Job Title Experience  \\\n1                                  Quality Data Analyst    Regular   \n10                                         Data Analyst    Regular   \n12                                         DATA ANALYST    Regular   \n20                        Product Analyst, Data Science    Regular   \n21                                 Data Science Analyst    Regular   \n...                                                 ...        ...   \n2243                   Data Analyst-(Remote- All across    Regular   \n2246  Technical Business Analyst (SQL, Data analytic...    Regular   \n2249              Senior Data Analyst (Corporate Audit)     Senior   \n2250  Technical Business Analyst (SQL, Data analytic...    Regular   \n2252                        Senior Quality Data Analyst     Senior   \n\n      Salary Lower  Salary Upper  \\\n1          37000.0         66000   \n10         37000.0         66000   \n12         37000.0         66000   \n20         37000.0         66000   \n21         37000.0         66000   \n...            ...           ...   \n2243       78000.0        104000   \n2246       78000.0        104000   \n2249       78000.0        104000   \n2250       78000.0        104000   \n2252       78000.0        104000   \n\n                                        Job Description  \\\n1     Overview\\n\\nProvides analytical and technical ...   \n10    NYU Grossman School of Medicine is one of the ...   \n12    Job Summary:\\n\\nThe Clinical Research Data Ana...   \n20    Note: By applying to this position your applic...   \n21    Job Description\\nOur client, a music streaming...   \n...                                                 ...   \n2243  About CenturyLink\\n\\nCenturyLink (NYSE: CTL) i...   \n2246  Spiceorb is looking for Technical Business Ana...   \n2249  Position:\\nSenior Data Analyst (Corporate Audi...   \n2250  Title: Technical Business Analyst (SQL, Data a...   \n2252  You.\\n\\nYou bring your body, mind, heart and s...   \n\n                            Company Name  Rating        Location    Latitude  \\\n1     Visiting Nurse Service of New York     3.8    New York, NY  40.7127281   \n10                    NYU Langone Health     4.0    New York, NY  40.7127281   \n12                    Montefiore Medical     3.7    New York, NY  40.7127281   \n20                                Google     4.4    New York, NY  40.7127281   \n21                 MUSIC & Entertainment     3.7    New York, NY  40.7127281   \n...                                  ...     ...             ...         ...   \n2243                         CenturyLink     3.0  Broomfield, CO  39.9203827   \n2246                            Spiceorb     3.7      Denver, CO  39.7392364   \n2249                   Arrow Electronics     2.9  Centennial, CO   39.579155   \n2250                            Spiceorb     3.7      Denver, CO  39.7392364   \n2252                          SCL Health     3.4  Broomfield, CO  39.9203827   \n\n         Longitude  Company Size Min  Company Size Max  \n1      -74.0060152           10000.0               NaN  \n10     -74.0060152           10000.0               NaN  \n12     -74.0060152           10000.0               NaN  \n20     -74.0060152           10000.0               NaN  \n21     -74.0060152               NaN               NaN  \n...            ...               ...               ...  \n2243  -105.0691464           10000.0               NaN  \n2246  -104.9848623               NaN               NaN  \n2249  -104.8769227           10000.0               NaN  \n2250  -104.9848623               NaN               NaN  \n2252  -105.0691464           10000.0               NaN  \n\n[580 rows x 12 columns]",
      "text/html": "<div>\n<style scoped>\n    .dataframe tbody tr th:only-of-type {\n        vertical-align: middle;\n    }\n\n    .dataframe tbody tr th {\n        vertical-align: top;\n    }\n\n    .dataframe thead th {\n        text-align: right;\n    }\n</style>\n<table border=\"1\" class=\"dataframe\">\n  <thead>\n    <tr style=\"text-align: right;\">\n      <th></th>\n      <th>Job Title</th>\n      <th>Experience</th>\n      <th>Salary Lower</th>\n      <th>Salary Upper</th>\n      <th>Job Description</th>\n      <th>Company Name</th>\n      <th>Rating</th>\n      <th>Location</th>\n      <th>Latitude</th>\n      <th>Longitude</th>\n      <th>Company Size Min</th>\n      <th>Company Size Max</th>\n    </tr>\n  </thead>\n  <tbody>\n    <tr>\n      <th>1</th>\n      <td>Quality Data Analyst</td>\n      <td>Regular</td>\n      <td>37000.0</td>\n      <td>66000</td>\n      <td>Overview\\n\\nProvides analytical and technical ...</td>\n      <td>Visiting Nurse Service of New York</td>\n      <td>3.8</td>\n      <td>New York, NY</td>\n      <td>40.7127281</td>\n      <td>-74.0060152</td>\n      <td>10000.0</td>\n      <td>NaN</td>\n    </tr>\n    <tr>\n      <th>10</th>\n      <td>Data Analyst</td>\n      <td>Regular</td>\n      <td>37000.0</td>\n      <td>66000</td>\n      <td>NYU Grossman School of Medicine is one of the ...</td>\n      <td>NYU Langone Health</td>\n      <td>4.0</td>\n      <td>New York, NY</td>\n      <td>40.7127281</td>\n      <td>-74.0060152</td>\n      <td>10000.0</td>\n      <td>NaN</td>\n    </tr>\n    <tr>\n      <th>12</th>\n      <td>DATA ANALYST</td>\n      <td>Regular</td>\n      <td>37000.0</td>\n      <td>66000</td>\n      <td>Job Summary:\\n\\nThe Clinical Research Data Ana...</td>\n      <td>Montefiore Medical</td>\n      <td>3.7</td>\n      <td>New York, NY</td>\n      <td>40.7127281</td>\n      <td>-74.0060152</td>\n      <td>10000.0</td>\n      <td>NaN</td>\n    </tr>\n    <tr>\n      <th>20</th>\n      <td>Product Analyst, Data Science</td>\n      <td>Regular</td>\n      <td>37000.0</td>\n      <td>66000</td>\n      <td>Note: By applying to this position your applic...</td>\n      <td>Google</td>\n      <td>4.4</td>\n      <td>New York, NY</td>\n      <td>40.7127281</td>\n      <td>-74.0060152</td>\n      <td>10000.0</td>\n      <td>NaN</td>\n    </tr>\n    <tr>\n      <th>21</th>\n      <td>Data Science Analyst</td>\n      <td>Regular</td>\n      <td>37000.0</td>\n      <td>66000</td>\n      <td>Job Description\\nOur client, a music streaming...</td>\n      <td>MUSIC &amp; Entertainment</td>\n      <td>3.7</td>\n      <td>New York, NY</td>\n      <td>40.7127281</td>\n      <td>-74.0060152</td>\n      <td>NaN</td>\n      <td>NaN</td>\n    </tr>\n    <tr>\n      <th>...</th>\n      <td>...</td>\n      <td>...</td>\n      <td>...</td>\n      <td>...</td>\n      <td>...</td>\n      <td>...</td>\n      <td>...</td>\n      <td>...</td>\n      <td>...</td>\n      <td>...</td>\n      <td>...</td>\n      <td>...</td>\n    </tr>\n    <tr>\n      <th>2243</th>\n      <td>Data Analyst-(Remote- All across</td>\n      <td>Regular</td>\n      <td>78000.0</td>\n      <td>104000</td>\n      <td>About CenturyLink\\n\\nCenturyLink (NYSE: CTL) i...</td>\n      <td>CenturyLink</td>\n      <td>3.0</td>\n      <td>Broomfield, CO</td>\n      <td>39.9203827</td>\n      <td>-105.0691464</td>\n      <td>10000.0</td>\n      <td>NaN</td>\n    </tr>\n    <tr>\n      <th>2246</th>\n      <td>Technical Business Analyst (SQL, Data analytic...</td>\n      <td>Regular</td>\n      <td>78000.0</td>\n      <td>104000</td>\n      <td>Spiceorb is looking for Technical Business Ana...</td>\n      <td>Spiceorb</td>\n      <td>3.7</td>\n      <td>Denver, CO</td>\n      <td>39.7392364</td>\n      <td>-104.9848623</td>\n      <td>NaN</td>\n      <td>NaN</td>\n    </tr>\n    <tr>\n      <th>2249</th>\n      <td>Senior Data Analyst (Corporate Audit)</td>\n      <td>Senior</td>\n      <td>78000.0</td>\n      <td>104000</td>\n      <td>Position:\\nSenior Data Analyst (Corporate Audi...</td>\n      <td>Arrow Electronics</td>\n      <td>2.9</td>\n      <td>Centennial, CO</td>\n      <td>39.579155</td>\n      <td>-104.8769227</td>\n      <td>10000.0</td>\n      <td>NaN</td>\n    </tr>\n    <tr>\n      <th>2250</th>\n      <td>Technical Business Analyst (SQL, Data analytic...</td>\n      <td>Regular</td>\n      <td>78000.0</td>\n      <td>104000</td>\n      <td>Title: Technical Business Analyst (SQL, Data a...</td>\n      <td>Spiceorb</td>\n      <td>3.7</td>\n      <td>Denver, CO</td>\n      <td>39.7392364</td>\n      <td>-104.9848623</td>\n      <td>NaN</td>\n      <td>NaN</td>\n    </tr>\n    <tr>\n      <th>2252</th>\n      <td>Senior Quality Data Analyst</td>\n      <td>Senior</td>\n      <td>78000.0</td>\n      <td>104000</td>\n      <td>You.\\n\\nYou bring your body, mind, heart and s...</td>\n      <td>SCL Health</td>\n      <td>3.4</td>\n      <td>Broomfield, CO</td>\n      <td>39.9203827</td>\n      <td>-105.0691464</td>\n      <td>10000.0</td>\n      <td>NaN</td>\n    </tr>\n  </tbody>\n</table>\n<p>580 rows × 12 columns</p>\n</div>"
     },
     "execution_count": 140,
     "metadata": {},
     "output_type": "execute_result"
    }
   ],
   "source": [
    "data[(data['Company Size Min'].isna()) | (data['Company Size Max'].isna())]"
   ],
   "metadata": {
    "collapsed": false,
    "pycharm": {
     "name": "#%%\n"
    }
   }
  },
  {
   "cell_type": "code",
   "execution_count": 141,
   "outputs": [
    {
     "data": {
      "text/plain": "                                             Job Title Experience  \\\n1                                 Quality Data Analyst    Regular   \n10                                        Data Analyst    Regular   \n12                                        DATA ANALYST    Regular   \n20                       Product Analyst, Data Science    Regular   \n22                      Data Analyst - Intex Developer    Regular   \n...                                                ...        ...   \n2233           Configuration & Data Management Analyst    Regular   \n2234  Data Analyst 3, Customer Experience - Centennial    Regular   \n2243                  Data Analyst-(Remote- All across    Regular   \n2249             Senior Data Analyst (Corporate Audit)     Senior   \n2252                       Senior Quality Data Analyst     Senior   \n\n      Salary Lower  Salary Upper  \\\n1          37000.0         66000   \n10         37000.0         66000   \n12         37000.0         66000   \n20         37000.0         66000   \n22         37000.0         66000   \n...            ...           ...   \n2233       57000.0        100000   \n2234       57000.0        100000   \n2243       78000.0        104000   \n2249       78000.0        104000   \n2252       78000.0        104000   \n\n                                        Job Description  \\\n1     Overview\\n\\nProvides analytical and technical ...   \n10    NYU Grossman School of Medicine is one of the ...   \n12    Job Summary:\\n\\nThe Clinical Research Data Ana...   \n20    Note: By applying to this position your applic...   \n22    Data Analyst - Intex Developer\\n\\n\\nNew York\\n...   \n...                                                 ...   \n2233  Description:The coolest jobs on this planet or...   \n2234  Business Unit: Summary Responsible for working...   \n2243  About CenturyLink\\n\\nCenturyLink (NYSE: CTL) i...   \n2249  Position:\\nSenior Data Analyst (Corporate Audi...   \n2252  You.\\n\\nYou bring your body, mind, heart and s...   \n\n                            Company Name  Rating        Location    Latitude  \\\n1     Visiting Nurse Service of New York     3.8    New York, NY  40.7127281   \n10                    NYU Langone Health     4.0    New York, NY  40.7127281   \n12                    Montefiore Medical     3.7    New York, NY  40.7127281   \n20                                Google     4.4    New York, NY  40.7127281   \n22                       Macquarie Group     3.3    New York, NY  40.7127281   \n...                                  ...     ...             ...         ...   \n2233                     Lockheed Martin     3.8   Littleton, CO   39.613321   \n2234                             Comcast     3.6   Englewood, CO  39.6482059   \n2243                         CenturyLink     3.0  Broomfield, CO  39.9203827   \n2249                   Arrow Electronics     2.9  Centennial, CO   39.579155   \n2252                          SCL Health     3.4  Broomfield, CO  39.9203827   \n\n         Longitude  Company Size Min  Company Size Max  \n1      -74.0060152           10000.0               NaN  \n10     -74.0060152           10000.0               NaN  \n12     -74.0060152           10000.0               NaN  \n20     -74.0060152           10000.0               NaN  \n22     -74.0060152           10000.0               NaN  \n...            ...               ...               ...  \n2233   -105.016649           10000.0               NaN  \n2234  -104.9879641           10000.0               NaN  \n2243  -105.0691464           10000.0               NaN  \n2249  -104.8769227           10000.0               NaN  \n2252  -105.0691464           10000.0               NaN  \n\n[375 rows x 12 columns]",
      "text/html": "<div>\n<style scoped>\n    .dataframe tbody tr th:only-of-type {\n        vertical-align: middle;\n    }\n\n    .dataframe tbody tr th {\n        vertical-align: top;\n    }\n\n    .dataframe thead th {\n        text-align: right;\n    }\n</style>\n<table border=\"1\" class=\"dataframe\">\n  <thead>\n    <tr style=\"text-align: right;\">\n      <th></th>\n      <th>Job Title</th>\n      <th>Experience</th>\n      <th>Salary Lower</th>\n      <th>Salary Upper</th>\n      <th>Job Description</th>\n      <th>Company Name</th>\n      <th>Rating</th>\n      <th>Location</th>\n      <th>Latitude</th>\n      <th>Longitude</th>\n      <th>Company Size Min</th>\n      <th>Company Size Max</th>\n    </tr>\n  </thead>\n  <tbody>\n    <tr>\n      <th>1</th>\n      <td>Quality Data Analyst</td>\n      <td>Regular</td>\n      <td>37000.0</td>\n      <td>66000</td>\n      <td>Overview\\n\\nProvides analytical and technical ...</td>\n      <td>Visiting Nurse Service of New York</td>\n      <td>3.8</td>\n      <td>New York, NY</td>\n      <td>40.7127281</td>\n      <td>-74.0060152</td>\n      <td>10000.0</td>\n      <td>NaN</td>\n    </tr>\n    <tr>\n      <th>10</th>\n      <td>Data Analyst</td>\n      <td>Regular</td>\n      <td>37000.0</td>\n      <td>66000</td>\n      <td>NYU Grossman School of Medicine is one of the ...</td>\n      <td>NYU Langone Health</td>\n      <td>4.0</td>\n      <td>New York, NY</td>\n      <td>40.7127281</td>\n      <td>-74.0060152</td>\n      <td>10000.0</td>\n      <td>NaN</td>\n    </tr>\n    <tr>\n      <th>12</th>\n      <td>DATA ANALYST</td>\n      <td>Regular</td>\n      <td>37000.0</td>\n      <td>66000</td>\n      <td>Job Summary:\\n\\nThe Clinical Research Data Ana...</td>\n      <td>Montefiore Medical</td>\n      <td>3.7</td>\n      <td>New York, NY</td>\n      <td>40.7127281</td>\n      <td>-74.0060152</td>\n      <td>10000.0</td>\n      <td>NaN</td>\n    </tr>\n    <tr>\n      <th>20</th>\n      <td>Product Analyst, Data Science</td>\n      <td>Regular</td>\n      <td>37000.0</td>\n      <td>66000</td>\n      <td>Note: By applying to this position your applic...</td>\n      <td>Google</td>\n      <td>4.4</td>\n      <td>New York, NY</td>\n      <td>40.7127281</td>\n      <td>-74.0060152</td>\n      <td>10000.0</td>\n      <td>NaN</td>\n    </tr>\n    <tr>\n      <th>22</th>\n      <td>Data Analyst - Intex Developer</td>\n      <td>Regular</td>\n      <td>37000.0</td>\n      <td>66000</td>\n      <td>Data Analyst - Intex Developer\\n\\n\\nNew York\\n...</td>\n      <td>Macquarie Group</td>\n      <td>3.3</td>\n      <td>New York, NY</td>\n      <td>40.7127281</td>\n      <td>-74.0060152</td>\n      <td>10000.0</td>\n      <td>NaN</td>\n    </tr>\n    <tr>\n      <th>...</th>\n      <td>...</td>\n      <td>...</td>\n      <td>...</td>\n      <td>...</td>\n      <td>...</td>\n      <td>...</td>\n      <td>...</td>\n      <td>...</td>\n      <td>...</td>\n      <td>...</td>\n      <td>...</td>\n      <td>...</td>\n    </tr>\n    <tr>\n      <th>2233</th>\n      <td>Configuration &amp; Data Management Analyst</td>\n      <td>Regular</td>\n      <td>57000.0</td>\n      <td>100000</td>\n      <td>Description:The coolest jobs on this planet or...</td>\n      <td>Lockheed Martin</td>\n      <td>3.8</td>\n      <td>Littleton, CO</td>\n      <td>39.613321</td>\n      <td>-105.016649</td>\n      <td>10000.0</td>\n      <td>NaN</td>\n    </tr>\n    <tr>\n      <th>2234</th>\n      <td>Data Analyst 3, Customer Experience - Centennial</td>\n      <td>Regular</td>\n      <td>57000.0</td>\n      <td>100000</td>\n      <td>Business Unit: Summary Responsible for working...</td>\n      <td>Comcast</td>\n      <td>3.6</td>\n      <td>Englewood, CO</td>\n      <td>39.6482059</td>\n      <td>-104.9879641</td>\n      <td>10000.0</td>\n      <td>NaN</td>\n    </tr>\n    <tr>\n      <th>2243</th>\n      <td>Data Analyst-(Remote- All across</td>\n      <td>Regular</td>\n      <td>78000.0</td>\n      <td>104000</td>\n      <td>About CenturyLink\\n\\nCenturyLink (NYSE: CTL) i...</td>\n      <td>CenturyLink</td>\n      <td>3.0</td>\n      <td>Broomfield, CO</td>\n      <td>39.9203827</td>\n      <td>-105.0691464</td>\n      <td>10000.0</td>\n      <td>NaN</td>\n    </tr>\n    <tr>\n      <th>2249</th>\n      <td>Senior Data Analyst (Corporate Audit)</td>\n      <td>Senior</td>\n      <td>78000.0</td>\n      <td>104000</td>\n      <td>Position:\\nSenior Data Analyst (Corporate Audi...</td>\n      <td>Arrow Electronics</td>\n      <td>2.9</td>\n      <td>Centennial, CO</td>\n      <td>39.579155</td>\n      <td>-104.8769227</td>\n      <td>10000.0</td>\n      <td>NaN</td>\n    </tr>\n    <tr>\n      <th>2252</th>\n      <td>Senior Quality Data Analyst</td>\n      <td>Senior</td>\n      <td>78000.0</td>\n      <td>104000</td>\n      <td>You.\\n\\nYou bring your body, mind, heart and s...</td>\n      <td>SCL Health</td>\n      <td>3.4</td>\n      <td>Broomfield, CO</td>\n      <td>39.9203827</td>\n      <td>-105.0691464</td>\n      <td>10000.0</td>\n      <td>NaN</td>\n    </tr>\n  </tbody>\n</table>\n<p>375 rows × 12 columns</p>\n</div>"
     },
     "execution_count": 141,
     "metadata": {},
     "output_type": "execute_result"
    }
   ],
   "source": [
    "data[(data['Company Size Max'].isna()) & (~data['Company Size Min'].isna())]"
   ],
   "metadata": {
    "collapsed": false,
    "pycharm": {
     "name": "#%%\n"
    }
   }
  },
  {
   "cell_type": "code",
   "execution_count": 142,
   "outputs": [
    {
     "name": "stdout",
     "output_type": "stream",
     "text": [
      "Mean Min Company Size: 2325.0\n",
      "Mean Max Company Size: 1881.0\n"
     ]
    }
   ],
   "source": [
    "mean_min_company_size = data['Company Size Min'].mean().round(0)\n",
    "mean_max_company_size = data['Company Size Max'].mean().round(0)\n",
    "\n",
    "print(f'Mean Min Company Size: {mean_min_company_size}\\nMean Max Company Size: {mean_max_company_size}')"
   ],
   "metadata": {
    "collapsed": false,
    "pycharm": {
     "name": "#%%\n"
    }
   }
  },
  {
   "cell_type": "markdown",
   "source": [
    "The mean minimal company size is larger than the mean max company size. This is not ideal. Why is that the case?"
   ],
   "metadata": {
    "collapsed": false
   }
  },
  {
   "cell_type": "code",
   "execution_count": 143,
   "outputs": [
    {
     "data": {
      "text/plain": "Company Size Min\n5001.0               97\n501.0               211\n201.0               249\n1.0                 347\n1001.0              348\n10000.0             375\n51.0                421\ndtype: int64"
     },
     "execution_count": 143,
     "metadata": {},
     "output_type": "execute_result"
    }
   ],
   "source": [
    "data[['Company Size Min']].value_counts().sort_values()"
   ],
   "metadata": {
    "collapsed": false,
    "pycharm": {
     "name": "#%%\n"
    }
   }
  },
  {
   "cell_type": "code",
   "execution_count": 144,
   "outputs": [
    {
     "data": {
      "text/plain": "Company Size Max\n10000.0              97\n1000.0              211\n500.0               249\n50.0                347\n5000.0              348\n200.0               421\ndtype: int64"
     },
     "execution_count": 144,
     "metadata": {},
     "output_type": "execute_result"
    }
   ],
   "source": [
    "data[['Company Size Max']].value_counts().sort_values()"
   ],
   "metadata": {
    "collapsed": false,
    "pycharm": {
     "name": "#%%\n"
    }
   }
  },
  {
   "cell_type": "markdown",
   "source": [
    "The min company size of 10000 is raising the mean significantly. Let's take it out and see what happens."
   ],
   "metadata": {
    "collapsed": false
   }
  },
  {
   "cell_type": "code",
   "execution_count": 145,
   "outputs": [
    {
     "data": {
      "text/plain": "604.0"
     },
     "execution_count": 145,
     "metadata": {},
     "output_type": "execute_result"
    }
   ],
   "source": [
    "data[data['Company Size Min'] < 10000]['Company Size Min'].mean().round(0) # Should be around 600"
   ],
   "metadata": {
    "collapsed": false,
    "pycharm": {
     "name": "#%%\n"
    }
   }
  },
  {
   "cell_type": "markdown",
   "source": [
    "Let's also impute the missing max company size values for those  10000+ employee companies.\n",
    " Just use the same min and max value for those because there is no further information of how big these companies are."
   ],
   "metadata": {
    "collapsed": false
   }
  },
  {
   "cell_type": "code",
   "execution_count": 146,
   "outputs": [
    {
     "data": {
      "text/plain": "                                              Job Title Experience  \\\n0     Data Analyst, Center on Immigration and Justic...    Regular   \n1                                  Quality Data Analyst    Regular   \n2     Senior Data Analyst, Insights & Analytics Team...     Senior   \n3                                          Data Analyst    Regular   \n4                                Reporting Data Analyst    Regular   \n...                                                 ...        ...   \n2248  RQS - IHHA - 201900004460 -1q Data Security An...    Regular   \n2249              Senior Data Analyst (Corporate Audit)     Senior   \n2250  Technical Business Analyst (SQL, Data analytic...    Regular   \n2251                Data Analyst 3, Customer Experience    Regular   \n2252                        Senior Quality Data Analyst     Senior   \n\n      Salary Lower  Salary Upper  \\\n0          37000.0         66000   \n1          37000.0         66000   \n2          37000.0         66000   \n3          37000.0         66000   \n4          37000.0         66000   \n...            ...           ...   \n2248       78000.0        104000   \n2249       78000.0        104000   \n2250       78000.0        104000   \n2251       78000.0        104000   \n2252       78000.0        104000   \n\n                                        Job Description  \\\n0     Are you eager to roll up your sleeves and harn...   \n1     Overview\\n\\nProvides analytical and technical ...   \n2     We’re looking for a Senior Data Analyst who ha...   \n3     Requisition NumberRR-0001939\\nRemote:Yes\\nWe c...   \n4     ABOUT FANDUEL GROUP\\n\\nFanDuel Group is a worl...   \n...                                                 ...   \n2248  Maintains systems to protect data from unautho...   \n2249  Position:\\nSenior Data Analyst (Corporate Audi...   \n2250  Title: Technical Business Analyst (SQL, Data a...   \n2251  Summary\\n\\nResponsible for working cross-funct...   \n2252  You.\\n\\nYou bring your body, mind, heart and s...   \n\n                            Company Name  Rating        Location    Latitude  \\\n0              Vera Institute of Justice     3.2    New York, NY  40.7127281   \n1     Visiting Nurse Service of New York     3.8    New York, NY  40.7127281   \n2                            Squarespace     3.4    New York, NY  40.7127281   \n3                               Celerity     4.1    New York, NY  40.7127281   \n4                                FanDuel     3.9    New York, NY  40.7127281   \n...                                  ...     ...             ...         ...   \n2248                       Avacend, Inc.     2.5      Denver, CO  39.7392364   \n2249                   Arrow Electronics     2.9  Centennial, CO   39.579155   \n2250                            Spiceorb     3.7      Denver, CO  39.7392364   \n2251         Contingent Network Services     3.1  Centennial, CO   39.579155   \n2252                          SCL Health     3.4  Broomfield, CO  39.9203827   \n\n         Longitude  Company Size Min  Company Size Max  \n0      -74.0060152             201.0             500.0  \n1      -74.0060152           10000.0           10000.0  \n2      -74.0060152            1001.0            5000.0  \n3      -74.0060152             201.0             500.0  \n4      -74.0060152             501.0            1000.0  \n...            ...               ...               ...  \n2248  -104.9848623              51.0             200.0  \n2249  -104.8769227           10000.0           10000.0  \n2250  -104.9848623               NaN               NaN  \n2251  -104.8769227             201.0             500.0  \n2252  -105.0691464           10000.0           10000.0  \n\n[2253 rows x 12 columns]",
      "text/html": "<div>\n<style scoped>\n    .dataframe tbody tr th:only-of-type {\n        vertical-align: middle;\n    }\n\n    .dataframe tbody tr th {\n        vertical-align: top;\n    }\n\n    .dataframe thead th {\n        text-align: right;\n    }\n</style>\n<table border=\"1\" class=\"dataframe\">\n  <thead>\n    <tr style=\"text-align: right;\">\n      <th></th>\n      <th>Job Title</th>\n      <th>Experience</th>\n      <th>Salary Lower</th>\n      <th>Salary Upper</th>\n      <th>Job Description</th>\n      <th>Company Name</th>\n      <th>Rating</th>\n      <th>Location</th>\n      <th>Latitude</th>\n      <th>Longitude</th>\n      <th>Company Size Min</th>\n      <th>Company Size Max</th>\n    </tr>\n  </thead>\n  <tbody>\n    <tr>\n      <th>0</th>\n      <td>Data Analyst, Center on Immigration and Justic...</td>\n      <td>Regular</td>\n      <td>37000.0</td>\n      <td>66000</td>\n      <td>Are you eager to roll up your sleeves and harn...</td>\n      <td>Vera Institute of Justice</td>\n      <td>3.2</td>\n      <td>New York, NY</td>\n      <td>40.7127281</td>\n      <td>-74.0060152</td>\n      <td>201.0</td>\n      <td>500.0</td>\n    </tr>\n    <tr>\n      <th>1</th>\n      <td>Quality Data Analyst</td>\n      <td>Regular</td>\n      <td>37000.0</td>\n      <td>66000</td>\n      <td>Overview\\n\\nProvides analytical and technical ...</td>\n      <td>Visiting Nurse Service of New York</td>\n      <td>3.8</td>\n      <td>New York, NY</td>\n      <td>40.7127281</td>\n      <td>-74.0060152</td>\n      <td>10000.0</td>\n      <td>10000.0</td>\n    </tr>\n    <tr>\n      <th>2</th>\n      <td>Senior Data Analyst, Insights &amp; Analytics Team...</td>\n      <td>Senior</td>\n      <td>37000.0</td>\n      <td>66000</td>\n      <td>We’re looking for a Senior Data Analyst who ha...</td>\n      <td>Squarespace</td>\n      <td>3.4</td>\n      <td>New York, NY</td>\n      <td>40.7127281</td>\n      <td>-74.0060152</td>\n      <td>1001.0</td>\n      <td>5000.0</td>\n    </tr>\n    <tr>\n      <th>3</th>\n      <td>Data Analyst</td>\n      <td>Regular</td>\n      <td>37000.0</td>\n      <td>66000</td>\n      <td>Requisition NumberRR-0001939\\nRemote:Yes\\nWe c...</td>\n      <td>Celerity</td>\n      <td>4.1</td>\n      <td>New York, NY</td>\n      <td>40.7127281</td>\n      <td>-74.0060152</td>\n      <td>201.0</td>\n      <td>500.0</td>\n    </tr>\n    <tr>\n      <th>4</th>\n      <td>Reporting Data Analyst</td>\n      <td>Regular</td>\n      <td>37000.0</td>\n      <td>66000</td>\n      <td>ABOUT FANDUEL GROUP\\n\\nFanDuel Group is a worl...</td>\n      <td>FanDuel</td>\n      <td>3.9</td>\n      <td>New York, NY</td>\n      <td>40.7127281</td>\n      <td>-74.0060152</td>\n      <td>501.0</td>\n      <td>1000.0</td>\n    </tr>\n    <tr>\n      <th>...</th>\n      <td>...</td>\n      <td>...</td>\n      <td>...</td>\n      <td>...</td>\n      <td>...</td>\n      <td>...</td>\n      <td>...</td>\n      <td>...</td>\n      <td>...</td>\n      <td>...</td>\n      <td>...</td>\n      <td>...</td>\n    </tr>\n    <tr>\n      <th>2248</th>\n      <td>RQS - IHHA - 201900004460 -1q Data Security An...</td>\n      <td>Regular</td>\n      <td>78000.0</td>\n      <td>104000</td>\n      <td>Maintains systems to protect data from unautho...</td>\n      <td>Avacend, Inc.</td>\n      <td>2.5</td>\n      <td>Denver, CO</td>\n      <td>39.7392364</td>\n      <td>-104.9848623</td>\n      <td>51.0</td>\n      <td>200.0</td>\n    </tr>\n    <tr>\n      <th>2249</th>\n      <td>Senior Data Analyst (Corporate Audit)</td>\n      <td>Senior</td>\n      <td>78000.0</td>\n      <td>104000</td>\n      <td>Position:\\nSenior Data Analyst (Corporate Audi...</td>\n      <td>Arrow Electronics</td>\n      <td>2.9</td>\n      <td>Centennial, CO</td>\n      <td>39.579155</td>\n      <td>-104.8769227</td>\n      <td>10000.0</td>\n      <td>10000.0</td>\n    </tr>\n    <tr>\n      <th>2250</th>\n      <td>Technical Business Analyst (SQL, Data analytic...</td>\n      <td>Regular</td>\n      <td>78000.0</td>\n      <td>104000</td>\n      <td>Title: Technical Business Analyst (SQL, Data a...</td>\n      <td>Spiceorb</td>\n      <td>3.7</td>\n      <td>Denver, CO</td>\n      <td>39.7392364</td>\n      <td>-104.9848623</td>\n      <td>NaN</td>\n      <td>NaN</td>\n    </tr>\n    <tr>\n      <th>2251</th>\n      <td>Data Analyst 3, Customer Experience</td>\n      <td>Regular</td>\n      <td>78000.0</td>\n      <td>104000</td>\n      <td>Summary\\n\\nResponsible for working cross-funct...</td>\n      <td>Contingent Network Services</td>\n      <td>3.1</td>\n      <td>Centennial, CO</td>\n      <td>39.579155</td>\n      <td>-104.8769227</td>\n      <td>201.0</td>\n      <td>500.0</td>\n    </tr>\n    <tr>\n      <th>2252</th>\n      <td>Senior Quality Data Analyst</td>\n      <td>Senior</td>\n      <td>78000.0</td>\n      <td>104000</td>\n      <td>You.\\n\\nYou bring your body, mind, heart and s...</td>\n      <td>SCL Health</td>\n      <td>3.4</td>\n      <td>Broomfield, CO</td>\n      <td>39.9203827</td>\n      <td>-105.0691464</td>\n      <td>10000.0</td>\n      <td>10000.0</td>\n    </tr>\n  </tbody>\n</table>\n<p>2253 rows × 12 columns</p>\n</div>"
     },
     "execution_count": 146,
     "metadata": {},
     "output_type": "execute_result"
    }
   ],
   "source": [
    "data['Company Size Max'] = data['Company Size Max'].mask(pd.isnull, data['Company Size Min'])\n",
    "data"
   ],
   "metadata": {
    "collapsed": false,
    "pycharm": {
     "name": "#%%\n"
    }
   }
  },
  {
   "cell_type": "markdown",
   "source": [
    "What's the mean after this operation?"
   ],
   "metadata": {
    "collapsed": false
   }
  },
  {
   "cell_type": "code",
   "execution_count": 147,
   "outputs": [
    {
     "data": {
      "text/plain": "(2325.0, 3368.0)"
     },
     "execution_count": 147,
     "metadata": {},
     "output_type": "execute_result"
    }
   ],
   "source": [
    "mean_min_company_size = data['Company Size Min'].mean().round(0)\n",
    "mean_max_company_size = data['Company Size Max'].mean().round(0)\n",
    "\n",
    "mean_min_company_size, mean_max_company_size"
   ],
   "metadata": {
    "collapsed": false,
    "pycharm": {
     "name": "#%%\n"
    }
   }
  },
  {
   "cell_type": "markdown",
   "source": [
    "Allright, min is less than max but the values seem quite high for the company size mean. Let's continue under the assumption that this is what we want for now."
   ],
   "metadata": {
    "collapsed": false
   }
  },
  {
   "cell_type": "code",
   "execution_count": 148,
   "outputs": [],
   "source": [
    "data['Company Size Min'] = data['Company Size Min'].replace(np.nan, mean_min_company_size)\n",
    "data['Company Size Max'] = data['Company Size Max'].replace(np.nan, mean_max_company_size)"
   ],
   "metadata": {
    "collapsed": false,
    "pycharm": {
     "name": "#%%\n"
    }
   }
  },
  {
   "cell_type": "code",
   "execution_count": 149,
   "outputs": [
    {
     "data": {
      "text/plain": "Job Title           0\nExperience          0\nSalary Lower        1\nSalary Upper        0\nJob Description     1\nCompany Name        2\nRating              0\nLocation            0\nLatitude            0\nLongitude           0\nCompany Size Min    0\nCompany Size Max    0\ndtype: int64"
     },
     "execution_count": 149,
     "metadata": {},
     "output_type": "execute_result"
    }
   ],
   "source": [
    "data.isna().sum()"
   ],
   "metadata": {
    "collapsed": false,
    "pycharm": {
     "name": "#%%\n"
    }
   }
  },
  {
   "cell_type": "markdown",
   "source": [
    "### Finishing Touches"
   ],
   "metadata": {
    "collapsed": false
   }
  },
  {
   "cell_type": "markdown",
   "source": [
    "Because there are just a few rows with null values left we can just delete them to get clean data."
   ],
   "metadata": {
    "collapsed": false
   }
  },
  {
   "cell_type": "code",
   "execution_count": 150,
   "outputs": [
    {
     "data": {
      "text/plain": "Job Title           0\nExperience          0\nSalary Lower        0\nSalary Upper        0\nJob Description     0\nCompany Name        0\nRating              0\nLocation            0\nLatitude            0\nLongitude           0\nCompany Size Min    0\nCompany Size Max    0\ndtype: int64"
     },
     "execution_count": 150,
     "metadata": {},
     "output_type": "execute_result"
    }
   ],
   "source": [
    "data = data.dropna()\n",
    "data = data.convert_dtypes()\n",
    "data.isna().sum()"
   ],
   "metadata": {
    "collapsed": false,
    "pycharm": {
     "name": "#%%\n"
    }
   }
  },
  {
   "cell_type": "markdown",
   "source": [
    "Let's also reorder the table to see job-related information first and company information second."
   ],
   "metadata": {
    "collapsed": false
   }
  },
  {
   "cell_type": "code",
   "execution_count": 151,
   "outputs": [
    {
     "data": {
      "text/plain": "                                            Job Title Experience  \\\n0   Data Analyst, Center on Immigration and Justic...    Regular   \n1                                Quality Data Analyst    Regular   \n2   Senior Data Analyst, Insights & Analytics Team...     Senior   \n3                                        Data Analyst    Regular   \n4                              Reporting Data Analyst    Regular   \n5                                        Data Analyst    Regular   \n6                        Business/Data Analyst (FP&A)    Regular   \n7                                Data Science Analyst    Regular   \n8                                        Data Analyst    Regular   \n9                       Data Analyst, Merchant Health    Regular   \n10                                       Data Analyst    Regular   \n11                                       Data Analyst    Regular   \n12                                       DATA ANALYST    Regular   \n13                                Senior Data Analyst     Senior   \n14                   Investment Advisory Data Analyst    Regular   \n15                        Sustainability Data Analyst    Regular   \n16                                       Data Analyst    Regular   \n17                              Clinical Data Analyst    Regular   \n18                            DATA PROGRAMMER/ANALYST    Regular   \n19                                       Data Analyst    Regular   \n20                      Product Analyst, Data Science    Regular   \n21                               Data Science Analyst    Regular   \n22                     Data Analyst - Intex Developer    Regular   \n23                                       Data Analyst    Regular   \n24                     Entry Level / Jr. Data Analyst     Junior   \n\n    Salary Lower  Salary Upper  \\\n0          37000         66000   \n1          37000         66000   \n2          37000         66000   \n3          37000         66000   \n4          37000         66000   \n5          37000         66000   \n6          37000         66000   \n7          37000         66000   \n8          37000         66000   \n9          37000         66000   \n10         37000         66000   \n11         37000         66000   \n12         37000         66000   \n13         37000         66000   \n14         37000         66000   \n15         37000         66000   \n16         37000         66000   \n17         37000         66000   \n18         37000         66000   \n19         37000         66000   \n20         37000         66000   \n21         37000         66000   \n22         37000         66000   \n23         37000         66000   \n24         37000         66000   \n\n                                      Job Description  \\\n0   Are you eager to roll up your sleeves and harn...   \n1   Overview\n\nProvides analytical and technical su...   \n2   We’re looking for a Senior Data Analyst who ha...   \n3   Requisition NumberRR-0001939\nRemote:Yes\nWe col...   \n4   ABOUT FANDUEL GROUP\n\nFanDuel Group is a world-...   \n5   About Cubist\nCubist Systematic Strategies is o...   \n6   Two Sigma is a different kind of investment ma...   \n7   Data Science Analyst\n\nJob Details\nLevel\nExperi...   \n8   The Data Analyst is an integral member of the ...   \n9   About Us\n\nRiskified is the AI platform powerin...   \n10  NYU Grossman School of Medicine is one of the ...   \n11  BulbHead is currently seeking a Data Analyst t...   \n12  Job Summary:\n\nThe Clinical Research Data Analy...   \n13  About Known\n\nKnown is a modern marketing compa...   \n14  Investment Advisory Compliance Opportunity in ...   \n15  Job Description\nRole Description\n\nSustainabili...   \n16  Undertone stands alone among AdTech and ad net...   \n17  About Us:\n\nNYSTEC is a non-profit technology c...   \n18  Company Description\n\nEDUCATION DEVELOPMENT CEN...   \n19  About Us\n\nAt Teachers Pay Teachers (TpT), we'r...   \n20  Note: By applying to this position your applic...   \n21  Job Description\nOur client, a music streaming ...   \n22  Data Analyst - Intex Developer\n\n\nNew York\n\nApp...   \n23  Haven Life is an insurtech innovator at MassMu...   \n24  Dash Technologies is an industry leading softw...   \n\n                          Company Name  Rating         Location    Latitude  \\\n0            Vera Institute of Justice     3.2     New York, NY  40.7127281   \n1   Visiting Nurse Service of New York     3.8     New York, NY  40.7127281   \n2                          Squarespace     3.4     New York, NY  40.7127281   \n3                             Celerity     4.1     New York, NY  40.7127281   \n4                              FanDuel     3.9     New York, NY  40.7127281   \n5                              Point72     3.9     New York, NY  40.7127281   \n6                            Two Sigma     4.4     New York, NY  40.7127281   \n7              GNY Insurance Companies     3.7     New York, NY  40.7127281   \n8                                 DMGT     4.0     New York, NY  40.7127281   \n9                            Riskified     4.4     New York, NY  40.7127281   \n10                  NYU Langone Health     4.0     New York, NY  40.7127281   \n11                            BulbHead     3.7    Fairfield, NJ  40.2050878   \n12                  Montefiore Medical     3.7     New York, NY  40.7127281   \n13                               Known     3.0     New York, NY  40.7127281   \n14                       Advisor Group     3.4  Jersey City, NJ  40.7215682   \n15                 CodeGreen Solutions     3.6     New York, NY  40.7127281   \n16                           Undertone     3.8     New York, NY  40.7127281   \n17                              NYSTEC     3.8     New York, NY  40.7127281   \n18  Education Development Center, Inc.     3.9     New York, NY  40.7127281   \n19               Teachers Pay Teachers     4.9     New York, NY  40.7127281   \n20                              Google     4.4     New York, NY  40.7127281   \n21               MUSIC & Entertainment     3.7     New York, NY  40.7127281   \n22                     Macquarie Group     3.3     New York, NY  40.7127281   \n23                             Andiamo     3.5     New York, NY  40.7127281   \n24               Dash Technologies Inc     3.8     New York, NY  40.7127281   \n\n      Longitude  Company Size Min  Company Size Max  \n0   -74.0060152               201               500  \n1   -74.0060152             10000             10000  \n2   -74.0060152              1001              5000  \n3   -74.0060152               201               500  \n4   -74.0060152               501              1000  \n5   -74.0060152              1001              5000  \n6   -74.0060152              1001              5000  \n7   -74.0060152               201               500  \n8   -74.0060152              5001             10000  \n9   -74.0060152               501              1000  \n10  -74.0060152             10000             10000  \n11  -74.2135004                 1                50  \n12  -74.0060152             10000             10000  \n13  -74.0060152               201               500  \n14   -74.047455              1001              5000  \n15  -74.0060152                 1                50  \n16  -74.0060152               201               500  \n17  -74.0060152                51               200  \n18  -74.0060152               501              1000  \n19  -74.0060152                51               200  \n20  -74.0060152             10000             10000  \n21  -74.0060152              2325              3368  \n22  -74.0060152             10000             10000  \n23  -74.0060152               201               500  \n24  -74.0060152                 1                50  ",
      "text/html": "<div>\n<style scoped>\n    .dataframe tbody tr th:only-of-type {\n        vertical-align: middle;\n    }\n\n    .dataframe tbody tr th {\n        vertical-align: top;\n    }\n\n    .dataframe thead th {\n        text-align: right;\n    }\n</style>\n<table border=\"1\" class=\"dataframe\">\n  <thead>\n    <tr style=\"text-align: right;\">\n      <th></th>\n      <th>Job Title</th>\n      <th>Experience</th>\n      <th>Salary Lower</th>\n      <th>Salary Upper</th>\n      <th>Job Description</th>\n      <th>Company Name</th>\n      <th>Rating</th>\n      <th>Location</th>\n      <th>Latitude</th>\n      <th>Longitude</th>\n      <th>Company Size Min</th>\n      <th>Company Size Max</th>\n    </tr>\n  </thead>\n  <tbody>\n    <tr>\n      <th>0</th>\n      <td>Data Analyst, Center on Immigration and Justic...</td>\n      <td>Regular</td>\n      <td>37000</td>\n      <td>66000</td>\n      <td>Are you eager to roll up your sleeves and harn...</td>\n      <td>Vera Institute of Justice</td>\n      <td>3.2</td>\n      <td>New York, NY</td>\n      <td>40.7127281</td>\n      <td>-74.0060152</td>\n      <td>201</td>\n      <td>500</td>\n    </tr>\n    <tr>\n      <th>1</th>\n      <td>Quality Data Analyst</td>\n      <td>Regular</td>\n      <td>37000</td>\n      <td>66000</td>\n      <td>Overview\n\nProvides analytical and technical su...</td>\n      <td>Visiting Nurse Service of New York</td>\n      <td>3.8</td>\n      <td>New York, NY</td>\n      <td>40.7127281</td>\n      <td>-74.0060152</td>\n      <td>10000</td>\n      <td>10000</td>\n    </tr>\n    <tr>\n      <th>2</th>\n      <td>Senior Data Analyst, Insights &amp; Analytics Team...</td>\n      <td>Senior</td>\n      <td>37000</td>\n      <td>66000</td>\n      <td>We’re looking for a Senior Data Analyst who ha...</td>\n      <td>Squarespace</td>\n      <td>3.4</td>\n      <td>New York, NY</td>\n      <td>40.7127281</td>\n      <td>-74.0060152</td>\n      <td>1001</td>\n      <td>5000</td>\n    </tr>\n    <tr>\n      <th>3</th>\n      <td>Data Analyst</td>\n      <td>Regular</td>\n      <td>37000</td>\n      <td>66000</td>\n      <td>Requisition NumberRR-0001939\nRemote:Yes\nWe col...</td>\n      <td>Celerity</td>\n      <td>4.1</td>\n      <td>New York, NY</td>\n      <td>40.7127281</td>\n      <td>-74.0060152</td>\n      <td>201</td>\n      <td>500</td>\n    </tr>\n    <tr>\n      <th>4</th>\n      <td>Reporting Data Analyst</td>\n      <td>Regular</td>\n      <td>37000</td>\n      <td>66000</td>\n      <td>ABOUT FANDUEL GROUP\n\nFanDuel Group is a world-...</td>\n      <td>FanDuel</td>\n      <td>3.9</td>\n      <td>New York, NY</td>\n      <td>40.7127281</td>\n      <td>-74.0060152</td>\n      <td>501</td>\n      <td>1000</td>\n    </tr>\n    <tr>\n      <th>5</th>\n      <td>Data Analyst</td>\n      <td>Regular</td>\n      <td>37000</td>\n      <td>66000</td>\n      <td>About Cubist\nCubist Systematic Strategies is o...</td>\n      <td>Point72</td>\n      <td>3.9</td>\n      <td>New York, NY</td>\n      <td>40.7127281</td>\n      <td>-74.0060152</td>\n      <td>1001</td>\n      <td>5000</td>\n    </tr>\n    <tr>\n      <th>6</th>\n      <td>Business/Data Analyst (FP&amp;A)</td>\n      <td>Regular</td>\n      <td>37000</td>\n      <td>66000</td>\n      <td>Two Sigma is a different kind of investment ma...</td>\n      <td>Two Sigma</td>\n      <td>4.4</td>\n      <td>New York, NY</td>\n      <td>40.7127281</td>\n      <td>-74.0060152</td>\n      <td>1001</td>\n      <td>5000</td>\n    </tr>\n    <tr>\n      <th>7</th>\n      <td>Data Science Analyst</td>\n      <td>Regular</td>\n      <td>37000</td>\n      <td>66000</td>\n      <td>Data Science Analyst\n\nJob Details\nLevel\nExperi...</td>\n      <td>GNY Insurance Companies</td>\n      <td>3.7</td>\n      <td>New York, NY</td>\n      <td>40.7127281</td>\n      <td>-74.0060152</td>\n      <td>201</td>\n      <td>500</td>\n    </tr>\n    <tr>\n      <th>8</th>\n      <td>Data Analyst</td>\n      <td>Regular</td>\n      <td>37000</td>\n      <td>66000</td>\n      <td>The Data Analyst is an integral member of the ...</td>\n      <td>DMGT</td>\n      <td>4.0</td>\n      <td>New York, NY</td>\n      <td>40.7127281</td>\n      <td>-74.0060152</td>\n      <td>5001</td>\n      <td>10000</td>\n    </tr>\n    <tr>\n      <th>9</th>\n      <td>Data Analyst, Merchant Health</td>\n      <td>Regular</td>\n      <td>37000</td>\n      <td>66000</td>\n      <td>About Us\n\nRiskified is the AI platform powerin...</td>\n      <td>Riskified</td>\n      <td>4.4</td>\n      <td>New York, NY</td>\n      <td>40.7127281</td>\n      <td>-74.0060152</td>\n      <td>501</td>\n      <td>1000</td>\n    </tr>\n    <tr>\n      <th>10</th>\n      <td>Data Analyst</td>\n      <td>Regular</td>\n      <td>37000</td>\n      <td>66000</td>\n      <td>NYU Grossman School of Medicine is one of the ...</td>\n      <td>NYU Langone Health</td>\n      <td>4.0</td>\n      <td>New York, NY</td>\n      <td>40.7127281</td>\n      <td>-74.0060152</td>\n      <td>10000</td>\n      <td>10000</td>\n    </tr>\n    <tr>\n      <th>11</th>\n      <td>Data Analyst</td>\n      <td>Regular</td>\n      <td>37000</td>\n      <td>66000</td>\n      <td>BulbHead is currently seeking a Data Analyst t...</td>\n      <td>BulbHead</td>\n      <td>3.7</td>\n      <td>Fairfield, NJ</td>\n      <td>40.2050878</td>\n      <td>-74.2135004</td>\n      <td>1</td>\n      <td>50</td>\n    </tr>\n    <tr>\n      <th>12</th>\n      <td>DATA ANALYST</td>\n      <td>Regular</td>\n      <td>37000</td>\n      <td>66000</td>\n      <td>Job Summary:\n\nThe Clinical Research Data Analy...</td>\n      <td>Montefiore Medical</td>\n      <td>3.7</td>\n      <td>New York, NY</td>\n      <td>40.7127281</td>\n      <td>-74.0060152</td>\n      <td>10000</td>\n      <td>10000</td>\n    </tr>\n    <tr>\n      <th>13</th>\n      <td>Senior Data Analyst</td>\n      <td>Senior</td>\n      <td>37000</td>\n      <td>66000</td>\n      <td>About Known\n\nKnown is a modern marketing compa...</td>\n      <td>Known</td>\n      <td>3.0</td>\n      <td>New York, NY</td>\n      <td>40.7127281</td>\n      <td>-74.0060152</td>\n      <td>201</td>\n      <td>500</td>\n    </tr>\n    <tr>\n      <th>14</th>\n      <td>Investment Advisory Data Analyst</td>\n      <td>Regular</td>\n      <td>37000</td>\n      <td>66000</td>\n      <td>Investment Advisory Compliance Opportunity in ...</td>\n      <td>Advisor Group</td>\n      <td>3.4</td>\n      <td>Jersey City, NJ</td>\n      <td>40.7215682</td>\n      <td>-74.047455</td>\n      <td>1001</td>\n      <td>5000</td>\n    </tr>\n    <tr>\n      <th>15</th>\n      <td>Sustainability Data Analyst</td>\n      <td>Regular</td>\n      <td>37000</td>\n      <td>66000</td>\n      <td>Job Description\nRole Description\n\nSustainabili...</td>\n      <td>CodeGreen Solutions</td>\n      <td>3.6</td>\n      <td>New York, NY</td>\n      <td>40.7127281</td>\n      <td>-74.0060152</td>\n      <td>1</td>\n      <td>50</td>\n    </tr>\n    <tr>\n      <th>16</th>\n      <td>Data Analyst</td>\n      <td>Regular</td>\n      <td>37000</td>\n      <td>66000</td>\n      <td>Undertone stands alone among AdTech and ad net...</td>\n      <td>Undertone</td>\n      <td>3.8</td>\n      <td>New York, NY</td>\n      <td>40.7127281</td>\n      <td>-74.0060152</td>\n      <td>201</td>\n      <td>500</td>\n    </tr>\n    <tr>\n      <th>17</th>\n      <td>Clinical Data Analyst</td>\n      <td>Regular</td>\n      <td>37000</td>\n      <td>66000</td>\n      <td>About Us:\n\nNYSTEC is a non-profit technology c...</td>\n      <td>NYSTEC</td>\n      <td>3.8</td>\n      <td>New York, NY</td>\n      <td>40.7127281</td>\n      <td>-74.0060152</td>\n      <td>51</td>\n      <td>200</td>\n    </tr>\n    <tr>\n      <th>18</th>\n      <td>DATA PROGRAMMER/ANALYST</td>\n      <td>Regular</td>\n      <td>37000</td>\n      <td>66000</td>\n      <td>Company Description\n\nEDUCATION DEVELOPMENT CEN...</td>\n      <td>Education Development Center, Inc.</td>\n      <td>3.9</td>\n      <td>New York, NY</td>\n      <td>40.7127281</td>\n      <td>-74.0060152</td>\n      <td>501</td>\n      <td>1000</td>\n    </tr>\n    <tr>\n      <th>19</th>\n      <td>Data Analyst</td>\n      <td>Regular</td>\n      <td>37000</td>\n      <td>66000</td>\n      <td>About Us\n\nAt Teachers Pay Teachers (TpT), we'r...</td>\n      <td>Teachers Pay Teachers</td>\n      <td>4.9</td>\n      <td>New York, NY</td>\n      <td>40.7127281</td>\n      <td>-74.0060152</td>\n      <td>51</td>\n      <td>200</td>\n    </tr>\n    <tr>\n      <th>20</th>\n      <td>Product Analyst, Data Science</td>\n      <td>Regular</td>\n      <td>37000</td>\n      <td>66000</td>\n      <td>Note: By applying to this position your applic...</td>\n      <td>Google</td>\n      <td>4.4</td>\n      <td>New York, NY</td>\n      <td>40.7127281</td>\n      <td>-74.0060152</td>\n      <td>10000</td>\n      <td>10000</td>\n    </tr>\n    <tr>\n      <th>21</th>\n      <td>Data Science Analyst</td>\n      <td>Regular</td>\n      <td>37000</td>\n      <td>66000</td>\n      <td>Job Description\nOur client, a music streaming ...</td>\n      <td>MUSIC &amp; Entertainment</td>\n      <td>3.7</td>\n      <td>New York, NY</td>\n      <td>40.7127281</td>\n      <td>-74.0060152</td>\n      <td>2325</td>\n      <td>3368</td>\n    </tr>\n    <tr>\n      <th>22</th>\n      <td>Data Analyst - Intex Developer</td>\n      <td>Regular</td>\n      <td>37000</td>\n      <td>66000</td>\n      <td>Data Analyst - Intex Developer\n\n\nNew York\n\nApp...</td>\n      <td>Macquarie Group</td>\n      <td>3.3</td>\n      <td>New York, NY</td>\n      <td>40.7127281</td>\n      <td>-74.0060152</td>\n      <td>10000</td>\n      <td>10000</td>\n    </tr>\n    <tr>\n      <th>23</th>\n      <td>Data Analyst</td>\n      <td>Regular</td>\n      <td>37000</td>\n      <td>66000</td>\n      <td>Haven Life is an insurtech innovator at MassMu...</td>\n      <td>Andiamo</td>\n      <td>3.5</td>\n      <td>New York, NY</td>\n      <td>40.7127281</td>\n      <td>-74.0060152</td>\n      <td>201</td>\n      <td>500</td>\n    </tr>\n    <tr>\n      <th>24</th>\n      <td>Entry Level / Jr. Data Analyst</td>\n      <td>Junior</td>\n      <td>37000</td>\n      <td>66000</td>\n      <td>Dash Technologies is an industry leading softw...</td>\n      <td>Dash Technologies Inc</td>\n      <td>3.8</td>\n      <td>New York, NY</td>\n      <td>40.7127281</td>\n      <td>-74.0060152</td>\n      <td>1</td>\n      <td>50</td>\n    </tr>\n  </tbody>\n</table>\n</div>"
     },
     "execution_count": 151,
     "metadata": {},
     "output_type": "execute_result"
    }
   ],
   "source": [
    "data = data[['Job Title', 'Experience', 'Salary Lower', 'Salary Upper',\n",
    "             'Job Description', 'Company Name', 'Rating', 'Location',\n",
    "             'Latitude', 'Longitude', 'Company Size Min', 'Company Size Max']]\n",
    "\n",
    "data.head(25)"
   ],
   "metadata": {
    "collapsed": false,
    "pycharm": {
     "name": "#%%\n"
    }
   }
  },
  {
   "cell_type": "markdown",
   "source": [
    "Lastly save the cleaned up data to disc."
   ],
   "metadata": {
    "collapsed": false
   }
  },
  {
   "cell_type": "code",
   "execution_count": 152,
   "outputs": [],
   "source": [
    "data.to_csv(os.path.join('..', 'raw_data', 'DataAnalyst_Cleanup.csv'), index=False, index_label=False)"
   ],
   "metadata": {
    "collapsed": false,
    "pycharm": {
     "name": "#%%\n"
    }
   }
  }
 ],
 "metadata": {
  "kernelspec": {
   "display_name": "Python 3",
   "language": "python",
   "name": "python3"
  },
  "language_info": {
   "codemirror_mode": {
    "name": "ipython",
    "version": 2
   },
   "file_extension": ".py",
   "mimetype": "text/x-python",
   "name": "python",
   "nbconvert_exporter": "python",
   "pygments_lexer": "ipython2",
   "version": "2.7.6"
  }
 },
 "nbformat": 4,
 "nbformat_minor": 0
}