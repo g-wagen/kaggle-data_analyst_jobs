{
 "cells": [
  {
   "cell_type": "markdown",
   "source": [
    "# Data Analyst Jobs\n",
    "\n",
    "## Intro\n",
    "The aim is to take this [Kaggle Dataset](https://www.kaggle.com/andrewmvd/data-analyst-jobs) and try to find answers to these questions:\n",
    "\n",
    "1. Where do Analysts earn the most/least?\n",
    "2. How big are the differences between Junior, Regular and Senior positions?\n",
    "3. Are company size and salary correlated?\n",
    "4. What are the best jobs by salary and company rating?\n",
    "5. What are the top skills needed for the job?\n",
    "\n",
    "## Data Cleanup\n",
    "But the data needs a good scrub first."
   ],
   "metadata": {
    "collapsed": false
   }
  },
  {
   "cell_type": "markdown",
   "source": [
    "Importing packages"
   ],
   "metadata": {
    "collapsed": false
   }
  },
  {
   "cell_type": "code",
   "execution_count": 50,
   "outputs": [],
   "source": [
    "import os\n",
    "import pandas as pd\n",
    "import numpy as np"
   ],
   "metadata": {
    "collapsed": false,
    "pycharm": {
     "name": "#%%\n"
    }
   }
  },
  {
   "cell_type": "markdown",
   "source": [
    "Read the dataset and take a peek inside"
   ],
   "metadata": {
    "collapsed": false
   }
  },
  {
   "cell_type": "code",
   "execution_count": 53,
   "outputs": [
    {
     "data": {
      "text/plain": "   Unnamed: 0                                          Job Title  \\\n0           0  Data Analyst, Center on Immigration and Justic...   \n1           1                               Quality Data Analyst   \n2           2  Senior Data Analyst, Insights & Analytics Team...   \n3           3                                       Data Analyst   \n4           4                             Reporting Data Analyst   \n5           5                                       Data Analyst   \n6           6                       Business/Data Analyst (FP&A)   \n7           7                               Data Science Analyst   \n8           8                                       Data Analyst   \n9           9                      Data Analyst, Merchant Health   \n\n              Salary Estimate  \\\n0  $37K-$66K (Glassdoor est.)   \n1  $37K-$66K (Glassdoor est.)   \n2  $37K-$66K (Glassdoor est.)   \n3  $37K-$66K (Glassdoor est.)   \n4  $37K-$66K (Glassdoor est.)   \n5  $37K-$66K (Glassdoor est.)   \n6  $37K-$66K (Glassdoor est.)   \n7  $37K-$66K (Glassdoor est.)   \n8  $37K-$66K (Glassdoor est.)   \n9  $37K-$66K (Glassdoor est.)   \n\n                                     Job Description  Rating  \\\n0  Are you eager to roll up your sleeves and harn...     3.2   \n1  Overview\\n\\nProvides analytical and technical ...     3.8   \n2  We’re looking for a Senior Data Analyst who ha...     3.4   \n3  Requisition NumberRR-0001939\\nRemote:Yes\\nWe c...     4.1   \n4  ABOUT FANDUEL GROUP\\n\\nFanDuel Group is a worl...     3.9   \n5  About Cubist\\nCubist Systematic Strategies is ...     3.9   \n6  Two Sigma is a different kind of investment ma...     4.4   \n7  Data Science Analyst\\n\\nJob Details\\nLevel\\nEx...     3.7   \n8  The Data Analyst is an integral member of the ...     4.0   \n9  About Us\\n\\nRiskified is the AI platform power...     4.4   \n\n                              Company Name      Location  \\\n0           Vera Institute of Justice\\n3.2  New York, NY   \n1  Visiting Nurse Service of New York\\n3.8  New York, NY   \n2                         Squarespace\\n3.4  New York, NY   \n3                            Celerity\\n4.1  New York, NY   \n4                             FanDuel\\n3.9  New York, NY   \n5                             Point72\\n3.9  New York, NY   \n6                           Two Sigma\\n4.4  New York, NY   \n7             GNY Insurance Companies\\n3.7  New York, NY   \n8                                DMGT\\n4.0  New York, NY   \n9                           Riskified\\n4.4  New York, NY   \n\n             Headquarters                     Size  Founded  \\\n0            New York, NY     201 to 500 employees     1961   \n1            New York, NY         10000+ employees     1893   \n2            New York, NY   1001 to 5000 employees     2003   \n3              McLean, VA     201 to 500 employees     2002   \n4            New York, NY    501 to 1000 employees     2009   \n5            Stamford, CT   1001 to 5000 employees     2014   \n6            New York, NY   1001 to 5000 employees     2001   \n7            New York, NY     201 to 500 employees     1914   \n8  London, United Kingdom  5001 to 10000 employees     1896   \n9            New York, NY    501 to 1000 employees     2013   \n\n                Type of ownership                               Industry  \\\n0          Nonprofit Organization                      Social Assistance   \n1          Nonprofit Organization       Health Care Services & Hospitals   \n2               Company - Private                               Internet   \n3  Subsidiary or Business Segment                            IT Services   \n4               Company - Private                    Sports & Recreation   \n5               Company - Private  Investment Banking & Asset Management   \n6               Company - Private  Investment Banking & Asset Management   \n7               Company - Private                     Insurance Carriers   \n8                Company - Public       Venture Capital & Private Equity   \n9               Company - Private                 Research & Development   \n\n                             Sector                     Revenue  \\\n0                        Non-Profit  $100 to $500 million (USD)   \n1                       Health Care      $2 to $5 billion (USD)   \n2            Information Technology    Unknown / Non-Applicable   \n3            Information Technology   $50 to $100 million (USD)   \n4  Arts, Entertainment & Recreation  $100 to $500 million (USD)   \n5                           Finance    Unknown / Non-Applicable   \n6                           Finance    Unknown / Non-Applicable   \n7                         Insurance  $100 to $500 million (USD)   \n8                           Finance      $1 to $2 billion (USD)   \n9                 Business Services    Unknown / Non-Applicable   \n\n                        Competitors Easy Apply  \n0                                -1       True  \n1                                -1         -1  \n2                           GoDaddy         -1  \n3                                -1         -1  \n4                        DraftKings       True  \n5                                -1         -1  \n6                                -1         -1  \n7  Travelers, Chubb, Crum & Forster       True  \n8  Thomson Reuters, Hearst, Pearson         -1  \n9                  Signifyd, Forter         -1  ",
      "text/html": "<div>\n<style scoped>\n    .dataframe tbody tr th:only-of-type {\n        vertical-align: middle;\n    }\n\n    .dataframe tbody tr th {\n        vertical-align: top;\n    }\n\n    .dataframe thead th {\n        text-align: right;\n    }\n</style>\n<table border=\"1\" class=\"dataframe\">\n  <thead>\n    <tr style=\"text-align: right;\">\n      <th></th>\n      <th>Unnamed: 0</th>\n      <th>Job Title</th>\n      <th>Salary Estimate</th>\n      <th>Job Description</th>\n      <th>Rating</th>\n      <th>Company Name</th>\n      <th>Location</th>\n      <th>Headquarters</th>\n      <th>Size</th>\n      <th>Founded</th>\n      <th>Type of ownership</th>\n      <th>Industry</th>\n      <th>Sector</th>\n      <th>Revenue</th>\n      <th>Competitors</th>\n      <th>Easy Apply</th>\n    </tr>\n  </thead>\n  <tbody>\n    <tr>\n      <th>0</th>\n      <td>0</td>\n      <td>Data Analyst, Center on Immigration and Justic...</td>\n      <td>$37K-$66K (Glassdoor est.)</td>\n      <td>Are you eager to roll up your sleeves and harn...</td>\n      <td>3.2</td>\n      <td>Vera Institute of Justice\\n3.2</td>\n      <td>New York, NY</td>\n      <td>New York, NY</td>\n      <td>201 to 500 employees</td>\n      <td>1961</td>\n      <td>Nonprofit Organization</td>\n      <td>Social Assistance</td>\n      <td>Non-Profit</td>\n      <td>$100 to $500 million (USD)</td>\n      <td>-1</td>\n      <td>True</td>\n    </tr>\n    <tr>\n      <th>1</th>\n      <td>1</td>\n      <td>Quality Data Analyst</td>\n      <td>$37K-$66K (Glassdoor est.)</td>\n      <td>Overview\\n\\nProvides analytical and technical ...</td>\n      <td>3.8</td>\n      <td>Visiting Nurse Service of New York\\n3.8</td>\n      <td>New York, NY</td>\n      <td>New York, NY</td>\n      <td>10000+ employees</td>\n      <td>1893</td>\n      <td>Nonprofit Organization</td>\n      <td>Health Care Services &amp; Hospitals</td>\n      <td>Health Care</td>\n      <td>$2 to $5 billion (USD)</td>\n      <td>-1</td>\n      <td>-1</td>\n    </tr>\n    <tr>\n      <th>2</th>\n      <td>2</td>\n      <td>Senior Data Analyst, Insights &amp; Analytics Team...</td>\n      <td>$37K-$66K (Glassdoor est.)</td>\n      <td>We’re looking for a Senior Data Analyst who ha...</td>\n      <td>3.4</td>\n      <td>Squarespace\\n3.4</td>\n      <td>New York, NY</td>\n      <td>New York, NY</td>\n      <td>1001 to 5000 employees</td>\n      <td>2003</td>\n      <td>Company - Private</td>\n      <td>Internet</td>\n      <td>Information Technology</td>\n      <td>Unknown / Non-Applicable</td>\n      <td>GoDaddy</td>\n      <td>-1</td>\n    </tr>\n    <tr>\n      <th>3</th>\n      <td>3</td>\n      <td>Data Analyst</td>\n      <td>$37K-$66K (Glassdoor est.)</td>\n      <td>Requisition NumberRR-0001939\\nRemote:Yes\\nWe c...</td>\n      <td>4.1</td>\n      <td>Celerity\\n4.1</td>\n      <td>New York, NY</td>\n      <td>McLean, VA</td>\n      <td>201 to 500 employees</td>\n      <td>2002</td>\n      <td>Subsidiary or Business Segment</td>\n      <td>IT Services</td>\n      <td>Information Technology</td>\n      <td>$50 to $100 million (USD)</td>\n      <td>-1</td>\n      <td>-1</td>\n    </tr>\n    <tr>\n      <th>4</th>\n      <td>4</td>\n      <td>Reporting Data Analyst</td>\n      <td>$37K-$66K (Glassdoor est.)</td>\n      <td>ABOUT FANDUEL GROUP\\n\\nFanDuel Group is a worl...</td>\n      <td>3.9</td>\n      <td>FanDuel\\n3.9</td>\n      <td>New York, NY</td>\n      <td>New York, NY</td>\n      <td>501 to 1000 employees</td>\n      <td>2009</td>\n      <td>Company - Private</td>\n      <td>Sports &amp; Recreation</td>\n      <td>Arts, Entertainment &amp; Recreation</td>\n      <td>$100 to $500 million (USD)</td>\n      <td>DraftKings</td>\n      <td>True</td>\n    </tr>\n    <tr>\n      <th>5</th>\n      <td>5</td>\n      <td>Data Analyst</td>\n      <td>$37K-$66K (Glassdoor est.)</td>\n      <td>About Cubist\\nCubist Systematic Strategies is ...</td>\n      <td>3.9</td>\n      <td>Point72\\n3.9</td>\n      <td>New York, NY</td>\n      <td>Stamford, CT</td>\n      <td>1001 to 5000 employees</td>\n      <td>2014</td>\n      <td>Company - Private</td>\n      <td>Investment Banking &amp; Asset Management</td>\n      <td>Finance</td>\n      <td>Unknown / Non-Applicable</td>\n      <td>-1</td>\n      <td>-1</td>\n    </tr>\n    <tr>\n      <th>6</th>\n      <td>6</td>\n      <td>Business/Data Analyst (FP&amp;A)</td>\n      <td>$37K-$66K (Glassdoor est.)</td>\n      <td>Two Sigma is a different kind of investment ma...</td>\n      <td>4.4</td>\n      <td>Two Sigma\\n4.4</td>\n      <td>New York, NY</td>\n      <td>New York, NY</td>\n      <td>1001 to 5000 employees</td>\n      <td>2001</td>\n      <td>Company - Private</td>\n      <td>Investment Banking &amp; Asset Management</td>\n      <td>Finance</td>\n      <td>Unknown / Non-Applicable</td>\n      <td>-1</td>\n      <td>-1</td>\n    </tr>\n    <tr>\n      <th>7</th>\n      <td>7</td>\n      <td>Data Science Analyst</td>\n      <td>$37K-$66K (Glassdoor est.)</td>\n      <td>Data Science Analyst\\n\\nJob Details\\nLevel\\nEx...</td>\n      <td>3.7</td>\n      <td>GNY Insurance Companies\\n3.7</td>\n      <td>New York, NY</td>\n      <td>New York, NY</td>\n      <td>201 to 500 employees</td>\n      <td>1914</td>\n      <td>Company - Private</td>\n      <td>Insurance Carriers</td>\n      <td>Insurance</td>\n      <td>$100 to $500 million (USD)</td>\n      <td>Travelers, Chubb, Crum &amp; Forster</td>\n      <td>True</td>\n    </tr>\n    <tr>\n      <th>8</th>\n      <td>8</td>\n      <td>Data Analyst</td>\n      <td>$37K-$66K (Glassdoor est.)</td>\n      <td>The Data Analyst is an integral member of the ...</td>\n      <td>4.0</td>\n      <td>DMGT\\n4.0</td>\n      <td>New York, NY</td>\n      <td>London, United Kingdom</td>\n      <td>5001 to 10000 employees</td>\n      <td>1896</td>\n      <td>Company - Public</td>\n      <td>Venture Capital &amp; Private Equity</td>\n      <td>Finance</td>\n      <td>$1 to $2 billion (USD)</td>\n      <td>Thomson Reuters, Hearst, Pearson</td>\n      <td>-1</td>\n    </tr>\n    <tr>\n      <th>9</th>\n      <td>9</td>\n      <td>Data Analyst, Merchant Health</td>\n      <td>$37K-$66K (Glassdoor est.)</td>\n      <td>About Us\\n\\nRiskified is the AI platform power...</td>\n      <td>4.4</td>\n      <td>Riskified\\n4.4</td>\n      <td>New York, NY</td>\n      <td>New York, NY</td>\n      <td>501 to 1000 employees</td>\n      <td>2013</td>\n      <td>Company - Private</td>\n      <td>Research &amp; Development</td>\n      <td>Business Services</td>\n      <td>Unknown / Non-Applicable</td>\n      <td>Signifyd, Forter</td>\n      <td>-1</td>\n    </tr>\n  </tbody>\n</table>\n</div>"
     },
     "execution_count": 53,
     "metadata": {},
     "output_type": "execute_result"
    }
   ],
   "source": [
    "data = pd.read_csv(os.path.join('..', 'raw_data', 'DataAnalyst.csv'))\n",
    "data.head(10)"
   ],
   "metadata": {
    "collapsed": false,
    "pycharm": {
     "name": "#%%\n"
    }
   }
  },
  {
   "cell_type": "markdown",
   "source": [
    "First sight impression:\n",
    "\n",
    "Some columns that don't seem helpful answering the questions can be deleted:\n",
    "* `Unnamed: 0`\n",
    "* `Easy Apply`\n",
    "* `Competitors`\n",
    "* `Headquarters`\n",
    "* `Founded`\n",
    "* `Type of ownership`\n",
    "* `Sector`\n",
    "* `Revenue`\n",
    "\n",
    "There are a few `-1` values scattered through the columns.\n",
    "Deleting above columns partially deals with the `-1`/rubbish values.\n",
    "But wait, there's more...\n",
    "\n",
    "The `Job Titles` column is noisy. The titles should be filtered\n",
    "and replaced with simpler ones:\n",
    "* Junior Data Analyst\n",
    "* Data Analyst\n",
    "* Senior Data Analyst\n",
    "\n",
    "`Salary Estimate` isn't helpful in this form as well. This column should be numeric.\n",
    "I will delete it and instead add two new columns for the lower and upper salary range."
   ],
   "metadata": {
    "collapsed": false
   }
  },
  {
   "cell_type": "code",
   "execution_count": 46,
   "outputs": [],
   "source": [
    "# Drop some columns that are not important to answer these questions right now\n",
    "# 'Unnamed: 0', 'Easy Apply', 'Competitors', 'Headquarters', 'Founded',\n",
    "# 'Type of ownership', 'Sector', 'Revenue'\n",
    "\n",
    "data = data.drop(columns=['Unnamed: 0', 'Easy Apply', 'Competitors',\n",
    "                          'Headquarters', 'Founded', 'Type of ownership',\n",
    "                          'Sector', 'Revenue'])"
   ],
   "metadata": {
    "collapsed": false,
    "pycharm": {
     "name": "#%%\n"
    }
   }
  },
  {
   "cell_type": "code",
   "execution_count": 43,
   "outputs": [
    {
     "data": {
      "text/plain": "array(['Data Analyst, Center on Immigration and Justice (CIJ)',\n       'Quality Data Analyst',\n       'Senior Data Analyst, Insights & Analytics Team [Customer Operations]',\n       ..., 'Senior Data Analyst (Corporate Audit)',\n       'Technical Business Analyst (SQL, Data analytics, ETL)',\n       'Senior Quality Data Analyst'], dtype=object)"
     },
     "execution_count": 43,
     "metadata": {},
     "output_type": "execute_result"
    }
   ],
   "source": [
    "# What kind of values are in the dataset per column\n",
    "\n",
    "test = data['Job Title'].unique()#\n",
    "test"
   ],
   "metadata": {
    "collapsed": false,
    "pycharm": {
     "name": "#%%\n"
    }
   }
  },
  {
   "cell_type": "code",
   "execution_count": 27,
   "outputs": [
    {
     "data": {
      "text/plain": "                                              Job Title  \\\n0     Data Analyst, Center on Immigration and Justic...   \n1                                  Quality Data Analyst   \n2     Senior Data Analyst, Insights & Analytics Team...   \n3                                          Data Analyst   \n4                                Reporting Data Analyst   \n...                                                 ...   \n2248  RQS - IHHA - 201900004460 -1q Data Security An...   \n2249              Senior Data Analyst (Corporate Audit)   \n2250  Technical Business Analyst (SQL, Data analytic...   \n2251                Data Analyst 3, Customer Experience   \n2252                        Senior Quality Data Analyst   \n\n                  Salary Estimate  \\\n0      $37K-$66K (Glassdoor est.)   \n1      $37K-$66K (Glassdoor est.)   \n2      $37K-$66K (Glassdoor est.)   \n3      $37K-$66K (Glassdoor est.)   \n4      $37K-$66K (Glassdoor est.)   \n...                           ...   \n2248  $78K-$104K (Glassdoor est.)   \n2249  $78K-$104K (Glassdoor est.)   \n2250  $78K-$104K (Glassdoor est.)   \n2251  $78K-$104K (Glassdoor est.)   \n2252  $78K-$104K (Glassdoor est.)   \n\n                                        Job Description  Rating  \\\n0     Are you eager to roll up your sleeves and harn...     3.2   \n1     Overview\\n\\nProvides analytical and technical ...     3.8   \n2     We’re looking for a Senior Data Analyst who ha...     3.4   \n3     Requisition NumberRR-0001939\\nRemote:Yes\\nWe c...     4.1   \n4     ABOUT FANDUEL GROUP\\n\\nFanDuel Group is a worl...     3.9   \n...                                                 ...     ...   \n2248  Maintains systems to protect data from unautho...     2.5   \n2249  Position:\\nSenior Data Analyst (Corporate Audi...     2.9   \n2250  Title: Technical Business Analyst (SQL, Data a...     NaN   \n2251  Summary\\n\\nResponsible for working cross-funct...     3.1   \n2252  You.\\n\\nYou bring your body, mind, heart and s...     3.4   \n\n                                 Company Name        Location  \\\n0              Vera Institute of Justice\\n3.2    New York, NY   \n1     Visiting Nurse Service of New York\\n3.8    New York, NY   \n2                            Squarespace\\n3.4    New York, NY   \n3                               Celerity\\n4.1    New York, NY   \n4                                FanDuel\\n3.9    New York, NY   \n...                                       ...             ...   \n2248                       Avacend, Inc.\\n2.5      Denver, CO   \n2249                   Arrow Electronics\\n2.9  Centennial, CO   \n2250                                 Spiceorb      Denver, CO   \n2251         Contingent Network Services\\n3.1  Centennial, CO   \n2252                          SCL Health\\n3.4  Broomfield, CO   \n\n                        Size                                 Industry  \n0       201 to 500 employees                        Social Assistance  \n1           10000+ employees         Health Care Services & Hospitals  \n2     1001 to 5000 employees                                 Internet  \n3       201 to 500 employees                              IT Services  \n4      501 to 1000 employees                      Sports & Recreation  \n...                      ...                                      ...  \n2248     51 to 200 employees                   Staffing & Outsourcing  \n2249        10000+ employees                                Wholesale  \n2250                     NaN                                      NaN  \n2251    201 to 500 employees  Enterprise Software & Network Solutions  \n2252        10000+ employees         Health Care Services & Hospitals  \n\n[2253 rows x 8 columns]",
      "text/html": "<div>\n<style scoped>\n    .dataframe tbody tr th:only-of-type {\n        vertical-align: middle;\n    }\n\n    .dataframe tbody tr th {\n        vertical-align: top;\n    }\n\n    .dataframe thead th {\n        text-align: right;\n    }\n</style>\n<table border=\"1\" class=\"dataframe\">\n  <thead>\n    <tr style=\"text-align: right;\">\n      <th></th>\n      <th>Job Title</th>\n      <th>Salary Estimate</th>\n      <th>Job Description</th>\n      <th>Rating</th>\n      <th>Company Name</th>\n      <th>Location</th>\n      <th>Size</th>\n      <th>Industry</th>\n    </tr>\n  </thead>\n  <tbody>\n    <tr>\n      <th>0</th>\n      <td>Data Analyst, Center on Immigration and Justic...</td>\n      <td>$37K-$66K (Glassdoor est.)</td>\n      <td>Are you eager to roll up your sleeves and harn...</td>\n      <td>3.2</td>\n      <td>Vera Institute of Justice\\n3.2</td>\n      <td>New York, NY</td>\n      <td>201 to 500 employees</td>\n      <td>Social Assistance</td>\n    </tr>\n    <tr>\n      <th>1</th>\n      <td>Quality Data Analyst</td>\n      <td>$37K-$66K (Glassdoor est.)</td>\n      <td>Overview\\n\\nProvides analytical and technical ...</td>\n      <td>3.8</td>\n      <td>Visiting Nurse Service of New York\\n3.8</td>\n      <td>New York, NY</td>\n      <td>10000+ employees</td>\n      <td>Health Care Services &amp; Hospitals</td>\n    </tr>\n    <tr>\n      <th>2</th>\n      <td>Senior Data Analyst, Insights &amp; Analytics Team...</td>\n      <td>$37K-$66K (Glassdoor est.)</td>\n      <td>We’re looking for a Senior Data Analyst who ha...</td>\n      <td>3.4</td>\n      <td>Squarespace\\n3.4</td>\n      <td>New York, NY</td>\n      <td>1001 to 5000 employees</td>\n      <td>Internet</td>\n    </tr>\n    <tr>\n      <th>3</th>\n      <td>Data Analyst</td>\n      <td>$37K-$66K (Glassdoor est.)</td>\n      <td>Requisition NumberRR-0001939\\nRemote:Yes\\nWe c...</td>\n      <td>4.1</td>\n      <td>Celerity\\n4.1</td>\n      <td>New York, NY</td>\n      <td>201 to 500 employees</td>\n      <td>IT Services</td>\n    </tr>\n    <tr>\n      <th>4</th>\n      <td>Reporting Data Analyst</td>\n      <td>$37K-$66K (Glassdoor est.)</td>\n      <td>ABOUT FANDUEL GROUP\\n\\nFanDuel Group is a worl...</td>\n      <td>3.9</td>\n      <td>FanDuel\\n3.9</td>\n      <td>New York, NY</td>\n      <td>501 to 1000 employees</td>\n      <td>Sports &amp; Recreation</td>\n    </tr>\n    <tr>\n      <th>...</th>\n      <td>...</td>\n      <td>...</td>\n      <td>...</td>\n      <td>...</td>\n      <td>...</td>\n      <td>...</td>\n      <td>...</td>\n      <td>...</td>\n    </tr>\n    <tr>\n      <th>2248</th>\n      <td>RQS - IHHA - 201900004460 -1q Data Security An...</td>\n      <td>$78K-$104K (Glassdoor est.)</td>\n      <td>Maintains systems to protect data from unautho...</td>\n      <td>2.5</td>\n      <td>Avacend, Inc.\\n2.5</td>\n      <td>Denver, CO</td>\n      <td>51 to 200 employees</td>\n      <td>Staffing &amp; Outsourcing</td>\n    </tr>\n    <tr>\n      <th>2249</th>\n      <td>Senior Data Analyst (Corporate Audit)</td>\n      <td>$78K-$104K (Glassdoor est.)</td>\n      <td>Position:\\nSenior Data Analyst (Corporate Audi...</td>\n      <td>2.9</td>\n      <td>Arrow Electronics\\n2.9</td>\n      <td>Centennial, CO</td>\n      <td>10000+ employees</td>\n      <td>Wholesale</td>\n    </tr>\n    <tr>\n      <th>2250</th>\n      <td>Technical Business Analyst (SQL, Data analytic...</td>\n      <td>$78K-$104K (Glassdoor est.)</td>\n      <td>Title: Technical Business Analyst (SQL, Data a...</td>\n      <td>NaN</td>\n      <td>Spiceorb</td>\n      <td>Denver, CO</td>\n      <td>NaN</td>\n      <td>NaN</td>\n    </tr>\n    <tr>\n      <th>2251</th>\n      <td>Data Analyst 3, Customer Experience</td>\n      <td>$78K-$104K (Glassdoor est.)</td>\n      <td>Summary\\n\\nResponsible for working cross-funct...</td>\n      <td>3.1</td>\n      <td>Contingent Network Services\\n3.1</td>\n      <td>Centennial, CO</td>\n      <td>201 to 500 employees</td>\n      <td>Enterprise Software &amp; Network Solutions</td>\n    </tr>\n    <tr>\n      <th>2252</th>\n      <td>Senior Quality Data Analyst</td>\n      <td>$78K-$104K (Glassdoor est.)</td>\n      <td>You.\\n\\nYou bring your body, mind, heart and s...</td>\n      <td>3.4</td>\n      <td>SCL Health\\n3.4</td>\n      <td>Broomfield, CO</td>\n      <td>10000+ employees</td>\n      <td>Health Care Services &amp; Hospitals</td>\n    </tr>\n  </tbody>\n</table>\n<p>2253 rows × 8 columns</p>\n</div>"
     },
     "execution_count": 27,
     "metadata": {},
     "output_type": "execute_result"
    }
   ],
   "source": [
    "\n",
    "# data[data['Rating'] == -1]\n",
    "\n",
    "data = data.replace({-1: np.nan, '-1': np.nan})\n",
    "data"
   ],
   "metadata": {
    "collapsed": false,
    "pycharm": {
     "name": "#%%\n"
    }
   }
  },
  {
   "cell_type": "code",
   "execution_count": 38,
   "outputs": [
    {
     "data": {
      "text/plain": "      Unnamed: 0                                          Job Title  \\\n0              0  Data Analyst, Center on Immigration and Justic...   \n1              1                               Quality Data Analyst   \n2              2  Senior Data Analyst, Insights & Analytics Team...   \n3              3                                       Data Analyst   \n4              4                             Reporting Data Analyst   \n...          ...                                                ...   \n2248        2248  RQS - IHHA - 201900004460 -1q Data Security An...   \n2249        2249              Senior Data Analyst (Corporate Audit)   \n2250        2250  Technical Business Analyst (SQL, Data analytic...   \n2251        2251                Data Analyst 3, Customer Experience   \n2252        2252                        Senior Quality Data Analyst   \n\n                  Salary Estimate  \\\n0      $37K-$66K (Glassdoor est.)   \n1      $37K-$66K (Glassdoor est.)   \n2      $37K-$66K (Glassdoor est.)   \n3      $37K-$66K (Glassdoor est.)   \n4      $37K-$66K (Glassdoor est.)   \n...                           ...   \n2248  $78K-$104K (Glassdoor est.)   \n2249  $78K-$104K (Glassdoor est.)   \n2250  $78K-$104K (Glassdoor est.)   \n2251  $78K-$104K (Glassdoor est.)   \n2252  $78K-$104K (Glassdoor est.)   \n\n                                        Job Description  Rating  \\\n0     Are you eager to roll up your sleeves and harn...     3.2   \n1     Overview\\n\\nProvides analytical and technical ...     3.8   \n2     We’re looking for a Senior Data Analyst who ha...     3.4   \n3     Requisition NumberRR-0001939\\nRemote:Yes\\nWe c...     4.1   \n4     ABOUT FANDUEL GROUP\\n\\nFanDuel Group is a worl...     3.9   \n...                                                 ...     ...   \n2248  Maintains systems to protect data from unautho...     2.5   \n2249  Position:\\nSenior Data Analyst (Corporate Audi...     2.9   \n2250  Title: Technical Business Analyst (SQL, Data a...    -1.0   \n2251  Summary\\n\\nResponsible for working cross-funct...     3.1   \n2252  You.\\n\\nYou bring your body, mind, heart and s...     3.4   \n\n                                 Company Name        Location  \\\n0              Vera Institute of Justice\\n3.2    New York, NY   \n1     Visiting Nurse Service of New York\\n3.8    New York, NY   \n2                            Squarespace\\n3.4    New York, NY   \n3                               Celerity\\n4.1    New York, NY   \n4                                FanDuel\\n3.9    New York, NY   \n...                                       ...             ...   \n2248                       Avacend, Inc.\\n2.5      Denver, CO   \n2249                   Arrow Electronics\\n2.9  Centennial, CO   \n2250                                 Spiceorb      Denver, CO   \n2251         Contingent Network Services\\n3.1  Centennial, CO   \n2252                          SCL Health\\n3.4  Broomfield, CO   \n\n          Headquarters                    Size  Founded  \\\n0         New York, NY    201 to 500 employees     1961   \n1         New York, NY        10000+ employees     1893   \n2         New York, NY  1001 to 5000 employees     2003   \n3           McLean, VA    201 to 500 employees     2002   \n4         New York, NY   501 to 1000 employees     2009   \n...                ...                     ...      ...   \n2248    Alpharetta, GA     51 to 200 employees       -1   \n2249    Centennial, CO        10000+ employees     1935   \n2250               NaN                     NaN       -1   \n2251  West Chester, OH    201 to 500 employees     1984   \n2252    Broomfield, CO        10000+ employees     1864   \n\n                   Type of ownership                                 Industry  \\\n0             Nonprofit Organization                        Social Assistance   \n1             Nonprofit Organization         Health Care Services & Hospitals   \n2                  Company - Private                                 Internet   \n3     Subsidiary or Business Segment                              IT Services   \n4                  Company - Private                      Sports & Recreation   \n...                              ...                                      ...   \n2248               Company - Private                   Staffing & Outsourcing   \n2249                Company - Public                                Wholesale   \n2250                             NaN                                      NaN   \n2251               Company - Private  Enterprise Software & Network Solutions   \n2252          Nonprofit Organization         Health Care Services & Hospitals   \n\n                                Sector                     Revenue  \\\n0                           Non-Profit  $100 to $500 million (USD)   \n1                          Health Care      $2 to $5 billion (USD)   \n2               Information Technology    Unknown / Non-Applicable   \n3               Information Technology   $50 to $100 million (USD)   \n4     Arts, Entertainment & Recreation  $100 to $500 million (USD)   \n...                                ...                         ...   \n2248                 Business Services    Unknown / Non-Applicable   \n2249                 Business Services          $10+ billion (USD)   \n2250                               NaN                         NaN   \n2251            Information Technology    $25 to $50 million (USD)   \n2252                       Health Care      $2 to $5 billion (USD)   \n\n                                            Competitors Easy Apply  \n0                                                   NaN       True  \n1                                                   NaN        NaN  \n2                                               GoDaddy        NaN  \n3                                                   NaN        NaN  \n4                                            DraftKings       True  \n...                                                 ...        ...  \n2248                                                NaN        NaN  \n2249                     Avnet, Ingram Micro, Tech Data        NaN  \n2250                                                NaN        NaN  \n2251                                                NaN        NaN  \n2252  Centura Health, HealthONE, Denver Health and H...        NaN  \n\n[2253 rows x 16 columns]",
      "text/html": "<div>\n<style scoped>\n    .dataframe tbody tr th:only-of-type {\n        vertical-align: middle;\n    }\n\n    .dataframe tbody tr th {\n        vertical-align: top;\n    }\n\n    .dataframe thead th {\n        text-align: right;\n    }\n</style>\n<table border=\"1\" class=\"dataframe\">\n  <thead>\n    <tr style=\"text-align: right;\">\n      <th></th>\n      <th>Unnamed: 0</th>\n      <th>Job Title</th>\n      <th>Salary Estimate</th>\n      <th>Job Description</th>\n      <th>Rating</th>\n      <th>Company Name</th>\n      <th>Location</th>\n      <th>Headquarters</th>\n      <th>Size</th>\n      <th>Founded</th>\n      <th>Type of ownership</th>\n      <th>Industry</th>\n      <th>Sector</th>\n      <th>Revenue</th>\n      <th>Competitors</th>\n      <th>Easy Apply</th>\n    </tr>\n  </thead>\n  <tbody>\n    <tr>\n      <th>0</th>\n      <td>0</td>\n      <td>Data Analyst, Center on Immigration and Justic...</td>\n      <td>$37K-$66K (Glassdoor est.)</td>\n      <td>Are you eager to roll up your sleeves and harn...</td>\n      <td>3.2</td>\n      <td>Vera Institute of Justice\\n3.2</td>\n      <td>New York, NY</td>\n      <td>New York, NY</td>\n      <td>201 to 500 employees</td>\n      <td>1961</td>\n      <td>Nonprofit Organization</td>\n      <td>Social Assistance</td>\n      <td>Non-Profit</td>\n      <td>$100 to $500 million (USD)</td>\n      <td>NaN</td>\n      <td>True</td>\n    </tr>\n    <tr>\n      <th>1</th>\n      <td>1</td>\n      <td>Quality Data Analyst</td>\n      <td>$37K-$66K (Glassdoor est.)</td>\n      <td>Overview\\n\\nProvides analytical and technical ...</td>\n      <td>3.8</td>\n      <td>Visiting Nurse Service of New York\\n3.8</td>\n      <td>New York, NY</td>\n      <td>New York, NY</td>\n      <td>10000+ employees</td>\n      <td>1893</td>\n      <td>Nonprofit Organization</td>\n      <td>Health Care Services &amp; Hospitals</td>\n      <td>Health Care</td>\n      <td>$2 to $5 billion (USD)</td>\n      <td>NaN</td>\n      <td>NaN</td>\n    </tr>\n    <tr>\n      <th>2</th>\n      <td>2</td>\n      <td>Senior Data Analyst, Insights &amp; Analytics Team...</td>\n      <td>$37K-$66K (Glassdoor est.)</td>\n      <td>We’re looking for a Senior Data Analyst who ha...</td>\n      <td>3.4</td>\n      <td>Squarespace\\n3.4</td>\n      <td>New York, NY</td>\n      <td>New York, NY</td>\n      <td>1001 to 5000 employees</td>\n      <td>2003</td>\n      <td>Company - Private</td>\n      <td>Internet</td>\n      <td>Information Technology</td>\n      <td>Unknown / Non-Applicable</td>\n      <td>GoDaddy</td>\n      <td>NaN</td>\n    </tr>\n    <tr>\n      <th>3</th>\n      <td>3</td>\n      <td>Data Analyst</td>\n      <td>$37K-$66K (Glassdoor est.)</td>\n      <td>Requisition NumberRR-0001939\\nRemote:Yes\\nWe c...</td>\n      <td>4.1</td>\n      <td>Celerity\\n4.1</td>\n      <td>New York, NY</td>\n      <td>McLean, VA</td>\n      <td>201 to 500 employees</td>\n      <td>2002</td>\n      <td>Subsidiary or Business Segment</td>\n      <td>IT Services</td>\n      <td>Information Technology</td>\n      <td>$50 to $100 million (USD)</td>\n      <td>NaN</td>\n      <td>NaN</td>\n    </tr>\n    <tr>\n      <th>4</th>\n      <td>4</td>\n      <td>Reporting Data Analyst</td>\n      <td>$37K-$66K (Glassdoor est.)</td>\n      <td>ABOUT FANDUEL GROUP\\n\\nFanDuel Group is a worl...</td>\n      <td>3.9</td>\n      <td>FanDuel\\n3.9</td>\n      <td>New York, NY</td>\n      <td>New York, NY</td>\n      <td>501 to 1000 employees</td>\n      <td>2009</td>\n      <td>Company - Private</td>\n      <td>Sports &amp; Recreation</td>\n      <td>Arts, Entertainment &amp; Recreation</td>\n      <td>$100 to $500 million (USD)</td>\n      <td>DraftKings</td>\n      <td>True</td>\n    </tr>\n    <tr>\n      <th>...</th>\n      <td>...</td>\n      <td>...</td>\n      <td>...</td>\n      <td>...</td>\n      <td>...</td>\n      <td>...</td>\n      <td>...</td>\n      <td>...</td>\n      <td>...</td>\n      <td>...</td>\n      <td>...</td>\n      <td>...</td>\n      <td>...</td>\n      <td>...</td>\n      <td>...</td>\n      <td>...</td>\n    </tr>\n    <tr>\n      <th>2248</th>\n      <td>2248</td>\n      <td>RQS - IHHA - 201900004460 -1q Data Security An...</td>\n      <td>$78K-$104K (Glassdoor est.)</td>\n      <td>Maintains systems to protect data from unautho...</td>\n      <td>2.5</td>\n      <td>Avacend, Inc.\\n2.5</td>\n      <td>Denver, CO</td>\n      <td>Alpharetta, GA</td>\n      <td>51 to 200 employees</td>\n      <td>-1</td>\n      <td>Company - Private</td>\n      <td>Staffing &amp; Outsourcing</td>\n      <td>Business Services</td>\n      <td>Unknown / Non-Applicable</td>\n      <td>NaN</td>\n      <td>NaN</td>\n    </tr>\n    <tr>\n      <th>2249</th>\n      <td>2249</td>\n      <td>Senior Data Analyst (Corporate Audit)</td>\n      <td>$78K-$104K (Glassdoor est.)</td>\n      <td>Position:\\nSenior Data Analyst (Corporate Audi...</td>\n      <td>2.9</td>\n      <td>Arrow Electronics\\n2.9</td>\n      <td>Centennial, CO</td>\n      <td>Centennial, CO</td>\n      <td>10000+ employees</td>\n      <td>1935</td>\n      <td>Company - Public</td>\n      <td>Wholesale</td>\n      <td>Business Services</td>\n      <td>$10+ billion (USD)</td>\n      <td>Avnet, Ingram Micro, Tech Data</td>\n      <td>NaN</td>\n    </tr>\n    <tr>\n      <th>2250</th>\n      <td>2250</td>\n      <td>Technical Business Analyst (SQL, Data analytic...</td>\n      <td>$78K-$104K (Glassdoor est.)</td>\n      <td>Title: Technical Business Analyst (SQL, Data a...</td>\n      <td>-1.0</td>\n      <td>Spiceorb</td>\n      <td>Denver, CO</td>\n      <td>NaN</td>\n      <td>NaN</td>\n      <td>-1</td>\n      <td>NaN</td>\n      <td>NaN</td>\n      <td>NaN</td>\n      <td>NaN</td>\n      <td>NaN</td>\n      <td>NaN</td>\n    </tr>\n    <tr>\n      <th>2251</th>\n      <td>2251</td>\n      <td>Data Analyst 3, Customer Experience</td>\n      <td>$78K-$104K (Glassdoor est.)</td>\n      <td>Summary\\n\\nResponsible for working cross-funct...</td>\n      <td>3.1</td>\n      <td>Contingent Network Services\\n3.1</td>\n      <td>Centennial, CO</td>\n      <td>West Chester, OH</td>\n      <td>201 to 500 employees</td>\n      <td>1984</td>\n      <td>Company - Private</td>\n      <td>Enterprise Software &amp; Network Solutions</td>\n      <td>Information Technology</td>\n      <td>$25 to $50 million (USD)</td>\n      <td>NaN</td>\n      <td>NaN</td>\n    </tr>\n    <tr>\n      <th>2252</th>\n      <td>2252</td>\n      <td>Senior Quality Data Analyst</td>\n      <td>$78K-$104K (Glassdoor est.)</td>\n      <td>You.\\n\\nYou bring your body, mind, heart and s...</td>\n      <td>3.4</td>\n      <td>SCL Health\\n3.4</td>\n      <td>Broomfield, CO</td>\n      <td>Broomfield, CO</td>\n      <td>10000+ employees</td>\n      <td>1864</td>\n      <td>Nonprofit Organization</td>\n      <td>Health Care Services &amp; Hospitals</td>\n      <td>Health Care</td>\n      <td>$2 to $5 billion (USD)</td>\n      <td>Centura Health, HealthONE, Denver Health and H...</td>\n      <td>NaN</td>\n    </tr>\n  </tbody>\n</table>\n<p>2253 rows × 16 columns</p>\n</div>"
     },
     "execution_count": 38,
     "metadata": {},
     "output_type": "execute_result"
    }
   ],
   "source": [
    "clean_data = raw_data.replace('-1', np.nan)\n",
    "clean_data"
   ],
   "metadata": {
    "collapsed": false,
    "pycharm": {
     "name": "#%%\n"
    }
   }
  },
  {
   "cell_type": "code",
   "execution_count": 31,
   "outputs": [
    {
     "data": {
      "text/plain": "                                              Job Title  \\\n0     Data Analyst, Center on Immigration and Justic...   \n1                                  Quality Data Analyst   \n2     Senior Data Analyst, Insights & Analytics Team...   \n3                                          Data Analyst   \n4                                Reporting Data Analyst   \n...                                                 ...   \n2247  Marketing/Communications - Data Analyst-Marketing   \n2248  RQS - IHHA - 201900004460 -1q Data Security An...   \n2249              Senior Data Analyst (Corporate Audit)   \n2251                Data Analyst 3, Customer Experience   \n2252                        Senior Quality Data Analyst   \n\n                  Salary Estimate  \\\n0      $37K-$66K (Glassdoor est.)   \n1      $37K-$66K (Glassdoor est.)   \n2      $37K-$66K (Glassdoor est.)   \n3      $37K-$66K (Glassdoor est.)   \n4      $37K-$66K (Glassdoor est.)   \n...                           ...   \n2247  $78K-$104K (Glassdoor est.)   \n2248  $78K-$104K (Glassdoor est.)   \n2249  $78K-$104K (Glassdoor est.)   \n2251  $78K-$104K (Glassdoor est.)   \n2252  $78K-$104K (Glassdoor est.)   \n\n                                        Job Description  Rating  \\\n0     Are you eager to roll up your sleeves and harn...     3.2   \n1     Overview\\n\\nProvides analytical and technical ...     3.8   \n2     We’re looking for a Senior Data Analyst who ha...     3.4   \n3     Requisition NumberRR-0001939\\nRemote:Yes\\nWe c...     4.1   \n4     ABOUT FANDUEL GROUP\\n\\nFanDuel Group is a worl...     3.9   \n...                                                 ...     ...   \n2247  Job Description\\nJob Title: Marketing/Communic...     4.1   \n2248  Maintains systems to protect data from unautho...     2.5   \n2249  Position:\\nSenior Data Analyst (Corporate Audi...     2.9   \n2251  Summary\\n\\nResponsible for working cross-funct...     3.1   \n2252  You.\\n\\nYou bring your body, mind, heart and s...     3.4   \n\n                                 Company Name        Location  \\\n0              Vera Institute of Justice\\n3.2    New York, NY   \n1     Visiting Nurse Service of New York\\n3.8    New York, NY   \n2                            Squarespace\\n3.4    New York, NY   \n3                               Celerity\\n4.1    New York, NY   \n4                                FanDuel\\n3.9    New York, NY   \n...                                       ...             ...   \n2247          APN Software Services Inc.\\n4.1  Broomfield, CO   \n2248                       Avacend, Inc.\\n2.5      Denver, CO   \n2249                   Arrow Electronics\\n2.9  Centennial, CO   \n2251         Contingent Network Services\\n3.1  Centennial, CO   \n2252                          SCL Health\\n3.4  Broomfield, CO   \n\n          Headquarters                    Size  Founded  \\\n0         New York, NY    201 to 500 employees     1961   \n1         New York, NY        10000+ employees     1893   \n2         New York, NY  1001 to 5000 employees     2003   \n3           McLean, VA    201 to 500 employees     2002   \n4         New York, NY   501 to 1000 employees     2009   \n...                ...                     ...      ...   \n2247        Newark, CA     51 to 200 employees       -1   \n2248    Alpharetta, GA     51 to 200 employees       -1   \n2249    Centennial, CO        10000+ employees     1935   \n2251  West Chester, OH    201 to 500 employees     1984   \n2252    Broomfield, CO        10000+ employees     1864   \n\n                   Type of ownership                                 Industry  \\\n0             Nonprofit Organization                        Social Assistance   \n1             Nonprofit Organization         Health Care Services & Hospitals   \n2                  Company - Private                                 Internet   \n3     Subsidiary or Business Segment                              IT Services   \n4                  Company - Private                      Sports & Recreation   \n...                              ...                                      ...   \n2247               Company - Private             Computer Hardware & Software   \n2248               Company - Private                   Staffing & Outsourcing   \n2249                Company - Public                                Wholesale   \n2251               Company - Private  Enterprise Software & Network Solutions   \n2252          Nonprofit Organization         Health Care Services & Hospitals   \n\n                                Sector                     Revenue  \n0                           Non-Profit  $100 to $500 million (USD)  \n1                          Health Care      $2 to $5 billion (USD)  \n2               Information Technology    Unknown / Non-Applicable  \n3               Information Technology   $50 to $100 million (USD)  \n4     Arts, Entertainment & Recreation  $100 to $500 million (USD)  \n...                                ...                         ...  \n2247            Information Technology    $25 to $50 million (USD)  \n2248                 Business Services    Unknown / Non-Applicable  \n2249                 Business Services          $10+ billion (USD)  \n2251            Information Technology    $25 to $50 million (USD)  \n2252                       Health Care      $2 to $5 billion (USD)  \n\n[2081 rows x 13 columns]",
      "text/html": "<div>\n<style scoped>\n    .dataframe tbody tr th:only-of-type {\n        vertical-align: middle;\n    }\n\n    .dataframe tbody tr th {\n        vertical-align: top;\n    }\n\n    .dataframe thead th {\n        text-align: right;\n    }\n</style>\n<table border=\"1\" class=\"dataframe\">\n  <thead>\n    <tr style=\"text-align: right;\">\n      <th></th>\n      <th>Job Title</th>\n      <th>Salary Estimate</th>\n      <th>Job Description</th>\n      <th>Rating</th>\n      <th>Company Name</th>\n      <th>Location</th>\n      <th>Headquarters</th>\n      <th>Size</th>\n      <th>Founded</th>\n      <th>Type of ownership</th>\n      <th>Industry</th>\n      <th>Sector</th>\n      <th>Revenue</th>\n    </tr>\n  </thead>\n  <tbody>\n    <tr>\n      <th>0</th>\n      <td>Data Analyst, Center on Immigration and Justic...</td>\n      <td>$37K-$66K (Glassdoor est.)</td>\n      <td>Are you eager to roll up your sleeves and harn...</td>\n      <td>3.2</td>\n      <td>Vera Institute of Justice\\n3.2</td>\n      <td>New York, NY</td>\n      <td>New York, NY</td>\n      <td>201 to 500 employees</td>\n      <td>1961</td>\n      <td>Nonprofit Organization</td>\n      <td>Social Assistance</td>\n      <td>Non-Profit</td>\n      <td>$100 to $500 million (USD)</td>\n    </tr>\n    <tr>\n      <th>1</th>\n      <td>Quality Data Analyst</td>\n      <td>$37K-$66K (Glassdoor est.)</td>\n      <td>Overview\\n\\nProvides analytical and technical ...</td>\n      <td>3.8</td>\n      <td>Visiting Nurse Service of New York\\n3.8</td>\n      <td>New York, NY</td>\n      <td>New York, NY</td>\n      <td>10000+ employees</td>\n      <td>1893</td>\n      <td>Nonprofit Organization</td>\n      <td>Health Care Services &amp; Hospitals</td>\n      <td>Health Care</td>\n      <td>$2 to $5 billion (USD)</td>\n    </tr>\n    <tr>\n      <th>2</th>\n      <td>Senior Data Analyst, Insights &amp; Analytics Team...</td>\n      <td>$37K-$66K (Glassdoor est.)</td>\n      <td>We’re looking for a Senior Data Analyst who ha...</td>\n      <td>3.4</td>\n      <td>Squarespace\\n3.4</td>\n      <td>New York, NY</td>\n      <td>New York, NY</td>\n      <td>1001 to 5000 employees</td>\n      <td>2003</td>\n      <td>Company - Private</td>\n      <td>Internet</td>\n      <td>Information Technology</td>\n      <td>Unknown / Non-Applicable</td>\n    </tr>\n    <tr>\n      <th>3</th>\n      <td>Data Analyst</td>\n      <td>$37K-$66K (Glassdoor est.)</td>\n      <td>Requisition NumberRR-0001939\\nRemote:Yes\\nWe c...</td>\n      <td>4.1</td>\n      <td>Celerity\\n4.1</td>\n      <td>New York, NY</td>\n      <td>McLean, VA</td>\n      <td>201 to 500 employees</td>\n      <td>2002</td>\n      <td>Subsidiary or Business Segment</td>\n      <td>IT Services</td>\n      <td>Information Technology</td>\n      <td>$50 to $100 million (USD)</td>\n    </tr>\n    <tr>\n      <th>4</th>\n      <td>Reporting Data Analyst</td>\n      <td>$37K-$66K (Glassdoor est.)</td>\n      <td>ABOUT FANDUEL GROUP\\n\\nFanDuel Group is a worl...</td>\n      <td>3.9</td>\n      <td>FanDuel\\n3.9</td>\n      <td>New York, NY</td>\n      <td>New York, NY</td>\n      <td>501 to 1000 employees</td>\n      <td>2009</td>\n      <td>Company - Private</td>\n      <td>Sports &amp; Recreation</td>\n      <td>Arts, Entertainment &amp; Recreation</td>\n      <td>$100 to $500 million (USD)</td>\n    </tr>\n    <tr>\n      <th>...</th>\n      <td>...</td>\n      <td>...</td>\n      <td>...</td>\n      <td>...</td>\n      <td>...</td>\n      <td>...</td>\n      <td>...</td>\n      <td>...</td>\n      <td>...</td>\n      <td>...</td>\n      <td>...</td>\n      <td>...</td>\n      <td>...</td>\n    </tr>\n    <tr>\n      <th>2247</th>\n      <td>Marketing/Communications - Data Analyst-Marketing</td>\n      <td>$78K-$104K (Glassdoor est.)</td>\n      <td>Job Description\\nJob Title: Marketing/Communic...</td>\n      <td>4.1</td>\n      <td>APN Software Services Inc.\\n4.1</td>\n      <td>Broomfield, CO</td>\n      <td>Newark, CA</td>\n      <td>51 to 200 employees</td>\n      <td>-1</td>\n      <td>Company - Private</td>\n      <td>Computer Hardware &amp; Software</td>\n      <td>Information Technology</td>\n      <td>$25 to $50 million (USD)</td>\n    </tr>\n    <tr>\n      <th>2248</th>\n      <td>RQS - IHHA - 201900004460 -1q Data Security An...</td>\n      <td>$78K-$104K (Glassdoor est.)</td>\n      <td>Maintains systems to protect data from unautho...</td>\n      <td>2.5</td>\n      <td>Avacend, Inc.\\n2.5</td>\n      <td>Denver, CO</td>\n      <td>Alpharetta, GA</td>\n      <td>51 to 200 employees</td>\n      <td>-1</td>\n      <td>Company - Private</td>\n      <td>Staffing &amp; Outsourcing</td>\n      <td>Business Services</td>\n      <td>Unknown / Non-Applicable</td>\n    </tr>\n    <tr>\n      <th>2249</th>\n      <td>Senior Data Analyst (Corporate Audit)</td>\n      <td>$78K-$104K (Glassdoor est.)</td>\n      <td>Position:\\nSenior Data Analyst (Corporate Audi...</td>\n      <td>2.9</td>\n      <td>Arrow Electronics\\n2.9</td>\n      <td>Centennial, CO</td>\n      <td>Centennial, CO</td>\n      <td>10000+ employees</td>\n      <td>1935</td>\n      <td>Company - Public</td>\n      <td>Wholesale</td>\n      <td>Business Services</td>\n      <td>$10+ billion (USD)</td>\n    </tr>\n    <tr>\n      <th>2251</th>\n      <td>Data Analyst 3, Customer Experience</td>\n      <td>$78K-$104K (Glassdoor est.)</td>\n      <td>Summary\\n\\nResponsible for working cross-funct...</td>\n      <td>3.1</td>\n      <td>Contingent Network Services\\n3.1</td>\n      <td>Centennial, CO</td>\n      <td>West Chester, OH</td>\n      <td>201 to 500 employees</td>\n      <td>1984</td>\n      <td>Company - Private</td>\n      <td>Enterprise Software &amp; Network Solutions</td>\n      <td>Information Technology</td>\n      <td>$25 to $50 million (USD)</td>\n    </tr>\n    <tr>\n      <th>2252</th>\n      <td>Senior Quality Data Analyst</td>\n      <td>$78K-$104K (Glassdoor est.)</td>\n      <td>You.\\n\\nYou bring your body, mind, heart and s...</td>\n      <td>3.4</td>\n      <td>SCL Health\\n3.4</td>\n      <td>Broomfield, CO</td>\n      <td>Broomfield, CO</td>\n      <td>10000+ employees</td>\n      <td>1864</td>\n      <td>Nonprofit Organization</td>\n      <td>Health Care Services &amp; Hospitals</td>\n      <td>Health Care</td>\n      <td>$2 to $5 billion (USD)</td>\n    </tr>\n  </tbody>\n</table>\n<p>2081 rows × 13 columns</p>\n</div>"
     },
     "execution_count": 31,
     "metadata": {},
     "output_type": "execute_result"
    }
   ],
   "source": [
    "cleaned_data = raw_data.drop(columns=['Unnamed: 0', 'Easy Apply', 'Competitors'])[raw_data.Headquarters != '-1']\n",
    "cleaned_data\n"
   ],
   "metadata": {
    "collapsed": false,
    "pycharm": {
     "name": "#%%\n"
    }
   }
  },
  {
   "cell_type": "code",
   "execution_count": 21,
   "outputs": [
    {
     "data": {
      "text/plain": "Unnamed: 0             int64\nJob Title             object\nSalary Estimate       object\nJob Description       object\nRating               float64\nCompany Name          object\nLocation              object\nHeadquarters          object\nSize                  object\nFounded                int64\nType of ownership     object\nIndustry              object\nSector                object\nRevenue               object\nCompetitors           object\nEasy Apply            object\ndtype: object"
     },
     "execution_count": 21,
     "metadata": {},
     "output_type": "execute_result"
    }
   ],
   "source": [
    "raw_data.dtypes"
   ],
   "metadata": {
    "collapsed": false,
    "pycharm": {
     "name": "#%%\n"
    }
   }
  },
  {
   "cell_type": "code",
   "execution_count": 9,
   "outputs": [
    {
     "data": {
      "text/plain": "Unnamed: 0           0\nJob Title            0\nSalary Estimate      0\nJob Description      0\nRating               0\nCompany Name         1\nLocation             0\nHeadquarters         0\nSize                 0\nFounded              0\nType of ownership    0\nIndustry             0\nSector               0\nRevenue              0\nCompetitors          0\nEasy Apply           0\ndtype: int64"
     },
     "execution_count": 9,
     "metadata": {},
     "output_type": "execute_result"
    }
   ],
   "source": [
    "raw_data.isnull().sum()"
   ],
   "metadata": {
    "collapsed": false,
    "pycharm": {
     "name": "#%%\n"
    }
   }
  },
  {
   "cell_type": "code",
   "execution_count": null,
   "outputs": [],
   "source": [],
   "metadata": {
    "collapsed": false,
    "pycharm": {
     "name": "#%%\n"
    }
   }
  }
 ],
 "metadata": {
  "kernelspec": {
   "display_name": "Python 3",
   "language": "python",
   "name": "python3"
  },
  "language_info": {
   "codemirror_mode": {
    "name": "ipython",
    "version": 2
   },
   "file_extension": ".py",
   "mimetype": "text/x-python",
   "name": "python",
   "nbconvert_exporter": "python",
   "pygments_lexer": "ipython2",
   "version": "2.7.6"
  }
 },
 "nbformat": 4,
 "nbformat_minor": 0
}