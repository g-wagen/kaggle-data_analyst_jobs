{
 "cells": [
  {
   "cell_type": "markdown",
   "source": [
    "# Data Analyst Jobs\n",
    "\n",
    "## Intro\n",
    "The aim is to take this [Kaggle Dataset](https://www.kaggle.com/andrewmvd/data-analyst-jobs) and try to find answers to these questions:\n",
    "\n",
    "1. Where do Analysts earn the most/least?\n",
    "2. How big are the salary differences between Junior, Regular and Senior positions?\n",
    "3. Are company size and salary correlated?\n",
    "4. What are the best jobs by salary and company rating?\n",
    "5. What are the top skills needed for the job?\n",
    "\n",
    "The dataset is rather small. That's why it would be a good idea keeping most of it while performing the cleanup/preprocessing.\n",
    "\n",
    "## Data Cleanup"
   ],
   "metadata": {
    "collapsed": false
   }
  },
  {
   "cell_type": "code",
   "execution_count": 697,
   "outputs": [],
   "source": [
    "# Importing packages\n",
    "\n",
    "import os\n",
    "import re\n",
    "import string\n",
    "\n",
    "import pandas as pd\n",
    "import numpy as np"
   ],
   "metadata": {
    "collapsed": false,
    "pycharm": {
     "name": "#%%\n"
    }
   }
  },
  {
   "cell_type": "code",
   "execution_count": 698,
   "outputs": [
    {
     "data": {
      "text/plain": "    Unnamed: 0                                          Job Title  \\\n0            0  Data Analyst, Center on Immigration and Justic...   \n1            1                               Quality Data Analyst   \n2            2  Senior Data Analyst, Insights & Analytics Team...   \n3            3                                       Data Analyst   \n4            4                             Reporting Data Analyst   \n5            5                                       Data Analyst   \n6            6                       Business/Data Analyst (FP&A)   \n7            7                               Data Science Analyst   \n8            8                                       Data Analyst   \n9            9                      Data Analyst, Merchant Health   \n10          10                                       Data Analyst   \n11          11                                       Data Analyst   \n12          12                                       DATA ANALYST   \n13          13                                Senior Data Analyst   \n14          14                   Investment Advisory Data Analyst   \n15          15                        Sustainability Data Analyst   \n16          16                                       Data Analyst   \n17          17                              Clinical Data Analyst   \n18          18                            DATA PROGRAMMER/ANALYST   \n19          19                                       Data Analyst   \n20          20                      Product Analyst, Data Science   \n21          21                               Data Science Analyst   \n22          22                     Data Analyst - Intex Developer   \n23          23                                       Data Analyst   \n24          24                     Entry Level / Jr. Data Analyst   \n\n               Salary Estimate  \\\n0   $37K-$66K (Glassdoor est.)   \n1   $37K-$66K (Glassdoor est.)   \n2   $37K-$66K (Glassdoor est.)   \n3   $37K-$66K (Glassdoor est.)   \n4   $37K-$66K (Glassdoor est.)   \n5   $37K-$66K (Glassdoor est.)   \n6   $37K-$66K (Glassdoor est.)   \n7   $37K-$66K (Glassdoor est.)   \n8   $37K-$66K (Glassdoor est.)   \n9   $37K-$66K (Glassdoor est.)   \n10  $37K-$66K (Glassdoor est.)   \n11  $37K-$66K (Glassdoor est.)   \n12  $37K-$66K (Glassdoor est.)   \n13  $37K-$66K (Glassdoor est.)   \n14  $37K-$66K (Glassdoor est.)   \n15  $37K-$66K (Glassdoor est.)   \n16  $37K-$66K (Glassdoor est.)   \n17  $37K-$66K (Glassdoor est.)   \n18  $37K-$66K (Glassdoor est.)   \n19  $37K-$66K (Glassdoor est.)   \n20  $37K-$66K (Glassdoor est.)   \n21  $37K-$66K (Glassdoor est.)   \n22  $37K-$66K (Glassdoor est.)   \n23  $37K-$66K (Glassdoor est.)   \n24  $37K-$66K (Glassdoor est.)   \n\n                                      Job Description  Rating  \\\n0   Are you eager to roll up your sleeves and harn...     3.2   \n1   Overview\\n\\nProvides analytical and technical ...     3.8   \n2   We’re looking for a Senior Data Analyst who ha...     3.4   \n3   Requisition NumberRR-0001939\\nRemote:Yes\\nWe c...     4.1   \n4   ABOUT FANDUEL GROUP\\n\\nFanDuel Group is a worl...     3.9   \n5   About Cubist\\nCubist Systematic Strategies is ...     3.9   \n6   Two Sigma is a different kind of investment ma...     4.4   \n7   Data Science Analyst\\n\\nJob Details\\nLevel\\nEx...     3.7   \n8   The Data Analyst is an integral member of the ...     4.0   \n9   About Us\\n\\nRiskified is the AI platform power...     4.4   \n10  NYU Grossman School of Medicine is one of the ...     4.0   \n11  BulbHead is currently seeking a Data Analyst t...    -1.0   \n12  Job Summary:\\n\\nThe Clinical Research Data Ana...     3.7   \n13  About Known\\n\\nKnown is a modern marketing com...     3.0   \n14  Investment Advisory Compliance Opportunity in ...     3.4   \n15  Job Description\\nRole Description\\n\\nSustainab...     3.6   \n16  Undertone stands alone among AdTech and ad net...     3.8   \n17  About Us:\\n\\nNYSTEC is a non-profit technology...     3.8   \n18  Company Description\\n\\nEDUCATION DEVELOPMENT C...     3.9   \n19  About Us\\n\\nAt Teachers Pay Teachers (TpT), we...     4.9   \n20  Note: By applying to this position your applic...     4.4   \n21  Job Description\\nOur client, a music streaming...    -1.0   \n22  Data Analyst - Intex Developer\\n\\n\\nNew York\\n...     3.3   \n23  Haven Life is an insurtech innovator at MassMu...     3.5   \n24  Dash Technologies is an industry leading softw...     3.8   \n\n                               Company Name         Location  \\\n0            Vera Institute of Justice\\n3.2     New York, NY   \n1   Visiting Nurse Service of New York\\n3.8     New York, NY   \n2                          Squarespace\\n3.4     New York, NY   \n3                             Celerity\\n4.1     New York, NY   \n4                              FanDuel\\n3.9     New York, NY   \n5                              Point72\\n3.9     New York, NY   \n6                            Two Sigma\\n4.4     New York, NY   \n7              GNY Insurance Companies\\n3.7     New York, NY   \n8                                 DMGT\\n4.0     New York, NY   \n9                            Riskified\\n4.4     New York, NY   \n10                  NYU Langone Health\\n4.0     New York, NY   \n11                                 BulbHead    Fairfield, NJ   \n12                  Montefiore Medical\\n3.7     New York, NY   \n13                               Known\\n3.0     New York, NY   \n14                       Advisor Group\\n3.4  Jersey City, NJ   \n15                 CodeGreen Solutions\\n3.6     New York, NY   \n16                           Undertone\\n3.8     New York, NY   \n17                              NYSTEC\\n3.8     New York, NY   \n18  Education Development Center, Inc.\\n3.9     New York, NY   \n19               Teachers Pay Teachers\\n4.9     New York, NY   \n20                              Google\\n4.4     New York, NY   \n21                    MUSIC & Entertainment     New York, NY   \n22                     Macquarie Group\\n3.3     New York, NY   \n23                             Andiamo\\n3.5     New York, NY   \n24               Dash Technologies Inc\\n3.8     New York, NY   \n\n              Headquarters                     Size  Founded  \\\n0             New York, NY     201 to 500 employees     1961   \n1             New York, NY         10000+ employees     1893   \n2             New York, NY   1001 to 5000 employees     2003   \n3               McLean, VA     201 to 500 employees     2002   \n4             New York, NY    501 to 1000 employees     2009   \n5             Stamford, CT   1001 to 5000 employees     2014   \n6             New York, NY   1001 to 5000 employees     2001   \n7             New York, NY     201 to 500 employees     1914   \n8   London, United Kingdom  5001 to 10000 employees     1896   \n9             New York, NY    501 to 1000 employees     2013   \n10            New York, NY         10000+ employees     1841   \n11                      -1        1 to 50 employees       -1   \n12               Bronx, NY         10000+ employees     1884   \n13            New York, NY     201 to 500 employees     2004   \n14             Phoenix, AZ   1001 to 5000 employees     2016   \n15            New York, NY        1 to 50 employees       -1   \n16            New York, NY     201 to 500 employees     2001   \n17                Rome, NY      51 to 200 employees     1996   \n18             Waltham, MA    501 to 1000 employees     1958   \n19            New York, NY      51 to 200 employees     2006   \n20       Mountain View, CA         10000+ employees     1998   \n21      Marina del Rey, CA                  Unknown       -1   \n22       Sydney, Australia         10000+ employees     1969   \n23              Warren, MI     201 to 500 employees       -1   \n24            Columbus, OH        1 to 50 employees       -1   \n\n                 Type of ownership                               Industry  \\\n0           Nonprofit Organization                      Social Assistance   \n1           Nonprofit Organization       Health Care Services & Hospitals   \n2                Company - Private                               Internet   \n3   Subsidiary or Business Segment                            IT Services   \n4                Company - Private                    Sports & Recreation   \n5                Company - Private  Investment Banking & Asset Management   \n6                Company - Private  Investment Banking & Asset Management   \n7                Company - Private                     Insurance Carriers   \n8                 Company - Public       Venture Capital & Private Equity   \n9                Company - Private                 Research & Development   \n10                        Hospital       Health Care Services & Hospitals   \n11               Company - Private                                     -1   \n12          Nonprofit Organization       Health Care Services & Hospitals   \n13               Company - Private                Advertising & Marketing   \n14               Company - Private                     Brokerage Services   \n15               Company - Private          Building & Personnel Services   \n16  Subsidiary or Business Segment                Advertising & Marketing   \n17          Nonprofit Organization                             Consulting   \n18          Nonprofit Organization                 Research & Development   \n19               Company - Private                               Internet   \n20                Company - Public                               Internet   \n21                Company - Public                                     -1   \n22                Company - Public  Investment Banking & Asset Management   \n23               Company - Private                     Casual Restaurants   \n24                         Unknown                                     -1   \n\n                               Sector                     Revenue  \\\n0                          Non-Profit  $100 to $500 million (USD)   \n1                         Health Care      $2 to $5 billion (USD)   \n2              Information Technology    Unknown / Non-Applicable   \n3              Information Technology   $50 to $100 million (USD)   \n4    Arts, Entertainment & Recreation  $100 to $500 million (USD)   \n5                             Finance    Unknown / Non-Applicable   \n6                             Finance    Unknown / Non-Applicable   \n7                           Insurance  $100 to $500 million (USD)   \n8                             Finance      $1 to $2 billion (USD)   \n9                   Business Services    Unknown / Non-Applicable   \n10                        Health Care     $5 to $10 billion (USD)   \n11                                 -1    Unknown / Non-Applicable   \n12                        Health Care      $2 to $5 billion (USD)   \n13                  Business Services  $100 to $500 million (USD)   \n14                            Finance      $1 to $5 million (USD)   \n15                  Business Services    Unknown / Non-Applicable   \n16                  Business Services    Unknown / Non-Applicable   \n17                  Business Services    $25 to $50 million (USD)   \n18                  Business Services  $100 to $500 million (USD)   \n19             Information Technology    Unknown / Non-Applicable   \n20             Information Technology          $10+ billion (USD)   \n21                                 -1    Unknown / Non-Applicable   \n22                            Finance     $5 to $10 billion (USD)   \n23  Restaurants, Bars & Food Services      $1 to $5 million (USD)   \n24                                 -1    Unknown / Non-Applicable   \n\n                                          Competitors Easy Apply  \n0                                                  -1       True  \n1                                                  -1         -1  \n2                                             GoDaddy         -1  \n3                                                  -1         -1  \n4                                          DraftKings       True  \n5                                                  -1         -1  \n6                                                  -1         -1  \n7                    Travelers, Chubb, Crum & Forster       True  \n8                    Thomson Reuters, Hearst, Pearson         -1  \n9                                    Signifyd, Forter         -1  \n10    NewYork-Presbyterian Hospital, Northwell Health         -1  \n11                                                 -1         -1  \n12                                                 -1         -1  \n13                                                 -1       True  \n14                                                 -1         -1  \n15                                                 -1         -1  \n16            DoubleClick, Specific Media, Collective       True  \n17                          KPMG, Accenture, Deloitte         -1  \n18                                                 -1         -1  \n19                                                 -1         -1  \n20                         Microsoft, Apple, Facebook         -1  \n21                                                 -1         -1  \n22  Goldman Sachs, Commonwealth Bank of Australia,...         -1  \n23                                                 -1         -1  \n24                                                 -1         -1  ",
      "text/html": "<div>\n<style scoped>\n    .dataframe tbody tr th:only-of-type {\n        vertical-align: middle;\n    }\n\n    .dataframe tbody tr th {\n        vertical-align: top;\n    }\n\n    .dataframe thead th {\n        text-align: right;\n    }\n</style>\n<table border=\"1\" class=\"dataframe\">\n  <thead>\n    <tr style=\"text-align: right;\">\n      <th></th>\n      <th>Unnamed: 0</th>\n      <th>Job Title</th>\n      <th>Salary Estimate</th>\n      <th>Job Description</th>\n      <th>Rating</th>\n      <th>Company Name</th>\n      <th>Location</th>\n      <th>Headquarters</th>\n      <th>Size</th>\n      <th>Founded</th>\n      <th>Type of ownership</th>\n      <th>Industry</th>\n      <th>Sector</th>\n      <th>Revenue</th>\n      <th>Competitors</th>\n      <th>Easy Apply</th>\n    </tr>\n  </thead>\n  <tbody>\n    <tr>\n      <th>0</th>\n      <td>0</td>\n      <td>Data Analyst, Center on Immigration and Justic...</td>\n      <td>$37K-$66K (Glassdoor est.)</td>\n      <td>Are you eager to roll up your sleeves and harn...</td>\n      <td>3.2</td>\n      <td>Vera Institute of Justice\\n3.2</td>\n      <td>New York, NY</td>\n      <td>New York, NY</td>\n      <td>201 to 500 employees</td>\n      <td>1961</td>\n      <td>Nonprofit Organization</td>\n      <td>Social Assistance</td>\n      <td>Non-Profit</td>\n      <td>$100 to $500 million (USD)</td>\n      <td>-1</td>\n      <td>True</td>\n    </tr>\n    <tr>\n      <th>1</th>\n      <td>1</td>\n      <td>Quality Data Analyst</td>\n      <td>$37K-$66K (Glassdoor est.)</td>\n      <td>Overview\\n\\nProvides analytical and technical ...</td>\n      <td>3.8</td>\n      <td>Visiting Nurse Service of New York\\n3.8</td>\n      <td>New York, NY</td>\n      <td>New York, NY</td>\n      <td>10000+ employees</td>\n      <td>1893</td>\n      <td>Nonprofit Organization</td>\n      <td>Health Care Services &amp; Hospitals</td>\n      <td>Health Care</td>\n      <td>$2 to $5 billion (USD)</td>\n      <td>-1</td>\n      <td>-1</td>\n    </tr>\n    <tr>\n      <th>2</th>\n      <td>2</td>\n      <td>Senior Data Analyst, Insights &amp; Analytics Team...</td>\n      <td>$37K-$66K (Glassdoor est.)</td>\n      <td>We’re looking for a Senior Data Analyst who ha...</td>\n      <td>3.4</td>\n      <td>Squarespace\\n3.4</td>\n      <td>New York, NY</td>\n      <td>New York, NY</td>\n      <td>1001 to 5000 employees</td>\n      <td>2003</td>\n      <td>Company - Private</td>\n      <td>Internet</td>\n      <td>Information Technology</td>\n      <td>Unknown / Non-Applicable</td>\n      <td>GoDaddy</td>\n      <td>-1</td>\n    </tr>\n    <tr>\n      <th>3</th>\n      <td>3</td>\n      <td>Data Analyst</td>\n      <td>$37K-$66K (Glassdoor est.)</td>\n      <td>Requisition NumberRR-0001939\\nRemote:Yes\\nWe c...</td>\n      <td>4.1</td>\n      <td>Celerity\\n4.1</td>\n      <td>New York, NY</td>\n      <td>McLean, VA</td>\n      <td>201 to 500 employees</td>\n      <td>2002</td>\n      <td>Subsidiary or Business Segment</td>\n      <td>IT Services</td>\n      <td>Information Technology</td>\n      <td>$50 to $100 million (USD)</td>\n      <td>-1</td>\n      <td>-1</td>\n    </tr>\n    <tr>\n      <th>4</th>\n      <td>4</td>\n      <td>Reporting Data Analyst</td>\n      <td>$37K-$66K (Glassdoor est.)</td>\n      <td>ABOUT FANDUEL GROUP\\n\\nFanDuel Group is a worl...</td>\n      <td>3.9</td>\n      <td>FanDuel\\n3.9</td>\n      <td>New York, NY</td>\n      <td>New York, NY</td>\n      <td>501 to 1000 employees</td>\n      <td>2009</td>\n      <td>Company - Private</td>\n      <td>Sports &amp; Recreation</td>\n      <td>Arts, Entertainment &amp; Recreation</td>\n      <td>$100 to $500 million (USD)</td>\n      <td>DraftKings</td>\n      <td>True</td>\n    </tr>\n    <tr>\n      <th>5</th>\n      <td>5</td>\n      <td>Data Analyst</td>\n      <td>$37K-$66K (Glassdoor est.)</td>\n      <td>About Cubist\\nCubist Systematic Strategies is ...</td>\n      <td>3.9</td>\n      <td>Point72\\n3.9</td>\n      <td>New York, NY</td>\n      <td>Stamford, CT</td>\n      <td>1001 to 5000 employees</td>\n      <td>2014</td>\n      <td>Company - Private</td>\n      <td>Investment Banking &amp; Asset Management</td>\n      <td>Finance</td>\n      <td>Unknown / Non-Applicable</td>\n      <td>-1</td>\n      <td>-1</td>\n    </tr>\n    <tr>\n      <th>6</th>\n      <td>6</td>\n      <td>Business/Data Analyst (FP&amp;A)</td>\n      <td>$37K-$66K (Glassdoor est.)</td>\n      <td>Two Sigma is a different kind of investment ma...</td>\n      <td>4.4</td>\n      <td>Two Sigma\\n4.4</td>\n      <td>New York, NY</td>\n      <td>New York, NY</td>\n      <td>1001 to 5000 employees</td>\n      <td>2001</td>\n      <td>Company - Private</td>\n      <td>Investment Banking &amp; Asset Management</td>\n      <td>Finance</td>\n      <td>Unknown / Non-Applicable</td>\n      <td>-1</td>\n      <td>-1</td>\n    </tr>\n    <tr>\n      <th>7</th>\n      <td>7</td>\n      <td>Data Science Analyst</td>\n      <td>$37K-$66K (Glassdoor est.)</td>\n      <td>Data Science Analyst\\n\\nJob Details\\nLevel\\nEx...</td>\n      <td>3.7</td>\n      <td>GNY Insurance Companies\\n3.7</td>\n      <td>New York, NY</td>\n      <td>New York, NY</td>\n      <td>201 to 500 employees</td>\n      <td>1914</td>\n      <td>Company - Private</td>\n      <td>Insurance Carriers</td>\n      <td>Insurance</td>\n      <td>$100 to $500 million (USD)</td>\n      <td>Travelers, Chubb, Crum &amp; Forster</td>\n      <td>True</td>\n    </tr>\n    <tr>\n      <th>8</th>\n      <td>8</td>\n      <td>Data Analyst</td>\n      <td>$37K-$66K (Glassdoor est.)</td>\n      <td>The Data Analyst is an integral member of the ...</td>\n      <td>4.0</td>\n      <td>DMGT\\n4.0</td>\n      <td>New York, NY</td>\n      <td>London, United Kingdom</td>\n      <td>5001 to 10000 employees</td>\n      <td>1896</td>\n      <td>Company - Public</td>\n      <td>Venture Capital &amp; Private Equity</td>\n      <td>Finance</td>\n      <td>$1 to $2 billion (USD)</td>\n      <td>Thomson Reuters, Hearst, Pearson</td>\n      <td>-1</td>\n    </tr>\n    <tr>\n      <th>9</th>\n      <td>9</td>\n      <td>Data Analyst, Merchant Health</td>\n      <td>$37K-$66K (Glassdoor est.)</td>\n      <td>About Us\\n\\nRiskified is the AI platform power...</td>\n      <td>4.4</td>\n      <td>Riskified\\n4.4</td>\n      <td>New York, NY</td>\n      <td>New York, NY</td>\n      <td>501 to 1000 employees</td>\n      <td>2013</td>\n      <td>Company - Private</td>\n      <td>Research &amp; Development</td>\n      <td>Business Services</td>\n      <td>Unknown / Non-Applicable</td>\n      <td>Signifyd, Forter</td>\n      <td>-1</td>\n    </tr>\n    <tr>\n      <th>10</th>\n      <td>10</td>\n      <td>Data Analyst</td>\n      <td>$37K-$66K (Glassdoor est.)</td>\n      <td>NYU Grossman School of Medicine is one of the ...</td>\n      <td>4.0</td>\n      <td>NYU Langone Health\\n4.0</td>\n      <td>New York, NY</td>\n      <td>New York, NY</td>\n      <td>10000+ employees</td>\n      <td>1841</td>\n      <td>Hospital</td>\n      <td>Health Care Services &amp; Hospitals</td>\n      <td>Health Care</td>\n      <td>$5 to $10 billion (USD)</td>\n      <td>NewYork-Presbyterian Hospital, Northwell Health</td>\n      <td>-1</td>\n    </tr>\n    <tr>\n      <th>11</th>\n      <td>11</td>\n      <td>Data Analyst</td>\n      <td>$37K-$66K (Glassdoor est.)</td>\n      <td>BulbHead is currently seeking a Data Analyst t...</td>\n      <td>-1.0</td>\n      <td>BulbHead</td>\n      <td>Fairfield, NJ</td>\n      <td>-1</td>\n      <td>1 to 50 employees</td>\n      <td>-1</td>\n      <td>Company - Private</td>\n      <td>-1</td>\n      <td>-1</td>\n      <td>Unknown / Non-Applicable</td>\n      <td>-1</td>\n      <td>-1</td>\n    </tr>\n    <tr>\n      <th>12</th>\n      <td>12</td>\n      <td>DATA ANALYST</td>\n      <td>$37K-$66K (Glassdoor est.)</td>\n      <td>Job Summary:\\n\\nThe Clinical Research Data Ana...</td>\n      <td>3.7</td>\n      <td>Montefiore Medical\\n3.7</td>\n      <td>New York, NY</td>\n      <td>Bronx, NY</td>\n      <td>10000+ employees</td>\n      <td>1884</td>\n      <td>Nonprofit Organization</td>\n      <td>Health Care Services &amp; Hospitals</td>\n      <td>Health Care</td>\n      <td>$2 to $5 billion (USD)</td>\n      <td>-1</td>\n      <td>-1</td>\n    </tr>\n    <tr>\n      <th>13</th>\n      <td>13</td>\n      <td>Senior Data Analyst</td>\n      <td>$37K-$66K (Glassdoor est.)</td>\n      <td>About Known\\n\\nKnown is a modern marketing com...</td>\n      <td>3.0</td>\n      <td>Known\\n3.0</td>\n      <td>New York, NY</td>\n      <td>New York, NY</td>\n      <td>201 to 500 employees</td>\n      <td>2004</td>\n      <td>Company - Private</td>\n      <td>Advertising &amp; Marketing</td>\n      <td>Business Services</td>\n      <td>$100 to $500 million (USD)</td>\n      <td>-1</td>\n      <td>True</td>\n    </tr>\n    <tr>\n      <th>14</th>\n      <td>14</td>\n      <td>Investment Advisory Data Analyst</td>\n      <td>$37K-$66K (Glassdoor est.)</td>\n      <td>Investment Advisory Compliance Opportunity in ...</td>\n      <td>3.4</td>\n      <td>Advisor Group\\n3.4</td>\n      <td>Jersey City, NJ</td>\n      <td>Phoenix, AZ</td>\n      <td>1001 to 5000 employees</td>\n      <td>2016</td>\n      <td>Company - Private</td>\n      <td>Brokerage Services</td>\n      <td>Finance</td>\n      <td>$1 to $5 million (USD)</td>\n      <td>-1</td>\n      <td>-1</td>\n    </tr>\n    <tr>\n      <th>15</th>\n      <td>15</td>\n      <td>Sustainability Data Analyst</td>\n      <td>$37K-$66K (Glassdoor est.)</td>\n      <td>Job Description\\nRole Description\\n\\nSustainab...</td>\n      <td>3.6</td>\n      <td>CodeGreen Solutions\\n3.6</td>\n      <td>New York, NY</td>\n      <td>New York, NY</td>\n      <td>1 to 50 employees</td>\n      <td>-1</td>\n      <td>Company - Private</td>\n      <td>Building &amp; Personnel Services</td>\n      <td>Business Services</td>\n      <td>Unknown / Non-Applicable</td>\n      <td>-1</td>\n      <td>-1</td>\n    </tr>\n    <tr>\n      <th>16</th>\n      <td>16</td>\n      <td>Data Analyst</td>\n      <td>$37K-$66K (Glassdoor est.)</td>\n      <td>Undertone stands alone among AdTech and ad net...</td>\n      <td>3.8</td>\n      <td>Undertone\\n3.8</td>\n      <td>New York, NY</td>\n      <td>New York, NY</td>\n      <td>201 to 500 employees</td>\n      <td>2001</td>\n      <td>Subsidiary or Business Segment</td>\n      <td>Advertising &amp; Marketing</td>\n      <td>Business Services</td>\n      <td>Unknown / Non-Applicable</td>\n      <td>DoubleClick, Specific Media, Collective</td>\n      <td>True</td>\n    </tr>\n    <tr>\n      <th>17</th>\n      <td>17</td>\n      <td>Clinical Data Analyst</td>\n      <td>$37K-$66K (Glassdoor est.)</td>\n      <td>About Us:\\n\\nNYSTEC is a non-profit technology...</td>\n      <td>3.8</td>\n      <td>NYSTEC\\n3.8</td>\n      <td>New York, NY</td>\n      <td>Rome, NY</td>\n      <td>51 to 200 employees</td>\n      <td>1996</td>\n      <td>Nonprofit Organization</td>\n      <td>Consulting</td>\n      <td>Business Services</td>\n      <td>$25 to $50 million (USD)</td>\n      <td>KPMG, Accenture, Deloitte</td>\n      <td>-1</td>\n    </tr>\n    <tr>\n      <th>18</th>\n      <td>18</td>\n      <td>DATA PROGRAMMER/ANALYST</td>\n      <td>$37K-$66K (Glassdoor est.)</td>\n      <td>Company Description\\n\\nEDUCATION DEVELOPMENT C...</td>\n      <td>3.9</td>\n      <td>Education Development Center, Inc.\\n3.9</td>\n      <td>New York, NY</td>\n      <td>Waltham, MA</td>\n      <td>501 to 1000 employees</td>\n      <td>1958</td>\n      <td>Nonprofit Organization</td>\n      <td>Research &amp; Development</td>\n      <td>Business Services</td>\n      <td>$100 to $500 million (USD)</td>\n      <td>-1</td>\n      <td>-1</td>\n    </tr>\n    <tr>\n      <th>19</th>\n      <td>19</td>\n      <td>Data Analyst</td>\n      <td>$37K-$66K (Glassdoor est.)</td>\n      <td>About Us\\n\\nAt Teachers Pay Teachers (TpT), we...</td>\n      <td>4.9</td>\n      <td>Teachers Pay Teachers\\n4.9</td>\n      <td>New York, NY</td>\n      <td>New York, NY</td>\n      <td>51 to 200 employees</td>\n      <td>2006</td>\n      <td>Company - Private</td>\n      <td>Internet</td>\n      <td>Information Technology</td>\n      <td>Unknown / Non-Applicable</td>\n      <td>-1</td>\n      <td>-1</td>\n    </tr>\n    <tr>\n      <th>20</th>\n      <td>20</td>\n      <td>Product Analyst, Data Science</td>\n      <td>$37K-$66K (Glassdoor est.)</td>\n      <td>Note: By applying to this position your applic...</td>\n      <td>4.4</td>\n      <td>Google\\n4.4</td>\n      <td>New York, NY</td>\n      <td>Mountain View, CA</td>\n      <td>10000+ employees</td>\n      <td>1998</td>\n      <td>Company - Public</td>\n      <td>Internet</td>\n      <td>Information Technology</td>\n      <td>$10+ billion (USD)</td>\n      <td>Microsoft, Apple, Facebook</td>\n      <td>-1</td>\n    </tr>\n    <tr>\n      <th>21</th>\n      <td>21</td>\n      <td>Data Science Analyst</td>\n      <td>$37K-$66K (Glassdoor est.)</td>\n      <td>Job Description\\nOur client, a music streaming...</td>\n      <td>-1.0</td>\n      <td>MUSIC &amp; Entertainment</td>\n      <td>New York, NY</td>\n      <td>Marina del Rey, CA</td>\n      <td>Unknown</td>\n      <td>-1</td>\n      <td>Company - Public</td>\n      <td>-1</td>\n      <td>-1</td>\n      <td>Unknown / Non-Applicable</td>\n      <td>-1</td>\n      <td>-1</td>\n    </tr>\n    <tr>\n      <th>22</th>\n      <td>22</td>\n      <td>Data Analyst - Intex Developer</td>\n      <td>$37K-$66K (Glassdoor est.)</td>\n      <td>Data Analyst - Intex Developer\\n\\n\\nNew York\\n...</td>\n      <td>3.3</td>\n      <td>Macquarie Group\\n3.3</td>\n      <td>New York, NY</td>\n      <td>Sydney, Australia</td>\n      <td>10000+ employees</td>\n      <td>1969</td>\n      <td>Company - Public</td>\n      <td>Investment Banking &amp; Asset Management</td>\n      <td>Finance</td>\n      <td>$5 to $10 billion (USD)</td>\n      <td>Goldman Sachs, Commonwealth Bank of Australia,...</td>\n      <td>-1</td>\n    </tr>\n    <tr>\n      <th>23</th>\n      <td>23</td>\n      <td>Data Analyst</td>\n      <td>$37K-$66K (Glassdoor est.)</td>\n      <td>Haven Life is an insurtech innovator at MassMu...</td>\n      <td>3.5</td>\n      <td>Andiamo\\n3.5</td>\n      <td>New York, NY</td>\n      <td>Warren, MI</td>\n      <td>201 to 500 employees</td>\n      <td>-1</td>\n      <td>Company - Private</td>\n      <td>Casual Restaurants</td>\n      <td>Restaurants, Bars &amp; Food Services</td>\n      <td>$1 to $5 million (USD)</td>\n      <td>-1</td>\n      <td>-1</td>\n    </tr>\n    <tr>\n      <th>24</th>\n      <td>24</td>\n      <td>Entry Level / Jr. Data Analyst</td>\n      <td>$37K-$66K (Glassdoor est.)</td>\n      <td>Dash Technologies is an industry leading softw...</td>\n      <td>3.8</td>\n      <td>Dash Technologies Inc\\n3.8</td>\n      <td>New York, NY</td>\n      <td>Columbus, OH</td>\n      <td>1 to 50 employees</td>\n      <td>-1</td>\n      <td>Unknown</td>\n      <td>-1</td>\n      <td>-1</td>\n      <td>Unknown / Non-Applicable</td>\n      <td>-1</td>\n      <td>-1</td>\n    </tr>\n  </tbody>\n</table>\n</div>"
     },
     "execution_count": 698,
     "metadata": {},
     "output_type": "execute_result"
    }
   ],
   "source": [
    "# Read the dataset and take a peek inside\n",
    "\n",
    "data = pd.read_csv(os.path.join('..', 'raw_data', 'DataAnalyst.csv'))\n",
    "data.head(25)"
   ],
   "metadata": {
    "collapsed": false,
    "pycharm": {
     "name": "#%%\n"
    }
   }
  },
  {
   "cell_type": "markdown",
   "source": [
    "### First impression\n",
    "\n",
    "1. The `Job Titles` column is noisy. Let's add an `Experience` column to be able to simply sort/group by seniority.\n",
    "2. `Salary Estimate` isn't helpful in this form as well. This column should be numeric.\n",
    "I will delete it and instead add two new columns for the lower and upper salary range.\n",
    "3. `Size` can be split in two columns as well. Just like `Salary Estimate`\n",
    "4. The Rating needs to be removed from `Company Name`\n",
    "5. Some columns that don't seem helpful answering the questions can be deleted:\n",
    "* `Unnamed: 0`\n",
    "* `Easy Apply`\n",
    "* `Competitors`\n",
    "* `Headquarters`\n",
    "* `Founded`\n",
    "* `Type of ownership`\n",
    "* `Industry`\n",
    "* `Sector`\n",
    "* `Revenue`\n",
    "6. There are a few `-1` values scattered through the columns.\n",
    "Deleting above columns partially deals with the `-1`/rubbish values.\n",
    "I'm sure there are more rubbish values"
   ],
   "metadata": {
    "collapsed": false
   }
  },
  {
   "cell_type": "markdown",
   "source": [
    "### Job Titles and Experience"
   ],
   "metadata": {
    "collapsed": false
   }
  },
  {
   "cell_type": "code",
   "execution_count": 699,
   "outputs": [
    {
     "data": {
      "text/plain": "0     Data Analyst, Center on Immigration and Justic...\n1                                  Quality Data Analyst\n2     Senior Data Analyst, Insights & Analytics Team...\n4                                Reporting Data Analyst\n6                          Business/Data Analyst (FP&A)\n7                                  Data Science Analyst\n9                         Data Analyst, Merchant Health\n12                                         DATA ANALYST\n14                     Investment Advisory Data Analyst\n15                          Sustainability Data Analyst\n17                                Clinical Data Analyst\n18                              DATA PROGRAMMER/ANALYST\n20                        Product Analyst, Data Science\n21                                 Data Science Analyst\n22                       Data Analyst - Intex Developer\n24                       Entry Level / Jr. Data Analyst\n26                 Data + Business Intelligence Analyst\n27                                Data Analyst, Product\n28                             Data Analyst Entry Level\n33                Data Science Analyst, Capital Markets\n34                                 Data Analyst (Games)\n35    Analyst/Associate Global Markets Credit Data A...\n36                                Data Business Analyst\n37    Data Analyst with Excel/DAX/ PowerBI experienc...\n38                        Data Science Analyst/Engineer\nName: Job Title, dtype: object"
     },
     "execution_count": 699,
     "metadata": {},
     "output_type": "execute_result"
    }
   ],
   "source": [
    "# Let's investigate the random Job titles\n",
    "# Filter out the clean ones and keep the noise\n",
    "\n",
    "noisy = data[(data['Job Title'] != 'Data Analyst') \\\n",
    "            & (data['Job Title'] != 'Junior Data Analyst') \\\n",
    "            & (data['Job Title'] != 'Senior Data Analyst')]\n",
    "\n",
    "# Show the noisy job titles\n",
    "noisy['Job Title'].head(25)"
   ],
   "metadata": {
    "collapsed": false,
    "pycharm": {
     "name": "#%%\n"
    }
   }
  },
  {
   "cell_type": "markdown",
   "source": [
    "Junior, Regular and Senior are differentiated from each other but not clear enough.\n",
    "We can assign some terms to the positions to help us.\n",
    "\n",
    "| Junior   | Senior | Regular         |\n",
    "|----------|--------|-----------------|\n",
    "| junior   | senior | everything else |\n",
    "| beginner | lead   | ...             |\n",
    "| entry    | master | ...             |\n",
    "| jr       | sr     | ...             |\n",
    "\n"
   ],
   "metadata": {
    "collapsed": false
   }
  },
  {
   "cell_type": "code",
   "execution_count": 700,
   "outputs": [
    {
     "data": {
      "text/plain": "      Unnamed: 0                                          Job Title  \\\n0              0  Data Analyst, Center on Immigration and Justic...   \n1              1                               Quality Data Analyst   \n2              2  Senior Data Analyst, Insights & Analytics Team...   \n3              3                                       Data Analyst   \n4              4                             Reporting Data Analyst   \n...          ...                                                ...   \n2248        2248  RQS - IHHA - 201900004460 -1q Data Security An...   \n2249        2249              Senior Data Analyst (Corporate Audit)   \n2250        2250  Technical Business Analyst (SQL, Data analytic...   \n2251        2251                Data Analyst 3, Customer Experience   \n2252        2252                        Senior Quality Data Analyst   \n\n                  Salary Estimate  \\\n0      $37K-$66K (Glassdoor est.)   \n1      $37K-$66K (Glassdoor est.)   \n2      $37K-$66K (Glassdoor est.)   \n3      $37K-$66K (Glassdoor est.)   \n4      $37K-$66K (Glassdoor est.)   \n...                           ...   \n2248  $78K-$104K (Glassdoor est.)   \n2249  $78K-$104K (Glassdoor est.)   \n2250  $78K-$104K (Glassdoor est.)   \n2251  $78K-$104K (Glassdoor est.)   \n2252  $78K-$104K (Glassdoor est.)   \n\n                                        Job Description  Rating  \\\n0     Are you eager to roll up your sleeves and harn...     3.2   \n1     Overview\\n\\nProvides analytical and technical ...     3.8   \n2     We’re looking for a Senior Data Analyst who ha...     3.4   \n3     Requisition NumberRR-0001939\\nRemote:Yes\\nWe c...     4.1   \n4     ABOUT FANDUEL GROUP\\n\\nFanDuel Group is a worl...     3.9   \n...                                                 ...     ...   \n2248  Maintains systems to protect data from unautho...     2.5   \n2249  Position:\\nSenior Data Analyst (Corporate Audi...     2.9   \n2250  Title: Technical Business Analyst (SQL, Data a...    -1.0   \n2251  Summary\\n\\nResponsible for working cross-funct...     3.1   \n2252  You.\\n\\nYou bring your body, mind, heart and s...     3.4   \n\n                                 Company Name        Location  \\\n0              Vera Institute of Justice\\n3.2    New York, NY   \n1     Visiting Nurse Service of New York\\n3.8    New York, NY   \n2                            Squarespace\\n3.4    New York, NY   \n3                               Celerity\\n4.1    New York, NY   \n4                                FanDuel\\n3.9    New York, NY   \n...                                       ...             ...   \n2248                       Avacend, Inc.\\n2.5      Denver, CO   \n2249                   Arrow Electronics\\n2.9  Centennial, CO   \n2250                                 Spiceorb      Denver, CO   \n2251         Contingent Network Services\\n3.1  Centennial, CO   \n2252                          SCL Health\\n3.4  Broomfield, CO   \n\n          Headquarters                    Size  Founded  \\\n0         New York, NY    201 to 500 employees     1961   \n1         New York, NY        10000+ employees     1893   \n2         New York, NY  1001 to 5000 employees     2003   \n3           McLean, VA    201 to 500 employees     2002   \n4         New York, NY   501 to 1000 employees     2009   \n...                ...                     ...      ...   \n2248    Alpharetta, GA     51 to 200 employees       -1   \n2249    Centennial, CO        10000+ employees     1935   \n2250                -1                      -1       -1   \n2251  West Chester, OH    201 to 500 employees     1984   \n2252    Broomfield, CO        10000+ employees     1864   \n\n                   Type of ownership                                 Industry  \\\n0             Nonprofit Organization                        Social Assistance   \n1             Nonprofit Organization         Health Care Services & Hospitals   \n2                  Company - Private                                 Internet   \n3     Subsidiary or Business Segment                              IT Services   \n4                  Company - Private                      Sports & Recreation   \n...                              ...                                      ...   \n2248               Company - Private                   Staffing & Outsourcing   \n2249                Company - Public                                Wholesale   \n2250                              -1                                       -1   \n2251               Company - Private  Enterprise Software & Network Solutions   \n2252          Nonprofit Organization         Health Care Services & Hospitals   \n\n                                Sector                     Revenue  \\\n0                           Non-Profit  $100 to $500 million (USD)   \n1                          Health Care      $2 to $5 billion (USD)   \n2               Information Technology    Unknown / Non-Applicable   \n3               Information Technology   $50 to $100 million (USD)   \n4     Arts, Entertainment & Recreation  $100 to $500 million (USD)   \n...                                ...                         ...   \n2248                 Business Services    Unknown / Non-Applicable   \n2249                 Business Services          $10+ billion (USD)   \n2250                                -1                          -1   \n2251            Information Technology    $25 to $50 million (USD)   \n2252                       Health Care      $2 to $5 billion (USD)   \n\n                                            Competitors Easy Apply Experience  \n0                                                    -1       True    Regular  \n1                                                    -1         -1    Regular  \n2                                               GoDaddy         -1     Senior  \n3                                                    -1         -1    Regular  \n4                                            DraftKings       True    Regular  \n...                                                 ...        ...        ...  \n2248                                                 -1         -1    Regular  \n2249                     Avnet, Ingram Micro, Tech Data         -1     Senior  \n2250                                                 -1         -1    Regular  \n2251                                                 -1         -1    Regular  \n2252  Centura Health, HealthONE, Denver Health and H...         -1     Senior  \n\n[2253 rows x 17 columns]",
      "text/html": "<div>\n<style scoped>\n    .dataframe tbody tr th:only-of-type {\n        vertical-align: middle;\n    }\n\n    .dataframe tbody tr th {\n        vertical-align: top;\n    }\n\n    .dataframe thead th {\n        text-align: right;\n    }\n</style>\n<table border=\"1\" class=\"dataframe\">\n  <thead>\n    <tr style=\"text-align: right;\">\n      <th></th>\n      <th>Unnamed: 0</th>\n      <th>Job Title</th>\n      <th>Salary Estimate</th>\n      <th>Job Description</th>\n      <th>Rating</th>\n      <th>Company Name</th>\n      <th>Location</th>\n      <th>Headquarters</th>\n      <th>Size</th>\n      <th>Founded</th>\n      <th>Type of ownership</th>\n      <th>Industry</th>\n      <th>Sector</th>\n      <th>Revenue</th>\n      <th>Competitors</th>\n      <th>Easy Apply</th>\n      <th>Experience</th>\n    </tr>\n  </thead>\n  <tbody>\n    <tr>\n      <th>0</th>\n      <td>0</td>\n      <td>Data Analyst, Center on Immigration and Justic...</td>\n      <td>$37K-$66K (Glassdoor est.)</td>\n      <td>Are you eager to roll up your sleeves and harn...</td>\n      <td>3.2</td>\n      <td>Vera Institute of Justice\\n3.2</td>\n      <td>New York, NY</td>\n      <td>New York, NY</td>\n      <td>201 to 500 employees</td>\n      <td>1961</td>\n      <td>Nonprofit Organization</td>\n      <td>Social Assistance</td>\n      <td>Non-Profit</td>\n      <td>$100 to $500 million (USD)</td>\n      <td>-1</td>\n      <td>True</td>\n      <td>Regular</td>\n    </tr>\n    <tr>\n      <th>1</th>\n      <td>1</td>\n      <td>Quality Data Analyst</td>\n      <td>$37K-$66K (Glassdoor est.)</td>\n      <td>Overview\\n\\nProvides analytical and technical ...</td>\n      <td>3.8</td>\n      <td>Visiting Nurse Service of New York\\n3.8</td>\n      <td>New York, NY</td>\n      <td>New York, NY</td>\n      <td>10000+ employees</td>\n      <td>1893</td>\n      <td>Nonprofit Organization</td>\n      <td>Health Care Services &amp; Hospitals</td>\n      <td>Health Care</td>\n      <td>$2 to $5 billion (USD)</td>\n      <td>-1</td>\n      <td>-1</td>\n      <td>Regular</td>\n    </tr>\n    <tr>\n      <th>2</th>\n      <td>2</td>\n      <td>Senior Data Analyst, Insights &amp; Analytics Team...</td>\n      <td>$37K-$66K (Glassdoor est.)</td>\n      <td>We’re looking for a Senior Data Analyst who ha...</td>\n      <td>3.4</td>\n      <td>Squarespace\\n3.4</td>\n      <td>New York, NY</td>\n      <td>New York, NY</td>\n      <td>1001 to 5000 employees</td>\n      <td>2003</td>\n      <td>Company - Private</td>\n      <td>Internet</td>\n      <td>Information Technology</td>\n      <td>Unknown / Non-Applicable</td>\n      <td>GoDaddy</td>\n      <td>-1</td>\n      <td>Senior</td>\n    </tr>\n    <tr>\n      <th>3</th>\n      <td>3</td>\n      <td>Data Analyst</td>\n      <td>$37K-$66K (Glassdoor est.)</td>\n      <td>Requisition NumberRR-0001939\\nRemote:Yes\\nWe c...</td>\n      <td>4.1</td>\n      <td>Celerity\\n4.1</td>\n      <td>New York, NY</td>\n      <td>McLean, VA</td>\n      <td>201 to 500 employees</td>\n      <td>2002</td>\n      <td>Subsidiary or Business Segment</td>\n      <td>IT Services</td>\n      <td>Information Technology</td>\n      <td>$50 to $100 million (USD)</td>\n      <td>-1</td>\n      <td>-1</td>\n      <td>Regular</td>\n    </tr>\n    <tr>\n      <th>4</th>\n      <td>4</td>\n      <td>Reporting Data Analyst</td>\n      <td>$37K-$66K (Glassdoor est.)</td>\n      <td>ABOUT FANDUEL GROUP\\n\\nFanDuel Group is a worl...</td>\n      <td>3.9</td>\n      <td>FanDuel\\n3.9</td>\n      <td>New York, NY</td>\n      <td>New York, NY</td>\n      <td>501 to 1000 employees</td>\n      <td>2009</td>\n      <td>Company - Private</td>\n      <td>Sports &amp; Recreation</td>\n      <td>Arts, Entertainment &amp; Recreation</td>\n      <td>$100 to $500 million (USD)</td>\n      <td>DraftKings</td>\n      <td>True</td>\n      <td>Regular</td>\n    </tr>\n    <tr>\n      <th>...</th>\n      <td>...</td>\n      <td>...</td>\n      <td>...</td>\n      <td>...</td>\n      <td>...</td>\n      <td>...</td>\n      <td>...</td>\n      <td>...</td>\n      <td>...</td>\n      <td>...</td>\n      <td>...</td>\n      <td>...</td>\n      <td>...</td>\n      <td>...</td>\n      <td>...</td>\n      <td>...</td>\n      <td>...</td>\n    </tr>\n    <tr>\n      <th>2248</th>\n      <td>2248</td>\n      <td>RQS - IHHA - 201900004460 -1q Data Security An...</td>\n      <td>$78K-$104K (Glassdoor est.)</td>\n      <td>Maintains systems to protect data from unautho...</td>\n      <td>2.5</td>\n      <td>Avacend, Inc.\\n2.5</td>\n      <td>Denver, CO</td>\n      <td>Alpharetta, GA</td>\n      <td>51 to 200 employees</td>\n      <td>-1</td>\n      <td>Company - Private</td>\n      <td>Staffing &amp; Outsourcing</td>\n      <td>Business Services</td>\n      <td>Unknown / Non-Applicable</td>\n      <td>-1</td>\n      <td>-1</td>\n      <td>Regular</td>\n    </tr>\n    <tr>\n      <th>2249</th>\n      <td>2249</td>\n      <td>Senior Data Analyst (Corporate Audit)</td>\n      <td>$78K-$104K (Glassdoor est.)</td>\n      <td>Position:\\nSenior Data Analyst (Corporate Audi...</td>\n      <td>2.9</td>\n      <td>Arrow Electronics\\n2.9</td>\n      <td>Centennial, CO</td>\n      <td>Centennial, CO</td>\n      <td>10000+ employees</td>\n      <td>1935</td>\n      <td>Company - Public</td>\n      <td>Wholesale</td>\n      <td>Business Services</td>\n      <td>$10+ billion (USD)</td>\n      <td>Avnet, Ingram Micro, Tech Data</td>\n      <td>-1</td>\n      <td>Senior</td>\n    </tr>\n    <tr>\n      <th>2250</th>\n      <td>2250</td>\n      <td>Technical Business Analyst (SQL, Data analytic...</td>\n      <td>$78K-$104K (Glassdoor est.)</td>\n      <td>Title: Technical Business Analyst (SQL, Data a...</td>\n      <td>-1.0</td>\n      <td>Spiceorb</td>\n      <td>Denver, CO</td>\n      <td>-1</td>\n      <td>-1</td>\n      <td>-1</td>\n      <td>-1</td>\n      <td>-1</td>\n      <td>-1</td>\n      <td>-1</td>\n      <td>-1</td>\n      <td>-1</td>\n      <td>Regular</td>\n    </tr>\n    <tr>\n      <th>2251</th>\n      <td>2251</td>\n      <td>Data Analyst 3, Customer Experience</td>\n      <td>$78K-$104K (Glassdoor est.)</td>\n      <td>Summary\\n\\nResponsible for working cross-funct...</td>\n      <td>3.1</td>\n      <td>Contingent Network Services\\n3.1</td>\n      <td>Centennial, CO</td>\n      <td>West Chester, OH</td>\n      <td>201 to 500 employees</td>\n      <td>1984</td>\n      <td>Company - Private</td>\n      <td>Enterprise Software &amp; Network Solutions</td>\n      <td>Information Technology</td>\n      <td>$25 to $50 million (USD)</td>\n      <td>-1</td>\n      <td>-1</td>\n      <td>Regular</td>\n    </tr>\n    <tr>\n      <th>2252</th>\n      <td>2252</td>\n      <td>Senior Quality Data Analyst</td>\n      <td>$78K-$104K (Glassdoor est.)</td>\n      <td>You.\\n\\nYou bring your body, mind, heart and s...</td>\n      <td>3.4</td>\n      <td>SCL Health\\n3.4</td>\n      <td>Broomfield, CO</td>\n      <td>Broomfield, CO</td>\n      <td>10000+ employees</td>\n      <td>1864</td>\n      <td>Nonprofit Organization</td>\n      <td>Health Care Services &amp; Hospitals</td>\n      <td>Health Care</td>\n      <td>$2 to $5 billion (USD)</td>\n      <td>Centura Health, HealthONE, Denver Health and H...</td>\n      <td>-1</td>\n      <td>Senior</td>\n    </tr>\n  </tbody>\n</table>\n<p>2253 rows × 17 columns</p>\n</div>"
     },
     "execution_count": 700,
     "metadata": {},
     "output_type": "execute_result"
    }
   ],
   "source": [
    "def seniority(x):\n",
    "    \"\"\"Get seniority of job title\"\"\"\n",
    "    experience = {'junior': ['beginner', 'entry', 'junior', 'jr'],\n",
    "                  'senior': ['senior', 'lead', 'sr', 'master']}\n",
    "\n",
    "    # Return Junior or Senior\n",
    "    for exp, words in experience.items():\n",
    "        for w in words:\n",
    "            if w in x.lower():\n",
    "                return exp.title()\n",
    "\n",
    "    # Returns Regular if above doesn't apply\n",
    "    not_regular = experience['junior'] + experience['senior']\n",
    "    for nr in not_regular:\n",
    "        if nr not in x.lower():\n",
    "            return 'Regular'\n",
    "\n",
    "# Adding an `Experience` column to the dataframe using above function\n",
    "data['Experience'] = data['Job Title'].map(seniority)\n",
    "data"
   ],
   "metadata": {
    "collapsed": false,
    "pycharm": {
     "name": "#%%\n"
    }
   }
  },
  {
   "cell_type": "code",
   "execution_count": 701,
   "outputs": [
    {
     "data": {
      "text/plain": "Regular    1670\nSenior      497\nJunior       86\nName: Experience, dtype: int64"
     },
     "execution_count": 701,
     "metadata": {},
     "output_type": "execute_result"
    }
   ],
   "source": [
    "data['Experience'].value_counts()"
   ],
   "metadata": {
    "collapsed": false,
    "pycharm": {
     "name": "#%%\n"
    }
   }
  },
  {
   "cell_type": "markdown",
   "source": [
    "### Salary Estimate"
   ],
   "metadata": {
    "collapsed": false
   }
  },
  {
   "cell_type": "code",
   "execution_count": 702,
   "outputs": [
    {
     "data": {
      "text/plain": "                  Salary Estimate\n0      $37K-$66K (Glassdoor est.)\n1      $37K-$66K (Glassdoor est.)\n2      $37K-$66K (Glassdoor est.)\n3      $37K-$66K (Glassdoor est.)\n4      $37K-$66K (Glassdoor est.)\n...                           ...\n2248  $78K-$104K (Glassdoor est.)\n2249  $78K-$104K (Glassdoor est.)\n2250  $78K-$104K (Glassdoor est.)\n2251  $78K-$104K (Glassdoor est.)\n2252  $78K-$104K (Glassdoor est.)\n\n[2253 rows x 1 columns]",
      "text/html": "<div>\n<style scoped>\n    .dataframe tbody tr th:only-of-type {\n        vertical-align: middle;\n    }\n\n    .dataframe tbody tr th {\n        vertical-align: top;\n    }\n\n    .dataframe thead th {\n        text-align: right;\n    }\n</style>\n<table border=\"1\" class=\"dataframe\">\n  <thead>\n    <tr style=\"text-align: right;\">\n      <th></th>\n      <th>Salary Estimate</th>\n    </tr>\n  </thead>\n  <tbody>\n    <tr>\n      <th>0</th>\n      <td>$37K-$66K (Glassdoor est.)</td>\n    </tr>\n    <tr>\n      <th>1</th>\n      <td>$37K-$66K (Glassdoor est.)</td>\n    </tr>\n    <tr>\n      <th>2</th>\n      <td>$37K-$66K (Glassdoor est.)</td>\n    </tr>\n    <tr>\n      <th>3</th>\n      <td>$37K-$66K (Glassdoor est.)</td>\n    </tr>\n    <tr>\n      <th>4</th>\n      <td>$37K-$66K (Glassdoor est.)</td>\n    </tr>\n    <tr>\n      <th>...</th>\n      <td>...</td>\n    </tr>\n    <tr>\n      <th>2248</th>\n      <td>$78K-$104K (Glassdoor est.)</td>\n    </tr>\n    <tr>\n      <th>2249</th>\n      <td>$78K-$104K (Glassdoor est.)</td>\n    </tr>\n    <tr>\n      <th>2250</th>\n      <td>$78K-$104K (Glassdoor est.)</td>\n    </tr>\n    <tr>\n      <th>2251</th>\n      <td>$78K-$104K (Glassdoor est.)</td>\n    </tr>\n    <tr>\n      <th>2252</th>\n      <td>$78K-$104K (Glassdoor est.)</td>\n    </tr>\n  </tbody>\n</table>\n<p>2253 rows × 1 columns</p>\n</div>"
     },
     "execution_count": 702,
     "metadata": {},
     "output_type": "execute_result"
    }
   ],
   "source": [
    "data[['Salary Estimate']]"
   ],
   "metadata": {
    "collapsed": false,
    "pycharm": {
     "name": "#%%\n"
    }
   }
  },
  {
   "cell_type": "code",
   "execution_count": 703,
   "outputs": [
    {
     "data": {
      "text/plain": "                  Salary Estimate  Salary Lower  Salary Upper\n0      $37K-$66K (Glassdoor est.)       37000.0         66000\n1      $37K-$66K (Glassdoor est.)       37000.0         66000\n2      $37K-$66K (Glassdoor est.)       37000.0         66000\n3      $37K-$66K (Glassdoor est.)       37000.0         66000\n4      $37K-$66K (Glassdoor est.)       37000.0         66000\n...                           ...           ...           ...\n2248  $78K-$104K (Glassdoor est.)       78000.0        104000\n2249  $78K-$104K (Glassdoor est.)       78000.0        104000\n2250  $78K-$104K (Glassdoor est.)       78000.0        104000\n2251  $78K-$104K (Glassdoor est.)       78000.0        104000\n2252  $78K-$104K (Glassdoor est.)       78000.0        104000\n\n[2253 rows x 3 columns]",
      "text/html": "<div>\n<style scoped>\n    .dataframe tbody tr th:only-of-type {\n        vertical-align: middle;\n    }\n\n    .dataframe tbody tr th {\n        vertical-align: top;\n    }\n\n    .dataframe thead th {\n        text-align: right;\n    }\n</style>\n<table border=\"1\" class=\"dataframe\">\n  <thead>\n    <tr style=\"text-align: right;\">\n      <th></th>\n      <th>Salary Estimate</th>\n      <th>Salary Lower</th>\n      <th>Salary Upper</th>\n    </tr>\n  </thead>\n  <tbody>\n    <tr>\n      <th>0</th>\n      <td>$37K-$66K (Glassdoor est.)</td>\n      <td>37000.0</td>\n      <td>66000</td>\n    </tr>\n    <tr>\n      <th>1</th>\n      <td>$37K-$66K (Glassdoor est.)</td>\n      <td>37000.0</td>\n      <td>66000</td>\n    </tr>\n    <tr>\n      <th>2</th>\n      <td>$37K-$66K (Glassdoor est.)</td>\n      <td>37000.0</td>\n      <td>66000</td>\n    </tr>\n    <tr>\n      <th>3</th>\n      <td>$37K-$66K (Glassdoor est.)</td>\n      <td>37000.0</td>\n      <td>66000</td>\n    </tr>\n    <tr>\n      <th>4</th>\n      <td>$37K-$66K (Glassdoor est.)</td>\n      <td>37000.0</td>\n      <td>66000</td>\n    </tr>\n    <tr>\n      <th>...</th>\n      <td>...</td>\n      <td>...</td>\n      <td>...</td>\n    </tr>\n    <tr>\n      <th>2248</th>\n      <td>$78K-$104K (Glassdoor est.)</td>\n      <td>78000.0</td>\n      <td>104000</td>\n    </tr>\n    <tr>\n      <th>2249</th>\n      <td>$78K-$104K (Glassdoor est.)</td>\n      <td>78000.0</td>\n      <td>104000</td>\n    </tr>\n    <tr>\n      <th>2250</th>\n      <td>$78K-$104K (Glassdoor est.)</td>\n      <td>78000.0</td>\n      <td>104000</td>\n    </tr>\n    <tr>\n      <th>2251</th>\n      <td>$78K-$104K (Glassdoor est.)</td>\n      <td>78000.0</td>\n      <td>104000</td>\n    </tr>\n    <tr>\n      <th>2252</th>\n      <td>$78K-$104K (Glassdoor est.)</td>\n      <td>78000.0</td>\n      <td>104000</td>\n    </tr>\n  </tbody>\n</table>\n<p>2253 rows × 3 columns</p>\n</div>"
     },
     "execution_count": 703,
     "metadata": {},
     "output_type": "execute_result"
    }
   ],
   "source": [
    "# Let's use pandas builtin string methods to\n",
    "# split the Salary column in two and regex the rest away\n",
    "data[['Salary Lower', 'Salary Upper']] = data['Salary Estimate'].str\\\n",
    "    .split('-', expand=True)\\\n",
    "    .replace('[a-zA-Z$.\\(\\)]', '', regex=True)\n",
    "\n",
    "# Make new columns numerical and multiply by 1000\n",
    "data['Salary Lower'], data['Salary Upper'] = \\\n",
    "    pd.to_numeric(data['Salary Lower'], errors='coerce') * 1000,\\\n",
    "    pd.to_numeric(data['Salary Upper'], errors='coerce') * 1000\n",
    "\n",
    "data[['Salary Estimate', 'Salary Lower', 'Salary Upper']]"
   ],
   "metadata": {
    "collapsed": false,
    "pycharm": {
     "name": "#%%\n"
    }
   }
  },
  {
   "cell_type": "markdown",
   "source": [
    "### Company Size"
   ],
   "metadata": {
    "collapsed": false
   }
  },
  {
   "cell_type": "code",
   "execution_count": 704,
   "outputs": [
    {
     "data": {
      "text/plain": "                        Size  Company Size Min  Company Size Max\n0       201 to 500 employees             201.0             500.0\n1           10000+ employees           10000.0               NaN\n2     1001 to 5000 employees            1001.0            5000.0\n3       201 to 500 employees             201.0             500.0\n4      501 to 1000 employees             501.0            1000.0\n...                      ...               ...               ...\n2248     51 to 200 employees              51.0             200.0\n2249        10000+ employees           10000.0               NaN\n2250                      -1              -1.0               NaN\n2251    201 to 500 employees             201.0             500.0\n2252        10000+ employees           10000.0               NaN\n\n[2253 rows x 3 columns]",
      "text/html": "<div>\n<style scoped>\n    .dataframe tbody tr th:only-of-type {\n        vertical-align: middle;\n    }\n\n    .dataframe tbody tr th {\n        vertical-align: top;\n    }\n\n    .dataframe thead th {\n        text-align: right;\n    }\n</style>\n<table border=\"1\" class=\"dataframe\">\n  <thead>\n    <tr style=\"text-align: right;\">\n      <th></th>\n      <th>Size</th>\n      <th>Company Size Min</th>\n      <th>Company Size Max</th>\n    </tr>\n  </thead>\n  <tbody>\n    <tr>\n      <th>0</th>\n      <td>201 to 500 employees</td>\n      <td>201.0</td>\n      <td>500.0</td>\n    </tr>\n    <tr>\n      <th>1</th>\n      <td>10000+ employees</td>\n      <td>10000.0</td>\n      <td>NaN</td>\n    </tr>\n    <tr>\n      <th>2</th>\n      <td>1001 to 5000 employees</td>\n      <td>1001.0</td>\n      <td>5000.0</td>\n    </tr>\n    <tr>\n      <th>3</th>\n      <td>201 to 500 employees</td>\n      <td>201.0</td>\n      <td>500.0</td>\n    </tr>\n    <tr>\n      <th>4</th>\n      <td>501 to 1000 employees</td>\n      <td>501.0</td>\n      <td>1000.0</td>\n    </tr>\n    <tr>\n      <th>...</th>\n      <td>...</td>\n      <td>...</td>\n      <td>...</td>\n    </tr>\n    <tr>\n      <th>2248</th>\n      <td>51 to 200 employees</td>\n      <td>51.0</td>\n      <td>200.0</td>\n    </tr>\n    <tr>\n      <th>2249</th>\n      <td>10000+ employees</td>\n      <td>10000.0</td>\n      <td>NaN</td>\n    </tr>\n    <tr>\n      <th>2250</th>\n      <td>-1</td>\n      <td>-1.0</td>\n      <td>NaN</td>\n    </tr>\n    <tr>\n      <th>2251</th>\n      <td>201 to 500 employees</td>\n      <td>201.0</td>\n      <td>500.0</td>\n    </tr>\n    <tr>\n      <th>2252</th>\n      <td>10000+ employees</td>\n      <td>10000.0</td>\n      <td>NaN</td>\n    </tr>\n  </tbody>\n</table>\n<p>2253 rows × 3 columns</p>\n</div>"
     },
     "execution_count": 704,
     "metadata": {},
     "output_type": "execute_result"
    }
   ],
   "source": [
    "# Let's use a similar approach that already worked for the Salary Estimate\n",
    "data[['Company Size Min', 'Company Size Max']] = data['Size'].str\\\n",
    "    .replace('[a-zA-Z+]', '', regex=True)\\\n",
    "    .str.split(expand=True)\n",
    "\n",
    "# Make new columns numerical\n",
    "data['Company Size Min'], data['Company Size Max'] = \\\n",
    "    pd.to_numeric(data['Company Size Min'], errors='coerce'),\\\n",
    "    pd.to_numeric(data['Company Size Max'], errors='coerce')\n",
    "\n",
    "data[['Size', 'Company Size Min', 'Company Size Max']]"
   ],
   "metadata": {
    "collapsed": false,
    "pycharm": {
     "name": "#%%\n"
    }
   }
  },
  {
   "cell_type": "markdown",
   "source": [
    "### Company Names\n",
    "\n",
    "The company rating appended to the company name has to go"
   ],
   "metadata": {
    "collapsed": false
   }
  },
  {
   "cell_type": "code",
   "execution_count": 705,
   "outputs": [
    {
     "data": {
      "text/plain": "0             Vera Institute of Justice\\n3.2\n1    Visiting Nurse Service of New York\\n3.8\n2                           Squarespace\\n3.4\n3                              Celerity\\n4.1\n4                               FanDuel\\n3.9\n5                               Point72\\n3.9\n6                             Two Sigma\\n4.4\n7               GNY Insurance Companies\\n3.7\n8                                  DMGT\\n4.0\n9                             Riskified\\n4.4\nName: Company Name, dtype: object"
     },
     "execution_count": 705,
     "metadata": {},
     "output_type": "execute_result"
    }
   ],
   "source": [
    "data['Company Name'].head(10)"
   ],
   "metadata": {
    "collapsed": false,
    "pycharm": {
     "name": "#%%\n"
    }
   }
  },
  {
   "cell_type": "code",
   "execution_count": 706,
   "outputs": [
    {
     "data": {
      "text/plain": "0                Vera Institute of Justice\\n\n1       Visiting Nurse Service of New York\\n\n2                              Squarespace\\n\n3                                 Celerity\\n\n4                                  FanDuel\\n\n                        ...                 \n2248                         Avacend, Inc.\\n\n2249                     Arrow Electronics\\n\n2250                                Spiceorb\n2251           Contingent Network Services\\n\n2252                            SCL Health\\n\nName: Company Name, Length: 2253, dtype: object"
     },
     "execution_count": 706,
     "metadata": {},
     "output_type": "execute_result"
    }
   ],
   "source": [
    "# Let's try to regex the rating away\n",
    "\n",
    "data['Company Name'].str.replace('[0-9.]{3}$', '', regex=True)"
   ],
   "metadata": {
    "collapsed": false,
    "pycharm": {
     "name": "#%%\n"
    }
   }
  },
  {
   "cell_type": "code",
   "execution_count": 707,
   "outputs": [
    {
     "data": {
      "text/plain": "   Unnamed: 0                                          Job Title  \\\n0           0  Data Analyst, Center on Immigration and Justic...   \n1           1                               Quality Data Analyst   \n2           2  Senior Data Analyst, Insights & Analytics Team...   \n3           3                                       Data Analyst   \n4           4                             Reporting Data Analyst   \n\n              Salary Estimate  \\\n0  $37K-$66K (Glassdoor est.)   \n1  $37K-$66K (Glassdoor est.)   \n2  $37K-$66K (Glassdoor est.)   \n3  $37K-$66K (Glassdoor est.)   \n4  $37K-$66K (Glassdoor est.)   \n\n                                     Job Description  Rating  \\\n0  Are you eager to roll up your sleeves and harn...     3.2   \n1  Overview\\n\\nProvides analytical and technical ...     3.8   \n2  We’re looking for a Senior Data Analyst who ha...     3.4   \n3  Requisition NumberRR-0001939\\nRemote:Yes\\nWe c...     4.1   \n4  ABOUT FANDUEL GROUP\\n\\nFanDuel Group is a worl...     3.9   \n\n                           Company Name      Location  Headquarters  \\\n0           Vera Institute of Justice\\n  New York, NY  New York, NY   \n1  Visiting Nurse Service of New York\\n  New York, NY  New York, NY   \n2                         Squarespace\\n  New York, NY  New York, NY   \n3                            Celerity\\n  New York, NY    McLean, VA   \n4                             FanDuel\\n  New York, NY  New York, NY   \n\n                     Size  Founded  ...                          Industry  \\\n0    201 to 500 employees     1961  ...                 Social Assistance   \n1        10000+ employees     1893  ...  Health Care Services & Hospitals   \n2  1001 to 5000 employees     2003  ...                          Internet   \n3    201 to 500 employees     2002  ...                       IT Services   \n4   501 to 1000 employees     2009  ...               Sports & Recreation   \n\n                             Sector                     Revenue Competitors  \\\n0                        Non-Profit  $100 to $500 million (USD)          -1   \n1                       Health Care      $2 to $5 billion (USD)          -1   \n2            Information Technology    Unknown / Non-Applicable     GoDaddy   \n3            Information Technology   $50 to $100 million (USD)          -1   \n4  Arts, Entertainment & Recreation  $100 to $500 million (USD)  DraftKings   \n\n  Easy Apply Experience Salary Lower  Salary Upper  Company Size Min  \\\n0       True    Regular      37000.0         66000             201.0   \n1         -1    Regular      37000.0         66000           10000.0   \n2         -1     Senior      37000.0         66000            1001.0   \n3         -1    Regular      37000.0         66000             201.0   \n4       True    Regular      37000.0         66000             501.0   \n\n   Company Size Max  \n0             500.0  \n1               NaN  \n2            5000.0  \n3             500.0  \n4            1000.0  \n\n[5 rows x 21 columns]",
      "text/html": "<div>\n<style scoped>\n    .dataframe tbody tr th:only-of-type {\n        vertical-align: middle;\n    }\n\n    .dataframe tbody tr th {\n        vertical-align: top;\n    }\n\n    .dataframe thead th {\n        text-align: right;\n    }\n</style>\n<table border=\"1\" class=\"dataframe\">\n  <thead>\n    <tr style=\"text-align: right;\">\n      <th></th>\n      <th>Unnamed: 0</th>\n      <th>Job Title</th>\n      <th>Salary Estimate</th>\n      <th>Job Description</th>\n      <th>Rating</th>\n      <th>Company Name</th>\n      <th>Location</th>\n      <th>Headquarters</th>\n      <th>Size</th>\n      <th>Founded</th>\n      <th>...</th>\n      <th>Industry</th>\n      <th>Sector</th>\n      <th>Revenue</th>\n      <th>Competitors</th>\n      <th>Easy Apply</th>\n      <th>Experience</th>\n      <th>Salary Lower</th>\n      <th>Salary Upper</th>\n      <th>Company Size Min</th>\n      <th>Company Size Max</th>\n    </tr>\n  </thead>\n  <tbody>\n    <tr>\n      <th>0</th>\n      <td>0</td>\n      <td>Data Analyst, Center on Immigration and Justic...</td>\n      <td>$37K-$66K (Glassdoor est.)</td>\n      <td>Are you eager to roll up your sleeves and harn...</td>\n      <td>3.2</td>\n      <td>Vera Institute of Justice\\n</td>\n      <td>New York, NY</td>\n      <td>New York, NY</td>\n      <td>201 to 500 employees</td>\n      <td>1961</td>\n      <td>...</td>\n      <td>Social Assistance</td>\n      <td>Non-Profit</td>\n      <td>$100 to $500 million (USD)</td>\n      <td>-1</td>\n      <td>True</td>\n      <td>Regular</td>\n      <td>37000.0</td>\n      <td>66000</td>\n      <td>201.0</td>\n      <td>500.0</td>\n    </tr>\n    <tr>\n      <th>1</th>\n      <td>1</td>\n      <td>Quality Data Analyst</td>\n      <td>$37K-$66K (Glassdoor est.)</td>\n      <td>Overview\\n\\nProvides analytical and technical ...</td>\n      <td>3.8</td>\n      <td>Visiting Nurse Service of New York\\n</td>\n      <td>New York, NY</td>\n      <td>New York, NY</td>\n      <td>10000+ employees</td>\n      <td>1893</td>\n      <td>...</td>\n      <td>Health Care Services &amp; Hospitals</td>\n      <td>Health Care</td>\n      <td>$2 to $5 billion (USD)</td>\n      <td>-1</td>\n      <td>-1</td>\n      <td>Regular</td>\n      <td>37000.0</td>\n      <td>66000</td>\n      <td>10000.0</td>\n      <td>NaN</td>\n    </tr>\n    <tr>\n      <th>2</th>\n      <td>2</td>\n      <td>Senior Data Analyst, Insights &amp; Analytics Team...</td>\n      <td>$37K-$66K (Glassdoor est.)</td>\n      <td>We’re looking for a Senior Data Analyst who ha...</td>\n      <td>3.4</td>\n      <td>Squarespace\\n</td>\n      <td>New York, NY</td>\n      <td>New York, NY</td>\n      <td>1001 to 5000 employees</td>\n      <td>2003</td>\n      <td>...</td>\n      <td>Internet</td>\n      <td>Information Technology</td>\n      <td>Unknown / Non-Applicable</td>\n      <td>GoDaddy</td>\n      <td>-1</td>\n      <td>Senior</td>\n      <td>37000.0</td>\n      <td>66000</td>\n      <td>1001.0</td>\n      <td>5000.0</td>\n    </tr>\n    <tr>\n      <th>3</th>\n      <td>3</td>\n      <td>Data Analyst</td>\n      <td>$37K-$66K (Glassdoor est.)</td>\n      <td>Requisition NumberRR-0001939\\nRemote:Yes\\nWe c...</td>\n      <td>4.1</td>\n      <td>Celerity\\n</td>\n      <td>New York, NY</td>\n      <td>McLean, VA</td>\n      <td>201 to 500 employees</td>\n      <td>2002</td>\n      <td>...</td>\n      <td>IT Services</td>\n      <td>Information Technology</td>\n      <td>$50 to $100 million (USD)</td>\n      <td>-1</td>\n      <td>-1</td>\n      <td>Regular</td>\n      <td>37000.0</td>\n      <td>66000</td>\n      <td>201.0</td>\n      <td>500.0</td>\n    </tr>\n    <tr>\n      <th>4</th>\n      <td>4</td>\n      <td>Reporting Data Analyst</td>\n      <td>$37K-$66K (Glassdoor est.)</td>\n      <td>ABOUT FANDUEL GROUP\\n\\nFanDuel Group is a worl...</td>\n      <td>3.9</td>\n      <td>FanDuel\\n</td>\n      <td>New York, NY</td>\n      <td>New York, NY</td>\n      <td>501 to 1000 employees</td>\n      <td>2009</td>\n      <td>...</td>\n      <td>Sports &amp; Recreation</td>\n      <td>Arts, Entertainment &amp; Recreation</td>\n      <td>$100 to $500 million (USD)</td>\n      <td>DraftKings</td>\n      <td>True</td>\n      <td>Regular</td>\n      <td>37000.0</td>\n      <td>66000</td>\n      <td>501.0</td>\n      <td>1000.0</td>\n    </tr>\n  </tbody>\n</table>\n<p>5 rows × 21 columns</p>\n</div>"
     },
     "execution_count": 707,
     "metadata": {},
     "output_type": "execute_result"
    }
   ],
   "source": [
    "# That worked. Make it permanent\n",
    "\n",
    "data['Company Name'] = \\\n",
    "    data['Company Name'].str.replace('[0-9.]{3}$', '', regex=True)\n",
    "data.head()"
   ],
   "metadata": {
    "collapsed": false,
    "pycharm": {
     "name": "#%%\n"
    }
   }
  },
  {
   "cell_type": "markdown",
   "source": [
    "### Deleting Columns\n",
    "\n",
    "Some columns have to go to remove irrelevant information and remove some garbage data."
   ],
   "metadata": {
    "collapsed": false
   }
  },
  {
   "cell_type": "code",
   "execution_count": 708,
   "outputs": [],
   "source": [
    "# Deleting columns\n",
    "data = data.drop(columns=['Unnamed: 0', 'Easy Apply', 'Competitors',\n",
    "                          'Headquarters', 'Founded', 'Type of ownership',\n",
    "                          'Sector', 'Revenue', 'Industry', 'Salary Estimate', 'Size'])"
   ],
   "metadata": {
    "collapsed": false,
    "pycharm": {
     "name": "#%%\n"
    }
   }
  },
  {
   "cell_type": "markdown",
   "source": [
    "### Reorder Dataframe\n",
    "\n",
    "Let's also reorder the table to see job-related information first and company information second."
   ],
   "metadata": {
    "collapsed": false
   }
  },
  {
   "cell_type": "code",
   "execution_count": 709,
   "outputs": [
    {
     "data": {
      "text/plain": "                                            Job Title Experience  \\\n0   Data Analyst, Center on Immigration and Justic...    Regular   \n1                                Quality Data Analyst    Regular   \n2   Senior Data Analyst, Insights & Analytics Team...     Senior   \n3                                        Data Analyst    Regular   \n4                              Reporting Data Analyst    Regular   \n5                                        Data Analyst    Regular   \n6                        Business/Data Analyst (FP&A)    Regular   \n7                                Data Science Analyst    Regular   \n8                                        Data Analyst    Regular   \n9                       Data Analyst, Merchant Health    Regular   \n10                                       Data Analyst    Regular   \n11                                       Data Analyst    Regular   \n12                                       DATA ANALYST    Regular   \n13                                Senior Data Analyst     Senior   \n14                   Investment Advisory Data Analyst    Regular   \n15                        Sustainability Data Analyst    Regular   \n16                                       Data Analyst    Regular   \n17                              Clinical Data Analyst    Regular   \n18                            DATA PROGRAMMER/ANALYST    Regular   \n19                                       Data Analyst    Regular   \n20                      Product Analyst, Data Science    Regular   \n21                               Data Science Analyst    Regular   \n22                     Data Analyst - Intex Developer    Regular   \n23                                       Data Analyst    Regular   \n24                     Entry Level / Jr. Data Analyst     Junior   \n\n    Salary Lower  Salary Upper  \\\n0        37000.0         66000   \n1        37000.0         66000   \n2        37000.0         66000   \n3        37000.0         66000   \n4        37000.0         66000   \n5        37000.0         66000   \n6        37000.0         66000   \n7        37000.0         66000   \n8        37000.0         66000   \n9        37000.0         66000   \n10       37000.0         66000   \n11       37000.0         66000   \n12       37000.0         66000   \n13       37000.0         66000   \n14       37000.0         66000   \n15       37000.0         66000   \n16       37000.0         66000   \n17       37000.0         66000   \n18       37000.0         66000   \n19       37000.0         66000   \n20       37000.0         66000   \n21       37000.0         66000   \n22       37000.0         66000   \n23       37000.0         66000   \n24       37000.0         66000   \n\n                                      Job Description  \\\n0   Are you eager to roll up your sleeves and harn...   \n1   Overview\\n\\nProvides analytical and technical ...   \n2   We’re looking for a Senior Data Analyst who ha...   \n3   Requisition NumberRR-0001939\\nRemote:Yes\\nWe c...   \n4   ABOUT FANDUEL GROUP\\n\\nFanDuel Group is a worl...   \n5   About Cubist\\nCubist Systematic Strategies is ...   \n6   Two Sigma is a different kind of investment ma...   \n7   Data Science Analyst\\n\\nJob Details\\nLevel\\nEx...   \n8   The Data Analyst is an integral member of the ...   \n9   About Us\\n\\nRiskified is the AI platform power...   \n10  NYU Grossman School of Medicine is one of the ...   \n11  BulbHead is currently seeking a Data Analyst t...   \n12  Job Summary:\\n\\nThe Clinical Research Data Ana...   \n13  About Known\\n\\nKnown is a modern marketing com...   \n14  Investment Advisory Compliance Opportunity in ...   \n15  Job Description\\nRole Description\\n\\nSustainab...   \n16  Undertone stands alone among AdTech and ad net...   \n17  About Us:\\n\\nNYSTEC is a non-profit technology...   \n18  Company Description\\n\\nEDUCATION DEVELOPMENT C...   \n19  About Us\\n\\nAt Teachers Pay Teachers (TpT), we...   \n20  Note: By applying to this position your applic...   \n21  Job Description\\nOur client, a music streaming...   \n22  Data Analyst - Intex Developer\\n\\n\\nNew York\\n...   \n23  Haven Life is an insurtech innovator at MassMu...   \n24  Dash Technologies is an industry leading softw...   \n\n                            Company Name  Rating         Location  \\\n0            Vera Institute of Justice\\n     3.2     New York, NY   \n1   Visiting Nurse Service of New York\\n     3.8     New York, NY   \n2                          Squarespace\\n     3.4     New York, NY   \n3                             Celerity\\n     4.1     New York, NY   \n4                              FanDuel\\n     3.9     New York, NY   \n5                              Point72\\n     3.9     New York, NY   \n6                            Two Sigma\\n     4.4     New York, NY   \n7              GNY Insurance Companies\\n     3.7     New York, NY   \n8                                 DMGT\\n     4.0     New York, NY   \n9                            Riskified\\n     4.4     New York, NY   \n10                  NYU Langone Health\\n     4.0     New York, NY   \n11                              BulbHead    -1.0    Fairfield, NJ   \n12                  Montefiore Medical\\n     3.7     New York, NY   \n13                               Known\\n     3.0     New York, NY   \n14                       Advisor Group\\n     3.4  Jersey City, NJ   \n15                 CodeGreen Solutions\\n     3.6     New York, NY   \n16                           Undertone\\n     3.8     New York, NY   \n17                              NYSTEC\\n     3.8     New York, NY   \n18  Education Development Center, Inc.\\n     3.9     New York, NY   \n19               Teachers Pay Teachers\\n     4.9     New York, NY   \n20                              Google\\n     4.4     New York, NY   \n21                 MUSIC & Entertainment    -1.0     New York, NY   \n22                     Macquarie Group\\n     3.3     New York, NY   \n23                             Andiamo\\n     3.5     New York, NY   \n24               Dash Technologies Inc\\n     3.8     New York, NY   \n\n    Company Size Min  Company Size Max  \n0              201.0             500.0  \n1            10000.0               NaN  \n2             1001.0            5000.0  \n3              201.0             500.0  \n4              501.0            1000.0  \n5             1001.0            5000.0  \n6             1001.0            5000.0  \n7              201.0             500.0  \n8             5001.0           10000.0  \n9              501.0            1000.0  \n10           10000.0               NaN  \n11               1.0              50.0  \n12           10000.0               NaN  \n13             201.0             500.0  \n14            1001.0            5000.0  \n15               1.0              50.0  \n16             201.0             500.0  \n17              51.0             200.0  \n18             501.0            1000.0  \n19              51.0             200.0  \n20           10000.0               NaN  \n21               NaN               NaN  \n22           10000.0               NaN  \n23             201.0             500.0  \n24               1.0              50.0  ",
      "text/html": "<div>\n<style scoped>\n    .dataframe tbody tr th:only-of-type {\n        vertical-align: middle;\n    }\n\n    .dataframe tbody tr th {\n        vertical-align: top;\n    }\n\n    .dataframe thead th {\n        text-align: right;\n    }\n</style>\n<table border=\"1\" class=\"dataframe\">\n  <thead>\n    <tr style=\"text-align: right;\">\n      <th></th>\n      <th>Job Title</th>\n      <th>Experience</th>\n      <th>Salary Lower</th>\n      <th>Salary Upper</th>\n      <th>Job Description</th>\n      <th>Company Name</th>\n      <th>Rating</th>\n      <th>Location</th>\n      <th>Company Size Min</th>\n      <th>Company Size Max</th>\n    </tr>\n  </thead>\n  <tbody>\n    <tr>\n      <th>0</th>\n      <td>Data Analyst, Center on Immigration and Justic...</td>\n      <td>Regular</td>\n      <td>37000.0</td>\n      <td>66000</td>\n      <td>Are you eager to roll up your sleeves and harn...</td>\n      <td>Vera Institute of Justice\\n</td>\n      <td>3.2</td>\n      <td>New York, NY</td>\n      <td>201.0</td>\n      <td>500.0</td>\n    </tr>\n    <tr>\n      <th>1</th>\n      <td>Quality Data Analyst</td>\n      <td>Regular</td>\n      <td>37000.0</td>\n      <td>66000</td>\n      <td>Overview\\n\\nProvides analytical and technical ...</td>\n      <td>Visiting Nurse Service of New York\\n</td>\n      <td>3.8</td>\n      <td>New York, NY</td>\n      <td>10000.0</td>\n      <td>NaN</td>\n    </tr>\n    <tr>\n      <th>2</th>\n      <td>Senior Data Analyst, Insights &amp; Analytics Team...</td>\n      <td>Senior</td>\n      <td>37000.0</td>\n      <td>66000</td>\n      <td>We’re looking for a Senior Data Analyst who ha...</td>\n      <td>Squarespace\\n</td>\n      <td>3.4</td>\n      <td>New York, NY</td>\n      <td>1001.0</td>\n      <td>5000.0</td>\n    </tr>\n    <tr>\n      <th>3</th>\n      <td>Data Analyst</td>\n      <td>Regular</td>\n      <td>37000.0</td>\n      <td>66000</td>\n      <td>Requisition NumberRR-0001939\\nRemote:Yes\\nWe c...</td>\n      <td>Celerity\\n</td>\n      <td>4.1</td>\n      <td>New York, NY</td>\n      <td>201.0</td>\n      <td>500.0</td>\n    </tr>\n    <tr>\n      <th>4</th>\n      <td>Reporting Data Analyst</td>\n      <td>Regular</td>\n      <td>37000.0</td>\n      <td>66000</td>\n      <td>ABOUT FANDUEL GROUP\\n\\nFanDuel Group is a worl...</td>\n      <td>FanDuel\\n</td>\n      <td>3.9</td>\n      <td>New York, NY</td>\n      <td>501.0</td>\n      <td>1000.0</td>\n    </tr>\n    <tr>\n      <th>5</th>\n      <td>Data Analyst</td>\n      <td>Regular</td>\n      <td>37000.0</td>\n      <td>66000</td>\n      <td>About Cubist\\nCubist Systematic Strategies is ...</td>\n      <td>Point72\\n</td>\n      <td>3.9</td>\n      <td>New York, NY</td>\n      <td>1001.0</td>\n      <td>5000.0</td>\n    </tr>\n    <tr>\n      <th>6</th>\n      <td>Business/Data Analyst (FP&amp;A)</td>\n      <td>Regular</td>\n      <td>37000.0</td>\n      <td>66000</td>\n      <td>Two Sigma is a different kind of investment ma...</td>\n      <td>Two Sigma\\n</td>\n      <td>4.4</td>\n      <td>New York, NY</td>\n      <td>1001.0</td>\n      <td>5000.0</td>\n    </tr>\n    <tr>\n      <th>7</th>\n      <td>Data Science Analyst</td>\n      <td>Regular</td>\n      <td>37000.0</td>\n      <td>66000</td>\n      <td>Data Science Analyst\\n\\nJob Details\\nLevel\\nEx...</td>\n      <td>GNY Insurance Companies\\n</td>\n      <td>3.7</td>\n      <td>New York, NY</td>\n      <td>201.0</td>\n      <td>500.0</td>\n    </tr>\n    <tr>\n      <th>8</th>\n      <td>Data Analyst</td>\n      <td>Regular</td>\n      <td>37000.0</td>\n      <td>66000</td>\n      <td>The Data Analyst is an integral member of the ...</td>\n      <td>DMGT\\n</td>\n      <td>4.0</td>\n      <td>New York, NY</td>\n      <td>5001.0</td>\n      <td>10000.0</td>\n    </tr>\n    <tr>\n      <th>9</th>\n      <td>Data Analyst, Merchant Health</td>\n      <td>Regular</td>\n      <td>37000.0</td>\n      <td>66000</td>\n      <td>About Us\\n\\nRiskified is the AI platform power...</td>\n      <td>Riskified\\n</td>\n      <td>4.4</td>\n      <td>New York, NY</td>\n      <td>501.0</td>\n      <td>1000.0</td>\n    </tr>\n    <tr>\n      <th>10</th>\n      <td>Data Analyst</td>\n      <td>Regular</td>\n      <td>37000.0</td>\n      <td>66000</td>\n      <td>NYU Grossman School of Medicine is one of the ...</td>\n      <td>NYU Langone Health\\n</td>\n      <td>4.0</td>\n      <td>New York, NY</td>\n      <td>10000.0</td>\n      <td>NaN</td>\n    </tr>\n    <tr>\n      <th>11</th>\n      <td>Data Analyst</td>\n      <td>Regular</td>\n      <td>37000.0</td>\n      <td>66000</td>\n      <td>BulbHead is currently seeking a Data Analyst t...</td>\n      <td>BulbHead</td>\n      <td>-1.0</td>\n      <td>Fairfield, NJ</td>\n      <td>1.0</td>\n      <td>50.0</td>\n    </tr>\n    <tr>\n      <th>12</th>\n      <td>DATA ANALYST</td>\n      <td>Regular</td>\n      <td>37000.0</td>\n      <td>66000</td>\n      <td>Job Summary:\\n\\nThe Clinical Research Data Ana...</td>\n      <td>Montefiore Medical\\n</td>\n      <td>3.7</td>\n      <td>New York, NY</td>\n      <td>10000.0</td>\n      <td>NaN</td>\n    </tr>\n    <tr>\n      <th>13</th>\n      <td>Senior Data Analyst</td>\n      <td>Senior</td>\n      <td>37000.0</td>\n      <td>66000</td>\n      <td>About Known\\n\\nKnown is a modern marketing com...</td>\n      <td>Known\\n</td>\n      <td>3.0</td>\n      <td>New York, NY</td>\n      <td>201.0</td>\n      <td>500.0</td>\n    </tr>\n    <tr>\n      <th>14</th>\n      <td>Investment Advisory Data Analyst</td>\n      <td>Regular</td>\n      <td>37000.0</td>\n      <td>66000</td>\n      <td>Investment Advisory Compliance Opportunity in ...</td>\n      <td>Advisor Group\\n</td>\n      <td>3.4</td>\n      <td>Jersey City, NJ</td>\n      <td>1001.0</td>\n      <td>5000.0</td>\n    </tr>\n    <tr>\n      <th>15</th>\n      <td>Sustainability Data Analyst</td>\n      <td>Regular</td>\n      <td>37000.0</td>\n      <td>66000</td>\n      <td>Job Description\\nRole Description\\n\\nSustainab...</td>\n      <td>CodeGreen Solutions\\n</td>\n      <td>3.6</td>\n      <td>New York, NY</td>\n      <td>1.0</td>\n      <td>50.0</td>\n    </tr>\n    <tr>\n      <th>16</th>\n      <td>Data Analyst</td>\n      <td>Regular</td>\n      <td>37000.0</td>\n      <td>66000</td>\n      <td>Undertone stands alone among AdTech and ad net...</td>\n      <td>Undertone\\n</td>\n      <td>3.8</td>\n      <td>New York, NY</td>\n      <td>201.0</td>\n      <td>500.0</td>\n    </tr>\n    <tr>\n      <th>17</th>\n      <td>Clinical Data Analyst</td>\n      <td>Regular</td>\n      <td>37000.0</td>\n      <td>66000</td>\n      <td>About Us:\\n\\nNYSTEC is a non-profit technology...</td>\n      <td>NYSTEC\\n</td>\n      <td>3.8</td>\n      <td>New York, NY</td>\n      <td>51.0</td>\n      <td>200.0</td>\n    </tr>\n    <tr>\n      <th>18</th>\n      <td>DATA PROGRAMMER/ANALYST</td>\n      <td>Regular</td>\n      <td>37000.0</td>\n      <td>66000</td>\n      <td>Company Description\\n\\nEDUCATION DEVELOPMENT C...</td>\n      <td>Education Development Center, Inc.\\n</td>\n      <td>3.9</td>\n      <td>New York, NY</td>\n      <td>501.0</td>\n      <td>1000.0</td>\n    </tr>\n    <tr>\n      <th>19</th>\n      <td>Data Analyst</td>\n      <td>Regular</td>\n      <td>37000.0</td>\n      <td>66000</td>\n      <td>About Us\\n\\nAt Teachers Pay Teachers (TpT), we...</td>\n      <td>Teachers Pay Teachers\\n</td>\n      <td>4.9</td>\n      <td>New York, NY</td>\n      <td>51.0</td>\n      <td>200.0</td>\n    </tr>\n    <tr>\n      <th>20</th>\n      <td>Product Analyst, Data Science</td>\n      <td>Regular</td>\n      <td>37000.0</td>\n      <td>66000</td>\n      <td>Note: By applying to this position your applic...</td>\n      <td>Google\\n</td>\n      <td>4.4</td>\n      <td>New York, NY</td>\n      <td>10000.0</td>\n      <td>NaN</td>\n    </tr>\n    <tr>\n      <th>21</th>\n      <td>Data Science Analyst</td>\n      <td>Regular</td>\n      <td>37000.0</td>\n      <td>66000</td>\n      <td>Job Description\\nOur client, a music streaming...</td>\n      <td>MUSIC &amp; Entertainment</td>\n      <td>-1.0</td>\n      <td>New York, NY</td>\n      <td>NaN</td>\n      <td>NaN</td>\n    </tr>\n    <tr>\n      <th>22</th>\n      <td>Data Analyst - Intex Developer</td>\n      <td>Regular</td>\n      <td>37000.0</td>\n      <td>66000</td>\n      <td>Data Analyst - Intex Developer\\n\\n\\nNew York\\n...</td>\n      <td>Macquarie Group\\n</td>\n      <td>3.3</td>\n      <td>New York, NY</td>\n      <td>10000.0</td>\n      <td>NaN</td>\n    </tr>\n    <tr>\n      <th>23</th>\n      <td>Data Analyst</td>\n      <td>Regular</td>\n      <td>37000.0</td>\n      <td>66000</td>\n      <td>Haven Life is an insurtech innovator at MassMu...</td>\n      <td>Andiamo\\n</td>\n      <td>3.5</td>\n      <td>New York, NY</td>\n      <td>201.0</td>\n      <td>500.0</td>\n    </tr>\n    <tr>\n      <th>24</th>\n      <td>Entry Level / Jr. Data Analyst</td>\n      <td>Junior</td>\n      <td>37000.0</td>\n      <td>66000</td>\n      <td>Dash Technologies is an industry leading softw...</td>\n      <td>Dash Technologies Inc\\n</td>\n      <td>3.8</td>\n      <td>New York, NY</td>\n      <td>1.0</td>\n      <td>50.0</td>\n    </tr>\n  </tbody>\n</table>\n</div>"
     },
     "execution_count": 709,
     "metadata": {},
     "output_type": "execute_result"
    }
   ],
   "source": [
    "data = data[['Job Title', 'Experience', 'Salary Lower', 'Salary Upper',\n",
    "      'Job Description', 'Company Name', 'Rating', 'Location', 'Company Size Min', 'Company Size Max']]\n",
    "data.head(25)"
   ],
   "metadata": {
    "collapsed": false,
    "pycharm": {
     "name": "#%%\n"
    }
   }
  },
  {
   "cell_type": "markdown",
   "source": [
    "### Garbage Values\n",
    "\n",
    "Now the garbage has to go or be replaced in a meaningful way."
   ],
   "metadata": {
    "collapsed": false
   }
  },
  {
   "cell_type": "code",
   "execution_count": 710,
   "outputs": [
    {
     "data": {
      "text/plain": "Job Title             0\nExperience            0\nSalary Lower          1\nSalary Upper          0\nJob Description       0\nCompany Name          1\nRating                0\nLocation              0\nCompany Size Min     42\nCompany Size Max    580\ndtype: int64"
     },
     "execution_count": 710,
     "metadata": {},
     "output_type": "execute_result"
    }
   ],
   "source": [
    "# Let's see if something is already considered garbage\n",
    "data.isnull().sum()"
   ],
   "metadata": {
    "collapsed": false,
    "pycharm": {
     "name": "#%%\n"
    }
   }
  },
  {
   "cell_type": "markdown",
   "source": [
    "Apparently almost everything is fine but there are some occurrences of -1 and Unknown within the data"
   ],
   "metadata": {
    "collapsed": false
   }
  },
  {
   "cell_type": "code",
   "execution_count": 711,
   "outputs": [
    {
     "data": {
      "text/plain": "                                              Job Title Experience  \\\n11                                         Data Analyst    Regular   \n21                                 Data Science Analyst    Regular   \n34                                 Data Analyst (Games)    Regular   \n36                                Data Business Analyst    Regular   \n40                     Business Analyst, Data Platforms    Regular   \n...                                                 ...        ...   \n2200                                       Data Analyst    Regular   \n2202                             Financial Data Analyst    Regular   \n2239                       Senior Contract Data Analyst     Senior   \n2246  Technical Business Analyst (SQL, Data analytic...    Regular   \n2250  Technical Business Analyst (SQL, Data analytic...    Regular   \n\n      Salary Lower  Salary Upper  \\\n11         37000.0         66000   \n21         37000.0         66000   \n34         46000.0         87000   \n36         46000.0         87000   \n40         46000.0         87000   \n...            ...           ...   \n2200       49000.0         91000   \n2202       49000.0         91000   \n2239       78000.0        104000   \n2246       78000.0        104000   \n2250       78000.0        104000   \n\n                                        Job Description  \\\n11    BulbHead is currently seeking a Data Analyst t...   \n21    Job Description\\nOur client, a music streaming...   \n34    Carry1st is the leading mobile game publisher ...   \n36    At Clear Street, we are disrupting the institu...   \n40    Company Description\\n\\nPinto is building the w...   \n...                                                 ...   \n2200  Role Data Analyst Duration12+ months Location ...   \n2202  Position:Financial Data AnalystJob Description...   \n2239  OverviewAmyx is seeking to hire a Senior Contr...   \n2246  Spiceorb is looking for Technical Business Ana...   \n2250  Title: Technical Business Analyst (SQL, Data a...   \n\n                                     Company Name  Rating        Location  \\\n11                                       BulbHead    -1.0   Fairfield, NJ   \n21                          MUSIC & Entertainment    -1.0    New York, NY   \n34                                       Carry1st    -1.0    New York, NY   \n36                                   Clear Street    -1.0    New York, NY   \n40                                          Pinto    -1.0    New York, NY   \n...                                           ...     ...             ...   \n2200    TechAspect Solutions, Inc. dba TA Digital    -1.0  Centennial, CO   \n2202  Black Knight Financial Technology Solutions    -1.0      Denver, CO   \n2239                                  Amyx, Iinc.    -1.0      Aurora, CO   \n2246                                     Spiceorb    -1.0      Denver, CO   \n2250                                     Spiceorb    -1.0      Denver, CO   \n\n      Company Size Min  Company Size Max  \n11                 1.0              50.0  \n21                 NaN               NaN  \n34                -1.0               NaN  \n36                51.0             200.0  \n40                 1.0              50.0  \n...                ...               ...  \n2200              -1.0               NaN  \n2202              -1.0               NaN  \n2239              -1.0               NaN  \n2246              -1.0               NaN  \n2250              -1.0               NaN  \n\n[272 rows x 10 columns]",
      "text/html": "<div>\n<style scoped>\n    .dataframe tbody tr th:only-of-type {\n        vertical-align: middle;\n    }\n\n    .dataframe tbody tr th {\n        vertical-align: top;\n    }\n\n    .dataframe thead th {\n        text-align: right;\n    }\n</style>\n<table border=\"1\" class=\"dataframe\">\n  <thead>\n    <tr style=\"text-align: right;\">\n      <th></th>\n      <th>Job Title</th>\n      <th>Experience</th>\n      <th>Salary Lower</th>\n      <th>Salary Upper</th>\n      <th>Job Description</th>\n      <th>Company Name</th>\n      <th>Rating</th>\n      <th>Location</th>\n      <th>Company Size Min</th>\n      <th>Company Size Max</th>\n    </tr>\n  </thead>\n  <tbody>\n    <tr>\n      <th>11</th>\n      <td>Data Analyst</td>\n      <td>Regular</td>\n      <td>37000.0</td>\n      <td>66000</td>\n      <td>BulbHead is currently seeking a Data Analyst t...</td>\n      <td>BulbHead</td>\n      <td>-1.0</td>\n      <td>Fairfield, NJ</td>\n      <td>1.0</td>\n      <td>50.0</td>\n    </tr>\n    <tr>\n      <th>21</th>\n      <td>Data Science Analyst</td>\n      <td>Regular</td>\n      <td>37000.0</td>\n      <td>66000</td>\n      <td>Job Description\\nOur client, a music streaming...</td>\n      <td>MUSIC &amp; Entertainment</td>\n      <td>-1.0</td>\n      <td>New York, NY</td>\n      <td>NaN</td>\n      <td>NaN</td>\n    </tr>\n    <tr>\n      <th>34</th>\n      <td>Data Analyst (Games)</td>\n      <td>Regular</td>\n      <td>46000.0</td>\n      <td>87000</td>\n      <td>Carry1st is the leading mobile game publisher ...</td>\n      <td>Carry1st</td>\n      <td>-1.0</td>\n      <td>New York, NY</td>\n      <td>-1.0</td>\n      <td>NaN</td>\n    </tr>\n    <tr>\n      <th>36</th>\n      <td>Data Business Analyst</td>\n      <td>Regular</td>\n      <td>46000.0</td>\n      <td>87000</td>\n      <td>At Clear Street, we are disrupting the institu...</td>\n      <td>Clear Street</td>\n      <td>-1.0</td>\n      <td>New York, NY</td>\n      <td>51.0</td>\n      <td>200.0</td>\n    </tr>\n    <tr>\n      <th>40</th>\n      <td>Business Analyst, Data Platforms</td>\n      <td>Regular</td>\n      <td>46000.0</td>\n      <td>87000</td>\n      <td>Company Description\\n\\nPinto is building the w...</td>\n      <td>Pinto</td>\n      <td>-1.0</td>\n      <td>New York, NY</td>\n      <td>1.0</td>\n      <td>50.0</td>\n    </tr>\n    <tr>\n      <th>...</th>\n      <td>...</td>\n      <td>...</td>\n      <td>...</td>\n      <td>...</td>\n      <td>...</td>\n      <td>...</td>\n      <td>...</td>\n      <td>...</td>\n      <td>...</td>\n      <td>...</td>\n    </tr>\n    <tr>\n      <th>2200</th>\n      <td>Data Analyst</td>\n      <td>Regular</td>\n      <td>49000.0</td>\n      <td>91000</td>\n      <td>Role Data Analyst Duration12+ months Location ...</td>\n      <td>TechAspect Solutions, Inc. dba TA Digital</td>\n      <td>-1.0</td>\n      <td>Centennial, CO</td>\n      <td>-1.0</td>\n      <td>NaN</td>\n    </tr>\n    <tr>\n      <th>2202</th>\n      <td>Financial Data Analyst</td>\n      <td>Regular</td>\n      <td>49000.0</td>\n      <td>91000</td>\n      <td>Position:Financial Data AnalystJob Description...</td>\n      <td>Black Knight Financial Technology Solutions</td>\n      <td>-1.0</td>\n      <td>Denver, CO</td>\n      <td>-1.0</td>\n      <td>NaN</td>\n    </tr>\n    <tr>\n      <th>2239</th>\n      <td>Senior Contract Data Analyst</td>\n      <td>Senior</td>\n      <td>78000.0</td>\n      <td>104000</td>\n      <td>OverviewAmyx is seeking to hire a Senior Contr...</td>\n      <td>Amyx, Iinc.</td>\n      <td>-1.0</td>\n      <td>Aurora, CO</td>\n      <td>-1.0</td>\n      <td>NaN</td>\n    </tr>\n    <tr>\n      <th>2246</th>\n      <td>Technical Business Analyst (SQL, Data analytic...</td>\n      <td>Regular</td>\n      <td>78000.0</td>\n      <td>104000</td>\n      <td>Spiceorb is looking for Technical Business Ana...</td>\n      <td>Spiceorb</td>\n      <td>-1.0</td>\n      <td>Denver, CO</td>\n      <td>-1.0</td>\n      <td>NaN</td>\n    </tr>\n    <tr>\n      <th>2250</th>\n      <td>Technical Business Analyst (SQL, Data analytic...</td>\n      <td>Regular</td>\n      <td>78000.0</td>\n      <td>104000</td>\n      <td>Title: Technical Business Analyst (SQL, Data a...</td>\n      <td>Spiceorb</td>\n      <td>-1.0</td>\n      <td>Denver, CO</td>\n      <td>-1.0</td>\n      <td>NaN</td>\n    </tr>\n  </tbody>\n</table>\n<p>272 rows × 10 columns</p>\n</div>"
     },
     "execution_count": 711,
     "metadata": {},
     "output_type": "execute_result"
    }
   ],
   "source": [
    "data[data.isin([-1]).any(axis=1)]"
   ],
   "metadata": {
    "collapsed": false,
    "pycharm": {
     "name": "#%%\n"
    }
   }
  },
  {
   "cell_type": "code",
   "execution_count": 712,
   "outputs": [
    {
     "data": {
      "text/plain": "Empty DataFrame\nColumns: [Job Title, Experience, Salary Lower, Salary Upper, Job Description, Company Name, Rating, Location, Company Size Min, Company Size Max]\nIndex: []",
      "text/html": "<div>\n<style scoped>\n    .dataframe tbody tr th:only-of-type {\n        vertical-align: middle;\n    }\n\n    .dataframe tbody tr th {\n        vertical-align: top;\n    }\n\n    .dataframe thead th {\n        text-align: right;\n    }\n</style>\n<table border=\"1\" class=\"dataframe\">\n  <thead>\n    <tr style=\"text-align: right;\">\n      <th></th>\n      <th>Job Title</th>\n      <th>Experience</th>\n      <th>Salary Lower</th>\n      <th>Salary Upper</th>\n      <th>Job Description</th>\n      <th>Company Name</th>\n      <th>Rating</th>\n      <th>Location</th>\n      <th>Company Size Min</th>\n      <th>Company Size Max</th>\n    </tr>\n  </thead>\n  <tbody>\n  </tbody>\n</table>\n</div>"
     },
     "execution_count": 712,
     "metadata": {},
     "output_type": "execute_result"
    }
   ],
   "source": [
    "data[data.isin(['-1]']).any(axis=1)]"
   ],
   "metadata": {
    "collapsed": false,
    "pycharm": {
     "name": "#%%\n"
    }
   }
  },
  {
   "cell_type": "code",
   "execution_count": 713,
   "outputs": [
    {
     "data": {
      "text/plain": "Empty DataFrame\nColumns: [Job Title, Experience, Salary Lower, Salary Upper, Job Description, Company Name, Rating, Location, Company Size Min, Company Size Max]\nIndex: []",
      "text/html": "<div>\n<style scoped>\n    .dataframe tbody tr th:only-of-type {\n        vertical-align: middle;\n    }\n\n    .dataframe tbody tr th {\n        vertical-align: top;\n    }\n\n    .dataframe thead th {\n        text-align: right;\n    }\n</style>\n<table border=\"1\" class=\"dataframe\">\n  <thead>\n    <tr style=\"text-align: right;\">\n      <th></th>\n      <th>Job Title</th>\n      <th>Experience</th>\n      <th>Salary Lower</th>\n      <th>Salary Upper</th>\n      <th>Job Description</th>\n      <th>Company Name</th>\n      <th>Rating</th>\n      <th>Location</th>\n      <th>Company Size Min</th>\n      <th>Company Size Max</th>\n    </tr>\n  </thead>\n  <tbody>\n  </tbody>\n</table>\n</div>"
     },
     "execution_count": 713,
     "metadata": {},
     "output_type": "execute_result"
    }
   ],
   "source": [
    "data[data.isin(['Unknown']).any(axis=1)]"
   ],
   "metadata": {
    "collapsed": false,
    "pycharm": {
     "name": "#%%\n"
    }
   }
  },
  {
   "cell_type": "code",
   "execution_count": 714,
   "outputs": [
    {
     "data": {
      "text/plain": "                                              Job Title Experience  \\\n0     Data Analyst, Center on Immigration and Justic...    Regular   \n1                                  Quality Data Analyst    Regular   \n2     Senior Data Analyst, Insights & Analytics Team...     Senior   \n3                                          Data Analyst    Regular   \n4                                Reporting Data Analyst    Regular   \n...                                                 ...        ...   \n2248  RQS - IHHA - 201900004460 -1q Data Security An...    Regular   \n2249              Senior Data Analyst (Corporate Audit)     Senior   \n2250  Technical Business Analyst (SQL, Data analytic...    Regular   \n2251                Data Analyst 3, Customer Experience    Regular   \n2252                        Senior Quality Data Analyst     Senior   \n\n      Salary Lower  Salary Upper  \\\n0          37000.0         66000   \n1          37000.0         66000   \n2          37000.0         66000   \n3          37000.0         66000   \n4          37000.0         66000   \n...            ...           ...   \n2248       78000.0        104000   \n2249       78000.0        104000   \n2250       78000.0        104000   \n2251       78000.0        104000   \n2252       78000.0        104000   \n\n                                        Job Description  \\\n0     Are you eager to roll up your sleeves and harn...   \n1     Overview\\n\\nProvides analytical and technical ...   \n2     We’re looking for a Senior Data Analyst who ha...   \n3     Requisition NumberRR-0001939\\nRemote:Yes\\nWe c...   \n4     ABOUT FANDUEL GROUP\\n\\nFanDuel Group is a worl...   \n...                                                 ...   \n2248  Maintains systems to protect data from unautho...   \n2249  Position:\\nSenior Data Analyst (Corporate Audi...   \n2250  Title: Technical Business Analyst (SQL, Data a...   \n2251  Summary\\n\\nResponsible for working cross-funct...   \n2252  You.\\n\\nYou bring your body, mind, heart and s...   \n\n                              Company Name  Rating        Location  \\\n0              Vera Institute of Justice\\n     3.2    New York, NY   \n1     Visiting Nurse Service of New York\\n     3.8    New York, NY   \n2                            Squarespace\\n     3.4    New York, NY   \n3                               Celerity\\n     4.1    New York, NY   \n4                                FanDuel\\n     3.9    New York, NY   \n...                                    ...     ...             ...   \n2248                       Avacend, Inc.\\n     2.5      Denver, CO   \n2249                   Arrow Electronics\\n     2.9  Centennial, CO   \n2250                              Spiceorb     NaN      Denver, CO   \n2251         Contingent Network Services\\n     3.1  Centennial, CO   \n2252                          SCL Health\\n     3.4  Broomfield, CO   \n\n      Company Size Min  Company Size Max  \n0                201.0             500.0  \n1              10000.0               NaN  \n2               1001.0            5000.0  \n3                201.0             500.0  \n4                501.0            1000.0  \n...                ...               ...  \n2248              51.0             200.0  \n2249           10000.0               NaN  \n2250               NaN               NaN  \n2251             201.0             500.0  \n2252           10000.0               NaN  \n\n[2253 rows x 10 columns]",
      "text/html": "<div>\n<style scoped>\n    .dataframe tbody tr th:only-of-type {\n        vertical-align: middle;\n    }\n\n    .dataframe tbody tr th {\n        vertical-align: top;\n    }\n\n    .dataframe thead th {\n        text-align: right;\n    }\n</style>\n<table border=\"1\" class=\"dataframe\">\n  <thead>\n    <tr style=\"text-align: right;\">\n      <th></th>\n      <th>Job Title</th>\n      <th>Experience</th>\n      <th>Salary Lower</th>\n      <th>Salary Upper</th>\n      <th>Job Description</th>\n      <th>Company Name</th>\n      <th>Rating</th>\n      <th>Location</th>\n      <th>Company Size Min</th>\n      <th>Company Size Max</th>\n    </tr>\n  </thead>\n  <tbody>\n    <tr>\n      <th>0</th>\n      <td>Data Analyst, Center on Immigration and Justic...</td>\n      <td>Regular</td>\n      <td>37000.0</td>\n      <td>66000</td>\n      <td>Are you eager to roll up your sleeves and harn...</td>\n      <td>Vera Institute of Justice\\n</td>\n      <td>3.2</td>\n      <td>New York, NY</td>\n      <td>201.0</td>\n      <td>500.0</td>\n    </tr>\n    <tr>\n      <th>1</th>\n      <td>Quality Data Analyst</td>\n      <td>Regular</td>\n      <td>37000.0</td>\n      <td>66000</td>\n      <td>Overview\\n\\nProvides analytical and technical ...</td>\n      <td>Visiting Nurse Service of New York\\n</td>\n      <td>3.8</td>\n      <td>New York, NY</td>\n      <td>10000.0</td>\n      <td>NaN</td>\n    </tr>\n    <tr>\n      <th>2</th>\n      <td>Senior Data Analyst, Insights &amp; Analytics Team...</td>\n      <td>Senior</td>\n      <td>37000.0</td>\n      <td>66000</td>\n      <td>We’re looking for a Senior Data Analyst who ha...</td>\n      <td>Squarespace\\n</td>\n      <td>3.4</td>\n      <td>New York, NY</td>\n      <td>1001.0</td>\n      <td>5000.0</td>\n    </tr>\n    <tr>\n      <th>3</th>\n      <td>Data Analyst</td>\n      <td>Regular</td>\n      <td>37000.0</td>\n      <td>66000</td>\n      <td>Requisition NumberRR-0001939\\nRemote:Yes\\nWe c...</td>\n      <td>Celerity\\n</td>\n      <td>4.1</td>\n      <td>New York, NY</td>\n      <td>201.0</td>\n      <td>500.0</td>\n    </tr>\n    <tr>\n      <th>4</th>\n      <td>Reporting Data Analyst</td>\n      <td>Regular</td>\n      <td>37000.0</td>\n      <td>66000</td>\n      <td>ABOUT FANDUEL GROUP\\n\\nFanDuel Group is a worl...</td>\n      <td>FanDuel\\n</td>\n      <td>3.9</td>\n      <td>New York, NY</td>\n      <td>501.0</td>\n      <td>1000.0</td>\n    </tr>\n    <tr>\n      <th>...</th>\n      <td>...</td>\n      <td>...</td>\n      <td>...</td>\n      <td>...</td>\n      <td>...</td>\n      <td>...</td>\n      <td>...</td>\n      <td>...</td>\n      <td>...</td>\n      <td>...</td>\n    </tr>\n    <tr>\n      <th>2248</th>\n      <td>RQS - IHHA - 201900004460 -1q Data Security An...</td>\n      <td>Regular</td>\n      <td>78000.0</td>\n      <td>104000</td>\n      <td>Maintains systems to protect data from unautho...</td>\n      <td>Avacend, Inc.\\n</td>\n      <td>2.5</td>\n      <td>Denver, CO</td>\n      <td>51.0</td>\n      <td>200.0</td>\n    </tr>\n    <tr>\n      <th>2249</th>\n      <td>Senior Data Analyst (Corporate Audit)</td>\n      <td>Senior</td>\n      <td>78000.0</td>\n      <td>104000</td>\n      <td>Position:\\nSenior Data Analyst (Corporate Audi...</td>\n      <td>Arrow Electronics\\n</td>\n      <td>2.9</td>\n      <td>Centennial, CO</td>\n      <td>10000.0</td>\n      <td>NaN</td>\n    </tr>\n    <tr>\n      <th>2250</th>\n      <td>Technical Business Analyst (SQL, Data analytic...</td>\n      <td>Regular</td>\n      <td>78000.0</td>\n      <td>104000</td>\n      <td>Title: Technical Business Analyst (SQL, Data a...</td>\n      <td>Spiceorb</td>\n      <td>NaN</td>\n      <td>Denver, CO</td>\n      <td>NaN</td>\n      <td>NaN</td>\n    </tr>\n    <tr>\n      <th>2251</th>\n      <td>Data Analyst 3, Customer Experience</td>\n      <td>Regular</td>\n      <td>78000.0</td>\n      <td>104000</td>\n      <td>Summary\\n\\nResponsible for working cross-funct...</td>\n      <td>Contingent Network Services\\n</td>\n      <td>3.1</td>\n      <td>Centennial, CO</td>\n      <td>201.0</td>\n      <td>500.0</td>\n    </tr>\n    <tr>\n      <th>2252</th>\n      <td>Senior Quality Data Analyst</td>\n      <td>Senior</td>\n      <td>78000.0</td>\n      <td>104000</td>\n      <td>You.\\n\\nYou bring your body, mind, heart and s...</td>\n      <td>SCL Health\\n</td>\n      <td>3.4</td>\n      <td>Broomfield, CO</td>\n      <td>10000.0</td>\n      <td>NaN</td>\n    </tr>\n  </tbody>\n</table>\n<p>2253 rows × 10 columns</p>\n</div>"
     },
     "execution_count": 714,
     "metadata": {},
     "output_type": "execute_result"
    }
   ],
   "source": [
    "# Replace the occurrences of -1 and Unknown globally with numpy NaN\n",
    "\n",
    "data = data\\\n",
    "    .replace(-1, np.nan)\\\n",
    "    .replace('-1', np.nan)\\\n",
    "    .replace('Unknown', np.nan)\n",
    "data"
   ],
   "metadata": {
    "collapsed": false,
    "pycharm": {
     "name": "#%%\n"
    }
   }
  },
  {
   "cell_type": "code",
   "execution_count": 715,
   "outputs": [
    {
     "data": {
      "text/plain": "         Job Title Experience  Salary Lower  Salary Upper  \\\n1352  Data Analyst    Regular       30000.0         53000   \n\n                                        Job Description Company Name  Rating  \\\n1352  Job Description\\nETL, SQL Queries, Data Modeli...            1     NaN   \n\n        Location  Company Size Min  Company Size Max  \n1352  Dallas, TX               NaN               NaN  ",
      "text/html": "<div>\n<style scoped>\n    .dataframe tbody tr th:only-of-type {\n        vertical-align: middle;\n    }\n\n    .dataframe tbody tr th {\n        vertical-align: top;\n    }\n\n    .dataframe thead th {\n        text-align: right;\n    }\n</style>\n<table border=\"1\" class=\"dataframe\">\n  <thead>\n    <tr style=\"text-align: right;\">\n      <th></th>\n      <th>Job Title</th>\n      <th>Experience</th>\n      <th>Salary Lower</th>\n      <th>Salary Upper</th>\n      <th>Job Description</th>\n      <th>Company Name</th>\n      <th>Rating</th>\n      <th>Location</th>\n      <th>Company Size Min</th>\n      <th>Company Size Max</th>\n    </tr>\n  </thead>\n  <tbody>\n    <tr>\n      <th>1352</th>\n      <td>Data Analyst</td>\n      <td>Regular</td>\n      <td>30000.0</td>\n      <td>53000</td>\n      <td>Job Description\\nETL, SQL Queries, Data Modeli...</td>\n      <td>1</td>\n      <td>NaN</td>\n      <td>Dallas, TX</td>\n      <td>NaN</td>\n      <td>NaN</td>\n    </tr>\n  </tbody>\n</table>\n</div>"
     },
     "execution_count": 715,
     "metadata": {},
     "output_type": "execute_result"
    }
   ],
   "source": [
    "# Let's check the company name for very short entries\n",
    "\n",
    "data[data['Company Name'].str.len() < 3]"
   ],
   "metadata": {
    "collapsed": false,
    "pycharm": {
     "name": "#%%\n"
    }
   }
  },
  {
   "cell_type": "code",
   "execution_count": 716,
   "outputs": [
    {
     "data": {
      "text/plain": "                       Job Title Experience  Salary Lower  Salary Upper  \\\n912  Data Expert Analyst/Modeler    Regular       29000.0         38000   \n\n    Job Description      Company Name  Rating     Location  Company Size Min  \\\n912         Â\\nÂ\\nÂ  InvenTech Info\\n     4.8  Houston, TX             201.0   \n\n     Company Size Max  \n912             500.0  ",
      "text/html": "<div>\n<style scoped>\n    .dataframe tbody tr th:only-of-type {\n        vertical-align: middle;\n    }\n\n    .dataframe tbody tr th {\n        vertical-align: top;\n    }\n\n    .dataframe thead th {\n        text-align: right;\n    }\n</style>\n<table border=\"1\" class=\"dataframe\">\n  <thead>\n    <tr style=\"text-align: right;\">\n      <th></th>\n      <th>Job Title</th>\n      <th>Experience</th>\n      <th>Salary Lower</th>\n      <th>Salary Upper</th>\n      <th>Job Description</th>\n      <th>Company Name</th>\n      <th>Rating</th>\n      <th>Location</th>\n      <th>Company Size Min</th>\n      <th>Company Size Max</th>\n    </tr>\n  </thead>\n  <tbody>\n    <tr>\n      <th>912</th>\n      <td>Data Expert Analyst/Modeler</td>\n      <td>Regular</td>\n      <td>29000.0</td>\n      <td>38000</td>\n      <td>Â\\nÂ\\nÂ</td>\n      <td>InvenTech Info\\n</td>\n      <td>4.8</td>\n      <td>Houston, TX</td>\n      <td>201.0</td>\n      <td>500.0</td>\n    </tr>\n  </tbody>\n</table>\n</div>"
     },
     "execution_count": 716,
     "metadata": {},
     "output_type": "execute_result"
    }
   ],
   "source": [
    "# Also check the job description\n",
    "\n",
    "data[data['Job Description'].str.len() < 10]"
   ],
   "metadata": {
    "collapsed": false,
    "pycharm": {
     "name": "#%%\n"
    }
   }
  },
  {
   "cell_type": "code",
   "execution_count": 717,
   "outputs": [],
   "source": [
    "# Fix both\n",
    "\n",
    "data.loc[data['Job Description'].str.len() < 10, 'Job Description'] = np.nan\n",
    "data.loc[data['Company Name'].str.len() < 2, 'Company Name'] = np.nan\n",
    "\n",
    "# And check again..."
   ],
   "metadata": {
    "collapsed": false,
    "pycharm": {
     "name": "#%%\n"
    }
   }
  },
  {
   "cell_type": "code",
   "execution_count": 718,
   "outputs": [
    {
     "data": {
      "text/plain": "Empty DataFrame\nColumns: [Job Title, Experience, Salary Lower, Salary Upper, Job Description, Company Name, Rating, Location, Company Size Min, Company Size Max]\nIndex: []",
      "text/html": "<div>\n<style scoped>\n    .dataframe tbody tr th:only-of-type {\n        vertical-align: middle;\n    }\n\n    .dataframe tbody tr th {\n        vertical-align: top;\n    }\n\n    .dataframe thead th {\n        text-align: right;\n    }\n</style>\n<table border=\"1\" class=\"dataframe\">\n  <thead>\n    <tr style=\"text-align: right;\">\n      <th></th>\n      <th>Job Title</th>\n      <th>Experience</th>\n      <th>Salary Lower</th>\n      <th>Salary Upper</th>\n      <th>Job Description</th>\n      <th>Company Name</th>\n      <th>Rating</th>\n      <th>Location</th>\n      <th>Company Size Min</th>\n      <th>Company Size Max</th>\n    </tr>\n  </thead>\n  <tbody>\n  </tbody>\n</table>\n</div>"
     },
     "execution_count": 718,
     "metadata": {},
     "output_type": "execute_result"
    }
   ],
   "source": [
    "data[data['Job Description'].str.len() < 10]"
   ],
   "metadata": {
    "collapsed": false,
    "pycharm": {
     "name": "#%%\n"
    }
   }
  },
  {
   "cell_type": "code",
   "execution_count": 719,
   "outputs": [
    {
     "data": {
      "text/plain": "Empty DataFrame\nColumns: [Job Title, Experience, Salary Lower, Salary Upper, Job Description, Company Name, Rating, Location, Company Size Min, Company Size Max]\nIndex: []",
      "text/html": "<div>\n<style scoped>\n    .dataframe tbody tr th:only-of-type {\n        vertical-align: middle;\n    }\n\n    .dataframe tbody tr th {\n        vertical-align: top;\n    }\n\n    .dataframe thead th {\n        text-align: right;\n    }\n</style>\n<table border=\"1\" class=\"dataframe\">\n  <thead>\n    <tr style=\"text-align: right;\">\n      <th></th>\n      <th>Job Title</th>\n      <th>Experience</th>\n      <th>Salary Lower</th>\n      <th>Salary Upper</th>\n      <th>Job Description</th>\n      <th>Company Name</th>\n      <th>Rating</th>\n      <th>Location</th>\n      <th>Company Size Min</th>\n      <th>Company Size Max</th>\n    </tr>\n  </thead>\n  <tbody>\n  </tbody>\n</table>\n</div>"
     },
     "execution_count": 719,
     "metadata": {},
     "output_type": "execute_result"
    }
   ],
   "source": [
    "data[data['Company Name'].str.len() < 3]"
   ],
   "metadata": {
    "collapsed": false,
    "pycharm": {
     "name": "#%%\n"
    }
   }
  },
  {
   "cell_type": "code",
   "execution_count": 720,
   "outputs": [
    {
     "data": {
      "text/plain": "Job Title             0\nExperience            0\nSalary Lower          1\nSalary Upper          0\nJob Description       1\nCompany Name          2\nRating              272\nLocation              0\nCompany Size Min    205\nCompany Size Max    580\ndtype: int64"
     },
     "execution_count": 720,
     "metadata": {},
     "output_type": "execute_result"
    }
   ],
   "source": [
    "# See if we have null values now\n",
    "\n",
    "data.isnull().sum()"
   ],
   "metadata": {
    "collapsed": false,
    "pycharm": {
     "name": "#%%\n"
    }
   }
  },
  {
   "cell_type": "markdown",
   "source": [
    "### Deleting Rows with Garbage"
   ],
   "metadata": {
    "collapsed": false
   }
  },
  {
   "cell_type": "code",
   "execution_count": 721,
   "outputs": [
    {
     "data": {
      "text/plain": "                                              Job Title Experience  \\\n1                                  Quality Data Analyst    Regular   \n10                                         Data Analyst    Regular   \n11                                         Data Analyst    Regular   \n12                                         DATA ANALYST    Regular   \n20                        Product Analyst, Data Science    Regular   \n...                                                 ...        ...   \n2243                   Data Analyst-(Remote- All across    Regular   \n2246  Technical Business Analyst (SQL, Data analytic...    Regular   \n2249              Senior Data Analyst (Corporate Audit)     Senior   \n2250  Technical Business Analyst (SQL, Data analytic...    Regular   \n2252                        Senior Quality Data Analyst     Senior   \n\n      Salary Lower  Salary Upper  \\\n1          37000.0         66000   \n10         37000.0         66000   \n11         37000.0         66000   \n12         37000.0         66000   \n20         37000.0         66000   \n...            ...           ...   \n2243       78000.0        104000   \n2246       78000.0        104000   \n2249       78000.0        104000   \n2250       78000.0        104000   \n2252       78000.0        104000   \n\n                                        Job Description  \\\n1     Overview\\n\\nProvides analytical and technical ...   \n10    NYU Grossman School of Medicine is one of the ...   \n11    BulbHead is currently seeking a Data Analyst t...   \n12    Job Summary:\\n\\nThe Clinical Research Data Ana...   \n20    Note: By applying to this position your applic...   \n...                                                 ...   \n2243  About CenturyLink\\n\\nCenturyLink (NYSE: CTL) i...   \n2246  Spiceorb is looking for Technical Business Ana...   \n2249  Position:\\nSenior Data Analyst (Corporate Audi...   \n2250  Title: Technical Business Analyst (SQL, Data a...   \n2252  You.\\n\\nYou bring your body, mind, heart and s...   \n\n                              Company Name  Rating        Location  \\\n1     Visiting Nurse Service of New York\\n     3.8    New York, NY   \n10                    NYU Langone Health\\n     4.0    New York, NY   \n11                                BulbHead     NaN   Fairfield, NJ   \n12                    Montefiore Medical\\n     3.7    New York, NY   \n20                                Google\\n     4.4    New York, NY   \n...                                    ...     ...             ...   \n2243                         CenturyLink\\n     3.0  Broomfield, CO   \n2246                              Spiceorb     NaN      Denver, CO   \n2249                   Arrow Electronics\\n     2.9  Centennial, CO   \n2250                              Spiceorb     NaN      Denver, CO   \n2252                          SCL Health\\n     3.4  Broomfield, CO   \n\n      Company Size Min  Company Size Max  \n1              10000.0               NaN  \n10             10000.0               NaN  \n11                 1.0              50.0  \n12             10000.0               NaN  \n20             10000.0               NaN  \n...                ...               ...  \n2243           10000.0               NaN  \n2246               NaN               NaN  \n2249           10000.0               NaN  \n2250               NaN               NaN  \n2252           10000.0               NaN  \n\n[669 rows x 10 columns]",
      "text/html": "<div>\n<style scoped>\n    .dataframe tbody tr th:only-of-type {\n        vertical-align: middle;\n    }\n\n    .dataframe tbody tr th {\n        vertical-align: top;\n    }\n\n    .dataframe thead th {\n        text-align: right;\n    }\n</style>\n<table border=\"1\" class=\"dataframe\">\n  <thead>\n    <tr style=\"text-align: right;\">\n      <th></th>\n      <th>Job Title</th>\n      <th>Experience</th>\n      <th>Salary Lower</th>\n      <th>Salary Upper</th>\n      <th>Job Description</th>\n      <th>Company Name</th>\n      <th>Rating</th>\n      <th>Location</th>\n      <th>Company Size Min</th>\n      <th>Company Size Max</th>\n    </tr>\n  </thead>\n  <tbody>\n    <tr>\n      <th>1</th>\n      <td>Quality Data Analyst</td>\n      <td>Regular</td>\n      <td>37000.0</td>\n      <td>66000</td>\n      <td>Overview\\n\\nProvides analytical and technical ...</td>\n      <td>Visiting Nurse Service of New York\\n</td>\n      <td>3.8</td>\n      <td>New York, NY</td>\n      <td>10000.0</td>\n      <td>NaN</td>\n    </tr>\n    <tr>\n      <th>10</th>\n      <td>Data Analyst</td>\n      <td>Regular</td>\n      <td>37000.0</td>\n      <td>66000</td>\n      <td>NYU Grossman School of Medicine is one of the ...</td>\n      <td>NYU Langone Health\\n</td>\n      <td>4.0</td>\n      <td>New York, NY</td>\n      <td>10000.0</td>\n      <td>NaN</td>\n    </tr>\n    <tr>\n      <th>11</th>\n      <td>Data Analyst</td>\n      <td>Regular</td>\n      <td>37000.0</td>\n      <td>66000</td>\n      <td>BulbHead is currently seeking a Data Analyst t...</td>\n      <td>BulbHead</td>\n      <td>NaN</td>\n      <td>Fairfield, NJ</td>\n      <td>1.0</td>\n      <td>50.0</td>\n    </tr>\n    <tr>\n      <th>12</th>\n      <td>DATA ANALYST</td>\n      <td>Regular</td>\n      <td>37000.0</td>\n      <td>66000</td>\n      <td>Job Summary:\\n\\nThe Clinical Research Data Ana...</td>\n      <td>Montefiore Medical\\n</td>\n      <td>3.7</td>\n      <td>New York, NY</td>\n      <td>10000.0</td>\n      <td>NaN</td>\n    </tr>\n    <tr>\n      <th>20</th>\n      <td>Product Analyst, Data Science</td>\n      <td>Regular</td>\n      <td>37000.0</td>\n      <td>66000</td>\n      <td>Note: By applying to this position your applic...</td>\n      <td>Google\\n</td>\n      <td>4.4</td>\n      <td>New York, NY</td>\n      <td>10000.0</td>\n      <td>NaN</td>\n    </tr>\n    <tr>\n      <th>...</th>\n      <td>...</td>\n      <td>...</td>\n      <td>...</td>\n      <td>...</td>\n      <td>...</td>\n      <td>...</td>\n      <td>...</td>\n      <td>...</td>\n      <td>...</td>\n      <td>...</td>\n    </tr>\n    <tr>\n      <th>2243</th>\n      <td>Data Analyst-(Remote- All across</td>\n      <td>Regular</td>\n      <td>78000.0</td>\n      <td>104000</td>\n      <td>About CenturyLink\\n\\nCenturyLink (NYSE: CTL) i...</td>\n      <td>CenturyLink\\n</td>\n      <td>3.0</td>\n      <td>Broomfield, CO</td>\n      <td>10000.0</td>\n      <td>NaN</td>\n    </tr>\n    <tr>\n      <th>2246</th>\n      <td>Technical Business Analyst (SQL, Data analytic...</td>\n      <td>Regular</td>\n      <td>78000.0</td>\n      <td>104000</td>\n      <td>Spiceorb is looking for Technical Business Ana...</td>\n      <td>Spiceorb</td>\n      <td>NaN</td>\n      <td>Denver, CO</td>\n      <td>NaN</td>\n      <td>NaN</td>\n    </tr>\n    <tr>\n      <th>2249</th>\n      <td>Senior Data Analyst (Corporate Audit)</td>\n      <td>Senior</td>\n      <td>78000.0</td>\n      <td>104000</td>\n      <td>Position:\\nSenior Data Analyst (Corporate Audi...</td>\n      <td>Arrow Electronics\\n</td>\n      <td>2.9</td>\n      <td>Centennial, CO</td>\n      <td>10000.0</td>\n      <td>NaN</td>\n    </tr>\n    <tr>\n      <th>2250</th>\n      <td>Technical Business Analyst (SQL, Data analytic...</td>\n      <td>Regular</td>\n      <td>78000.0</td>\n      <td>104000</td>\n      <td>Title: Technical Business Analyst (SQL, Data a...</td>\n      <td>Spiceorb</td>\n      <td>NaN</td>\n      <td>Denver, CO</td>\n      <td>NaN</td>\n      <td>NaN</td>\n    </tr>\n    <tr>\n      <th>2252</th>\n      <td>Senior Quality Data Analyst</td>\n      <td>Senior</td>\n      <td>78000.0</td>\n      <td>104000</td>\n      <td>You.\\n\\nYou bring your body, mind, heart and s...</td>\n      <td>SCL Health\\n</td>\n      <td>3.4</td>\n      <td>Broomfield, CO</td>\n      <td>10000.0</td>\n      <td>NaN</td>\n    </tr>\n  </tbody>\n</table>\n<p>669 rows × 10 columns</p>\n</div>"
     },
     "execution_count": 721,
     "metadata": {},
     "output_type": "execute_result"
    }
   ],
   "source": [
    "data[data.isna().any(axis=1)]"
   ],
   "metadata": {
    "collapsed": false,
    "pycharm": {
     "name": "#%%\n"
    }
   }
  },
  {
   "cell_type": "markdown",
   "source": [
    "Now that we're left with about 300 rows containing garbage data. Let's for simplicity's sake nuke these rows. Knowingly destroying about 13% of the data."
   ],
   "metadata": {
    "collapsed": false
   }
  },
  {
   "cell_type": "code",
   "execution_count": 722,
   "outputs": [
    {
     "data": {
      "text/plain": "Job Title             0\nExperience            0\nSalary Lower          1\nSalary Upper          0\nJob Description       1\nCompany Name          2\nRating              272\nLocation              0\nCompany Size Min    205\nCompany Size Max    580\ndtype: int64"
     },
     "execution_count": 722,
     "metadata": {},
     "output_type": "execute_result"
    }
   ],
   "source": [
    "# Lastly let pandas figure out good datatypes for the columns\n",
    "data = data.convert_dtypes()\n",
    "\n",
    "data.isna().sum()"
   ],
   "metadata": {
    "collapsed": false,
    "pycharm": {
     "name": "#%%\n"
    }
   }
  },
  {
   "cell_type": "markdown",
   "source": [],
   "metadata": {
    "collapsed": false
   }
  },
  {
   "cell_type": "code",
   "execution_count": 730,
   "outputs": [],
   "source": [
    "ratings = data['Rating']\n",
    "data['Rating'] = ratings.where(ratings == np.nan, data['Rating'].mean())"
   ],
   "metadata": {
    "collapsed": false,
    "pycharm": {
     "name": "#%%\n"
    }
   }
  },
  {
   "cell_type": "code",
   "execution_count": 733,
   "outputs": [
    {
     "data": {
      "text/plain": "Job Title             0\nExperience            0\nSalary Lower          1\nSalary Upper          0\nJob Description       1\nCompany Name          2\nRating                0\nLocation              0\nCompany Size Min    205\nCompany Size Max    580\ndtype: int64"
     },
     "execution_count": 733,
     "metadata": {},
     "output_type": "execute_result"
    }
   ],
   "source": [
    "data.isna().sum()"
   ],
   "metadata": {
    "collapsed": false,
    "pycharm": {
     "name": "#%%\n"
    }
   }
  },
  {
   "cell_type": "code",
   "execution_count": null,
   "outputs": [],
   "source": [],
   "metadata": {
    "collapsed": false,
    "pycharm": {
     "name": "#%%\n"
    }
   }
  }
 ],
 "metadata": {
  "kernelspec": {
   "display_name": "Python 3",
   "language": "python",
   "name": "python3"
  },
  "language_info": {
   "codemirror_mode": {
    "name": "ipython",
    "version": 2
   },
   "file_extension": ".py",
   "mimetype": "text/x-python",
   "name": "python",
   "nbconvert_exporter": "python",
   "pygments_lexer": "ipython2",
   "version": "2.7.6"
  }
 },
 "nbformat": 4,
 "nbformat_minor": 0
}